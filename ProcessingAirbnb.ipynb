{
 "cells": [
  {
   "cell_type": "code",
   "execution_count": 1,
   "id": "cfeb35df",
   "metadata": {},
   "outputs": [],
   "source": [
    "import numpy as np\n",
    "import pandas as pd"
   ]
  },
  {
   "cell_type": "markdown",
   "id": "25100b2a",
   "metadata": {},
   "source": [
    "# 2019"
   ]
  },
  {
   "cell_type": "code",
   "execution_count": 2,
   "id": "700fe792",
   "metadata": {},
   "outputs": [],
   "source": [
    "dataAirbnb2019 = pd.read_excel('D://Master/SSP/Projekat/data/raw/2019/Airbnb_2019.xlsx')"
   ]
  },
  {
   "cell_type": "code",
   "execution_count": 3,
   "id": "25e229d8",
   "metadata": {},
   "outputs": [
    {
     "data": {
      "text/html": [
       "<div>\n",
       "<style scoped>\n",
       "    .dataframe tbody tr th:only-of-type {\n",
       "        vertical-align: middle;\n",
       "    }\n",
       "\n",
       "    .dataframe tbody tr th {\n",
       "        vertical-align: top;\n",
       "    }\n",
       "\n",
       "    .dataframe thead th {\n",
       "        text-align: right;\n",
       "    }\n",
       "</style>\n",
       "<table border=\"1\" class=\"dataframe\">\n",
       "  <thead>\n",
       "    <tr style=\"text-align: right;\">\n",
       "      <th></th>\n",
       "      <th>Confirmation code</th>\n",
       "      <th>Status</th>\n",
       "      <th>Guest name</th>\n",
       "      <th># of adults</th>\n",
       "      <th># of children</th>\n",
       "      <th># of infants</th>\n",
       "      <th>Start date</th>\n",
       "      <th>End date</th>\n",
       "      <th># of nights</th>\n",
       "      <th>Booked</th>\n",
       "      <th>Listing</th>\n",
       "      <th>Earnings</th>\n",
       "      <th>Listing name</th>\n",
       "      <th>Grade</th>\n",
       "    </tr>\n",
       "  </thead>\n",
       "  <tbody>\n",
       "    <tr>\n",
       "      <th>0</th>\n",
       "      <td>HMAMP59PS4</td>\n",
       "      <td>Confirmed</td>\n",
       "      <td>Youstina Daoud</td>\n",
       "      <td>2</td>\n",
       "      <td>0</td>\n",
       "      <td>0</td>\n",
       "      <td>2019-06-03</td>\n",
       "      <td>2019-06-05</td>\n",
       "      <td>2</td>\n",
       "      <td>2019-03-30</td>\n",
       "      <td>Beautiful studio with patio 5 min. to old town</td>\n",
       "      <td>â‚¬67.90</td>\n",
       "      <td>B</td>\n",
       "      <td>NaN</td>\n",
       "    </tr>\n",
       "    <tr>\n",
       "      <th>1</th>\n",
       "      <td>HMAMHWYDSW</td>\n",
       "      <td>Confirmed</td>\n",
       "      <td>Kristina Holm Jensen</td>\n",
       "      <td>2</td>\n",
       "      <td>0</td>\n",
       "      <td>0</td>\n",
       "      <td>2019-06-05</td>\n",
       "      <td>2019-06-07</td>\n",
       "      <td>2</td>\n",
       "      <td>2019-05-05</td>\n",
       "      <td>Beautiful studio with patio 5 min. to old town</td>\n",
       "      <td>â‚¬67.90</td>\n",
       "      <td>B</td>\n",
       "      <td>8.0</td>\n",
       "    </tr>\n",
       "    <tr>\n",
       "      <th>2</th>\n",
       "      <td>HMAC8EWZ3P</td>\n",
       "      <td>Confirmed</td>\n",
       "      <td>Ã–znur Balaban</td>\n",
       "      <td>2</td>\n",
       "      <td>0</td>\n",
       "      <td>0</td>\n",
       "      <td>2019-06-08</td>\n",
       "      <td>2019-06-09</td>\n",
       "      <td>1</td>\n",
       "      <td>2019-04-09</td>\n",
       "      <td>Beautiful studio with patio 5 min. to old town</td>\n",
       "      <td>â‚¬33.95</td>\n",
       "      <td>B</td>\n",
       "      <td>NaN</td>\n",
       "    </tr>\n",
       "    <tr>\n",
       "      <th>3</th>\n",
       "      <td>HMANF23QWC</td>\n",
       "      <td>Confirmed</td>\n",
       "      <td>Steve Qj</td>\n",
       "      <td>1</td>\n",
       "      <td>0</td>\n",
       "      <td>0</td>\n",
       "      <td>2019-06-10</td>\n",
       "      <td>2019-06-11</td>\n",
       "      <td>1</td>\n",
       "      <td>2019-06-01</td>\n",
       "      <td>Beautiful studio with patio 5 min. to old town</td>\n",
       "      <td>â‚¬33.95</td>\n",
       "      <td>B</td>\n",
       "      <td>NaN</td>\n",
       "    </tr>\n",
       "    <tr>\n",
       "      <th>4</th>\n",
       "      <td>HMACJE5D9D</td>\n",
       "      <td>Confirmed</td>\n",
       "      <td>Quinten Spakman</td>\n",
       "      <td>2</td>\n",
       "      <td>0</td>\n",
       "      <td>0</td>\n",
       "      <td>2019-06-13</td>\n",
       "      <td>2019-06-15</td>\n",
       "      <td>2</td>\n",
       "      <td>2019-05-04</td>\n",
       "      <td>Beautiful studio with patio 5 min. to old town</td>\n",
       "      <td>â‚¬67.90</td>\n",
       "      <td>B</td>\n",
       "      <td>7.0</td>\n",
       "    </tr>\n",
       "  </tbody>\n",
       "</table>\n",
       "</div>"
      ],
      "text/plain": [
       "  Confirmation code     Status            Guest name  # of adults  \\\n",
       "0        HMAMP59PS4  Confirmed        Youstina Daoud            2   \n",
       "1        HMAMHWYDSW  Confirmed  Kristina Holm Jensen            2   \n",
       "2        HMAC8EWZ3P  Confirmed        Ã–znur Balaban            2   \n",
       "3        HMANF23QWC  Confirmed              Steve Qj            1   \n",
       "4        HMACJE5D9D  Confirmed       Quinten Spakman            2   \n",
       "\n",
       "   # of children  # of infants Start date   End date  # of nights     Booked  \\\n",
       "0              0             0 2019-06-03 2019-06-05            2 2019-03-30   \n",
       "1              0             0 2019-06-05 2019-06-07            2 2019-05-05   \n",
       "2              0             0 2019-06-08 2019-06-09            1 2019-04-09   \n",
       "3              0             0 2019-06-10 2019-06-11            1 2019-06-01   \n",
       "4              0             0 2019-06-13 2019-06-15            2 2019-05-04   \n",
       "\n",
       "                                          Listing  Earnings Listing name  \\\n",
       "0  Beautiful studio with patio 5 min. to old town  â‚¬67.90            B   \n",
       "1  Beautiful studio with patio 5 min. to old town  â‚¬67.90            B   \n",
       "2  Beautiful studio with patio 5 min. to old town  â‚¬33.95            B   \n",
       "3  Beautiful studio with patio 5 min. to old town  â‚¬33.95            B   \n",
       "4  Beautiful studio with patio 5 min. to old town  â‚¬67.90            B   \n",
       "\n",
       "   Grade  \n",
       "0    NaN  \n",
       "1    8.0  \n",
       "2    NaN  \n",
       "3    NaN  \n",
       "4    7.0  "
      ]
     },
     "execution_count": 3,
     "metadata": {},
     "output_type": "execute_result"
    }
   ],
   "source": [
    "dataAirbnb2019.head()"
   ]
  },
  {
   "cell_type": "code",
   "execution_count": 4,
   "id": "07452a55",
   "metadata": {},
   "outputs": [],
   "source": [
    "dataAirbnb2019['Advertiser'] = 'Airbnb'"
   ]
  },
  {
   "cell_type": "code",
   "execution_count": 5,
   "id": "cab7a375",
   "metadata": {},
   "outputs": [],
   "source": [
    "dataAirbnb2019 = dataAirbnb2019[dataAirbnb2019['Booked'] <= dataAirbnb2019['Start date']]\n",
    "dataAirbnb2019 = dataAirbnb2019[dataAirbnb2019['Start date'] < dataAirbnb2019['End date']]\n",
    "dataAirbnb2019['Start date'] = pd.to_datetime(dataAirbnb2019['Start date']).dt.strftime('%d.%m.%Y')\n",
    "dataAirbnb2019['End date'] = pd.to_datetime(dataAirbnb2019['End date']).dt.strftime('%d.%m.%Y')\n",
    "dataAirbnb2019['Booked'] = pd.to_datetime(dataAirbnb2019['Booked']).dt.strftime('%d.%m.%Y')"
   ]
  },
  {
   "cell_type": "code",
   "execution_count": 6,
   "id": "d6480c99",
   "metadata": {},
   "outputs": [
    {
     "data": {
      "text/html": [
       "<div>\n",
       "<style scoped>\n",
       "    .dataframe tbody tr th:only-of-type {\n",
       "        vertical-align: middle;\n",
       "    }\n",
       "\n",
       "    .dataframe tbody tr th {\n",
       "        vertical-align: top;\n",
       "    }\n",
       "\n",
       "    .dataframe thead th {\n",
       "        text-align: right;\n",
       "    }\n",
       "</style>\n",
       "<table border=\"1\" class=\"dataframe\">\n",
       "  <thead>\n",
       "    <tr style=\"text-align: right;\">\n",
       "      <th></th>\n",
       "      <th>Confirmation code</th>\n",
       "      <th>Status</th>\n",
       "      <th>Guest name</th>\n",
       "      <th># of adults</th>\n",
       "      <th># of children</th>\n",
       "      <th># of infants</th>\n",
       "      <th>Start date</th>\n",
       "      <th>End date</th>\n",
       "      <th># of nights</th>\n",
       "      <th>Booked</th>\n",
       "      <th>Listing</th>\n",
       "      <th>Earnings</th>\n",
       "      <th>Listing name</th>\n",
       "      <th>Grade</th>\n",
       "      <th>Advertiser</th>\n",
       "    </tr>\n",
       "  </thead>\n",
       "  <tbody>\n",
       "    <tr>\n",
       "      <th>0</th>\n",
       "      <td>HMAMP59PS4</td>\n",
       "      <td>Confirmed</td>\n",
       "      <td>Youstina Daoud</td>\n",
       "      <td>2</td>\n",
       "      <td>0</td>\n",
       "      <td>0</td>\n",
       "      <td>03.06.2019</td>\n",
       "      <td>05.06.2019</td>\n",
       "      <td>2</td>\n",
       "      <td>30.03.2019</td>\n",
       "      <td>Beautiful studio with patio 5 min. to old town</td>\n",
       "      <td>â‚¬67.90</td>\n",
       "      <td>B</td>\n",
       "      <td>NaN</td>\n",
       "      <td>Airbnb</td>\n",
       "    </tr>\n",
       "    <tr>\n",
       "      <th>1</th>\n",
       "      <td>HMAMHWYDSW</td>\n",
       "      <td>Confirmed</td>\n",
       "      <td>Kristina Holm Jensen</td>\n",
       "      <td>2</td>\n",
       "      <td>0</td>\n",
       "      <td>0</td>\n",
       "      <td>05.06.2019</td>\n",
       "      <td>07.06.2019</td>\n",
       "      <td>2</td>\n",
       "      <td>05.05.2019</td>\n",
       "      <td>Beautiful studio with patio 5 min. to old town</td>\n",
       "      <td>â‚¬67.90</td>\n",
       "      <td>B</td>\n",
       "      <td>8.0</td>\n",
       "      <td>Airbnb</td>\n",
       "    </tr>\n",
       "    <tr>\n",
       "      <th>2</th>\n",
       "      <td>HMAC8EWZ3P</td>\n",
       "      <td>Confirmed</td>\n",
       "      <td>Ã–znur Balaban</td>\n",
       "      <td>2</td>\n",
       "      <td>0</td>\n",
       "      <td>0</td>\n",
       "      <td>08.06.2019</td>\n",
       "      <td>09.06.2019</td>\n",
       "      <td>1</td>\n",
       "      <td>09.04.2019</td>\n",
       "      <td>Beautiful studio with patio 5 min. to old town</td>\n",
       "      <td>â‚¬33.95</td>\n",
       "      <td>B</td>\n",
       "      <td>NaN</td>\n",
       "      <td>Airbnb</td>\n",
       "    </tr>\n",
       "    <tr>\n",
       "      <th>3</th>\n",
       "      <td>HMANF23QWC</td>\n",
       "      <td>Confirmed</td>\n",
       "      <td>Steve Qj</td>\n",
       "      <td>1</td>\n",
       "      <td>0</td>\n",
       "      <td>0</td>\n",
       "      <td>10.06.2019</td>\n",
       "      <td>11.06.2019</td>\n",
       "      <td>1</td>\n",
       "      <td>01.06.2019</td>\n",
       "      <td>Beautiful studio with patio 5 min. to old town</td>\n",
       "      <td>â‚¬33.95</td>\n",
       "      <td>B</td>\n",
       "      <td>NaN</td>\n",
       "      <td>Airbnb</td>\n",
       "    </tr>\n",
       "    <tr>\n",
       "      <th>4</th>\n",
       "      <td>HMACJE5D9D</td>\n",
       "      <td>Confirmed</td>\n",
       "      <td>Quinten Spakman</td>\n",
       "      <td>2</td>\n",
       "      <td>0</td>\n",
       "      <td>0</td>\n",
       "      <td>13.06.2019</td>\n",
       "      <td>15.06.2019</td>\n",
       "      <td>2</td>\n",
       "      <td>04.05.2019</td>\n",
       "      <td>Beautiful studio with patio 5 min. to old town</td>\n",
       "      <td>â‚¬67.90</td>\n",
       "      <td>B</td>\n",
       "      <td>7.0</td>\n",
       "      <td>Airbnb</td>\n",
       "    </tr>\n",
       "  </tbody>\n",
       "</table>\n",
       "</div>"
      ],
      "text/plain": [
       "  Confirmation code     Status            Guest name  # of adults  \\\n",
       "0        HMAMP59PS4  Confirmed        Youstina Daoud            2   \n",
       "1        HMAMHWYDSW  Confirmed  Kristina Holm Jensen            2   \n",
       "2        HMAC8EWZ3P  Confirmed        Ã–znur Balaban            2   \n",
       "3        HMANF23QWC  Confirmed              Steve Qj            1   \n",
       "4        HMACJE5D9D  Confirmed       Quinten Spakman            2   \n",
       "\n",
       "   # of children  # of infants  Start date    End date  # of nights  \\\n",
       "0              0             0  03.06.2019  05.06.2019            2   \n",
       "1              0             0  05.06.2019  07.06.2019            2   \n",
       "2              0             0  08.06.2019  09.06.2019            1   \n",
       "3              0             0  10.06.2019  11.06.2019            1   \n",
       "4              0             0  13.06.2019  15.06.2019            2   \n",
       "\n",
       "       Booked                                         Listing  Earnings  \\\n",
       "0  30.03.2019  Beautiful studio with patio 5 min. to old town  â‚¬67.90   \n",
       "1  05.05.2019  Beautiful studio with patio 5 min. to old town  â‚¬67.90   \n",
       "2  09.04.2019  Beautiful studio with patio 5 min. to old town  â‚¬33.95   \n",
       "3  01.06.2019  Beautiful studio with patio 5 min. to old town  â‚¬33.95   \n",
       "4  04.05.2019  Beautiful studio with patio 5 min. to old town  â‚¬67.90   \n",
       "\n",
       "  Listing name  Grade Advertiser  \n",
       "0            B    NaN     Airbnb  \n",
       "1            B    8.0     Airbnb  \n",
       "2            B    NaN     Airbnb  \n",
       "3            B    NaN     Airbnb  \n",
       "4            B    7.0     Airbnb  "
      ]
     },
     "execution_count": 6,
     "metadata": {},
     "output_type": "execute_result"
    }
   ],
   "source": [
    "dataAirbnb2019.head()"
   ]
  },
  {
   "cell_type": "code",
   "execution_count": 7,
   "id": "4eef2117",
   "metadata": {},
   "outputs": [
    {
     "data": {
      "text/plain": [
       "(19, 15)"
      ]
     },
     "execution_count": 7,
     "metadata": {},
     "output_type": "execute_result"
    }
   ],
   "source": [
    "dataAirbnb2019.shape"
   ]
  },
  {
   "cell_type": "code",
   "execution_count": 8,
   "id": "f1b54ed1",
   "metadata": {},
   "outputs": [],
   "source": [
    "dataAirbnb2019.drop_duplicates(subset=['Confirmation code'], keep='first', inplace=True)"
   ]
  },
  {
   "cell_type": "code",
   "execution_count": 9,
   "id": "455e028c",
   "metadata": {},
   "outputs": [
    {
     "data": {
      "text/plain": [
       "array(['Confirmed'], dtype=object)"
      ]
     },
     "execution_count": 9,
     "metadata": {},
     "output_type": "execute_result"
    }
   ],
   "source": [
    "dataAirbnb2019['Status'].unique()"
   ]
  },
  {
   "cell_type": "code",
   "execution_count": 10,
   "id": "3488e376",
   "metadata": {},
   "outputs": [
    {
     "data": {
      "text/plain": [
       "array(['Youstina Daoud', 'Kristina Holm Jensen', 'Ã–znur Balaban',\n",
       "       'Steve Qj', 'Quinten Spakman', 'ÐœÐ¸Ñ…Ð°Ð¸Ð» ÐšÐ¾Ð´Ð¾Ð»Ð¾Ð²',\n",
       "       'Egor Zhidkov', 'Darren Millett', 'Maurizio Biasin',\n",
       "       'Marion Collin', 'CÃ©dric Evain', 'Michael Ernst', 'Louise Morgan',\n",
       "       'Vitali Weizel', 'Manon Pelca', 'Don Loh', 'Nathalia Lara',\n",
       "       'Janie Macpherson', 'Georges Paslier'], dtype=object)"
      ]
     },
     "execution_count": 10,
     "metadata": {},
     "output_type": "execute_result"
    }
   ],
   "source": [
    "dataAirbnb2019['Guest name'].unique()"
   ]
  },
  {
   "cell_type": "code",
   "execution_count": 11,
   "id": "14d80095",
   "metadata": {},
   "outputs": [],
   "source": [
    "dataAirbnb2019['Guest name'].fillna('', inplace=True)\n",
    "dataAirbnb2019['Guest name'] = dataAirbnb2019['Guest name'].str.title()"
   ]
  },
  {
   "cell_type": "code",
   "execution_count": 12,
   "id": "5deab3ca",
   "metadata": {},
   "outputs": [
    {
     "data": {
      "text/plain": [
       "array([2, 1], dtype=int64)"
      ]
     },
     "execution_count": 12,
     "metadata": {},
     "output_type": "execute_result"
    }
   ],
   "source": [
    "dataAirbnb2019['# of adults'].unique()"
   ]
  },
  {
   "cell_type": "code",
   "execution_count": 13,
   "id": "44e20285",
   "metadata": {},
   "outputs": [],
   "source": [
    "dataAirbnb2019['# of children'] = dataAirbnb2019['# of children'] + dataAirbnb2019['# of infants']\n",
    "dataAirbnb2019['# of people'] = dataAirbnb2019['# of adults'] + dataAirbnb2019['# of children']"
   ]
  },
  {
   "cell_type": "code",
   "execution_count": 14,
   "id": "ba9a57fb",
   "metadata": {},
   "outputs": [],
   "source": [
    "dataAirbnb2019.drop('# of infants', axis=1, inplace=True)"
   ]
  },
  {
   "cell_type": "code",
   "execution_count": 15,
   "id": "784ea285",
   "metadata": {},
   "outputs": [
    {
     "data": {
      "text/html": [
       "<div>\n",
       "<style scoped>\n",
       "    .dataframe tbody tr th:only-of-type {\n",
       "        vertical-align: middle;\n",
       "    }\n",
       "\n",
       "    .dataframe tbody tr th {\n",
       "        vertical-align: top;\n",
       "    }\n",
       "\n",
       "    .dataframe thead th {\n",
       "        text-align: right;\n",
       "    }\n",
       "</style>\n",
       "<table border=\"1\" class=\"dataframe\">\n",
       "  <thead>\n",
       "    <tr style=\"text-align: right;\">\n",
       "      <th></th>\n",
       "      <th>Confirmation code</th>\n",
       "      <th>Status</th>\n",
       "      <th>Guest name</th>\n",
       "      <th># of adults</th>\n",
       "      <th># of children</th>\n",
       "      <th>Start date</th>\n",
       "      <th>End date</th>\n",
       "      <th># of nights</th>\n",
       "      <th>Booked</th>\n",
       "      <th>Listing</th>\n",
       "      <th>Earnings</th>\n",
       "      <th>Listing name</th>\n",
       "      <th>Grade</th>\n",
       "      <th>Advertiser</th>\n",
       "      <th># of people</th>\n",
       "    </tr>\n",
       "  </thead>\n",
       "  <tbody>\n",
       "    <tr>\n",
       "      <th>0</th>\n",
       "      <td>HMAMP59PS4</td>\n",
       "      <td>Confirmed</td>\n",
       "      <td>Youstina Daoud</td>\n",
       "      <td>2</td>\n",
       "      <td>0</td>\n",
       "      <td>03.06.2019</td>\n",
       "      <td>05.06.2019</td>\n",
       "      <td>2</td>\n",
       "      <td>30.03.2019</td>\n",
       "      <td>Beautiful studio with patio 5 min. to old town</td>\n",
       "      <td>â‚¬67.90</td>\n",
       "      <td>B</td>\n",
       "      <td>NaN</td>\n",
       "      <td>Airbnb</td>\n",
       "      <td>2</td>\n",
       "    </tr>\n",
       "    <tr>\n",
       "      <th>1</th>\n",
       "      <td>HMAMHWYDSW</td>\n",
       "      <td>Confirmed</td>\n",
       "      <td>Kristina Holm Jensen</td>\n",
       "      <td>2</td>\n",
       "      <td>0</td>\n",
       "      <td>05.06.2019</td>\n",
       "      <td>07.06.2019</td>\n",
       "      <td>2</td>\n",
       "      <td>05.05.2019</td>\n",
       "      <td>Beautiful studio with patio 5 min. to old town</td>\n",
       "      <td>â‚¬67.90</td>\n",
       "      <td>B</td>\n",
       "      <td>8.0</td>\n",
       "      <td>Airbnb</td>\n",
       "      <td>2</td>\n",
       "    </tr>\n",
       "    <tr>\n",
       "      <th>2</th>\n",
       "      <td>HMAC8EWZ3P</td>\n",
       "      <td>Confirmed</td>\n",
       "      <td>Ã–Znur Balaban</td>\n",
       "      <td>2</td>\n",
       "      <td>0</td>\n",
       "      <td>08.06.2019</td>\n",
       "      <td>09.06.2019</td>\n",
       "      <td>1</td>\n",
       "      <td>09.04.2019</td>\n",
       "      <td>Beautiful studio with patio 5 min. to old town</td>\n",
       "      <td>â‚¬33.95</td>\n",
       "      <td>B</td>\n",
       "      <td>NaN</td>\n",
       "      <td>Airbnb</td>\n",
       "      <td>2</td>\n",
       "    </tr>\n",
       "    <tr>\n",
       "      <th>3</th>\n",
       "      <td>HMANF23QWC</td>\n",
       "      <td>Confirmed</td>\n",
       "      <td>Steve Qj</td>\n",
       "      <td>1</td>\n",
       "      <td>0</td>\n",
       "      <td>10.06.2019</td>\n",
       "      <td>11.06.2019</td>\n",
       "      <td>1</td>\n",
       "      <td>01.06.2019</td>\n",
       "      <td>Beautiful studio with patio 5 min. to old town</td>\n",
       "      <td>â‚¬33.95</td>\n",
       "      <td>B</td>\n",
       "      <td>NaN</td>\n",
       "      <td>Airbnb</td>\n",
       "      <td>1</td>\n",
       "    </tr>\n",
       "    <tr>\n",
       "      <th>4</th>\n",
       "      <td>HMACJE5D9D</td>\n",
       "      <td>Confirmed</td>\n",
       "      <td>Quinten Spakman</td>\n",
       "      <td>2</td>\n",
       "      <td>0</td>\n",
       "      <td>13.06.2019</td>\n",
       "      <td>15.06.2019</td>\n",
       "      <td>2</td>\n",
       "      <td>04.05.2019</td>\n",
       "      <td>Beautiful studio with patio 5 min. to old town</td>\n",
       "      <td>â‚¬67.90</td>\n",
       "      <td>B</td>\n",
       "      <td>7.0</td>\n",
       "      <td>Airbnb</td>\n",
       "      <td>2</td>\n",
       "    </tr>\n",
       "  </tbody>\n",
       "</table>\n",
       "</div>"
      ],
      "text/plain": [
       "  Confirmation code     Status            Guest name  # of adults  \\\n",
       "0        HMAMP59PS4  Confirmed        Youstina Daoud            2   \n",
       "1        HMAMHWYDSW  Confirmed  Kristina Holm Jensen            2   \n",
       "2        HMAC8EWZ3P  Confirmed        Ã–Znur Balaban            2   \n",
       "3        HMANF23QWC  Confirmed              Steve Qj            1   \n",
       "4        HMACJE5D9D  Confirmed       Quinten Spakman            2   \n",
       "\n",
       "   # of children  Start date    End date  # of nights      Booked  \\\n",
       "0              0  03.06.2019  05.06.2019            2  30.03.2019   \n",
       "1              0  05.06.2019  07.06.2019            2  05.05.2019   \n",
       "2              0  08.06.2019  09.06.2019            1  09.04.2019   \n",
       "3              0  10.06.2019  11.06.2019            1  01.06.2019   \n",
       "4              0  13.06.2019  15.06.2019            2  04.05.2019   \n",
       "\n",
       "                                          Listing  Earnings Listing name  \\\n",
       "0  Beautiful studio with patio 5 min. to old town  â‚¬67.90            B   \n",
       "1  Beautiful studio with patio 5 min. to old town  â‚¬67.90            B   \n",
       "2  Beautiful studio with patio 5 min. to old town  â‚¬33.95            B   \n",
       "3  Beautiful studio with patio 5 min. to old town  â‚¬33.95            B   \n",
       "4  Beautiful studio with patio 5 min. to old town  â‚¬67.90            B   \n",
       "\n",
       "   Grade Advertiser  # of people  \n",
       "0    NaN     Airbnb            2  \n",
       "1    8.0     Airbnb            2  \n",
       "2    NaN     Airbnb            2  \n",
       "3    NaN     Airbnb            1  \n",
       "4    7.0     Airbnb            2  "
      ]
     },
     "execution_count": 15,
     "metadata": {},
     "output_type": "execute_result"
    }
   ],
   "source": [
    "dataAirbnb2019.head()"
   ]
  },
  {
   "cell_type": "code",
   "execution_count": 16,
   "id": "4faa7dfd",
   "metadata": {},
   "outputs": [
    {
     "data": {
      "text/plain": [
       "array(['03.06.2019', '05.06.2019', '08.06.2019', '10.06.2019',\n",
       "       '13.06.2019', '16.06.2019', '20.06.2019', '13.07.2019',\n",
       "       '15.07.2019', '07.08.2019', '12.08.2019', '21.08.2019',\n",
       "       '22.08.2019', '25.08.2019', '29.08.2019', '02.09.2019',\n",
       "       '08.09.2019', '18.09.2019', '24.09.2019'], dtype=object)"
      ]
     },
     "execution_count": 16,
     "metadata": {},
     "output_type": "execute_result"
    }
   ],
   "source": [
    "dataAirbnb2019['Start date'].unique()"
   ]
  },
  {
   "cell_type": "code",
   "execution_count": 17,
   "id": "878aa5aa",
   "metadata": {},
   "outputs": [
    {
     "data": {
      "text/plain": [
       "array(['05.06.2019', '07.06.2019', '09.06.2019', '11.06.2019',\n",
       "       '15.06.2019', '20.06.2019', '22.06.2019', '14.07.2019',\n",
       "       '16.07.2019', '12.08.2019', '15.08.2019', '22.08.2019',\n",
       "       '25.08.2019', '27.08.2019', '02.09.2019', '03.09.2019',\n",
       "       '09.09.2019', '23.09.2019', '26.09.2019'], dtype=object)"
      ]
     },
     "execution_count": 17,
     "metadata": {},
     "output_type": "execute_result"
    }
   ],
   "source": [
    "dataAirbnb2019['End date'].unique()"
   ]
  },
  {
   "cell_type": "code",
   "execution_count": 18,
   "id": "5fb34125",
   "metadata": {},
   "outputs": [
    {
     "data": {
      "text/plain": [
       "array([2, 1, 4, 5, 3], dtype=int64)"
      ]
     },
     "execution_count": 18,
     "metadata": {},
     "output_type": "execute_result"
    }
   ],
   "source": [
    "dataAirbnb2019['# of nights'].unique()"
   ]
  },
  {
   "cell_type": "code",
   "execution_count": 19,
   "id": "0b8206f8",
   "metadata": {},
   "outputs": [
    {
     "data": {
      "text/plain": [
       "array(['30.03.2019', '05.05.2019', '09.04.2019', '01.06.2019',\n",
       "       '04.05.2019', '01.05.2019', '28.03.2019', '24.05.2019',\n",
       "       '07.05.2019', '02.06.2019', '04.06.2019', '12.07.2019',\n",
       "       '27.05.2019', '09.06.2019', '30.06.2019', '17.08.2019',\n",
       "       '30.07.2019', '02.05.2019', '19.06.2019'], dtype=object)"
      ]
     },
     "execution_count": 19,
     "metadata": {},
     "output_type": "execute_result"
    }
   ],
   "source": [
    "dataAirbnb2019['Booked'].unique()"
   ]
  },
  {
   "cell_type": "code",
   "execution_count": 20,
   "id": "b8078a09",
   "metadata": {},
   "outputs": [
    {
     "data": {
      "text/plain": [
       "array(['Beautiful studio with patio 5 min. to old town'], dtype=object)"
      ]
     },
     "execution_count": 20,
     "metadata": {},
     "output_type": "execute_result"
    }
   ],
   "source": [
    "dataAirbnb2019['Listing'].unique()"
   ]
  },
  {
   "cell_type": "code",
   "execution_count": 21,
   "id": "da4eddd6",
   "metadata": {},
   "outputs": [],
   "source": [
    "dataAirbnb2019['Earnings'] = dataAirbnb2019['Earnings'].str.extract(r'(\\d+.\\d+)').astype(float)\n",
    "dataAirbnb2019['Earnings'] = round(dataAirbnb2019['Earnings'].astype(float) - dataAirbnb2019['# of nights']*dataAirbnb2019['# of people'], 2)"
   ]
  },
  {
   "cell_type": "code",
   "execution_count": 22,
   "id": "d4c68d7f",
   "metadata": {},
   "outputs": [
    {
     "data": {
      "text/html": [
       "<div>\n",
       "<style scoped>\n",
       "    .dataframe tbody tr th:only-of-type {\n",
       "        vertical-align: middle;\n",
       "    }\n",
       "\n",
       "    .dataframe tbody tr th {\n",
       "        vertical-align: top;\n",
       "    }\n",
       "\n",
       "    .dataframe thead th {\n",
       "        text-align: right;\n",
       "    }\n",
       "</style>\n",
       "<table border=\"1\" class=\"dataframe\">\n",
       "  <thead>\n",
       "    <tr style=\"text-align: right;\">\n",
       "      <th></th>\n",
       "      <th>Confirmation code</th>\n",
       "      <th>Status</th>\n",
       "      <th>Guest name</th>\n",
       "      <th># of adults</th>\n",
       "      <th># of children</th>\n",
       "      <th>Start date</th>\n",
       "      <th>End date</th>\n",
       "      <th># of nights</th>\n",
       "      <th>Booked</th>\n",
       "      <th>Listing</th>\n",
       "      <th>Earnings</th>\n",
       "      <th>Listing name</th>\n",
       "      <th>Grade</th>\n",
       "      <th>Advertiser</th>\n",
       "      <th># of people</th>\n",
       "    </tr>\n",
       "  </thead>\n",
       "  <tbody>\n",
       "    <tr>\n",
       "      <th>0</th>\n",
       "      <td>HMAMP59PS4</td>\n",
       "      <td>Confirmed</td>\n",
       "      <td>Youstina Daoud</td>\n",
       "      <td>2</td>\n",
       "      <td>0</td>\n",
       "      <td>03.06.2019</td>\n",
       "      <td>05.06.2019</td>\n",
       "      <td>2</td>\n",
       "      <td>30.03.2019</td>\n",
       "      <td>Beautiful studio with patio 5 min. to old town</td>\n",
       "      <td>63.90</td>\n",
       "      <td>B</td>\n",
       "      <td>NaN</td>\n",
       "      <td>Airbnb</td>\n",
       "      <td>2</td>\n",
       "    </tr>\n",
       "    <tr>\n",
       "      <th>1</th>\n",
       "      <td>HMAMHWYDSW</td>\n",
       "      <td>Confirmed</td>\n",
       "      <td>Kristina Holm Jensen</td>\n",
       "      <td>2</td>\n",
       "      <td>0</td>\n",
       "      <td>05.06.2019</td>\n",
       "      <td>07.06.2019</td>\n",
       "      <td>2</td>\n",
       "      <td>05.05.2019</td>\n",
       "      <td>Beautiful studio with patio 5 min. to old town</td>\n",
       "      <td>63.90</td>\n",
       "      <td>B</td>\n",
       "      <td>8.0</td>\n",
       "      <td>Airbnb</td>\n",
       "      <td>2</td>\n",
       "    </tr>\n",
       "    <tr>\n",
       "      <th>2</th>\n",
       "      <td>HMAC8EWZ3P</td>\n",
       "      <td>Confirmed</td>\n",
       "      <td>Ã–Znur Balaban</td>\n",
       "      <td>2</td>\n",
       "      <td>0</td>\n",
       "      <td>08.06.2019</td>\n",
       "      <td>09.06.2019</td>\n",
       "      <td>1</td>\n",
       "      <td>09.04.2019</td>\n",
       "      <td>Beautiful studio with patio 5 min. to old town</td>\n",
       "      <td>31.95</td>\n",
       "      <td>B</td>\n",
       "      <td>NaN</td>\n",
       "      <td>Airbnb</td>\n",
       "      <td>2</td>\n",
       "    </tr>\n",
       "    <tr>\n",
       "      <th>3</th>\n",
       "      <td>HMANF23QWC</td>\n",
       "      <td>Confirmed</td>\n",
       "      <td>Steve Qj</td>\n",
       "      <td>1</td>\n",
       "      <td>0</td>\n",
       "      <td>10.06.2019</td>\n",
       "      <td>11.06.2019</td>\n",
       "      <td>1</td>\n",
       "      <td>01.06.2019</td>\n",
       "      <td>Beautiful studio with patio 5 min. to old town</td>\n",
       "      <td>32.95</td>\n",
       "      <td>B</td>\n",
       "      <td>NaN</td>\n",
       "      <td>Airbnb</td>\n",
       "      <td>1</td>\n",
       "    </tr>\n",
       "    <tr>\n",
       "      <th>4</th>\n",
       "      <td>HMACJE5D9D</td>\n",
       "      <td>Confirmed</td>\n",
       "      <td>Quinten Spakman</td>\n",
       "      <td>2</td>\n",
       "      <td>0</td>\n",
       "      <td>13.06.2019</td>\n",
       "      <td>15.06.2019</td>\n",
       "      <td>2</td>\n",
       "      <td>04.05.2019</td>\n",
       "      <td>Beautiful studio with patio 5 min. to old town</td>\n",
       "      <td>63.90</td>\n",
       "      <td>B</td>\n",
       "      <td>7.0</td>\n",
       "      <td>Airbnb</td>\n",
       "      <td>2</td>\n",
       "    </tr>\n",
       "  </tbody>\n",
       "</table>\n",
       "</div>"
      ],
      "text/plain": [
       "  Confirmation code     Status            Guest name  # of adults  \\\n",
       "0        HMAMP59PS4  Confirmed        Youstina Daoud            2   \n",
       "1        HMAMHWYDSW  Confirmed  Kristina Holm Jensen            2   \n",
       "2        HMAC8EWZ3P  Confirmed        Ã–Znur Balaban            2   \n",
       "3        HMANF23QWC  Confirmed              Steve Qj            1   \n",
       "4        HMACJE5D9D  Confirmed       Quinten Spakman            2   \n",
       "\n",
       "   # of children  Start date    End date  # of nights      Booked  \\\n",
       "0              0  03.06.2019  05.06.2019            2  30.03.2019   \n",
       "1              0  05.06.2019  07.06.2019            2  05.05.2019   \n",
       "2              0  08.06.2019  09.06.2019            1  09.04.2019   \n",
       "3              0  10.06.2019  11.06.2019            1  01.06.2019   \n",
       "4              0  13.06.2019  15.06.2019            2  04.05.2019   \n",
       "\n",
       "                                          Listing  Earnings Listing name  \\\n",
       "0  Beautiful studio with patio 5 min. to old town     63.90            B   \n",
       "1  Beautiful studio with patio 5 min. to old town     63.90            B   \n",
       "2  Beautiful studio with patio 5 min. to old town     31.95            B   \n",
       "3  Beautiful studio with patio 5 min. to old town     32.95            B   \n",
       "4  Beautiful studio with patio 5 min. to old town     63.90            B   \n",
       "\n",
       "   Grade Advertiser  # of people  \n",
       "0    NaN     Airbnb            2  \n",
       "1    8.0     Airbnb            2  \n",
       "2    NaN     Airbnb            2  \n",
       "3    NaN     Airbnb            1  \n",
       "4    7.0     Airbnb            2  "
      ]
     },
     "execution_count": 22,
     "metadata": {},
     "output_type": "execute_result"
    }
   ],
   "source": [
    "dataAirbnb2019.head()"
   ]
  },
  {
   "cell_type": "code",
   "execution_count": 23,
   "id": "ac6928c2",
   "metadata": {},
   "outputs": [
    {
     "data": {
      "text/plain": [
       "array(['B'], dtype=object)"
      ]
     },
     "execution_count": 23,
     "metadata": {},
     "output_type": "execute_result"
    }
   ],
   "source": [
    "dataAirbnb2019['Listing name'].unique()"
   ]
  },
  {
   "cell_type": "code",
   "execution_count": 24,
   "id": "f0df16c0",
   "metadata": {},
   "outputs": [],
   "source": [
    "dataAirbnb2019['Grade'].fillna(0, inplace=True)"
   ]
  },
  {
   "cell_type": "code",
   "execution_count": 25,
   "id": "ff70f577",
   "metadata": {},
   "outputs": [
    {
     "data": {
      "text/plain": [
       "Index(['Confirmation code', 'Status', 'Guest name', '# of adults',\n",
       "       '# of children', 'Start date', 'End date', '# of nights', 'Booked',\n",
       "       'Listing', 'Earnings', 'Listing name', 'Grade', 'Advertiser',\n",
       "       '# of people'],\n",
       "      dtype='object')"
      ]
     },
     "execution_count": 25,
     "metadata": {},
     "output_type": "execute_result"
    }
   ],
   "source": [
    "dataAirbnb2019.columns"
   ]
  },
  {
   "cell_type": "code",
   "execution_count": 26,
   "id": "185109f3",
   "metadata": {},
   "outputs": [
    {
     "data": {
      "text/plain": [
       "array(['Beautiful studio with patio 5 min. to old town'], dtype=object)"
      ]
     },
     "execution_count": 26,
     "metadata": {},
     "output_type": "execute_result"
    }
   ],
   "source": [
    "dataAirbnb2019['Listing'].unique()"
   ]
  },
  {
   "cell_type": "code",
   "execution_count": 27,
   "id": "e405ada8",
   "metadata": {},
   "outputs": [],
   "source": [
    "# dataAirbnb2019['Price_€'] = round(dataAirbnb2019['Earnings'].astype(float)*0.92, 2)\n",
    "# dataAirbnb2019['Price_RSD'] = round(dataAirbnb2019['Earnings'].astype(float)*107.76, 2)"
   ]
  },
  {
   "cell_type": "code",
   "execution_count": 28,
   "id": "ce2cd843",
   "metadata": {},
   "outputs": [],
   "source": [
    "dataAirbnb2019.rename(columns={'Confirmation code': 'Book Number', \n",
    "                            'Guest name': 'Guest Name', \n",
    "                            '# of adults': 'NumberOfAdults', \n",
    "                            '# of children': 'NumberOfChildren', \n",
    "                            'Start date' : 'Start Date',\n",
    "                            'End date': 'End Date',\n",
    "                            '# of nights': 'NumberOfNights',\n",
    "                            'Booked': 'Booked On',\n",
    "                            'Listing': 'Accommodation',\n",
    "                            'Listing name': 'Accommodation Type',\n",
    "                            '# of people': 'NumberOfPeople',\n",
    "                            'Earnings': 'Price_DOLLAR'}, inplace=True)"
   ]
  },
  {
   "cell_type": "code",
   "execution_count": 29,
   "id": "ebf74c91",
   "metadata": {},
   "outputs": [
    {
     "data": {
      "text/plain": [
       "Index(['Book Number', 'Status', 'Guest Name', 'NumberOfAdults',\n",
       "       'NumberOfChildren', 'Start Date', 'End Date', 'NumberOfNights',\n",
       "       'Booked On', 'Accommodation', 'Price_DOLLAR', 'Accommodation Type',\n",
       "       'Grade', 'Advertiser', 'NumberOfPeople'],\n",
       "      dtype='object')"
      ]
     },
     "execution_count": 29,
     "metadata": {},
     "output_type": "execute_result"
    }
   ],
   "source": [
    "dataAirbnb2019.columns"
   ]
  },
  {
   "cell_type": "code",
   "execution_count": 30,
   "id": "3acb00c7",
   "metadata": {},
   "outputs": [
    {
     "data": {
      "text/html": [
       "<div>\n",
       "<style scoped>\n",
       "    .dataframe tbody tr th:only-of-type {\n",
       "        vertical-align: middle;\n",
       "    }\n",
       "\n",
       "    .dataframe tbody tr th {\n",
       "        vertical-align: top;\n",
       "    }\n",
       "\n",
       "    .dataframe thead th {\n",
       "        text-align: right;\n",
       "    }\n",
       "</style>\n",
       "<table border=\"1\" class=\"dataframe\">\n",
       "  <thead>\n",
       "    <tr style=\"text-align: right;\">\n",
       "      <th></th>\n",
       "      <th>Book Number</th>\n",
       "      <th>Status</th>\n",
       "      <th>Guest Name</th>\n",
       "      <th>NumberOfAdults</th>\n",
       "      <th>NumberOfChildren</th>\n",
       "      <th>Start Date</th>\n",
       "      <th>End Date</th>\n",
       "      <th>NumberOfNights</th>\n",
       "      <th>Booked On</th>\n",
       "      <th>Accommodation</th>\n",
       "      <th>Price_DOLLAR</th>\n",
       "      <th>Accommodation Type</th>\n",
       "      <th>Grade</th>\n",
       "      <th>Advertiser</th>\n",
       "      <th>NumberOfPeople</th>\n",
       "    </tr>\n",
       "  </thead>\n",
       "  <tbody>\n",
       "    <tr>\n",
       "      <th>0</th>\n",
       "      <td>HMAMP59PS4</td>\n",
       "      <td>Confirmed</td>\n",
       "      <td>Youstina Daoud</td>\n",
       "      <td>2</td>\n",
       "      <td>0</td>\n",
       "      <td>03.06.2019</td>\n",
       "      <td>05.06.2019</td>\n",
       "      <td>2</td>\n",
       "      <td>30.03.2019</td>\n",
       "      <td>Beautiful studio with patio 5 min. to old town</td>\n",
       "      <td>63.90</td>\n",
       "      <td>B</td>\n",
       "      <td>0.0</td>\n",
       "      <td>Airbnb</td>\n",
       "      <td>2</td>\n",
       "    </tr>\n",
       "    <tr>\n",
       "      <th>1</th>\n",
       "      <td>HMAMHWYDSW</td>\n",
       "      <td>Confirmed</td>\n",
       "      <td>Kristina Holm Jensen</td>\n",
       "      <td>2</td>\n",
       "      <td>0</td>\n",
       "      <td>05.06.2019</td>\n",
       "      <td>07.06.2019</td>\n",
       "      <td>2</td>\n",
       "      <td>05.05.2019</td>\n",
       "      <td>Beautiful studio with patio 5 min. to old town</td>\n",
       "      <td>63.90</td>\n",
       "      <td>B</td>\n",
       "      <td>8.0</td>\n",
       "      <td>Airbnb</td>\n",
       "      <td>2</td>\n",
       "    </tr>\n",
       "    <tr>\n",
       "      <th>2</th>\n",
       "      <td>HMAC8EWZ3P</td>\n",
       "      <td>Confirmed</td>\n",
       "      <td>Ã–Znur Balaban</td>\n",
       "      <td>2</td>\n",
       "      <td>0</td>\n",
       "      <td>08.06.2019</td>\n",
       "      <td>09.06.2019</td>\n",
       "      <td>1</td>\n",
       "      <td>09.04.2019</td>\n",
       "      <td>Beautiful studio with patio 5 min. to old town</td>\n",
       "      <td>31.95</td>\n",
       "      <td>B</td>\n",
       "      <td>0.0</td>\n",
       "      <td>Airbnb</td>\n",
       "      <td>2</td>\n",
       "    </tr>\n",
       "    <tr>\n",
       "      <th>3</th>\n",
       "      <td>HMANF23QWC</td>\n",
       "      <td>Confirmed</td>\n",
       "      <td>Steve Qj</td>\n",
       "      <td>1</td>\n",
       "      <td>0</td>\n",
       "      <td>10.06.2019</td>\n",
       "      <td>11.06.2019</td>\n",
       "      <td>1</td>\n",
       "      <td>01.06.2019</td>\n",
       "      <td>Beautiful studio with patio 5 min. to old town</td>\n",
       "      <td>32.95</td>\n",
       "      <td>B</td>\n",
       "      <td>0.0</td>\n",
       "      <td>Airbnb</td>\n",
       "      <td>1</td>\n",
       "    </tr>\n",
       "    <tr>\n",
       "      <th>4</th>\n",
       "      <td>HMACJE5D9D</td>\n",
       "      <td>Confirmed</td>\n",
       "      <td>Quinten Spakman</td>\n",
       "      <td>2</td>\n",
       "      <td>0</td>\n",
       "      <td>13.06.2019</td>\n",
       "      <td>15.06.2019</td>\n",
       "      <td>2</td>\n",
       "      <td>04.05.2019</td>\n",
       "      <td>Beautiful studio with patio 5 min. to old town</td>\n",
       "      <td>63.90</td>\n",
       "      <td>B</td>\n",
       "      <td>7.0</td>\n",
       "      <td>Airbnb</td>\n",
       "      <td>2</td>\n",
       "    </tr>\n",
       "  </tbody>\n",
       "</table>\n",
       "</div>"
      ],
      "text/plain": [
       "  Book Number     Status            Guest Name  NumberOfAdults  \\\n",
       "0  HMAMP59PS4  Confirmed        Youstina Daoud               2   \n",
       "1  HMAMHWYDSW  Confirmed  Kristina Holm Jensen               2   \n",
       "2  HMAC8EWZ3P  Confirmed        Ã–Znur Balaban               2   \n",
       "3  HMANF23QWC  Confirmed              Steve Qj               1   \n",
       "4  HMACJE5D9D  Confirmed       Quinten Spakman               2   \n",
       "\n",
       "   NumberOfChildren  Start Date    End Date  NumberOfNights   Booked On  \\\n",
       "0                 0  03.06.2019  05.06.2019               2  30.03.2019   \n",
       "1                 0  05.06.2019  07.06.2019               2  05.05.2019   \n",
       "2                 0  08.06.2019  09.06.2019               1  09.04.2019   \n",
       "3                 0  10.06.2019  11.06.2019               1  01.06.2019   \n",
       "4                 0  13.06.2019  15.06.2019               2  04.05.2019   \n",
       "\n",
       "                                    Accommodation  Price_DOLLAR  \\\n",
       "0  Beautiful studio with patio 5 min. to old town         63.90   \n",
       "1  Beautiful studio with patio 5 min. to old town         63.90   \n",
       "2  Beautiful studio with patio 5 min. to old town         31.95   \n",
       "3  Beautiful studio with patio 5 min. to old town         32.95   \n",
       "4  Beautiful studio with patio 5 min. to old town         63.90   \n",
       "\n",
       "  Accommodation Type  Grade Advertiser  NumberOfPeople  \n",
       "0                  B    0.0     Airbnb               2  \n",
       "1                  B    8.0     Airbnb               2  \n",
       "2                  B    0.0     Airbnb               2  \n",
       "3                  B    0.0     Airbnb               1  \n",
       "4                  B    7.0     Airbnb               2  "
      ]
     },
     "execution_count": 30,
     "metadata": {},
     "output_type": "execute_result"
    }
   ],
   "source": [
    "dataAirbnb2019.head()"
   ]
  },
  {
   "cell_type": "code",
   "execution_count": 31,
   "id": "04cb0eee",
   "metadata": {},
   "outputs": [
    {
     "data": {
      "text/plain": [
       "array(['Beautiful studio with patio 5 min. to old town'], dtype=object)"
      ]
     },
     "execution_count": 31,
     "metadata": {},
     "output_type": "execute_result"
    }
   ],
   "source": [
    "dataAirbnb2019['Accommodation'].unique()"
   ]
  },
  {
   "cell_type": "code",
   "execution_count": 32,
   "id": "6d716ce4",
   "metadata": {},
   "outputs": [],
   "source": [
    "dataAirbnb2019['Accommodation'] = dataAirbnb2019['Accommodation'].replace({'Beautiful studio with patio 5 min. to old town': 'Studio with Patio'})"
   ]
  },
  {
   "cell_type": "code",
   "execution_count": 33,
   "id": "b08aad02",
   "metadata": {},
   "outputs": [
    {
     "data": {
      "text/plain": [
       "array(['Studio with Patio'], dtype=object)"
      ]
     },
     "execution_count": 33,
     "metadata": {},
     "output_type": "execute_result"
    }
   ],
   "source": [
    "dataAirbnb2019['Accommodation'].unique()"
   ]
  },
  {
   "cell_type": "code",
   "execution_count": 34,
   "id": "b32ec12f",
   "metadata": {},
   "outputs": [
    {
     "data": {
      "text/plain": [
       "array([2, 1], dtype=int64)"
      ]
     },
     "execution_count": 34,
     "metadata": {},
     "output_type": "execute_result"
    }
   ],
   "source": [
    "dataAirbnb2019['NumberOfPeople'].unique()"
   ]
  },
  {
   "cell_type": "code",
   "execution_count": 35,
   "id": "abc8bce7",
   "metadata": {},
   "outputs": [],
   "source": [
    "def processing(dataAirbnb):\n",
    "    dataAirbnb['Advertiser'] = 'Airbnb'\n",
    "    \n",
    "    dataAirbnb = dataAirbnb[dataAirbnb['Booked'] <= dataAirbnb['Start date']]\n",
    "    dataAirbnb = dataAirbnb[dataAirbnb['Start date'] < dataAirbnb['End date']]\n",
    "    dataAirbnb['Start date'] = pd.to_datetime(dataAirbnb['Start date']).dt.strftime('%d.%m.%Y')\n",
    "    dataAirbnb['End date'] = pd.to_datetime(dataAirbnb['End date']).dt.strftime('%d.%m.%Y')\n",
    "    dataAirbnb['Booked'] = pd.to_datetime(dataAirbnb['Booked']).dt.strftime('%d.%m.%Y')\n",
    "    \n",
    "    dataAirbnb.drop_duplicates(subset=['Confirmation code'], keep='first', inplace=True)\n",
    "    \n",
    "    dataAirbnb['Guest name'].fillna('', inplace=True)\n",
    "    dataAirbnb['Guest name'] = dataAirbnb['Guest name'].str.title()\n",
    "    \n",
    "    dataAirbnb['# of children'] = dataAirbnb['# of children'] + dataAirbnb['# of infants']\n",
    "    dataAirbnb['# of people'] = dataAirbnb['# of adults'] + dataAirbnb['# of children']\n",
    "    \n",
    "    dataAirbnb.drop('# of infants', axis=1, inplace=True)\n",
    "    \n",
    "    dataAirbnb['Earnings'] = dataAirbnb['Earnings'].str.extract(r'(\\d+.\\d+)').astype(float)\n",
    "    dataAirbnb['Earnings'] = round(dataAirbnb['Earnings'].astype(float) - dataAirbnb['# of nights']*dataAirbnb['# of people'], 2)\n",
    "    \n",
    "    mapping = {'A': 'One-Bedroom Apartment with Balcony and Sea View', \n",
    "               'B': 'Studio with Patio', \n",
    "               'C': 'Studio with Patio and Sea View',\n",
    "               'D': 'One-Bedroom Apartment with Patio and Sea View'}\n",
    "\n",
    "    dataAirbnb['Accommodation'] = dataAirbnb['Listing name'].replace(mapping)\n",
    "    dataAirbnb.drop('Listing', axis=1, inplace=True)\n",
    "    \n",
    "    dataAirbnb['Grade'].fillna(0, inplace=True)\n",
    "    \n",
    "#     dataAirbnb['Price_€'] = round(dataAirbnb['Earnings'].astype(float)*0.92, 2)\n",
    "#     dataAirbnb['Price_RSD'] = round(dataAirbnb['Earnings'].astype(float)*107.76, 2)\n",
    "    \n",
    "    dataAirbnb.rename(columns={'Confirmation code': 'Book Number', \n",
    "                            'Guest name': 'Guest Name', \n",
    "                            '# of adults': 'NumberOfAdults', \n",
    "                            '# of children': 'NumberOfChildren', \n",
    "                            'Start date' : 'Start Date',\n",
    "                            'End date': 'End Date',\n",
    "                            '# of nights': 'NumberOfNights',\n",
    "                            'Booked': 'Booked On',\n",
    "                            'Listing name': 'Accommodation Type',\n",
    "                            '# of people': 'NumberOfPeople',\n",
    "                            'Earnings': 'Price_DOLLAR'}, inplace=True)\n",
    "    \n",
    "    return dataAirbnb"
   ]
  },
  {
   "cell_type": "markdown",
   "id": "453d6bdb",
   "metadata": {},
   "source": [
    "# 2020"
   ]
  },
  {
   "cell_type": "code",
   "execution_count": 36,
   "id": "e717dace",
   "metadata": {},
   "outputs": [],
   "source": [
    "dataAirbnb2020 = pd.read_excel('D://Master/SSP/Projekat/data/raw/2020/Airbnb_2020.xlsx')"
   ]
  },
  {
   "cell_type": "code",
   "execution_count": 37,
   "id": "e9a750f1",
   "metadata": {},
   "outputs": [],
   "source": [
    "data2Airbnb2019 = pd.read_excel('D://Master/SSP/Projekat/data/raw/2019/Airbnb_2019.xlsx')"
   ]
  },
  {
   "cell_type": "code",
   "execution_count": 38,
   "id": "50084525",
   "metadata": {},
   "outputs": [
    {
     "name": "stdout",
     "output_type": "stream",
     "text": [
      "Columns not common: set()\n"
     ]
    }
   ],
   "source": [
    "not_common_columns = set(data2Airbnb2019.columns).symmetric_difference(set(dataAirbnb2020.columns))\n",
    "\n",
    "print(\"Columns not common:\", not_common_columns)"
   ]
  },
  {
   "cell_type": "code",
   "execution_count": 39,
   "id": "83d5c679",
   "metadata": {},
   "outputs": [
    {
     "data": {
      "text/html": [
       "<div>\n",
       "<style scoped>\n",
       "    .dataframe tbody tr th:only-of-type {\n",
       "        vertical-align: middle;\n",
       "    }\n",
       "\n",
       "    .dataframe tbody tr th {\n",
       "        vertical-align: top;\n",
       "    }\n",
       "\n",
       "    .dataframe thead th {\n",
       "        text-align: right;\n",
       "    }\n",
       "</style>\n",
       "<table border=\"1\" class=\"dataframe\">\n",
       "  <thead>\n",
       "    <tr style=\"text-align: right;\">\n",
       "      <th></th>\n",
       "      <th>Confirmation code</th>\n",
       "      <th>Status</th>\n",
       "      <th>Guest name</th>\n",
       "      <th># of adults</th>\n",
       "      <th># of children</th>\n",
       "      <th># of infants</th>\n",
       "      <th>Start date</th>\n",
       "      <th>End date</th>\n",
       "      <th># of nights</th>\n",
       "      <th>Booked</th>\n",
       "      <th>Listing</th>\n",
       "      <th>Earnings</th>\n",
       "      <th>Listing name</th>\n",
       "      <th>Grade</th>\n",
       "    </tr>\n",
       "  </thead>\n",
       "  <tbody>\n",
       "    <tr>\n",
       "      <th>0</th>\n",
       "      <td>HMTZSQP8RH</td>\n",
       "      <td>Confirmed</td>\n",
       "      <td>Shaylynn Jaimie</td>\n",
       "      <td>2</td>\n",
       "      <td>0</td>\n",
       "      <td>0</td>\n",
       "      <td>2020-07-21</td>\n",
       "      <td>2020-07-22</td>\n",
       "      <td>1</td>\n",
       "      <td>2020-01-14</td>\n",
       "      <td>Beautiful studio with patio 5 min. to old town</td>\n",
       "      <td>â‚¬43.65</td>\n",
       "      <td>B</td>\n",
       "      <td>9.0</td>\n",
       "    </tr>\n",
       "    <tr>\n",
       "      <th>1</th>\n",
       "      <td>HMA2W5RWEW</td>\n",
       "      <td>Confirmed</td>\n",
       "      <td>Aamir Khan</td>\n",
       "      <td>2</td>\n",
       "      <td>0</td>\n",
       "      <td>0</td>\n",
       "      <td>2020-06-26</td>\n",
       "      <td>2020-06-27</td>\n",
       "      <td>1</td>\n",
       "      <td>2020-01-21</td>\n",
       "      <td>Beautiful studio with patio 5 min. to old town</td>\n",
       "      <td>â‚¬33.95</td>\n",
       "      <td>B</td>\n",
       "      <td>NaN</td>\n",
       "    </tr>\n",
       "    <tr>\n",
       "      <th>2</th>\n",
       "      <td>HMNCPSDN85</td>\n",
       "      <td>Confirmed</td>\n",
       "      <td>Dora Barczy</td>\n",
       "      <td>2</td>\n",
       "      <td>0</td>\n",
       "      <td>0</td>\n",
       "      <td>2020-06-22</td>\n",
       "      <td>2020-06-25</td>\n",
       "      <td>3</td>\n",
       "      <td>2020-01-29</td>\n",
       "      <td>Beautiful studio with patio 5 min. to old town</td>\n",
       "      <td>â‚¬101.85</td>\n",
       "      <td>B</td>\n",
       "      <td>NaN</td>\n",
       "    </tr>\n",
       "    <tr>\n",
       "      <th>3</th>\n",
       "      <td>HMSX2XZYJP</td>\n",
       "      <td>Confirmed</td>\n",
       "      <td>Jack Surgey</td>\n",
       "      <td>2</td>\n",
       "      <td>0</td>\n",
       "      <td>0</td>\n",
       "      <td>2020-08-11</td>\n",
       "      <td>2020-08-12</td>\n",
       "      <td>1</td>\n",
       "      <td>2020-01-31</td>\n",
       "      <td>Beautiful studio with patio 5 min. to old town</td>\n",
       "      <td>â‚¬46.56</td>\n",
       "      <td>B</td>\n",
       "      <td>9.0</td>\n",
       "    </tr>\n",
       "    <tr>\n",
       "      <th>4</th>\n",
       "      <td>HM2W9FZH4D</td>\n",
       "      <td>Confirmed</td>\n",
       "      <td>Jeremi Simoes Gil</td>\n",
       "      <td>2</td>\n",
       "      <td>0</td>\n",
       "      <td>0</td>\n",
       "      <td>2020-07-13</td>\n",
       "      <td>2020-07-17</td>\n",
       "      <td>4</td>\n",
       "      <td>2020-02-01</td>\n",
       "      <td>Beautiful studio with patio 5 min. to old town</td>\n",
       "      <td>â‚¬174.60</td>\n",
       "      <td>B</td>\n",
       "      <td>8.0</td>\n",
       "    </tr>\n",
       "  </tbody>\n",
       "</table>\n",
       "</div>"
      ],
      "text/plain": [
       "  Confirmation code     Status         Guest name  # of adults  # of children  \\\n",
       "0        HMTZSQP8RH  Confirmed    Shaylynn Jaimie            2              0   \n",
       "1        HMA2W5RWEW  Confirmed         Aamir Khan            2              0   \n",
       "2        HMNCPSDN85  Confirmed        Dora Barczy            2              0   \n",
       "3        HMSX2XZYJP  Confirmed        Jack Surgey            2              0   \n",
       "4        HM2W9FZH4D  Confirmed  Jeremi Simoes Gil            2              0   \n",
       "\n",
       "   # of infants Start date   End date  # of nights     Booked  \\\n",
       "0             0 2020-07-21 2020-07-22            1 2020-01-14   \n",
       "1             0 2020-06-26 2020-06-27            1 2020-01-21   \n",
       "2             0 2020-06-22 2020-06-25            3 2020-01-29   \n",
       "3             0 2020-08-11 2020-08-12            1 2020-01-31   \n",
       "4             0 2020-07-13 2020-07-17            4 2020-02-01   \n",
       "\n",
       "                                          Listing   Earnings Listing name  \\\n",
       "0  Beautiful studio with patio 5 min. to old town   â‚¬43.65            B   \n",
       "1  Beautiful studio with patio 5 min. to old town   â‚¬33.95            B   \n",
       "2  Beautiful studio with patio 5 min. to old town  â‚¬101.85            B   \n",
       "3  Beautiful studio with patio 5 min. to old town   â‚¬46.56            B   \n",
       "4  Beautiful studio with patio 5 min. to old town  â‚¬174.60            B   \n",
       "\n",
       "   Grade  \n",
       "0    9.0  \n",
       "1    NaN  \n",
       "2    NaN  \n",
       "3    9.0  \n",
       "4    8.0  "
      ]
     },
     "execution_count": 39,
     "metadata": {},
     "output_type": "execute_result"
    }
   ],
   "source": [
    "dataAirbnb2020.head()"
   ]
  },
  {
   "cell_type": "code",
   "execution_count": 40,
   "id": "8134fe25",
   "metadata": {},
   "outputs": [],
   "source": [
    "dataAirbnb2020 = processing(dataAirbnb2020)"
   ]
  },
  {
   "cell_type": "code",
   "execution_count": 41,
   "id": "d8cbae9c",
   "metadata": {},
   "outputs": [
    {
     "data": {
      "text/html": [
       "<div>\n",
       "<style scoped>\n",
       "    .dataframe tbody tr th:only-of-type {\n",
       "        vertical-align: middle;\n",
       "    }\n",
       "\n",
       "    .dataframe tbody tr th {\n",
       "        vertical-align: top;\n",
       "    }\n",
       "\n",
       "    .dataframe thead th {\n",
       "        text-align: right;\n",
       "    }\n",
       "</style>\n",
       "<table border=\"1\" class=\"dataframe\">\n",
       "  <thead>\n",
       "    <tr style=\"text-align: right;\">\n",
       "      <th></th>\n",
       "      <th>Book Number</th>\n",
       "      <th>Status</th>\n",
       "      <th>Guest Name</th>\n",
       "      <th>NumberOfAdults</th>\n",
       "      <th>NumberOfChildren</th>\n",
       "      <th>Start Date</th>\n",
       "      <th>End Date</th>\n",
       "      <th>NumberOfNights</th>\n",
       "      <th>Booked On</th>\n",
       "      <th>Price_DOLLAR</th>\n",
       "      <th>Accommodation Type</th>\n",
       "      <th>Grade</th>\n",
       "      <th>Advertiser</th>\n",
       "      <th>NumberOfPeople</th>\n",
       "      <th>Accommodation</th>\n",
       "    </tr>\n",
       "  </thead>\n",
       "  <tbody>\n",
       "    <tr>\n",
       "      <th>0</th>\n",
       "      <td>HMTZSQP8RH</td>\n",
       "      <td>Confirmed</td>\n",
       "      <td>Shaylynn Jaimie</td>\n",
       "      <td>2</td>\n",
       "      <td>0</td>\n",
       "      <td>21.07.2020</td>\n",
       "      <td>22.07.2020</td>\n",
       "      <td>1</td>\n",
       "      <td>14.01.2020</td>\n",
       "      <td>41.65</td>\n",
       "      <td>B</td>\n",
       "      <td>9.0</td>\n",
       "      <td>Airbnb</td>\n",
       "      <td>2</td>\n",
       "      <td>Studio with Patio</td>\n",
       "    </tr>\n",
       "    <tr>\n",
       "      <th>1</th>\n",
       "      <td>HMA2W5RWEW</td>\n",
       "      <td>Confirmed</td>\n",
       "      <td>Aamir Khan</td>\n",
       "      <td>2</td>\n",
       "      <td>0</td>\n",
       "      <td>26.06.2020</td>\n",
       "      <td>27.06.2020</td>\n",
       "      <td>1</td>\n",
       "      <td>21.01.2020</td>\n",
       "      <td>31.95</td>\n",
       "      <td>B</td>\n",
       "      <td>0.0</td>\n",
       "      <td>Airbnb</td>\n",
       "      <td>2</td>\n",
       "      <td>Studio with Patio</td>\n",
       "    </tr>\n",
       "    <tr>\n",
       "      <th>2</th>\n",
       "      <td>HMNCPSDN85</td>\n",
       "      <td>Confirmed</td>\n",
       "      <td>Dora Barczy</td>\n",
       "      <td>2</td>\n",
       "      <td>0</td>\n",
       "      <td>22.06.2020</td>\n",
       "      <td>25.06.2020</td>\n",
       "      <td>3</td>\n",
       "      <td>29.01.2020</td>\n",
       "      <td>95.85</td>\n",
       "      <td>B</td>\n",
       "      <td>0.0</td>\n",
       "      <td>Airbnb</td>\n",
       "      <td>2</td>\n",
       "      <td>Studio with Patio</td>\n",
       "    </tr>\n",
       "    <tr>\n",
       "      <th>3</th>\n",
       "      <td>HMSX2XZYJP</td>\n",
       "      <td>Confirmed</td>\n",
       "      <td>Jack Surgey</td>\n",
       "      <td>2</td>\n",
       "      <td>0</td>\n",
       "      <td>11.08.2020</td>\n",
       "      <td>12.08.2020</td>\n",
       "      <td>1</td>\n",
       "      <td>31.01.2020</td>\n",
       "      <td>44.56</td>\n",
       "      <td>B</td>\n",
       "      <td>9.0</td>\n",
       "      <td>Airbnb</td>\n",
       "      <td>2</td>\n",
       "      <td>Studio with Patio</td>\n",
       "    </tr>\n",
       "    <tr>\n",
       "      <th>4</th>\n",
       "      <td>HM2W9FZH4D</td>\n",
       "      <td>Confirmed</td>\n",
       "      <td>Jeremi Simoes Gil</td>\n",
       "      <td>2</td>\n",
       "      <td>0</td>\n",
       "      <td>13.07.2020</td>\n",
       "      <td>17.07.2020</td>\n",
       "      <td>4</td>\n",
       "      <td>01.02.2020</td>\n",
       "      <td>166.60</td>\n",
       "      <td>B</td>\n",
       "      <td>8.0</td>\n",
       "      <td>Airbnb</td>\n",
       "      <td>2</td>\n",
       "      <td>Studio with Patio</td>\n",
       "    </tr>\n",
       "    <tr>\n",
       "      <th>5</th>\n",
       "      <td>HMDRCFT8FK</td>\n",
       "      <td>Confirmed</td>\n",
       "      <td>Lucas Haitsma</td>\n",
       "      <td>2</td>\n",
       "      <td>0</td>\n",
       "      <td>25.08.2020</td>\n",
       "      <td>26.08.2020</td>\n",
       "      <td>1</td>\n",
       "      <td>08.03.2020</td>\n",
       "      <td>41.65</td>\n",
       "      <td>B</td>\n",
       "      <td>0.0</td>\n",
       "      <td>Airbnb</td>\n",
       "      <td>2</td>\n",
       "      <td>Studio with Patio</td>\n",
       "    </tr>\n",
       "  </tbody>\n",
       "</table>\n",
       "</div>"
      ],
      "text/plain": [
       "  Book Number     Status         Guest Name  NumberOfAdults  NumberOfChildren  \\\n",
       "0  HMTZSQP8RH  Confirmed    Shaylynn Jaimie               2                 0   \n",
       "1  HMA2W5RWEW  Confirmed         Aamir Khan               2                 0   \n",
       "2  HMNCPSDN85  Confirmed        Dora Barczy               2                 0   \n",
       "3  HMSX2XZYJP  Confirmed        Jack Surgey               2                 0   \n",
       "4  HM2W9FZH4D  Confirmed  Jeremi Simoes Gil               2                 0   \n",
       "5  HMDRCFT8FK  Confirmed      Lucas Haitsma               2                 0   \n",
       "\n",
       "   Start Date    End Date  NumberOfNights   Booked On  Price_DOLLAR  \\\n",
       "0  21.07.2020  22.07.2020               1  14.01.2020         41.65   \n",
       "1  26.06.2020  27.06.2020               1  21.01.2020         31.95   \n",
       "2  22.06.2020  25.06.2020               3  29.01.2020         95.85   \n",
       "3  11.08.2020  12.08.2020               1  31.01.2020         44.56   \n",
       "4  13.07.2020  17.07.2020               4  01.02.2020        166.60   \n",
       "5  25.08.2020  26.08.2020               1  08.03.2020         41.65   \n",
       "\n",
       "  Accommodation Type  Grade Advertiser  NumberOfPeople      Accommodation  \n",
       "0                  B    9.0     Airbnb               2  Studio with Patio  \n",
       "1                  B    0.0     Airbnb               2  Studio with Patio  \n",
       "2                  B    0.0     Airbnb               2  Studio with Patio  \n",
       "3                  B    9.0     Airbnb               2  Studio with Patio  \n",
       "4                  B    8.0     Airbnb               2  Studio with Patio  \n",
       "5                  B    0.0     Airbnb               2  Studio with Patio  "
      ]
     },
     "execution_count": 41,
     "metadata": {},
     "output_type": "execute_result"
    }
   ],
   "source": [
    "dataAirbnb2020"
   ]
  },
  {
   "cell_type": "code",
   "execution_count": 42,
   "id": "0b2bfe5a",
   "metadata": {},
   "outputs": [
    {
     "data": {
      "text/plain": [
       "array([1, 3, 4], dtype=int64)"
      ]
     },
     "execution_count": 42,
     "metadata": {},
     "output_type": "execute_result"
    }
   ],
   "source": [
    "dataAirbnb2020['NumberOfNights'].unique()"
   ]
  },
  {
   "cell_type": "code",
   "execution_count": 43,
   "id": "6e76a9b0",
   "metadata": {},
   "outputs": [
    {
     "name": "stdout",
     "output_type": "stream",
     "text": [
      "Columns not common: set()\n"
     ]
    }
   ],
   "source": [
    "not_common_columns = set(dataAirbnb2019.columns).symmetric_difference(set(dataAirbnb2020.columns))\n",
    "\n",
    "print(\"Columns not common:\", not_common_columns)"
   ]
  },
  {
   "cell_type": "markdown",
   "id": "9acf0926",
   "metadata": {},
   "source": [
    "# 2021"
   ]
  },
  {
   "cell_type": "code",
   "execution_count": 44,
   "id": "83e514d8",
   "metadata": {},
   "outputs": [],
   "source": [
    "dataAirbnb2021 = pd.read_excel('D://Master/SSP/Projekat/data/raw/2021/Airbnb_2021.xlsx')"
   ]
  },
  {
   "cell_type": "code",
   "execution_count": 45,
   "id": "ca619990",
   "metadata": {},
   "outputs": [],
   "source": [
    "data2Airbnb2019 = pd.read_excel('D://Master/SSP/Projekat/data/raw/2019/Airbnb_2019.xlsx')"
   ]
  },
  {
   "cell_type": "code",
   "execution_count": 46,
   "id": "e9895ab8",
   "metadata": {},
   "outputs": [
    {
     "name": "stdout",
     "output_type": "stream",
     "text": [
      "Columns not common: set()\n"
     ]
    }
   ],
   "source": [
    "not_common_columns = set(data2Airbnb2019.columns).symmetric_difference(set(dataAirbnb2021.columns))\n",
    "\n",
    "print(\"Columns not common:\", not_common_columns)"
   ]
  },
  {
   "cell_type": "code",
   "execution_count": 47,
   "id": "e7a83d33",
   "metadata": {},
   "outputs": [
    {
     "data": {
      "text/html": [
       "<div>\n",
       "<style scoped>\n",
       "    .dataframe tbody tr th:only-of-type {\n",
       "        vertical-align: middle;\n",
       "    }\n",
       "\n",
       "    .dataframe tbody tr th {\n",
       "        vertical-align: top;\n",
       "    }\n",
       "\n",
       "    .dataframe thead th {\n",
       "        text-align: right;\n",
       "    }\n",
       "</style>\n",
       "<table border=\"1\" class=\"dataframe\">\n",
       "  <thead>\n",
       "    <tr style=\"text-align: right;\">\n",
       "      <th></th>\n",
       "      <th>Confirmation code</th>\n",
       "      <th>Status</th>\n",
       "      <th>Guest name</th>\n",
       "      <th># of adults</th>\n",
       "      <th># of children</th>\n",
       "      <th># of infants</th>\n",
       "      <th>Start date</th>\n",
       "      <th>End date</th>\n",
       "      <th># of nights</th>\n",
       "      <th>Booked</th>\n",
       "      <th>Listing</th>\n",
       "      <th>Earnings</th>\n",
       "      <th>Listing name</th>\n",
       "      <th>Grade</th>\n",
       "    </tr>\n",
       "  </thead>\n",
       "  <tbody>\n",
       "    <tr>\n",
       "      <th>0</th>\n",
       "      <td>HMZ2M9EKKE</td>\n",
       "      <td>Arriving in 49 days</td>\n",
       "      <td>Pam Hayward</td>\n",
       "      <td>2</td>\n",
       "      <td>0</td>\n",
       "      <td>0</td>\n",
       "      <td>2021-07-08</td>\n",
       "      <td>2021-07-11</td>\n",
       "      <td>3</td>\n",
       "      <td>2020-10-28</td>\n",
       "      <td>Beautiful studio with patio 5 min. to old town</td>\n",
       "      <td>â‚¬94.09</td>\n",
       "      <td>B</td>\n",
       "      <td>NaN</td>\n",
       "    </tr>\n",
       "    <tr>\n",
       "      <th>1</th>\n",
       "      <td>HMCS5YZ32C</td>\n",
       "      <td>Arriving in 82 days</td>\n",
       "      <td>Marie Thomas</td>\n",
       "      <td>2</td>\n",
       "      <td>0</td>\n",
       "      <td>0</td>\n",
       "      <td>2021-08-10</td>\n",
       "      <td>2021-08-11</td>\n",
       "      <td>1</td>\n",
       "      <td>2021-05-14</td>\n",
       "      <td>Beautiful studio with patio 5 min. to old town</td>\n",
       "      <td>â‚¬38.80</td>\n",
       "      <td>B</td>\n",
       "      <td>8.0</td>\n",
       "    </tr>\n",
       "    <tr>\n",
       "      <th>2</th>\n",
       "      <td>HMHRYN3F33</td>\n",
       "      <td>Arriving in 13 days</td>\n",
       "      <td>Bernard Leocat</td>\n",
       "      <td>2</td>\n",
       "      <td>0</td>\n",
       "      <td>0</td>\n",
       "      <td>2021-06-02</td>\n",
       "      <td>2021-06-03</td>\n",
       "      <td>1</td>\n",
       "      <td>2021-05-18</td>\n",
       "      <td>Beautiful studio with patio 5 min. to old town</td>\n",
       "      <td>â‚¬27.96</td>\n",
       "      <td>B</td>\n",
       "      <td>NaN</td>\n",
       "    </tr>\n",
       "    <tr>\n",
       "      <th>3</th>\n",
       "      <td>HM92T28999</td>\n",
       "      <td>Confirmed</td>\n",
       "      <td>Андрій Щур</td>\n",
       "      <td>2</td>\n",
       "      <td>0</td>\n",
       "      <td>0</td>\n",
       "      <td>2021-07-07</td>\n",
       "      <td>2021-07-15</td>\n",
       "      <td>8</td>\n",
       "      <td>2021-06-08</td>\n",
       "      <td>Beautiful studio with patio 5 min. to old town</td>\n",
       "      <td>â‚¬263.84</td>\n",
       "      <td>B</td>\n",
       "      <td>NaN</td>\n",
       "    </tr>\n",
       "    <tr>\n",
       "      <th>4</th>\n",
       "      <td>HMTDN4C2P5</td>\n",
       "      <td>Arriving tomorrow</td>\n",
       "      <td>Maksym Podgayskyy</td>\n",
       "      <td>1</td>\n",
       "      <td>0</td>\n",
       "      <td>0</td>\n",
       "      <td>2021-06-27</td>\n",
       "      <td>2021-06-28</td>\n",
       "      <td>1</td>\n",
       "      <td>2021-06-17</td>\n",
       "      <td>Beautiful studio with patio 5 min. to old town</td>\n",
       "      <td>â‚¬28.13</td>\n",
       "      <td>B</td>\n",
       "      <td>7.0</td>\n",
       "    </tr>\n",
       "  </tbody>\n",
       "</table>\n",
       "</div>"
      ],
      "text/plain": [
       "  Confirmation code               Status         Guest name  # of adults  \\\n",
       "0        HMZ2M9EKKE  Arriving in 49 days        Pam Hayward            2   \n",
       "1        HMCS5YZ32C  Arriving in 82 days       Marie Thomas            2   \n",
       "2        HMHRYN3F33  Arriving in 13 days     Bernard Leocat            2   \n",
       "3        HM92T28999            Confirmed         Андрій Щур            2   \n",
       "4        HMTDN4C2P5    Arriving tomorrow  Maksym Podgayskyy            1   \n",
       "\n",
       "   # of children  # of infants Start date   End date  # of nights     Booked  \\\n",
       "0              0             0 2021-07-08 2021-07-11            3 2020-10-28   \n",
       "1              0             0 2021-08-10 2021-08-11            1 2021-05-14   \n",
       "2              0             0 2021-06-02 2021-06-03            1 2021-05-18   \n",
       "3              0             0 2021-07-07 2021-07-15            8 2021-06-08   \n",
       "4              0             0 2021-06-27 2021-06-28            1 2021-06-17   \n",
       "\n",
       "                                          Listing   Earnings Listing name  \\\n",
       "0  Beautiful studio with patio 5 min. to old town   â‚¬94.09            B   \n",
       "1  Beautiful studio with patio 5 min. to old town   â‚¬38.80            B   \n",
       "2  Beautiful studio with patio 5 min. to old town   â‚¬27.96            B   \n",
       "3  Beautiful studio with patio 5 min. to old town  â‚¬263.84            B   \n",
       "4  Beautiful studio with patio 5 min. to old town   â‚¬28.13            B   \n",
       "\n",
       "   Grade  \n",
       "0    NaN  \n",
       "1    8.0  \n",
       "2    NaN  \n",
       "3    NaN  \n",
       "4    7.0  "
      ]
     },
     "execution_count": 47,
     "metadata": {},
     "output_type": "execute_result"
    }
   ],
   "source": [
    "dataAirbnb2021.head()"
   ]
  },
  {
   "cell_type": "code",
   "execution_count": 48,
   "id": "7e4e4075",
   "metadata": {},
   "outputs": [],
   "source": [
    "dataAirbnb2021 = processing(dataAirbnb2021)"
   ]
  },
  {
   "cell_type": "code",
   "execution_count": 49,
   "id": "a38d2488",
   "metadata": {},
   "outputs": [
    {
     "data": {
      "text/html": [
       "<div>\n",
       "<style scoped>\n",
       "    .dataframe tbody tr th:only-of-type {\n",
       "        vertical-align: middle;\n",
       "    }\n",
       "\n",
       "    .dataframe tbody tr th {\n",
       "        vertical-align: top;\n",
       "    }\n",
       "\n",
       "    .dataframe thead th {\n",
       "        text-align: right;\n",
       "    }\n",
       "</style>\n",
       "<table border=\"1\" class=\"dataframe\">\n",
       "  <thead>\n",
       "    <tr style=\"text-align: right;\">\n",
       "      <th></th>\n",
       "      <th>Book Number</th>\n",
       "      <th>Status</th>\n",
       "      <th>Guest Name</th>\n",
       "      <th>NumberOfAdults</th>\n",
       "      <th>NumberOfChildren</th>\n",
       "      <th>Start Date</th>\n",
       "      <th>End Date</th>\n",
       "      <th>NumberOfNights</th>\n",
       "      <th>Booked On</th>\n",
       "      <th>Price_DOLLAR</th>\n",
       "      <th>Accommodation Type</th>\n",
       "      <th>Grade</th>\n",
       "      <th>Advertiser</th>\n",
       "      <th>NumberOfPeople</th>\n",
       "      <th>Accommodation</th>\n",
       "    </tr>\n",
       "  </thead>\n",
       "  <tbody>\n",
       "    <tr>\n",
       "      <th>0</th>\n",
       "      <td>HMZ2M9EKKE</td>\n",
       "      <td>Arriving in 49 days</td>\n",
       "      <td>Pam Hayward</td>\n",
       "      <td>2</td>\n",
       "      <td>0</td>\n",
       "      <td>08.07.2021</td>\n",
       "      <td>11.07.2021</td>\n",
       "      <td>3</td>\n",
       "      <td>28.10.2020</td>\n",
       "      <td>88.09</td>\n",
       "      <td>B</td>\n",
       "      <td>0.0</td>\n",
       "      <td>Airbnb</td>\n",
       "      <td>2</td>\n",
       "      <td>Studio with Patio</td>\n",
       "    </tr>\n",
       "    <tr>\n",
       "      <th>1</th>\n",
       "      <td>HMCS5YZ32C</td>\n",
       "      <td>Arriving in 82 days</td>\n",
       "      <td>Marie Thomas</td>\n",
       "      <td>2</td>\n",
       "      <td>0</td>\n",
       "      <td>10.08.2021</td>\n",
       "      <td>11.08.2021</td>\n",
       "      <td>1</td>\n",
       "      <td>14.05.2021</td>\n",
       "      <td>36.80</td>\n",
       "      <td>B</td>\n",
       "      <td>8.0</td>\n",
       "      <td>Airbnb</td>\n",
       "      <td>2</td>\n",
       "      <td>Studio with Patio</td>\n",
       "    </tr>\n",
       "    <tr>\n",
       "      <th>2</th>\n",
       "      <td>HMHRYN3F33</td>\n",
       "      <td>Arriving in 13 days</td>\n",
       "      <td>Bernard Leocat</td>\n",
       "      <td>2</td>\n",
       "      <td>0</td>\n",
       "      <td>02.06.2021</td>\n",
       "      <td>03.06.2021</td>\n",
       "      <td>1</td>\n",
       "      <td>18.05.2021</td>\n",
       "      <td>25.96</td>\n",
       "      <td>B</td>\n",
       "      <td>0.0</td>\n",
       "      <td>Airbnb</td>\n",
       "      <td>2</td>\n",
       "      <td>Studio with Patio</td>\n",
       "    </tr>\n",
       "    <tr>\n",
       "      <th>3</th>\n",
       "      <td>HM92T28999</td>\n",
       "      <td>Confirmed</td>\n",
       "      <td>Андрій Щур</td>\n",
       "      <td>2</td>\n",
       "      <td>0</td>\n",
       "      <td>07.07.2021</td>\n",
       "      <td>15.07.2021</td>\n",
       "      <td>8</td>\n",
       "      <td>08.06.2021</td>\n",
       "      <td>247.84</td>\n",
       "      <td>B</td>\n",
       "      <td>0.0</td>\n",
       "      <td>Airbnb</td>\n",
       "      <td>2</td>\n",
       "      <td>Studio with Patio</td>\n",
       "    </tr>\n",
       "    <tr>\n",
       "      <th>4</th>\n",
       "      <td>HMTDN4C2P5</td>\n",
       "      <td>Arriving tomorrow</td>\n",
       "      <td>Maksym Podgayskyy</td>\n",
       "      <td>1</td>\n",
       "      <td>0</td>\n",
       "      <td>27.06.2021</td>\n",
       "      <td>28.06.2021</td>\n",
       "      <td>1</td>\n",
       "      <td>17.06.2021</td>\n",
       "      <td>27.13</td>\n",
       "      <td>B</td>\n",
       "      <td>7.0</td>\n",
       "      <td>Airbnb</td>\n",
       "      <td>1</td>\n",
       "      <td>Studio with Patio</td>\n",
       "    </tr>\n",
       "  </tbody>\n",
       "</table>\n",
       "</div>"
      ],
      "text/plain": [
       "  Book Number               Status         Guest Name  NumberOfAdults  \\\n",
       "0  HMZ2M9EKKE  Arriving in 49 days        Pam Hayward               2   \n",
       "1  HMCS5YZ32C  Arriving in 82 days       Marie Thomas               2   \n",
       "2  HMHRYN3F33  Arriving in 13 days     Bernard Leocat               2   \n",
       "3  HM92T28999            Confirmed         Андрій Щур               2   \n",
       "4  HMTDN4C2P5    Arriving tomorrow  Maksym Podgayskyy               1   \n",
       "\n",
       "   NumberOfChildren  Start Date    End Date  NumberOfNights   Booked On  \\\n",
       "0                 0  08.07.2021  11.07.2021               3  28.10.2020   \n",
       "1                 0  10.08.2021  11.08.2021               1  14.05.2021   \n",
       "2                 0  02.06.2021  03.06.2021               1  18.05.2021   \n",
       "3                 0  07.07.2021  15.07.2021               8  08.06.2021   \n",
       "4                 0  27.06.2021  28.06.2021               1  17.06.2021   \n",
       "\n",
       "   Price_DOLLAR Accommodation Type  Grade Advertiser  NumberOfPeople  \\\n",
       "0         88.09                  B    0.0     Airbnb               2   \n",
       "1         36.80                  B    8.0     Airbnb               2   \n",
       "2         25.96                  B    0.0     Airbnb               2   \n",
       "3        247.84                  B    0.0     Airbnb               2   \n",
       "4         27.13                  B    7.0     Airbnb               1   \n",
       "\n",
       "       Accommodation  \n",
       "0  Studio with Patio  \n",
       "1  Studio with Patio  \n",
       "2  Studio with Patio  \n",
       "3  Studio with Patio  \n",
       "4  Studio with Patio  "
      ]
     },
     "execution_count": 49,
     "metadata": {},
     "output_type": "execute_result"
    }
   ],
   "source": [
    "dataAirbnb2021.head()"
   ]
  },
  {
   "cell_type": "code",
   "execution_count": 50,
   "id": "a2b816b4",
   "metadata": {},
   "outputs": [
    {
     "data": {
      "text/plain": [
       "array(['Arriving in 49 days', 'Arriving in 82 days',\n",
       "       'Arriving in 13 days', 'Confirmed', 'Arriving tomorrow'],\n",
       "      dtype=object)"
      ]
     },
     "execution_count": 50,
     "metadata": {},
     "output_type": "execute_result"
    }
   ],
   "source": [
    "dataAirbnb2021['Status'].unique()"
   ]
  },
  {
   "cell_type": "code",
   "execution_count": 51,
   "id": "36c3b254",
   "metadata": {},
   "outputs": [],
   "source": [
    "dataAirbnb2021['Status'] = dataAirbnb2021['Status'].replace({'Arriving in 49 days': 'Arriving', \n",
    "                                                             'Arriving in 82 days' : 'Arriving',\n",
    "                                                             'Arriving tomorrow' : 'Arriving',\n",
    "                                                             'Arriving in 13 days' : 'Arriving'})"
   ]
  },
  {
   "cell_type": "code",
   "execution_count": 52,
   "id": "a82b8a98",
   "metadata": {},
   "outputs": [
    {
     "data": {
      "text/plain": [
       "array(['Arriving', 'Confirmed'], dtype=object)"
      ]
     },
     "execution_count": 52,
     "metadata": {},
     "output_type": "execute_result"
    }
   ],
   "source": [
    "dataAirbnb2021['Status'].unique()"
   ]
  },
  {
   "cell_type": "code",
   "execution_count": 53,
   "id": "5d0232d7",
   "metadata": {},
   "outputs": [
    {
     "data": {
      "text/plain": [
       "array([2, 1], dtype=int64)"
      ]
     },
     "execution_count": 53,
     "metadata": {},
     "output_type": "execute_result"
    }
   ],
   "source": [
    "dataAirbnb2021['NumberOfPeople'].unique()"
   ]
  },
  {
   "cell_type": "code",
   "execution_count": 54,
   "id": "32806648",
   "metadata": {},
   "outputs": [
    {
     "name": "stdout",
     "output_type": "stream",
     "text": [
      "Columns not common: set()\n"
     ]
    }
   ],
   "source": [
    "not_common_columns = set(dataAirbnb2019.columns).symmetric_difference(set(dataAirbnb2020.columns))\n",
    "\n",
    "print(\"Columns not common:\", not_common_columns)"
   ]
  },
  {
   "cell_type": "markdown",
   "id": "a6a39651",
   "metadata": {},
   "source": [
    "# 2022"
   ]
  },
  {
   "cell_type": "code",
   "execution_count": 55,
   "id": "9124fc2e",
   "metadata": {},
   "outputs": [],
   "source": [
    "dataAirbnb2022 = pd.read_excel('D://Master/SSP/Projekat/data/raw/2022/Airbnb_2022.xlsx')"
   ]
  },
  {
   "cell_type": "code",
   "execution_count": 56,
   "id": "93460722",
   "metadata": {},
   "outputs": [],
   "source": [
    "data2Airbnb2019 = pd.read_excel('D://Master/SSP/Projekat/data/raw/2019/Airbnb_2019.xlsx')"
   ]
  },
  {
   "cell_type": "code",
   "execution_count": 57,
   "id": "aca8e2e3",
   "metadata": {},
   "outputs": [
    {
     "name": "stdout",
     "output_type": "stream",
     "text": [
      "Columns not common: {'Contact'}\n"
     ]
    }
   ],
   "source": [
    "not_common_columns = set(data2Airbnb2019.columns).symmetric_difference(set(dataAirbnb2022.columns))\n",
    "\n",
    "print(\"Columns not common:\", not_common_columns)"
   ]
  },
  {
   "cell_type": "code",
   "execution_count": 58,
   "id": "19441109",
   "metadata": {},
   "outputs": [
    {
     "data": {
      "text/plain": [
       "array(['Beautiful studio with patio 5 min. to old town',\n",
       "       'Apartment with balcony and sea view',\n",
       "       'Studio with partial sea view 5 min to old town',\n",
       "       'Apartment with patio and sea view'], dtype=object)"
      ]
     },
     "execution_count": 58,
     "metadata": {},
     "output_type": "execute_result"
    }
   ],
   "source": [
    "dataAirbnb2022['Listing'].unique()"
   ]
  },
  {
   "cell_type": "code",
   "execution_count": 59,
   "id": "b877e284",
   "metadata": {},
   "outputs": [],
   "source": [
    "dataAirbnb2022 = processing(dataAirbnb2022)"
   ]
  },
  {
   "cell_type": "code",
   "execution_count": 60,
   "id": "6104ae40",
   "metadata": {},
   "outputs": [
    {
     "data": {
      "text/html": [
       "<div>\n",
       "<style scoped>\n",
       "    .dataframe tbody tr th:only-of-type {\n",
       "        vertical-align: middle;\n",
       "    }\n",
       "\n",
       "    .dataframe tbody tr th {\n",
       "        vertical-align: top;\n",
       "    }\n",
       "\n",
       "    .dataframe thead th {\n",
       "        text-align: right;\n",
       "    }\n",
       "</style>\n",
       "<table border=\"1\" class=\"dataframe\">\n",
       "  <thead>\n",
       "    <tr style=\"text-align: right;\">\n",
       "      <th></th>\n",
       "      <th>Book Number</th>\n",
       "      <th>Status</th>\n",
       "      <th>Guest Name</th>\n",
       "      <th>Contact</th>\n",
       "      <th>NumberOfAdults</th>\n",
       "      <th>NumberOfChildren</th>\n",
       "      <th>Start Date</th>\n",
       "      <th>End Date</th>\n",
       "      <th>NumberOfNights</th>\n",
       "      <th>Booked On</th>\n",
       "      <th>Price_DOLLAR</th>\n",
       "      <th>Accommodation Type</th>\n",
       "      <th>Grade</th>\n",
       "      <th>Advertiser</th>\n",
       "      <th>NumberOfPeople</th>\n",
       "      <th>Accommodation</th>\n",
       "    </tr>\n",
       "  </thead>\n",
       "  <tbody>\n",
       "    <tr>\n",
       "      <th>0</th>\n",
       "      <td>HM8B28DTWD</td>\n",
       "      <td>Confirmed</td>\n",
       "      <td>Pam Hayward</td>\n",
       "      <td>+27 83 226 9181</td>\n",
       "      <td>2</td>\n",
       "      <td>0</td>\n",
       "      <td>27.06.2022</td>\n",
       "      <td>29.06.2022</td>\n",
       "      <td>2</td>\n",
       "      <td>28.10.2020</td>\n",
       "      <td>357.50</td>\n",
       "      <td>B</td>\n",
       "      <td>0.0</td>\n",
       "      <td>Airbnb</td>\n",
       "      <td>2</td>\n",
       "      <td>Studio with Patio</td>\n",
       "    </tr>\n",
       "    <tr>\n",
       "      <th>1</th>\n",
       "      <td>HMFPRXB5Y5</td>\n",
       "      <td>Confirmed</td>\n",
       "      <td>Jacques Rall</td>\n",
       "      <td>+49 170 5236337</td>\n",
       "      <td>2</td>\n",
       "      <td>0</td>\n",
       "      <td>13.06.2022</td>\n",
       "      <td>15.06.2022</td>\n",
       "      <td>2</td>\n",
       "      <td>09.04.2022</td>\n",
       "      <td>219.65</td>\n",
       "      <td>A</td>\n",
       "      <td>0.0</td>\n",
       "      <td>Airbnb</td>\n",
       "      <td>2</td>\n",
       "      <td>One-Bedroom Apartment with Balcony and Sea View</td>\n",
       "    </tr>\n",
       "    <tr>\n",
       "      <th>2</th>\n",
       "      <td>HMBPTJDCHT</td>\n",
       "      <td>Confirmed</td>\n",
       "      <td>Wander Engbers</td>\n",
       "      <td>+31 31625642536</td>\n",
       "      <td>2</td>\n",
       "      <td>0</td>\n",
       "      <td>24.07.2022</td>\n",
       "      <td>26.07.2022</td>\n",
       "      <td>2</td>\n",
       "      <td>10.04.2022</td>\n",
       "      <td>82.76</td>\n",
       "      <td>C</td>\n",
       "      <td>9.0</td>\n",
       "      <td>Airbnb</td>\n",
       "      <td>2</td>\n",
       "      <td>Studio with Patio and Sea View</td>\n",
       "    </tr>\n",
       "    <tr>\n",
       "      <th>3</th>\n",
       "      <td>HMRE38CFN8</td>\n",
       "      <td>Confirmed</td>\n",
       "      <td>Christophe Loyer</td>\n",
       "      <td>+33 6 43 39 11 81</td>\n",
       "      <td>2</td>\n",
       "      <td>0</td>\n",
       "      <td>21.06.2022</td>\n",
       "      <td>25.06.2022</td>\n",
       "      <td>4</td>\n",
       "      <td>13.04.2022</td>\n",
       "      <td>78.76</td>\n",
       "      <td>D</td>\n",
       "      <td>0.0</td>\n",
       "      <td>Airbnb</td>\n",
       "      <td>2</td>\n",
       "      <td>One-Bedroom Apartment with Patio and Sea View</td>\n",
       "    </tr>\n",
       "    <tr>\n",
       "      <th>4</th>\n",
       "      <td>HMEWN8KJWY</td>\n",
       "      <td>Confirmed</td>\n",
       "      <td>Rishabh Gupta</td>\n",
       "      <td>+91 99563 58674</td>\n",
       "      <td>2</td>\n",
       "      <td>0</td>\n",
       "      <td>06.06.2022</td>\n",
       "      <td>08.06.2022</td>\n",
       "      <td>2</td>\n",
       "      <td>14.04.2022</td>\n",
       "      <td>208.08</td>\n",
       "      <td>C</td>\n",
       "      <td>0.0</td>\n",
       "      <td>Airbnb</td>\n",
       "      <td>2</td>\n",
       "      <td>Studio with Patio and Sea View</td>\n",
       "    </tr>\n",
       "    <tr>\n",
       "      <th>...</th>\n",
       "      <td>...</td>\n",
       "      <td>...</td>\n",
       "      <td>...</td>\n",
       "      <td>...</td>\n",
       "      <td>...</td>\n",
       "      <td>...</td>\n",
       "      <td>...</td>\n",
       "      <td>...</td>\n",
       "      <td>...</td>\n",
       "      <td>...</td>\n",
       "      <td>...</td>\n",
       "      <td>...</td>\n",
       "      <td>...</td>\n",
       "      <td>...</td>\n",
       "      <td>...</td>\n",
       "      <td>...</td>\n",
       "    </tr>\n",
       "    <tr>\n",
       "      <th>74</th>\n",
       "      <td>HMR8DBBH2J</td>\n",
       "      <td>Confirmed</td>\n",
       "      <td>Sebastian Kolesnik</td>\n",
       "      <td>+44 7902 892430</td>\n",
       "      <td>1</td>\n",
       "      <td>0</td>\n",
       "      <td>01.10.2022</td>\n",
       "      <td>04.10.2022</td>\n",
       "      <td>3</td>\n",
       "      <td>11.09.2022</td>\n",
       "      <td>98.85</td>\n",
       "      <td>C</td>\n",
       "      <td>0.0</td>\n",
       "      <td>Airbnb</td>\n",
       "      <td>1</td>\n",
       "      <td>Studio with Patio and Sea View</td>\n",
       "    </tr>\n",
       "    <tr>\n",
       "      <th>75</th>\n",
       "      <td>HMX9KZXWWS</td>\n",
       "      <td>Confirmed</td>\n",
       "      <td>Sawan Shah</td>\n",
       "      <td>+44 7391 733964</td>\n",
       "      <td>2</td>\n",
       "      <td>0</td>\n",
       "      <td>07.10.2022</td>\n",
       "      <td>10.10.2022</td>\n",
       "      <td>3</td>\n",
       "      <td>12.09.2022</td>\n",
       "      <td>95.85</td>\n",
       "      <td>C</td>\n",
       "      <td>0.0</td>\n",
       "      <td>Airbnb</td>\n",
       "      <td>2</td>\n",
       "      <td>Studio with Patio and Sea View</td>\n",
       "    </tr>\n",
       "    <tr>\n",
       "      <th>76</th>\n",
       "      <td>HMA2S8MTHY</td>\n",
       "      <td>Confirmed</td>\n",
       "      <td>Tomer Patito</td>\n",
       "      <td>+972 58-444-7959</td>\n",
       "      <td>2</td>\n",
       "      <td>0</td>\n",
       "      <td>03.10.2022</td>\n",
       "      <td>05.10.2022</td>\n",
       "      <td>2</td>\n",
       "      <td>19.09.2022</td>\n",
       "      <td>81.36</td>\n",
       "      <td>A</td>\n",
       "      <td>8.0</td>\n",
       "      <td>Airbnb</td>\n",
       "      <td>2</td>\n",
       "      <td>One-Bedroom Apartment with Balcony and Sea View</td>\n",
       "    </tr>\n",
       "    <tr>\n",
       "      <th>77</th>\n",
       "      <td>HM8FMXPPJJ</td>\n",
       "      <td>Confirmed</td>\n",
       "      <td>Arev Demirci</td>\n",
       "      <td>+90 530 432 89 94</td>\n",
       "      <td>2</td>\n",
       "      <td>0</td>\n",
       "      <td>25.09.2022</td>\n",
       "      <td>27.09.2022</td>\n",
       "      <td>2</td>\n",
       "      <td>20.09.2022</td>\n",
       "      <td>91.06</td>\n",
       "      <td>D</td>\n",
       "      <td>0.0</td>\n",
       "      <td>Airbnb</td>\n",
       "      <td>2</td>\n",
       "      <td>One-Bedroom Apartment with Patio and Sea View</td>\n",
       "    </tr>\n",
       "    <tr>\n",
       "      <th>78</th>\n",
       "      <td>HMY5K2PWY8</td>\n",
       "      <td>Confirmed</td>\n",
       "      <td>Norbert Å»Yszkiewicz</td>\n",
       "      <td>+48 883 601 717</td>\n",
       "      <td>2</td>\n",
       "      <td>0</td>\n",
       "      <td>27.09.2022</td>\n",
       "      <td>29.09.2022</td>\n",
       "      <td>2</td>\n",
       "      <td>22.09.2022</td>\n",
       "      <td>91.06</td>\n",
       "      <td>D</td>\n",
       "      <td>0.0</td>\n",
       "      <td>Airbnb</td>\n",
       "      <td>2</td>\n",
       "      <td>One-Bedroom Apartment with Patio and Sea View</td>\n",
       "    </tr>\n",
       "  </tbody>\n",
       "</table>\n",
       "<p>79 rows × 16 columns</p>\n",
       "</div>"
      ],
      "text/plain": [
       "   Book Number     Status            Guest Name            Contact  \\\n",
       "0   HM8B28DTWD  Confirmed           Pam Hayward    +27 83 226 9181   \n",
       "1   HMFPRXB5Y5  Confirmed          Jacques Rall    +49 170 5236337   \n",
       "2   HMBPTJDCHT  Confirmed        Wander Engbers    +31 31625642536   \n",
       "3   HMRE38CFN8  Confirmed      Christophe Loyer  +33 6 43 39 11 81   \n",
       "4   HMEWN8KJWY  Confirmed         Rishabh Gupta    +91 99563 58674   \n",
       "..         ...        ...                   ...                ...   \n",
       "74  HMR8DBBH2J  Confirmed    Sebastian Kolesnik    +44 7902 892430   \n",
       "75  HMX9KZXWWS  Confirmed            Sawan Shah    +44 7391 733964   \n",
       "76  HMA2S8MTHY  Confirmed          Tomer Patito   +972 58-444-7959   \n",
       "77  HM8FMXPPJJ  Confirmed          Arev Demirci  +90 530 432 89 94   \n",
       "78  HMY5K2PWY8  Confirmed  Norbert Å»Yszkiewicz    +48 883 601 717   \n",
       "\n",
       "    NumberOfAdults  NumberOfChildren  Start Date    End Date  NumberOfNights  \\\n",
       "0                2                 0  27.06.2022  29.06.2022               2   \n",
       "1                2                 0  13.06.2022  15.06.2022               2   \n",
       "2                2                 0  24.07.2022  26.07.2022               2   \n",
       "3                2                 0  21.06.2022  25.06.2022               4   \n",
       "4                2                 0  06.06.2022  08.06.2022               2   \n",
       "..             ...               ...         ...         ...             ...   \n",
       "74               1                 0  01.10.2022  04.10.2022               3   \n",
       "75               2                 0  07.10.2022  10.10.2022               3   \n",
       "76               2                 0  03.10.2022  05.10.2022               2   \n",
       "77               2                 0  25.09.2022  27.09.2022               2   \n",
       "78               2                 0  27.09.2022  29.09.2022               2   \n",
       "\n",
       "     Booked On  Price_DOLLAR Accommodation Type  Grade Advertiser  \\\n",
       "0   28.10.2020        357.50                  B    0.0     Airbnb   \n",
       "1   09.04.2022        219.65                  A    0.0     Airbnb   \n",
       "2   10.04.2022         82.76                  C    9.0     Airbnb   \n",
       "3   13.04.2022         78.76                  D    0.0     Airbnb   \n",
       "4   14.04.2022        208.08                  C    0.0     Airbnb   \n",
       "..         ...           ...                ...    ...        ...   \n",
       "74  11.09.2022         98.85                  C    0.0     Airbnb   \n",
       "75  12.09.2022         95.85                  C    0.0     Airbnb   \n",
       "76  19.09.2022         81.36                  A    8.0     Airbnb   \n",
       "77  20.09.2022         91.06                  D    0.0     Airbnb   \n",
       "78  22.09.2022         91.06                  D    0.0     Airbnb   \n",
       "\n",
       "    NumberOfPeople                                    Accommodation  \n",
       "0                2                                Studio with Patio  \n",
       "1                2  One-Bedroom Apartment with Balcony and Sea View  \n",
       "2                2                   Studio with Patio and Sea View  \n",
       "3                2    One-Bedroom Apartment with Patio and Sea View  \n",
       "4                2                   Studio with Patio and Sea View  \n",
       "..             ...                                              ...  \n",
       "74               1                   Studio with Patio and Sea View  \n",
       "75               2                   Studio with Patio and Sea View  \n",
       "76               2  One-Bedroom Apartment with Balcony and Sea View  \n",
       "77               2    One-Bedroom Apartment with Patio and Sea View  \n",
       "78               2    One-Bedroom Apartment with Patio and Sea View  \n",
       "\n",
       "[79 rows x 16 columns]"
      ]
     },
     "execution_count": 60,
     "metadata": {},
     "output_type": "execute_result"
    }
   ],
   "source": [
    "dataAirbnb2022"
   ]
  },
  {
   "cell_type": "code",
   "execution_count": 61,
   "id": "83c1068c",
   "metadata": {},
   "outputs": [
    {
     "data": {
      "text/plain": [
       "array(['Studio with Patio',\n",
       "       'One-Bedroom Apartment with Balcony and Sea View',\n",
       "       'Studio with Patio and Sea View',\n",
       "       'One-Bedroom Apartment with Patio and Sea View'], dtype=object)"
      ]
     },
     "execution_count": 61,
     "metadata": {},
     "output_type": "execute_result"
    }
   ],
   "source": [
    "dataAirbnb2022['Accommodation'].unique()"
   ]
  },
  {
   "cell_type": "code",
   "execution_count": 62,
   "id": "43e895d4",
   "metadata": {},
   "outputs": [
    {
     "name": "stdout",
     "output_type": "stream",
     "text": [
      "Columns not common: {'Contact'}\n"
     ]
    }
   ],
   "source": [
    "not_common_columns = set(dataAirbnb2019.columns).symmetric_difference(set(dataAirbnb2022.columns))\n",
    "\n",
    "print(\"Columns not common:\", not_common_columns)"
   ]
  },
  {
   "cell_type": "markdown",
   "id": "e71fc15d",
   "metadata": {},
   "source": [
    "# 2023"
   ]
  },
  {
   "cell_type": "code",
   "execution_count": 63,
   "id": "66513194",
   "metadata": {},
   "outputs": [],
   "source": [
    "dataAirbnb2023_1 = pd.read_csv('D://Master/SSP/Projekat/data/raw/2023/2023_air_bnb_cancelled.csv')\n",
    "dataAirbnb2023_2 = pd.read_csv('D://Master/SSP/Projekat/data/raw/2023/2023_air_bnb_completed.csv')\n",
    "dataAirbnb2023_3 = pd.read_csv('D://Master/SSP/Projekat/data/raw/2023/2023_air_bnb_upcoming.csv')"
   ]
  },
  {
   "cell_type": "code",
   "execution_count": 64,
   "id": "161764b4",
   "metadata": {},
   "outputs": [
    {
     "data": {
      "text/plain": [
       "(9, 13)"
      ]
     },
     "execution_count": 64,
     "metadata": {},
     "output_type": "execute_result"
    }
   ],
   "source": [
    "dataAirbnb2023_1.shape"
   ]
  },
  {
   "cell_type": "code",
   "execution_count": 65,
   "id": "fb8b49f6",
   "metadata": {},
   "outputs": [
    {
     "data": {
      "text/plain": [
       "(40, 14)"
      ]
     },
     "execution_count": 65,
     "metadata": {},
     "output_type": "execute_result"
    }
   ],
   "source": [
    "dataAirbnb2023_2.shape"
   ]
  },
  {
   "cell_type": "code",
   "execution_count": 66,
   "id": "53e145c8",
   "metadata": {},
   "outputs": [
    {
     "data": {
      "text/plain": [
       "(14, 13)"
      ]
     },
     "execution_count": 66,
     "metadata": {},
     "output_type": "execute_result"
    }
   ],
   "source": [
    "dataAirbnb2023_3.shape"
   ]
  },
  {
   "cell_type": "code",
   "execution_count": 67,
   "id": "eea85cbe",
   "metadata": {},
   "outputs": [
    {
     "name": "stdout",
     "output_type": "stream",
     "text": [
      "Columns not common: {'Grade'}\n"
     ]
    }
   ],
   "source": [
    "not_common_columns = set(dataAirbnb2023_1.columns).symmetric_difference(set(dataAirbnb2023_2.columns))\n",
    "\n",
    "print(\"Columns not common:\", not_common_columns)"
   ]
  },
  {
   "cell_type": "code",
   "execution_count": 68,
   "id": "a54124d3",
   "metadata": {},
   "outputs": [
    {
     "name": "stdout",
     "output_type": "stream",
     "text": [
      "Columns not common: set()\n"
     ]
    }
   ],
   "source": [
    "not_common_columns = set(dataAirbnb2023_1.columns).symmetric_difference(set(dataAirbnb2023_3.columns))\n",
    "\n",
    "print(\"Columns not common:\", not_common_columns)"
   ]
  },
  {
   "cell_type": "code",
   "execution_count": 69,
   "id": "b0b70013",
   "metadata": {},
   "outputs": [],
   "source": [
    "dataAirbnb2023_1_3 = pd.concat([dataAirbnb2023_1, dataAirbnb2023_3], ignore_index=True)"
   ]
  },
  {
   "cell_type": "code",
   "execution_count": 70,
   "id": "914dc7c2",
   "metadata": {},
   "outputs": [
    {
     "data": {
      "text/plain": [
       "Index(['Confirmation code', 'Status', 'Guest name', 'Contact', '# of adults',\n",
       "       '# of children', '# of infants', 'Start date', 'End date',\n",
       "       '# of nights', 'Booked', 'Listing', 'Earnings'],\n",
       "      dtype='object')"
      ]
     },
     "execution_count": 70,
     "metadata": {},
     "output_type": "execute_result"
    }
   ],
   "source": [
    "dataAirbnb2023_1_3.columns"
   ]
  },
  {
   "cell_type": "code",
   "execution_count": 71,
   "id": "5c968e7e",
   "metadata": {},
   "outputs": [
    {
     "data": {
      "text/plain": [
       "Index(['Confirmation code', 'Status', 'Guest name', 'Contact', '# of adults',\n",
       "       '# of children', '# of infants', 'Start date', 'End date',\n",
       "       '# of nights', 'Booked', 'Listing', 'Earnings', 'Grade'],\n",
       "      dtype='object')"
      ]
     },
     "execution_count": 71,
     "metadata": {},
     "output_type": "execute_result"
    }
   ],
   "source": [
    "dataAirbnb2023_2.columns"
   ]
  },
  {
   "cell_type": "code",
   "execution_count": 72,
   "id": "ff7a6df2",
   "metadata": {},
   "outputs": [],
   "source": [
    "dataAirbnb2023 = pd.concat([dataAirbnb2023_2, dataAirbnb2023_1_3], ignore_index=True)"
   ]
  },
  {
   "cell_type": "code",
   "execution_count": 73,
   "id": "6ba1d2d9",
   "metadata": {},
   "outputs": [
    {
     "data": {
      "text/plain": [
       "Index(['Confirmation code', 'Status', 'Guest name', 'Contact', '# of adults',\n",
       "       '# of children', '# of infants', 'Start date', 'End date',\n",
       "       '# of nights', 'Booked', 'Listing', 'Earnings', 'Grade'],\n",
       "      dtype='object')"
      ]
     },
     "execution_count": 73,
     "metadata": {},
     "output_type": "execute_result"
    }
   ],
   "source": [
    "dataAirbnb2023.columns"
   ]
  },
  {
   "cell_type": "code",
   "execution_count": 74,
   "id": "d3c5c5e9",
   "metadata": {},
   "outputs": [
    {
     "data": {
      "text/plain": [
       "(63, 14)"
      ]
     },
     "execution_count": 74,
     "metadata": {},
     "output_type": "execute_result"
    }
   ],
   "source": [
    "dataAirbnb2023.shape"
   ]
  },
  {
   "cell_type": "code",
   "execution_count": 75,
   "id": "fd6ec19b",
   "metadata": {},
   "outputs": [
    {
     "data": {
      "text/html": [
       "<div>\n",
       "<style scoped>\n",
       "    .dataframe tbody tr th:only-of-type {\n",
       "        vertical-align: middle;\n",
       "    }\n",
       "\n",
       "    .dataframe tbody tr th {\n",
       "        vertical-align: top;\n",
       "    }\n",
       "\n",
       "    .dataframe thead th {\n",
       "        text-align: right;\n",
       "    }\n",
       "</style>\n",
       "<table border=\"1\" class=\"dataframe\">\n",
       "  <thead>\n",
       "    <tr style=\"text-align: right;\">\n",
       "      <th></th>\n",
       "      <th>Confirmation code</th>\n",
       "      <th>Status</th>\n",
       "      <th>Guest name</th>\n",
       "      <th>Contact</th>\n",
       "      <th># of adults</th>\n",
       "      <th># of children</th>\n",
       "      <th># of infants</th>\n",
       "      <th>Start date</th>\n",
       "      <th>End date</th>\n",
       "      <th># of nights</th>\n",
       "      <th>Booked</th>\n",
       "      <th>Listing</th>\n",
       "      <th>Earnings</th>\n",
       "      <th>Grade</th>\n",
       "    </tr>\n",
       "  </thead>\n",
       "  <tbody>\n",
       "    <tr>\n",
       "      <th>0</th>\n",
       "      <td>HMBTSBBDSD</td>\n",
       "      <td>Past guest</td>\n",
       "      <td>Lena Kanza</td>\n",
       "      <td>+49 176 78191494</td>\n",
       "      <td>2</td>\n",
       "      <td>0</td>\n",
       "      <td>0</td>\n",
       "      <td>9/18/2023</td>\n",
       "      <td>9/23/2023</td>\n",
       "      <td>5</td>\n",
       "      <td>4/26/2023</td>\n",
       "      <td>Apartment with patio and sea view</td>\n",
       "      <td>€ 308.48</td>\n",
       "      <td>8.4</td>\n",
       "    </tr>\n",
       "    <tr>\n",
       "      <th>1</th>\n",
       "      <td>HMQN3DACRZ</td>\n",
       "      <td>Past guest</td>\n",
       "      <td>Bruno Crupelandt</td>\n",
       "      <td>+33 6 72 51 81 97</td>\n",
       "      <td>2</td>\n",
       "      <td>0</td>\n",
       "      <td>0</td>\n",
       "      <td>9/19/2023</td>\n",
       "      <td>9/21/2023</td>\n",
       "      <td>2</td>\n",
       "      <td>7/23/2023</td>\n",
       "      <td>Beautiful studio with patio 5 min. to old town</td>\n",
       "      <td>€ 91.18</td>\n",
       "      <td>8.8</td>\n",
       "    </tr>\n",
       "    <tr>\n",
       "      <th>2</th>\n",
       "      <td>HMBC32W5AC</td>\n",
       "      <td>Past guest</td>\n",
       "      <td>Veronica Mercado</td>\n",
       "      <td>+61 421 135 563</td>\n",
       "      <td>2</td>\n",
       "      <td>0</td>\n",
       "      <td>0</td>\n",
       "      <td>9/15/2023</td>\n",
       "      <td>9/17/2023</td>\n",
       "      <td>2</td>\n",
       "      <td>5/14/2023</td>\n",
       "      <td>Studio with partial sea view 5 min to old town</td>\n",
       "      <td>€ 104.11</td>\n",
       "      <td>8.5</td>\n",
       "    </tr>\n",
       "    <tr>\n",
       "      <th>3</th>\n",
       "      <td>HM2XWX4HCF</td>\n",
       "      <td>Past guest</td>\n",
       "      <td>Dorothea Wolf</td>\n",
       "      <td>+49 179 7261589</td>\n",
       "      <td>2</td>\n",
       "      <td>0</td>\n",
       "      <td>0</td>\n",
       "      <td>9/13/2023</td>\n",
       "      <td>9/15/2023</td>\n",
       "      <td>2</td>\n",
       "      <td>1/22/2023</td>\n",
       "      <td>Studio with partial sea view 5 min to old town</td>\n",
       "      <td>€ 104.11</td>\n",
       "      <td>8.3</td>\n",
       "    </tr>\n",
       "    <tr>\n",
       "      <th>4</th>\n",
       "      <td>HMQHTRJ84P</td>\n",
       "      <td>Past guest</td>\n",
       "      <td>Peggy Ayme</td>\n",
       "      <td>+33 6 66 80 77 75</td>\n",
       "      <td>2</td>\n",
       "      <td>0</td>\n",
       "      <td>0</td>\n",
       "      <td>9/9/2023</td>\n",
       "      <td>9/11/2023</td>\n",
       "      <td>2</td>\n",
       "      <td>1/16/2023</td>\n",
       "      <td>Studio with partial sea view 5 min to old town</td>\n",
       "      <td>€ 104.11</td>\n",
       "      <td>9.2</td>\n",
       "    </tr>\n",
       "  </tbody>\n",
       "</table>\n",
       "</div>"
      ],
      "text/plain": [
       "  Confirmation code      Status        Guest name            Contact  \\\n",
       "0        HMBTSBBDSD  Past guest        Lena Kanza   +49 176 78191494   \n",
       "1        HMQN3DACRZ  Past guest  Bruno Crupelandt  +33 6 72 51 81 97   \n",
       "2        HMBC32W5AC  Past guest  Veronica Mercado    +61 421 135 563   \n",
       "3        HM2XWX4HCF  Past guest     Dorothea Wolf    +49 179 7261589   \n",
       "4        HMQHTRJ84P  Past guest        Peggy Ayme  +33 6 66 80 77 75   \n",
       "\n",
       "   # of adults  # of children  # of infants Start date   End date  \\\n",
       "0            2              0             0  9/18/2023  9/23/2023   \n",
       "1            2              0             0  9/19/2023  9/21/2023   \n",
       "2            2              0             0  9/15/2023  9/17/2023   \n",
       "3            2              0             0  9/13/2023  9/15/2023   \n",
       "4            2              0             0   9/9/2023  9/11/2023   \n",
       "\n",
       "   # of nights     Booked                                         Listing  \\\n",
       "0            5  4/26/2023               Apartment with patio and sea view   \n",
       "1            2  7/23/2023  Beautiful studio with patio 5 min. to old town   \n",
       "2            2  5/14/2023  Studio with partial sea view 5 min to old town   \n",
       "3            2  1/22/2023  Studio with partial sea view 5 min to old town   \n",
       "4            2  1/16/2023  Studio with partial sea view 5 min to old town   \n",
       "\n",
       "   Earnings  Grade  \n",
       "0  € 308.48    8.4  \n",
       "1   € 91.18    8.8  \n",
       "2  € 104.11    8.5  \n",
       "3  € 104.11    8.3  \n",
       "4  € 104.11    9.2  "
      ]
     },
     "execution_count": 75,
     "metadata": {},
     "output_type": "execute_result"
    }
   ],
   "source": [
    "dataAirbnb2023.head()"
   ]
  },
  {
   "cell_type": "code",
   "execution_count": 76,
   "id": "14520290",
   "metadata": {},
   "outputs": [
    {
     "name": "stdout",
     "output_type": "stream",
     "text": [
      "Columns not common: {'Listing name', 'Contact'}\n"
     ]
    }
   ],
   "source": [
    "not_common_columns = set(data2Airbnb2019.columns).symmetric_difference(set(dataAirbnb2023.columns))\n",
    "\n",
    "print(\"Columns not common:\", not_common_columns)"
   ]
  },
  {
   "cell_type": "code",
   "execution_count": 77,
   "id": "405ac337",
   "metadata": {},
   "outputs": [
    {
     "data": {
      "text/plain": [
       "<bound method NDFrame.astype of 0      4/26/2023\n",
       "1      7/23/2023\n",
       "2      5/14/2023\n",
       "3      1/22/2023\n",
       "4      1/16/2023\n",
       "         ...    \n",
       "58    2023-09-08\n",
       "59    2023-08-28\n",
       "60    2023-09-17\n",
       "61    2023-09-02\n",
       "62    2023-09-05\n",
       "Name: Booked, Length: 63, dtype: object>"
      ]
     },
     "execution_count": 77,
     "metadata": {},
     "output_type": "execute_result"
    }
   ],
   "source": [
    "dataAirbnb2023['Booked'].astype"
   ]
  },
  {
   "cell_type": "code",
   "execution_count": 78,
   "id": "86d428b2",
   "metadata": {},
   "outputs": [
    {
     "data": {
      "text/plain": [
       "array(['4/26/2023', '7/23/2023', '5/14/2023', '1/22/2023', '1/16/2023',\n",
       "       '7/19/2023', '4/20/2023', '8/8/2023', '8/27/2023', '8/24/2023',\n",
       "       '7/2/2023', '6/28/2023', '4/8/2023', '8/22/2023', '5/3/2023',\n",
       "       '8/10/2023', '5/30/2023', '6/23/2023', '6/25/2023', '2/4/2023',\n",
       "       '4/16/2023', '7/11/2023', '1/26/2023', '3/11/2023', '2/17/2023',\n",
       "       '5/10/2023', '11/28/2022', '6/7/2023', '3/10/2023', '7/8/2023',\n",
       "       '4/9/2023', '2/20/2023', '5/8/2023', '1/8/2023', '7/12/2023',\n",
       "       '1/29/2023', '6/13/2023', '2/2/2023', '12/17/2022', '12/28/2022',\n",
       "       '3/24/2023', '2/23/2023', '2023-07-30', '2023-09-23', '2023-02-28',\n",
       "       '2023-09-10', '2023-07-21', '2023-09-03', '2023-07-27',\n",
       "       '2023-08-23', '2023-08-31', '2023-09-08', '2023-08-28',\n",
       "       '2023-09-17', '2023-09-02', '2023-09-05'], dtype=object)"
      ]
     },
     "execution_count": 78,
     "metadata": {},
     "output_type": "execute_result"
    }
   ],
   "source": [
    "dataAirbnb2023['Booked'].unique()"
   ]
  },
  {
   "cell_type": "code",
   "execution_count": 79,
   "id": "c56c011f",
   "metadata": {},
   "outputs": [
    {
     "data": {
      "text/plain": [
       "array(['Past guest', 'Canceled by guest', 'Currently hosting',\n",
       "       'Confirmed'], dtype=object)"
      ]
     },
     "execution_count": 79,
     "metadata": {},
     "output_type": "execute_result"
    }
   ],
   "source": [
    "dataAirbnb2023['Status'].unique()"
   ]
  },
  {
   "cell_type": "code",
   "execution_count": 80,
   "id": "d5e47544",
   "metadata": {},
   "outputs": [
    {
     "data": {
      "text/plain": [
       "array(['Apartment with patio and sea view',\n",
       "       'Beautiful studio with patio 5 min. to old town',\n",
       "       'Studio with partial sea view 5 min to old town',\n",
       "       'Apartment with balcony and sea view'], dtype=object)"
      ]
     },
     "execution_count": 80,
     "metadata": {},
     "output_type": "execute_result"
    }
   ],
   "source": [
    "dataAirbnb2023['Listing'].unique()"
   ]
  },
  {
   "cell_type": "code",
   "execution_count": 81,
   "id": "1acc3e42",
   "metadata": {},
   "outputs": [],
   "source": [
    "def processing2023(dataAirbnb):\n",
    "    dataAirbnb['Advertiser'] = 'Airbnb'\n",
    "    \n",
    "    dataAirbnb = dataAirbnb[dataAirbnb['Booked'] <= dataAirbnb['Start date']]\n",
    "    dataAirbnb = dataAirbnb[dataAirbnb['Start date'] < dataAirbnb['End date']]\n",
    "    dataAirbnb['Start date'] = pd.to_datetime(dataAirbnb['Start date']).dt.strftime('%d.%m.%Y')\n",
    "    dataAirbnb['End date'] = pd.to_datetime(dataAirbnb['End date']).dt.strftime('%d.%m.%Y')\n",
    "    dataAirbnb['Booked'] = pd.to_datetime(dataAirbnb['Booked'], errors='coerce')\n",
    "    dataAirbnb['Booked'] = dataAirbnb['Booked'].dt.strftime('%d.%m.%Y')\n",
    "    \n",
    "    dataAirbnb.drop_duplicates(subset=['Confirmation code'], keep='first', inplace=True)\n",
    "    \n",
    "    dataAirbnb['Guest name'].fillna('', inplace=True)\n",
    "    dataAirbnb['Guest name'] = dataAirbnb['Guest name'].str.title()\n",
    "    \n",
    "    dataAirbnb['# of children'] = dataAirbnb['# of children'] + dataAirbnb['# of infants']\n",
    "    dataAirbnb['# of people'] = dataAirbnb['# of adults'] + dataAirbnb['# of children']\n",
    "    \n",
    "    dataAirbnb.drop('# of infants', axis=1, inplace=True)\n",
    "    \n",
    "    dataAirbnb['Earnings'] = dataAirbnb['Earnings'].str.extract(r'(\\d+.\\d+)').astype(float)\n",
    "    dataAirbnb['Earnings'] = round(dataAirbnb['Earnings'].astype(float) - dataAirbnb['# of nights']*dataAirbnb['# of people'], 2)\n",
    "    \n",
    "    dataAirbnb['Grade'].fillna(0, inplace=True)\n",
    "    \n",
    "#     dataAirbnb['Price_€'] = round(dataAirbnb['Earnings'].astype(float)*0.92, 2)\n",
    "#     dataAirbnb['Price_RSD'] = round(dataAirbnb['Earnings'].astype(float)*107.76, 2)\n",
    "    \n",
    "    dataAirbnb['Status'] = dataAirbnb['Status'].replace({'Past guest': 'Confirmed', \n",
    "                                                        'Canceled by guest' : 'Cancelled',\n",
    "                                                        'Currently hosting' : 'Confirmed'})\n",
    "    \n",
    "    dataAirbnb['Listing'] = dataAirbnb['Listing'].replace({'Studio with partial sea view 5 min to old town': 'Studio with Patio and Sea View', \n",
    "                                                        'Apartment with balcony and sea view' : 'One-Bedroom Apartment with Balcony and Sea View',\n",
    "                                                        'Beautiful studio with patio 5 min. to old town' : 'Studio with Patio',\n",
    "                                                        'Apartment with patio and sea view' : 'One-Bedroom Apartment with Patio and Sea View'})\n",
    "    \n",
    "    mapping = {'One-Bedroom Apartment with Balcony and Sea View' : 'A', \n",
    "               'Studio with Patio' : 'B', \n",
    "               'Studio with Patio and Sea View' : 'C',\n",
    "               'One-Bedroom Apartment with Patio and Sea View' : 'D'}\n",
    "\n",
    "    dataAirbnb['Accommodation Type'] = dataAirbnb['Listing'].replace(mapping)\n",
    "    \n",
    "    dataAirbnb.rename(columns={'Confirmation code': 'Book Number', \n",
    "                            'Guest name': 'Guest Name', \n",
    "                            '# of adults': 'NumberOfAdults', \n",
    "                            '# of children': 'NumberOfChildren', \n",
    "                            'Start date' : 'Start Date',\n",
    "                            'End date': 'End Date',\n",
    "                            '# of nights': 'NumberOfNights',\n",
    "                            'Booked': 'Booked On',\n",
    "                            '# of people': 'NumberOfPeople',\n",
    "                            'Listing': 'Accommodation',\n",
    "                            'Earnings': 'Price_DOLLAR'}, inplace=True)\n",
    "    return dataAirbnb"
   ]
  },
  {
   "cell_type": "code",
   "execution_count": 82,
   "id": "bafb44b9",
   "metadata": {},
   "outputs": [],
   "source": [
    "dataAirbnb2023 = processing2023(dataAirbnb2023)"
   ]
  },
  {
   "cell_type": "code",
   "execution_count": 83,
   "id": "99082fdb",
   "metadata": {},
   "outputs": [
    {
     "data": {
      "text/html": [
       "<div>\n",
       "<style scoped>\n",
       "    .dataframe tbody tr th:only-of-type {\n",
       "        vertical-align: middle;\n",
       "    }\n",
       "\n",
       "    .dataframe tbody tr th {\n",
       "        vertical-align: top;\n",
       "    }\n",
       "\n",
       "    .dataframe thead th {\n",
       "        text-align: right;\n",
       "    }\n",
       "</style>\n",
       "<table border=\"1\" class=\"dataframe\">\n",
       "  <thead>\n",
       "    <tr style=\"text-align: right;\">\n",
       "      <th></th>\n",
       "      <th>Book Number</th>\n",
       "      <th>Status</th>\n",
       "      <th>Guest Name</th>\n",
       "      <th>Contact</th>\n",
       "      <th>NumberOfAdults</th>\n",
       "      <th>NumberOfChildren</th>\n",
       "      <th>Start Date</th>\n",
       "      <th>End Date</th>\n",
       "      <th>NumberOfNights</th>\n",
       "      <th>Booked On</th>\n",
       "      <th>Accommodation</th>\n",
       "      <th>Price_DOLLAR</th>\n",
       "      <th>Grade</th>\n",
       "      <th>Advertiser</th>\n",
       "      <th>NumberOfPeople</th>\n",
       "      <th>Accommodation Type</th>\n",
       "    </tr>\n",
       "  </thead>\n",
       "  <tbody>\n",
       "    <tr>\n",
       "      <th>0</th>\n",
       "      <td>HMBTSBBDSD</td>\n",
       "      <td>Confirmed</td>\n",
       "      <td>Lena Kanza</td>\n",
       "      <td>+49 176 78191494</td>\n",
       "      <td>2</td>\n",
       "      <td>0</td>\n",
       "      <td>18.09.2023</td>\n",
       "      <td>23.09.2023</td>\n",
       "      <td>5</td>\n",
       "      <td>26.04.2023</td>\n",
       "      <td>One-Bedroom Apartment with Patio and Sea View</td>\n",
       "      <td>298.48</td>\n",
       "      <td>8.4</td>\n",
       "      <td>Airbnb</td>\n",
       "      <td>2</td>\n",
       "      <td>D</td>\n",
       "    </tr>\n",
       "    <tr>\n",
       "      <th>1</th>\n",
       "      <td>HMQN3DACRZ</td>\n",
       "      <td>Confirmed</td>\n",
       "      <td>Bruno Crupelandt</td>\n",
       "      <td>+33 6 72 51 81 97</td>\n",
       "      <td>2</td>\n",
       "      <td>0</td>\n",
       "      <td>19.09.2023</td>\n",
       "      <td>21.09.2023</td>\n",
       "      <td>2</td>\n",
       "      <td>23.07.2023</td>\n",
       "      <td>Studio with Patio</td>\n",
       "      <td>87.18</td>\n",
       "      <td>8.8</td>\n",
       "      <td>Airbnb</td>\n",
       "      <td>2</td>\n",
       "      <td>B</td>\n",
       "    </tr>\n",
       "    <tr>\n",
       "      <th>2</th>\n",
       "      <td>HMBC32W5AC</td>\n",
       "      <td>Confirmed</td>\n",
       "      <td>Veronica Mercado</td>\n",
       "      <td>+61 421 135 563</td>\n",
       "      <td>2</td>\n",
       "      <td>0</td>\n",
       "      <td>15.09.2023</td>\n",
       "      <td>17.09.2023</td>\n",
       "      <td>2</td>\n",
       "      <td>14.05.2023</td>\n",
       "      <td>Studio with Patio and Sea View</td>\n",
       "      <td>100.11</td>\n",
       "      <td>8.5</td>\n",
       "      <td>Airbnb</td>\n",
       "      <td>2</td>\n",
       "      <td>C</td>\n",
       "    </tr>\n",
       "    <tr>\n",
       "      <th>3</th>\n",
       "      <td>HM2XWX4HCF</td>\n",
       "      <td>Confirmed</td>\n",
       "      <td>Dorothea Wolf</td>\n",
       "      <td>+49 179 7261589</td>\n",
       "      <td>2</td>\n",
       "      <td>0</td>\n",
       "      <td>13.09.2023</td>\n",
       "      <td>15.09.2023</td>\n",
       "      <td>2</td>\n",
       "      <td>22.01.2023</td>\n",
       "      <td>Studio with Patio and Sea View</td>\n",
       "      <td>100.11</td>\n",
       "      <td>8.3</td>\n",
       "      <td>Airbnb</td>\n",
       "      <td>2</td>\n",
       "      <td>C</td>\n",
       "    </tr>\n",
       "    <tr>\n",
       "      <th>5</th>\n",
       "      <td>HMCR589P4K</td>\n",
       "      <td>Confirmed</td>\n",
       "      <td>Jamie Carry</td>\n",
       "      <td>+32 488 44 49 10</td>\n",
       "      <td>2</td>\n",
       "      <td>0</td>\n",
       "      <td>03.09.2023</td>\n",
       "      <td>05.09.2023</td>\n",
       "      <td>2</td>\n",
       "      <td>19.07.2023</td>\n",
       "      <td>One-Bedroom Apartment with Balcony and Sea View</td>\n",
       "      <td>120.16</td>\n",
       "      <td>9.7</td>\n",
       "      <td>Airbnb</td>\n",
       "      <td>2</td>\n",
       "      <td>A</td>\n",
       "    </tr>\n",
       "  </tbody>\n",
       "</table>\n",
       "</div>"
      ],
      "text/plain": [
       "  Book Number     Status        Guest Name            Contact  NumberOfAdults  \\\n",
       "0  HMBTSBBDSD  Confirmed        Lena Kanza   +49 176 78191494               2   \n",
       "1  HMQN3DACRZ  Confirmed  Bruno Crupelandt  +33 6 72 51 81 97               2   \n",
       "2  HMBC32W5AC  Confirmed  Veronica Mercado    +61 421 135 563               2   \n",
       "3  HM2XWX4HCF  Confirmed     Dorothea Wolf    +49 179 7261589               2   \n",
       "5  HMCR589P4K  Confirmed       Jamie Carry   +32 488 44 49 10               2   \n",
       "\n",
       "   NumberOfChildren  Start Date    End Date  NumberOfNights   Booked On  \\\n",
       "0                 0  18.09.2023  23.09.2023               5  26.04.2023   \n",
       "1                 0  19.09.2023  21.09.2023               2  23.07.2023   \n",
       "2                 0  15.09.2023  17.09.2023               2  14.05.2023   \n",
       "3                 0  13.09.2023  15.09.2023               2  22.01.2023   \n",
       "5                 0  03.09.2023  05.09.2023               2  19.07.2023   \n",
       "\n",
       "                                     Accommodation  Price_DOLLAR  Grade  \\\n",
       "0    One-Bedroom Apartment with Patio and Sea View        298.48    8.4   \n",
       "1                                Studio with Patio         87.18    8.8   \n",
       "2                   Studio with Patio and Sea View        100.11    8.5   \n",
       "3                   Studio with Patio and Sea View        100.11    8.3   \n",
       "5  One-Bedroom Apartment with Balcony and Sea View        120.16    9.7   \n",
       "\n",
       "  Advertiser  NumberOfPeople Accommodation Type  \n",
       "0     Airbnb               2                  D  \n",
       "1     Airbnb               2                  B  \n",
       "2     Airbnb               2                  C  \n",
       "3     Airbnb               2                  C  \n",
       "5     Airbnb               2                  A  "
      ]
     },
     "execution_count": 83,
     "metadata": {},
     "output_type": "execute_result"
    }
   ],
   "source": [
    "dataAirbnb2023.head()"
   ]
  },
  {
   "cell_type": "code",
   "execution_count": 84,
   "id": "0d17b2ab",
   "metadata": {},
   "outputs": [
    {
     "data": {
      "text/plain": [
       "array([8.4, 8.8, 8.5, 8.3, 9.7, 9.9, 8.7, 7.1, 7.6, 7.2, 8.2, 7.4, 8.6,\n",
       "       9. , 9.6, 9.3, 8.1, 8. , 9.5, 7.7, 0. ])"
      ]
     },
     "execution_count": 84,
     "metadata": {},
     "output_type": "execute_result"
    }
   ],
   "source": [
    "dataAirbnb2023['Grade'].unique()"
   ]
  },
  {
   "cell_type": "markdown",
   "id": "d8ca5d3f",
   "metadata": {},
   "source": [
    "# Merging"
   ]
  },
  {
   "cell_type": "code",
   "execution_count": 85,
   "id": "350ff4ea",
   "metadata": {},
   "outputs": [
    {
     "name": "stdout",
     "output_type": "stream",
     "text": [
      "Columns not common: {'Contact'}\n"
     ]
    }
   ],
   "source": [
    "not_common_columns = set(dataAirbnb2019.columns).symmetric_difference(set(dataAirbnb2023.columns))\n",
    "\n",
    "print(\"Columns not common:\", not_common_columns)"
   ]
  },
  {
   "cell_type": "code",
   "execution_count": 86,
   "id": "bd192c91",
   "metadata": {},
   "outputs": [
    {
     "data": {
      "text/plain": [
       "(19, 15)"
      ]
     },
     "execution_count": 86,
     "metadata": {},
     "output_type": "execute_result"
    }
   ],
   "source": [
    "dataAirbnb2019.shape"
   ]
  },
  {
   "cell_type": "code",
   "execution_count": 87,
   "id": "36751298",
   "metadata": {},
   "outputs": [
    {
     "data": {
      "text/plain": [
       "(6, 15)"
      ]
     },
     "execution_count": 87,
     "metadata": {},
     "output_type": "execute_result"
    }
   ],
   "source": [
    "dataAirbnb2020.shape"
   ]
  },
  {
   "cell_type": "code",
   "execution_count": 88,
   "id": "b2ae5956",
   "metadata": {},
   "outputs": [
    {
     "data": {
      "text/plain": [
       "(5, 15)"
      ]
     },
     "execution_count": 88,
     "metadata": {},
     "output_type": "execute_result"
    }
   ],
   "source": [
    "dataAirbnb2021.shape"
   ]
  },
  {
   "cell_type": "code",
   "execution_count": 89,
   "id": "eeb0afd0",
   "metadata": {},
   "outputs": [
    {
     "data": {
      "text/plain": [
       "(79, 16)"
      ]
     },
     "execution_count": 89,
     "metadata": {},
     "output_type": "execute_result"
    }
   ],
   "source": [
    "dataAirbnb2022.shape"
   ]
  },
  {
   "cell_type": "code",
   "execution_count": 90,
   "id": "9f2395eb",
   "metadata": {},
   "outputs": [
    {
     "data": {
      "text/plain": [
       "(47, 16)"
      ]
     },
     "execution_count": 90,
     "metadata": {},
     "output_type": "execute_result"
    }
   ],
   "source": [
    "dataAirbnb2023.shape"
   ]
  },
  {
   "cell_type": "code",
   "execution_count": 91,
   "id": "8b5f02a9",
   "metadata": {},
   "outputs": [],
   "source": [
    "mergedAirbnb = pd.concat([dataAirbnb2019, dataAirbnb2020, dataAirbnb2021, dataAirbnb2022, dataAirbnb2023], ignore_index=True)"
   ]
  },
  {
   "cell_type": "code",
   "execution_count": 92,
   "id": "1165b5a0",
   "metadata": {},
   "outputs": [
    {
     "data": {
      "text/plain": [
       "(156, 16)"
      ]
     },
     "execution_count": 92,
     "metadata": {},
     "output_type": "execute_result"
    }
   ],
   "source": [
    "mergedAirbnb.shape"
   ]
  },
  {
   "cell_type": "code",
   "execution_count": 93,
   "id": "afb0e5d5",
   "metadata": {},
   "outputs": [
    {
     "data": {
      "text/html": [
       "<div>\n",
       "<style scoped>\n",
       "    .dataframe tbody tr th:only-of-type {\n",
       "        vertical-align: middle;\n",
       "    }\n",
       "\n",
       "    .dataframe tbody tr th {\n",
       "        vertical-align: top;\n",
       "    }\n",
       "\n",
       "    .dataframe thead th {\n",
       "        text-align: right;\n",
       "    }\n",
       "</style>\n",
       "<table border=\"1\" class=\"dataframe\">\n",
       "  <thead>\n",
       "    <tr style=\"text-align: right;\">\n",
       "      <th></th>\n",
       "      <th>Book Number</th>\n",
       "      <th>Status</th>\n",
       "      <th>Guest Name</th>\n",
       "      <th>NumberOfAdults</th>\n",
       "      <th>NumberOfChildren</th>\n",
       "      <th>Start Date</th>\n",
       "      <th>End Date</th>\n",
       "      <th>NumberOfNights</th>\n",
       "      <th>Booked On</th>\n",
       "      <th>Accommodation</th>\n",
       "      <th>Price_DOLLAR</th>\n",
       "      <th>Accommodation Type</th>\n",
       "      <th>Grade</th>\n",
       "      <th>Advertiser</th>\n",
       "      <th>NumberOfPeople</th>\n",
       "      <th>Contact</th>\n",
       "    </tr>\n",
       "  </thead>\n",
       "  <tbody>\n",
       "    <tr>\n",
       "      <th>0</th>\n",
       "      <td>HMAMP59PS4</td>\n",
       "      <td>Confirmed</td>\n",
       "      <td>Youstina Daoud</td>\n",
       "      <td>2</td>\n",
       "      <td>0</td>\n",
       "      <td>03.06.2019</td>\n",
       "      <td>05.06.2019</td>\n",
       "      <td>2</td>\n",
       "      <td>30.03.2019</td>\n",
       "      <td>Studio with Patio</td>\n",
       "      <td>63.90</td>\n",
       "      <td>B</td>\n",
       "      <td>0.0</td>\n",
       "      <td>Airbnb</td>\n",
       "      <td>2</td>\n",
       "      <td>NaN</td>\n",
       "    </tr>\n",
       "    <tr>\n",
       "      <th>1</th>\n",
       "      <td>HMAMHWYDSW</td>\n",
       "      <td>Confirmed</td>\n",
       "      <td>Kristina Holm Jensen</td>\n",
       "      <td>2</td>\n",
       "      <td>0</td>\n",
       "      <td>05.06.2019</td>\n",
       "      <td>07.06.2019</td>\n",
       "      <td>2</td>\n",
       "      <td>05.05.2019</td>\n",
       "      <td>Studio with Patio</td>\n",
       "      <td>63.90</td>\n",
       "      <td>B</td>\n",
       "      <td>8.0</td>\n",
       "      <td>Airbnb</td>\n",
       "      <td>2</td>\n",
       "      <td>NaN</td>\n",
       "    </tr>\n",
       "    <tr>\n",
       "      <th>2</th>\n",
       "      <td>HMAC8EWZ3P</td>\n",
       "      <td>Confirmed</td>\n",
       "      <td>Ã–Znur Balaban</td>\n",
       "      <td>2</td>\n",
       "      <td>0</td>\n",
       "      <td>08.06.2019</td>\n",
       "      <td>09.06.2019</td>\n",
       "      <td>1</td>\n",
       "      <td>09.04.2019</td>\n",
       "      <td>Studio with Patio</td>\n",
       "      <td>31.95</td>\n",
       "      <td>B</td>\n",
       "      <td>0.0</td>\n",
       "      <td>Airbnb</td>\n",
       "      <td>2</td>\n",
       "      <td>NaN</td>\n",
       "    </tr>\n",
       "    <tr>\n",
       "      <th>3</th>\n",
       "      <td>HMANF23QWC</td>\n",
       "      <td>Confirmed</td>\n",
       "      <td>Steve Qj</td>\n",
       "      <td>1</td>\n",
       "      <td>0</td>\n",
       "      <td>10.06.2019</td>\n",
       "      <td>11.06.2019</td>\n",
       "      <td>1</td>\n",
       "      <td>01.06.2019</td>\n",
       "      <td>Studio with Patio</td>\n",
       "      <td>32.95</td>\n",
       "      <td>B</td>\n",
       "      <td>0.0</td>\n",
       "      <td>Airbnb</td>\n",
       "      <td>1</td>\n",
       "      <td>NaN</td>\n",
       "    </tr>\n",
       "    <tr>\n",
       "      <th>4</th>\n",
       "      <td>HMACJE5D9D</td>\n",
       "      <td>Confirmed</td>\n",
       "      <td>Quinten Spakman</td>\n",
       "      <td>2</td>\n",
       "      <td>0</td>\n",
       "      <td>13.06.2019</td>\n",
       "      <td>15.06.2019</td>\n",
       "      <td>2</td>\n",
       "      <td>04.05.2019</td>\n",
       "      <td>Studio with Patio</td>\n",
       "      <td>63.90</td>\n",
       "      <td>B</td>\n",
       "      <td>7.0</td>\n",
       "      <td>Airbnb</td>\n",
       "      <td>2</td>\n",
       "      <td>NaN</td>\n",
       "    </tr>\n",
       "  </tbody>\n",
       "</table>\n",
       "</div>"
      ],
      "text/plain": [
       "  Book Number     Status            Guest Name  NumberOfAdults  \\\n",
       "0  HMAMP59PS4  Confirmed        Youstina Daoud               2   \n",
       "1  HMAMHWYDSW  Confirmed  Kristina Holm Jensen               2   \n",
       "2  HMAC8EWZ3P  Confirmed        Ã–Znur Balaban               2   \n",
       "3  HMANF23QWC  Confirmed              Steve Qj               1   \n",
       "4  HMACJE5D9D  Confirmed       Quinten Spakman               2   \n",
       "\n",
       "   NumberOfChildren  Start Date    End Date  NumberOfNights   Booked On  \\\n",
       "0                 0  03.06.2019  05.06.2019               2  30.03.2019   \n",
       "1                 0  05.06.2019  07.06.2019               2  05.05.2019   \n",
       "2                 0  08.06.2019  09.06.2019               1  09.04.2019   \n",
       "3                 0  10.06.2019  11.06.2019               1  01.06.2019   \n",
       "4                 0  13.06.2019  15.06.2019               2  04.05.2019   \n",
       "\n",
       "       Accommodation  Price_DOLLAR Accommodation Type  Grade Advertiser  \\\n",
       "0  Studio with Patio         63.90                  B    0.0     Airbnb   \n",
       "1  Studio with Patio         63.90                  B    8.0     Airbnb   \n",
       "2  Studio with Patio         31.95                  B    0.0     Airbnb   \n",
       "3  Studio with Patio         32.95                  B    0.0     Airbnb   \n",
       "4  Studio with Patio         63.90                  B    7.0     Airbnb   \n",
       "\n",
       "   NumberOfPeople Contact  \n",
       "0               2     NaN  \n",
       "1               2     NaN  \n",
       "2               2     NaN  \n",
       "3               1     NaN  \n",
       "4               2     NaN  "
      ]
     },
     "execution_count": 93,
     "metadata": {},
     "output_type": "execute_result"
    }
   ],
   "source": [
    "mergedAirbnb.head()"
   ]
  },
  {
   "cell_type": "code",
   "execution_count": 94,
   "id": "02132158",
   "metadata": {},
   "outputs": [],
   "source": [
    "mergedAirbnb.drop_duplicates(subset=['Book Number'], keep='first', inplace=True)"
   ]
  },
  {
   "cell_type": "code",
   "execution_count": 95,
   "id": "c3351c2f",
   "metadata": {},
   "outputs": [
    {
     "data": {
      "text/plain": [
       "(155, 16)"
      ]
     },
     "execution_count": 95,
     "metadata": {},
     "output_type": "execute_result"
    }
   ],
   "source": [
    "mergedAirbnb.shape"
   ]
  },
  {
   "cell_type": "code",
   "execution_count": 96,
   "id": "5849d3ec",
   "metadata": {},
   "outputs": [
    {
     "data": {
      "text/plain": [
       "array([nan, '+27 83 226 9181', '+49 170 5236337', '+31 31625642536',\n",
       "       '+33 6 43 39 11 81', '+91 99563 58674', '+49 1577 2018127',\n",
       "       '+44 7931 806900', '+90 544 270 86 82', '+358 50 3834653',\n",
       "       '+33 6 19 84 55 20', '+44 7563 612108', '+33 6 79 38 52 84',\n",
       "       '+389 78 409 794', '+49 1511 4141596', '+90 551 589 10 32',\n",
       "       '+33 6 84 27 85 92', '+44 7585 227036', '+49 176 32316351',\n",
       "       '+44 7850 093592', '+33 6 38 51 92 40', '+31 6 43643456',\n",
       "       '+34 685 78 75 24', '+44 7772 189814', '+49 1578 9134181',\n",
       "       '+45 51 88 03 34', '+33 6 67 69 23 84', '+33 6 71 87 34 09',\n",
       "       '+44 7846 642165', '+33 6 80 04 89 27', '+31 6 48576518',\n",
       "       '+358 40 7021751', '+1 901-267-6089', '+31 6 30585740',\n",
       "       '+44 7397 299786', '+65 8322 4546', '+33 6 30 69 74 95',\n",
       "       '+45 28 12 00 74', '+33 6 15 14 30 23', '+33 6 43 07 72 59',\n",
       "       '+61 450 059 972', '+33 6 25 40 95 86', '+374 94 987265',\n",
       "       '+36 20 226 0548', '+49 173 2422152', '+90 530 906 39 56',\n",
       "       '+33 6 46 46 90 37', '+32 471 81 12 37', '+46 73 030 98 81',\n",
       "       '+44 7527 118185', '+33 6 67 75 95 22', '+33 6 68 57 28 56',\n",
       "       '+358 40 0788414', '+49 173 8175938', '+61 422 014 620',\n",
       "       '+44 7445 301777', '+44 7387 911012', '+49 163 7390941',\n",
       "       '+65 8128 3882', '+1 416-488-2093', '+44 7464 130875',\n",
       "       '+353 86 845 8614', '+49 163 6353729', '+49 162 4953314',\n",
       "       '+32 488 44 49 10', '+49 1511 8950502', '+1 819-818-3002',\n",
       "       '+44 7743 252563', '+32 497 80 54 29', '+380 97 657 1919',\n",
       "       '+44 7514 251101', '+381 60 0700147', '+86 178 2423 7810',\n",
       "       '+44 7880 618955', '+44 7902 892430', '+44 7391 733964',\n",
       "       '+972 58-444-7959', '+90 530 432 89 94', '+48 883 601 717',\n",
       "       '+49 176 78191494', '+33 6 72 51 81 97', '+61 421 135 563',\n",
       "       '+49 179 7261589', '+44 7466 628963', '+1 603-455-0828'],\n",
       "      dtype=object)"
      ]
     },
     "execution_count": 96,
     "metadata": {},
     "output_type": "execute_result"
    }
   ],
   "source": [
    "mergedAirbnb['Contact'].unique()"
   ]
  },
  {
   "cell_type": "code",
   "execution_count": 97,
   "id": "68a1e197",
   "metadata": {},
   "outputs": [],
   "source": [
    "mergedAirbnb.rename(columns={'NumberOfPeople': 'Number Of People',\n",
    "                            'NumberOfAdults': 'Number Of Adults',\n",
    "                            'NumberOfChildren': 'Number Of Children',\n",
    "                            'Commission %': 'Commission Percentage',\n",
    "                            'NumberOfAdults': 'Number Of Adults',\n",
    "                            'NumberOfNights': 'Number Of Nights',\n",
    "                           }, inplace=True)"
   ]
  },
  {
   "cell_type": "code",
   "execution_count": 98,
   "id": "c28e6cb8",
   "metadata": {},
   "outputs": [],
   "source": [
    "mergedAirbnb = mergedAirbnb[mergedAirbnb['Price_DOLLAR'] >= 0]"
   ]
  },
  {
   "cell_type": "code",
   "execution_count": 99,
   "id": "6bf18c1a",
   "metadata": {},
   "outputs": [],
   "source": [
    "# mergedAirbnb.to_csv('C://Users/k/Desktop/files/file/MergedAirbnb.csv', index_label='Id')"
   ]
  },
  {
   "cell_type": "code",
   "execution_count": 103,
   "id": "0b3b5999",
   "metadata": {},
   "outputs": [],
   "source": [
    "# upis u fajl\n",
    "# mergedAirbnb.to_csv('D://Master/SSP/Projekat/data/processed/ProcessedAirbnb.csv', index=False)"
   ]
  }
 ],
 "metadata": {
  "kernelspec": {
   "display_name": "Python 3 (ipykernel)",
   "language": "python",
   "name": "python3"
  },
  "language_info": {
   "codemirror_mode": {
    "name": "ipython",
    "version": 3
   },
   "file_extension": ".py",
   "mimetype": "text/x-python",
   "name": "python",
   "nbconvert_exporter": "python",
   "pygments_lexer": "ipython3",
   "version": "3.11.5"
  }
 },
 "nbformat": 4,
 "nbformat_minor": 5
}
