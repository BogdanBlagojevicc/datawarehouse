{
 "cells": [
  {
   "cell_type": "code",
   "execution_count": 1,
   "id": "12d857cb",
   "metadata": {},
   "outputs": [],
   "source": [
    "import pandas as pd\n",
    "import numpy as np\n",
    "import re"
   ]
  },
  {
   "cell_type": "markdown",
   "id": "b863f4b5",
   "metadata": {},
   "source": [
    "# 2019"
   ]
  },
  {
   "cell_type": "code",
   "execution_count": 2,
   "id": "f8af92e9",
   "metadata": {},
   "outputs": [],
   "source": [
    "dataBooking2019 = pd.read_excel('D://Master/SSP/Projekat/data/raw/2019/Booking_2019.xlsx', index_col=0)"
   ]
  },
  {
   "cell_type": "code",
   "execution_count": 3,
   "id": "4b33f83b",
   "metadata": {},
   "outputs": [
    {
     "data": {
      "text/html": [
       "<div>\n",
       "<style scoped>\n",
       "    .dataframe tbody tr th:only-of-type {\n",
       "        vertical-align: middle;\n",
       "    }\n",
       "\n",
       "    .dataframe tbody tr th {\n",
       "        vertical-align: top;\n",
       "    }\n",
       "\n",
       "    .dataframe thead th {\n",
       "        text-align: right;\n",
       "    }\n",
       "</style>\n",
       "<table border=\"1\" class=\"dataframe\">\n",
       "  <thead>\n",
       "    <tr style=\"text-align: right;\">\n",
       "      <th></th>\n",
       "      <th>Booked by</th>\n",
       "      <th>Guest Name(s)</th>\n",
       "      <th>Check-in</th>\n",
       "      <th>Check-out</th>\n",
       "      <th>Booked on</th>\n",
       "      <th>Status</th>\n",
       "      <th>Rooms</th>\n",
       "      <th>People</th>\n",
       "      <th>Adults</th>\n",
       "      <th>Children</th>\n",
       "      <th>Children's age(s)</th>\n",
       "      <th>Price</th>\n",
       "      <th>Commission %</th>\n",
       "      <th>Commission Amount</th>\n",
       "      <th>Payment Status</th>\n",
       "      <th>Payment Method</th>\n",
       "      <th>Accommodation</th>\n",
       "      <th>Grade</th>\n",
       "    </tr>\n",
       "    <tr>\n",
       "      <th>Book Number</th>\n",
       "      <th></th>\n",
       "      <th></th>\n",
       "      <th></th>\n",
       "      <th></th>\n",
       "      <th></th>\n",
       "      <th></th>\n",
       "      <th></th>\n",
       "      <th></th>\n",
       "      <th></th>\n",
       "      <th></th>\n",
       "      <th></th>\n",
       "      <th></th>\n",
       "      <th></th>\n",
       "      <th></th>\n",
       "      <th></th>\n",
       "      <th></th>\n",
       "      <th></th>\n",
       "      <th></th>\n",
       "    </tr>\n",
       "  </thead>\n",
       "  <tbody>\n",
       "    <tr>\n",
       "      <th>2.245705e+09</th>\n",
       "      <td>Veeravalli, Gopi</td>\n",
       "      <td>Gopi Veeravalli</td>\n",
       "      <td>2019-04-03</td>\n",
       "      <td>2019-04-06</td>\n",
       "      <td>2019-03-30 19:53:46</td>\n",
       "      <td>ok</td>\n",
       "      <td>1</td>\n",
       "      <td>2</td>\n",
       "      <td>NaN</td>\n",
       "      <td>NaN</td>\n",
       "      <td>NaN</td>\n",
       "      <td>117 EUR</td>\n",
       "      <td>18</td>\n",
       "      <td>21.06 EUR</td>\n",
       "      <td>NaN</td>\n",
       "      <td>NaN</td>\n",
       "      <td>A</td>\n",
       "      <td>10.0</td>\n",
       "    </tr>\n",
       "    <tr>\n",
       "      <th>2.071623e+09</th>\n",
       "      <td>Kretov, Nikita</td>\n",
       "      <td>Nikita Kretov</td>\n",
       "      <td>2019-04-06</td>\n",
       "      <td>2019-04-11</td>\n",
       "      <td>2019-03-01 09:25:42</td>\n",
       "      <td>ok</td>\n",
       "      <td>1</td>\n",
       "      <td>2</td>\n",
       "      <td>NaN</td>\n",
       "      <td>NaN</td>\n",
       "      <td>NaN</td>\n",
       "      <td>200 EUR</td>\n",
       "      <td>18</td>\n",
       "      <td>36 EUR</td>\n",
       "      <td>NaN</td>\n",
       "      <td>NaN</td>\n",
       "      <td>A</td>\n",
       "      <td>NaN</td>\n",
       "    </tr>\n",
       "    <tr>\n",
       "      <th>3.037388e+09</th>\n",
       "      <td>Yuheng Huang</td>\n",
       "      <td>Yuheng Huang</td>\n",
       "      <td>2019-04-07</td>\n",
       "      <td>2019-04-08</td>\n",
       "      <td>2019-03-31 07:50:45</td>\n",
       "      <td>ok</td>\n",
       "      <td>1</td>\n",
       "      <td>2</td>\n",
       "      <td>NaN</td>\n",
       "      <td>NaN</td>\n",
       "      <td>NaN</td>\n",
       "      <td>39 EUR</td>\n",
       "      <td>18</td>\n",
       "      <td>7.02 EUR</td>\n",
       "      <td>NaN</td>\n",
       "      <td>NaN</td>\n",
       "      <td>C</td>\n",
       "      <td>NaN</td>\n",
       "    </tr>\n",
       "    <tr>\n",
       "      <th>3.181655e+09</th>\n",
       "      <td>LI, FENGJU</td>\n",
       "      <td>FENGJU LI</td>\n",
       "      <td>2019-04-10</td>\n",
       "      <td>2019-04-11</td>\n",
       "      <td>2019-04-02 13:30:27</td>\n",
       "      <td>ok</td>\n",
       "      <td>1</td>\n",
       "      <td>2</td>\n",
       "      <td>NaN</td>\n",
       "      <td>NaN</td>\n",
       "      <td>NaN</td>\n",
       "      <td>39 EUR</td>\n",
       "      <td>18</td>\n",
       "      <td>7.02 EUR</td>\n",
       "      <td>NaN</td>\n",
       "      <td>NaN</td>\n",
       "      <td>D</td>\n",
       "      <td>8.0</td>\n",
       "    </tr>\n",
       "    <tr>\n",
       "      <th>3.642009e+09</th>\n",
       "      <td>LI, FENGJU</td>\n",
       "      <td>NaN</td>\n",
       "      <td>2019-04-11</td>\n",
       "      <td>2019-04-12</td>\n",
       "      <td>2019-04-02 15:03:10</td>\n",
       "      <td>ok</td>\n",
       "      <td>1</td>\n",
       "      <td>2</td>\n",
       "      <td>NaN</td>\n",
       "      <td>NaN</td>\n",
       "      <td>NaN</td>\n",
       "      <td>40 EUR</td>\n",
       "      <td>18</td>\n",
       "      <td>7.2 EUR</td>\n",
       "      <td>NaN</td>\n",
       "      <td>NaN</td>\n",
       "      <td>C</td>\n",
       "      <td>8.0</td>\n",
       "    </tr>\n",
       "  </tbody>\n",
       "</table>\n",
       "</div>"
      ],
      "text/plain": [
       "                     Booked by    Guest Name(s)    Check-in   Check-out  \\\n",
       "Book Number                                                               \n",
       "2.245705e+09  Veeravalli, Gopi  Gopi Veeravalli  2019-04-03  2019-04-06   \n",
       "2.071623e+09    Kretov, Nikita    Nikita Kretov  2019-04-06  2019-04-11   \n",
       "3.037388e+09      Yuheng Huang     Yuheng Huang  2019-04-07  2019-04-08   \n",
       "3.181655e+09        LI, FENGJU        FENGJU LI  2019-04-10  2019-04-11   \n",
       "3.642009e+09        LI, FENGJU              NaN  2019-04-11  2019-04-12   \n",
       "\n",
       "                        Booked on Status  Rooms  People  Adults  Children  \\\n",
       "Book Number                                                                 \n",
       "2.245705e+09  2019-03-30 19:53:46     ok      1       2     NaN       NaN   \n",
       "2.071623e+09  2019-03-01 09:25:42     ok      1       2     NaN       NaN   \n",
       "3.037388e+09  2019-03-31 07:50:45     ok      1       2     NaN       NaN   \n",
       "3.181655e+09  2019-04-02 13:30:27     ok      1       2     NaN       NaN   \n",
       "3.642009e+09  2019-04-02 15:03:10     ok      1       2     NaN       NaN   \n",
       "\n",
       "             Children's age(s)    Price  Commission % Commission Amount  \\\n",
       "Book Number                                                               \n",
       "2.245705e+09               NaN  117 EUR            18         21.06 EUR   \n",
       "2.071623e+09               NaN  200 EUR            18            36 EUR   \n",
       "3.037388e+09               NaN   39 EUR            18          7.02 EUR   \n",
       "3.181655e+09               NaN   39 EUR            18          7.02 EUR   \n",
       "3.642009e+09               NaN   40 EUR            18           7.2 EUR   \n",
       "\n",
       "             Payment Status Payment Method Accommodation  Grade  \n",
       "Book Number                                                      \n",
       "2.245705e+09            NaN            NaN             A   10.0  \n",
       "2.071623e+09            NaN            NaN             A    NaN  \n",
       "3.037388e+09            NaN            NaN             C    NaN  \n",
       "3.181655e+09            NaN            NaN             D    8.0  \n",
       "3.642009e+09            NaN            NaN             C    8.0  "
      ]
     },
     "execution_count": 3,
     "metadata": {},
     "output_type": "execute_result"
    }
   ],
   "source": [
    "dataBooking2019.head()"
   ]
  },
  {
   "cell_type": "code",
   "execution_count": 4,
   "id": "bb235398",
   "metadata": {},
   "outputs": [],
   "source": [
    "dataBooking2019 = dataBooking2019.reset_index()"
   ]
  },
  {
   "cell_type": "code",
   "execution_count": 5,
   "id": "fb1427e8",
   "metadata": {},
   "outputs": [
    {
     "data": {
      "text/plain": [
       "222"
      ]
     },
     "execution_count": 5,
     "metadata": {},
     "output_type": "execute_result"
    }
   ],
   "source": [
    "dataBooking2019['Book Number'].count()"
   ]
  },
  {
   "cell_type": "code",
   "execution_count": 6,
   "id": "3df45ad3",
   "metadata": {},
   "outputs": [],
   "source": [
    "dataBooking2019.drop_duplicates(subset=['Book Number'], keep='first', inplace=True)"
   ]
  },
  {
   "cell_type": "code",
   "execution_count": 7,
   "id": "0d36c485",
   "metadata": {},
   "outputs": [],
   "source": [
    "#Adding advisor name\n",
    "dataBooking2019['Advertiser'] = 'Booking'"
   ]
  },
  {
   "cell_type": "code",
   "execution_count": 8,
   "id": "c280b3e2",
   "metadata": {},
   "outputs": [
    {
     "name": "stdout",
     "output_type": "stream",
     "text": [
      "[False  True]\n",
      "[False  True]\n"
     ]
    }
   ],
   "source": [
    "#Editing names\n",
    "print(dataBooking2019['Guest Name(s)'].isnull().unique())\n",
    "print(dataBooking2019['Booked by'].isnull().unique())\n"
   ]
  },
  {
   "cell_type": "code",
   "execution_count": 9,
   "id": "0dfcb78c",
   "metadata": {},
   "outputs": [],
   "source": [
    "dataBooking2019['Guest Name(s)'].fillna('', inplace=True)\n",
    "dataBooking2019['Booked by'].fillna('', inplace=True)"
   ]
  },
  {
   "cell_type": "code",
   "execution_count": 10,
   "id": "94a2546c",
   "metadata": {},
   "outputs": [
    {
     "data": {
      "text/plain": [
       "array(['Gopi Veeravalli', 'Nikita Kretov', 'Yuheng Huang', 'FENGJU LI',\n",
       "       '', 'Frederic Le Masson', 'Alok Prasad', 'Brad Foreman',\n",
       "       'Mika Sainio', 'Fanhua Kong', 'Nanou Van Beveren',\n",
       "       'Lars Balszuweit; Oliver Scheel', 'Mickaël Huneau',\n",
       "       'Michele Burton', 'JOANNA KULSKA', 'Oana Atodiresei',\n",
       "       'James Boustead', 'Laura Robertson', 'Iñigo Pinedo Guardamino',\n",
       "       'myriam turquety', 'Mrdan Zivic', 'Agnieszka Mutwicka',\n",
       "       'Arja Heinonen', 'Jan-Kees van Es', 'Rok Jelovčan',\n",
       "       'Daniel Dworak', 'Tomasz Bedza', 'Vladimir Efimov',\n",
       "       'Rene Belanger', 'Wendy Bentley', 'Alexandra Petit',\n",
       "       'Sandie Lahaye', 'Debbie Henderson', 'Lucia Palmero',\n",
       "       'JORIS GAONA', 'Ilnar Miftakhov', 'Thomas Lucas',\n",
       "       'Maria Kudryavtseva', 'Joelle Dhondt', 'Lorna Verlinden',\n",
       "       'Kate Englander', 'Nina Niskanen', 'alper öncüer',\n",
       "       'Victoria Walkden', 'Roel Guntlisbergen', 'Anna Turunen',\n",
       "       'Simon Holl', 'Roger Sutherland', 'Alexander Hilbring',\n",
       "       'Dmitrii Ruzniaev', 'ersin, mustafa önder', 'Janika Ruuska',\n",
       "       'Greg Gavel', 'Chloé Ardn', 'mahmut Altınel', 'Wolfram Rothmann',\n",
       "       'Basim Samir',\n",
       "       'LEONID KLYAKHIN, SOFYA KLYAKHINA + CHILD ALISA KLYAKHINA',\n",
       "       'Marianna Lumiala', 'Sieglinde Roder', 'Wiesław Szostek',\n",
       "       'Bianca Nassenstein', 'Riemer Janmaat', 'Mikko Pyysalo',\n",
       "       'James Kiely', 'tobias bueno', 'Elin Risberg', 'Celine Wespi',\n",
       "       'Igor Korneev', 'Shunsuke Toyama', 'Jaki-Mikko Edgren',\n",
       "       'buket delibaş', 'Christina Kurzewitz', 'Teresa Fantoni',\n",
       "       'Stephanie Scholz', 'Renaldo &#39;t Jong', 'Bernhard Pösel',\n",
       "       'olsen wenche', 'Kate Mitchell', 'ADAM REED', 'Melissa Alexander',\n",
       "       'Maria Martinez Bujidos', 'Anna Korotaeva',\n",
       "       'Magdalena Pawlowska-Grzelak', 'Jussi Kurki', 'Jessica Boström',\n",
       "       'Yeung  Yuen Yee', 'François Durfort', 'Anita Hong',\n",
       "       'Heather Muirhead', 'Yves  Thelen', 'Anita  Hong',\n",
       "       'Aurelijus Vaiciulionis', 'Dawn Lowe', 'Clare Parsons',\n",
       "       'Pelin AYAN', 'Anes Delic', 'Piotr Kałuziński', 'Matt Gale',\n",
       "       'Giovanni Verardi', 'Juho Lyytikäinen', 'Vinzenz Loimayr',\n",
       "       'Danae Michaelides', 'Victor Segui', 'Katie Edwards',\n",
       "       'Iida Seppälä', 'Isabel Fiala', 'Katarina Roos',\n",
       "       'Roosa-Maria Emilia Perälä', 'Ali Tahar', 'Megan Hines',\n",
       "       'Markus Breu', 'Mario Desjardins', 'Ingrid Bal', 'LILING YANG',\n",
       "       'Sevil Kasimova', 'Elena Lievens', 'Dane Lewis',\n",
       "       'Maksim Iakiamsev', 'Elena Ushakova', 'Nicolas Van Peteghem',\n",
       "       'Brian Tregillis', 'ENES SÜMER', 'Nicolas Deymier', 'Mehdi Allais',\n",
       "       'John Bartels', 'Alessandro Rampazzo', 'Julia Lindberg',\n",
       "       'Ekaterina Fedorovskaia,Kirill Knysh', 'Ismael Robles Godoy',\n",
       "       'Dilek KARAGÖZ', 'Ulrik Bering Keiding', 'Margaux PETITJEAN',\n",
       "       'Richard Naisby', 'hugo corteville', 'Fabrizio Bompani',\n",
       "       'Jacopo Ferdinandi', 'Nicolas GUY', 'Victor Landureau',\n",
       "       'pascale vallet', 'arnaud jacquemart', 'Nina Kanic',\n",
       "       'Pelle Posthumus', 'Vänskä Jari', 'Konsta Nikkanen',\n",
       "       'Sarah Higgins', 'Carmen  Sonntag', 'Albina Perepelova',\n",
       "       'Dean McKeague', 'Javier González', 'Valeriya Vasilenko',\n",
       "       'Thomas Langmann', 'Pavel Kononov', 'Adrianus Lamers',\n",
       "       'Tatiana Belyaeva', 'Svetlana Nikitenko', 'Caroline FINDELAIR',\n",
       "       'Marine DANIS', 'Alba De La Asunción', 'Tia Ko', 'luo fang',\n",
       "       'Marjolaine  Guilhaume', 'Judi Johnston', 'Ali Ersoy',\n",
       "       'Robin Boeckxstaens', 'Hugh Gravestein', 'Ran Levy',\n",
       "       'mandira shrestha', 'Ján Boháčik', 'thomas murray',\n",
       "       'Karien Robbers', 'Cédric Maisonneuve', 'Sandrine Rauturier',\n",
       "       'Markus Kenttälä', 'Vanessa Schwarz', 'irja orädd',\n",
       "       'maria aldunate', 'Elena Mashkina', 'Alina Kokhanova',\n",
       "       'karen mcguinness', 'Marta Gomes', 'Han Yan Fu Meilin',\n",
       "       'Francisco Moreno clavero', 'Romain Gillard', 'Maren Wieck',\n",
       "       'Mikhail Sizov', 'Qingqing Yang;Beijin Wang;Yufei Yang',\n",
       "       'Marko Rakovic', 'Marta Kozminska', 'Kerstin Goellner',\n",
       "       'Patricia Kemp', 'John Laidler', 'Robert Zabihi', 'Julien WALLOIS',\n",
       "       'fang hong', 'Choi lnhak', 'Sivan Neeman', 'Niina Veijalainen',\n",
       "       'Ana Pernía Sánchez', '刘 超', 'Bülent Ertosun', 'Matei Cutocheras',\n",
       "       'SONG YUDONG，NI XUETONG', 'Karin Tschernutter', 'Olga Smirnova',\n",
       "       'cord Zuelch', '赖, 毅鹏', 'Semen Kuznetsov', 'Vivian Johnny',\n",
       "       'Jens Weineholm', 'Primak', 'Colin Field', 'Alena Blazhko',\n",
       "       'MARC crucitti', 'Bernai Gergely', 'Laurent Parayre',\n",
       "       'Kate Spiteri', 'tatiana dudukina', 'Tomaž Vajngerl',\n",
       "       'Alberto Fernandez Perez', 'Ayse Akyol'], dtype=object)"
      ]
     },
     "execution_count": 10,
     "metadata": {},
     "output_type": "execute_result"
    }
   ],
   "source": [
    "dataBooking2019['Guest Name(s)'].unique()"
   ]
  },
  {
   "cell_type": "code",
   "execution_count": 11,
   "id": "7c703e1b",
   "metadata": {},
   "outputs": [
    {
     "data": {
      "text/plain": [
       "array(['Veeravalli, Gopi', 'Kretov, Nikita', 'Yuheng Huang', 'LI, FENGJU',\n",
       "       'Le Masson, Frederic', 'Prasad, Alok', 'Foreman, Brad',\n",
       "       'Sainio, Mika', 'Kong, Fanhua', 'Van Beveren, Nanou',\n",
       "       'Scheel, Oliver', 'Huneau, Mickaël', 'Burton, Michele',\n",
       "       'KULSKA, JOANNA', 'Atodiresei, Oana', 'Boustead, James',\n",
       "       'Robertson, Laura', 'Pinedo Guardamino, Iñigo', 'turquety, myriam',\n",
       "       'Zivic, Mrdan', 'Mutwicka, Agnieszka', 'Heinonen, Arja',\n",
       "       'van Es, Jan-Kees', 'Jelovčan, Rok', 'Dworak, Daniel',\n",
       "       'Bedza, Tomasz', 'Efimov, Vladimir', 'Belanger, Rene',\n",
       "       'Bentley, Wendy', 'Petit, Alexandra', 'Lahaye, Sandie',\n",
       "       'Henderson, Debbie', 'Palmero, Lucia', 'GAONA, JORIS',\n",
       "       'Miftakhov, Ilnar', 'Lucas, Thomas', 'Kudryavtseva, Maria',\n",
       "       'Dhondt, Joelle', 'Verlinden, Lorna', 'Englander, Kate',\n",
       "       'Niskanen, Nina', 'öncüer, alper', 'Victoria Walkden',\n",
       "       'Guntlisbergen, Roel', 'Turunen, Anna', 'Holl, Simon',\n",
       "       'Sutherland, Roger', 'Hilbring, Alexander', 'Ruzniaev, Dmitrii',\n",
       "       'ersin, mustafa önder', 'Ruuska, Janika', 'Gavel, Greg',\n",
       "       'Ardn, Chloé', 'Altınel, mahmut', 'Rothmann, Wolfram',\n",
       "       'Samir, Basim', 'KLYAKHIN, LEONID', 'Lumiala, Marianna',\n",
       "       'Roder, Sieglinde', 'Szostek, Wiesław', 'Nassenstein, Bianca',\n",
       "       'Janmaat, Riemer', 'Pyysalo, Mikko', 'Kiely, James',\n",
       "       'bueno, tobias', 'Risberg, Elin', 'Wespi, Celine', 'Korneev, Igor',\n",
       "       'Toyama, Shunsuke', 'Edgren, Jaki-Mikko', 'delibaş, buket',\n",
       "       'Kurzewitz, Christina', 'Fantoni, Teresa', 'Scholz, Stephanie',\n",
       "       '&#39;t Jong, Renaldo', 'Pösel, Bernhard', 'wenche, olsen',\n",
       "       'Mitchell, Kate', 'REED, ADAM', 'Alexander, Melissa',\n",
       "       'Martinez Bujidos, Maria', 'Korotaeva, Anna',\n",
       "       'Pawlowska-Grzelak, Magdalena', 'Kurki, Jussi', 'Boström, Jessica',\n",
       "       'Yeung, Yuen Yee', 'Durfort, François', 'Hong, Anita',\n",
       "       'Muirhead, Heather', 'Thelen, Yves', 'Vaiciulionis, Aurelijus',\n",
       "       'Lowe, Dawn', 'Parsons, Clare', 'Ayan Dedeoğlu, Emel',\n",
       "       'Delic, Anes', 'Kałuziński, Piotr', 'Gale, Matt',\n",
       "       'Verardi, Giovanni', 'Lyytikäinen, Juho', 'Loimayr, Vinzenz',\n",
       "       'Michaelides, Danae', 'Segui, Victor', 'Edwards, Katie',\n",
       "       'Seppälä, Iida', 'Fiala, Isabel', 'Roos, Katarina',\n",
       "       'Perälä, Roosa-Maria Emilia', 'Tahar, Ali', '', 'Hines, Megan',\n",
       "       'Breu, Markus', 'Desjardins, Mario', 'Bal, Ingrid', 'YANG, LILING',\n",
       "       'Kasimova, Sevil', 'Lievens, Elena', 'Lewis, Dane',\n",
       "       'Iakiamsev, Maksim', 'Ushakova, Elena', 'Van Peteghem, Nicolas',\n",
       "       'Tregillis, Brian', 'SÜMER, ENES', 'Deymier, Nicolas',\n",
       "       'Allais, Mehdi', 'Bartels, John', 'Rampazzo, Alessandro',\n",
       "       'Lindberg, Julia', 'Fedorovskaia, Ekaterina',\n",
       "       'Robles Godoy, Ismael', 'KARAGÖZ, Dilek', 'Keiding, Ulrik Bering',\n",
       "       'PETITJEAN, Margaux', 'Naisby, Richard', 'corteville, hugo',\n",
       "       'Bompani, Fabrizio', 'Ferdinandi, Jacopo', 'GUY, Nicolas',\n",
       "       'Landureau, Victor', 'vallet, pascale', 'jacquemart, arnaud',\n",
       "       'Kanic, Nina', 'Posthumus, Pelle', 'Jari, Vänskä',\n",
       "       'Nikkanen, Konsta', 'Higgins, Sarah', 'Sonntag, Carmen',\n",
       "       'Perepelova, Albina', 'McKeague, Dean', 'González, Javier',\n",
       "       'Vasilenko, Valeriya', 'Langmann, Thomas', 'Kononov, Pavel',\n",
       "       'Lamers, Adrianus', 'Belyaeva, Tatiana', 'Nikitenko, Svetlana',\n",
       "       'FINDELAIR, Caroline', 'DANIS, Marine', 'De La Asunción, Alba',\n",
       "       'Ko, Tia', 'luo, fang', 'Guilhaume, Marjolaine', 'Johnston, Judi',\n",
       "       'Ersoy, Ali', 'Boeckxstaens, Robin', 'Gravestein, Hugh',\n",
       "       'dvash, susana', 'shrestha, mandira', 'Boháčik, Ján',\n",
       "       'murray, thomas', 'Robbers, Karien', 'Maisonneuve, Cédric',\n",
       "       'Rauturier, Sandrine', 'Kenttälä, Markus', 'Schwarz, Vanessa',\n",
       "       'orädd, irja', 'aldunate, maria', 'Mashkina, Elena',\n",
       "       'Kokhanova, Alina', 'mcguinness, karen', 'Gomes, Marta',\n",
       "       'Han, Yan', 'Moreno clavero, Francisco', 'Gillard, Romain',\n",
       "       'Wieck, Maren', 'Sizov, Mikhail', 'Yang, Qingqing',\n",
       "       'Rakovic, Marko', 'Kozminska, Marta', 'Goellner, Kerstin',\n",
       "       'Kemp, Patricia', 'Laidler, John', 'Zabihi, Robert',\n",
       "       'WALLOIS, Julien', 'fang, hong', 'Choi, lnhak', 'Neeman, Sivan',\n",
       "       'Veijalainen, Niina', 'Pernía Sánchez, Ana', '刘, 超',\n",
       "       'Ertosun, Bülent', 'Cutocheras, Matei', 'song, yudong',\n",
       "       'Tschernutter, Karin', 'Smirnova, Olga', 'Zuelch, cord', '赖, 毅鹏',\n",
       "       'Kuznetsov, Semen', 'Johnny, Vivian', 'Weineholm, Jens', 'Primak',\n",
       "       'Field, Colin', 'Blazhko, Alena', 'crucitti, MARC',\n",
       "       'Bernai, Gergely', 'Parayre, Laurent', 'Spiteri, Kate',\n",
       "       'dudukina, tatiana', 'Vajngerl, Tomaž', 'Fernandez Perez, Alberto',\n",
       "       'Akyol, Ayse'], dtype=object)"
      ]
     },
     "execution_count": 11,
     "metadata": {},
     "output_type": "execute_result"
    }
   ],
   "source": [
    "dataBooking2019['Booked by'].unique()"
   ]
  },
  {
   "cell_type": "code",
   "execution_count": 12,
   "id": "6d693932",
   "metadata": {},
   "outputs": [],
   "source": [
    "dataBooking2019['Guest Name(s)'] = dataBooking2019['Guest Name(s)'].str.title()\n",
    "dataBooking2019['Booked by'] = dataBooking2019['Booked by'].str.title()"
   ]
  },
  {
   "cell_type": "code",
   "execution_count": 13,
   "id": "a7a8caef",
   "metadata": {},
   "outputs": [],
   "source": [
    "#Editing dates\n",
    "#Dropping dates where check-in is after check-out and where booked on is after check-in\n",
    "dataBooking2019 = dataBooking2019[dataBooking2019['Check-in'] < dataBooking2019['Check-out']]\n",
    "dataBooking2019 = dataBooking2019[pd.to_datetime(dataBooking2019['Booked on']).dt.date <= pd.to_datetime(dataBooking2019['Check-in'])]\n",
    "#Transforming dates in different format\n",
    "dataBooking2019['Check-in'] = pd.to_datetime(dataBooking2019['Check-in']).dt.strftime('%d.%m.%Y')\n",
    "dataBooking2019['Check-out'] = pd.to_datetime(dataBooking2019['Check-out']).dt.strftime('%d.%m.%Y')\n",
    "dataBooking2019['Booked on'] = pd.to_datetime(dataBooking2019['Booked on']).dt.strftime('%d.%m.%Y')"
   ]
  },
  {
   "cell_type": "code",
   "execution_count": 14,
   "id": "d6111f67",
   "metadata": {},
   "outputs": [
    {
     "data": {
      "text/html": [
       "<div>\n",
       "<style scoped>\n",
       "    .dataframe tbody tr th:only-of-type {\n",
       "        vertical-align: middle;\n",
       "    }\n",
       "\n",
       "    .dataframe tbody tr th {\n",
       "        vertical-align: top;\n",
       "    }\n",
       "\n",
       "    .dataframe thead th {\n",
       "        text-align: right;\n",
       "    }\n",
       "</style>\n",
       "<table border=\"1\" class=\"dataframe\">\n",
       "  <thead>\n",
       "    <tr style=\"text-align: right;\">\n",
       "      <th></th>\n",
       "      <th>Book Number</th>\n",
       "      <th>Booked by</th>\n",
       "      <th>Guest Name(s)</th>\n",
       "      <th>Check-in</th>\n",
       "      <th>Check-out</th>\n",
       "      <th>Booked on</th>\n",
       "      <th>Status</th>\n",
       "      <th>Rooms</th>\n",
       "      <th>People</th>\n",
       "      <th>Adults</th>\n",
       "      <th>Children</th>\n",
       "      <th>Children's age(s)</th>\n",
       "      <th>Price</th>\n",
       "      <th>Commission %</th>\n",
       "      <th>Commission Amount</th>\n",
       "      <th>Payment Status</th>\n",
       "      <th>Payment Method</th>\n",
       "      <th>Accommodation</th>\n",
       "      <th>Grade</th>\n",
       "      <th>Advertiser</th>\n",
       "    </tr>\n",
       "  </thead>\n",
       "  <tbody>\n",
       "    <tr>\n",
       "      <th>0</th>\n",
       "      <td>2.245705e+09</td>\n",
       "      <td>Veeravalli, Gopi</td>\n",
       "      <td>Gopi Veeravalli</td>\n",
       "      <td>03.04.2019</td>\n",
       "      <td>06.04.2019</td>\n",
       "      <td>30.03.2019</td>\n",
       "      <td>ok</td>\n",
       "      <td>1</td>\n",
       "      <td>2</td>\n",
       "      <td>NaN</td>\n",
       "      <td>NaN</td>\n",
       "      <td>NaN</td>\n",
       "      <td>117 EUR</td>\n",
       "      <td>18</td>\n",
       "      <td>21.06 EUR</td>\n",
       "      <td>NaN</td>\n",
       "      <td>NaN</td>\n",
       "      <td>A</td>\n",
       "      <td>10.0</td>\n",
       "      <td>Booking</td>\n",
       "    </tr>\n",
       "    <tr>\n",
       "      <th>1</th>\n",
       "      <td>2.071623e+09</td>\n",
       "      <td>Kretov, Nikita</td>\n",
       "      <td>Nikita Kretov</td>\n",
       "      <td>06.04.2019</td>\n",
       "      <td>11.04.2019</td>\n",
       "      <td>01.03.2019</td>\n",
       "      <td>ok</td>\n",
       "      <td>1</td>\n",
       "      <td>2</td>\n",
       "      <td>NaN</td>\n",
       "      <td>NaN</td>\n",
       "      <td>NaN</td>\n",
       "      <td>200 EUR</td>\n",
       "      <td>18</td>\n",
       "      <td>36 EUR</td>\n",
       "      <td>NaN</td>\n",
       "      <td>NaN</td>\n",
       "      <td>A</td>\n",
       "      <td>NaN</td>\n",
       "      <td>Booking</td>\n",
       "    </tr>\n",
       "    <tr>\n",
       "      <th>2</th>\n",
       "      <td>3.037388e+09</td>\n",
       "      <td>Yuheng Huang</td>\n",
       "      <td>Yuheng Huang</td>\n",
       "      <td>07.04.2019</td>\n",
       "      <td>08.04.2019</td>\n",
       "      <td>31.03.2019</td>\n",
       "      <td>ok</td>\n",
       "      <td>1</td>\n",
       "      <td>2</td>\n",
       "      <td>NaN</td>\n",
       "      <td>NaN</td>\n",
       "      <td>NaN</td>\n",
       "      <td>39 EUR</td>\n",
       "      <td>18</td>\n",
       "      <td>7.02 EUR</td>\n",
       "      <td>NaN</td>\n",
       "      <td>NaN</td>\n",
       "      <td>C</td>\n",
       "      <td>NaN</td>\n",
       "      <td>Booking</td>\n",
       "    </tr>\n",
       "    <tr>\n",
       "      <th>3</th>\n",
       "      <td>3.181655e+09</td>\n",
       "      <td>Li, Fengju</td>\n",
       "      <td>Fengju Li</td>\n",
       "      <td>10.04.2019</td>\n",
       "      <td>11.04.2019</td>\n",
       "      <td>02.04.2019</td>\n",
       "      <td>ok</td>\n",
       "      <td>1</td>\n",
       "      <td>2</td>\n",
       "      <td>NaN</td>\n",
       "      <td>NaN</td>\n",
       "      <td>NaN</td>\n",
       "      <td>39 EUR</td>\n",
       "      <td>18</td>\n",
       "      <td>7.02 EUR</td>\n",
       "      <td>NaN</td>\n",
       "      <td>NaN</td>\n",
       "      <td>D</td>\n",
       "      <td>8.0</td>\n",
       "      <td>Booking</td>\n",
       "    </tr>\n",
       "    <tr>\n",
       "      <th>4</th>\n",
       "      <td>3.642009e+09</td>\n",
       "      <td>Li, Fengju</td>\n",
       "      <td></td>\n",
       "      <td>11.04.2019</td>\n",
       "      <td>12.04.2019</td>\n",
       "      <td>02.04.2019</td>\n",
       "      <td>ok</td>\n",
       "      <td>1</td>\n",
       "      <td>2</td>\n",
       "      <td>NaN</td>\n",
       "      <td>NaN</td>\n",
       "      <td>NaN</td>\n",
       "      <td>40 EUR</td>\n",
       "      <td>18</td>\n",
       "      <td>7.2 EUR</td>\n",
       "      <td>NaN</td>\n",
       "      <td>NaN</td>\n",
       "      <td>C</td>\n",
       "      <td>8.0</td>\n",
       "      <td>Booking</td>\n",
       "    </tr>\n",
       "  </tbody>\n",
       "</table>\n",
       "</div>"
      ],
      "text/plain": [
       "    Book Number         Booked by    Guest Name(s)    Check-in   Check-out  \\\n",
       "0  2.245705e+09  Veeravalli, Gopi  Gopi Veeravalli  03.04.2019  06.04.2019   \n",
       "1  2.071623e+09    Kretov, Nikita    Nikita Kretov  06.04.2019  11.04.2019   \n",
       "2  3.037388e+09      Yuheng Huang     Yuheng Huang  07.04.2019  08.04.2019   \n",
       "3  3.181655e+09        Li, Fengju        Fengju Li  10.04.2019  11.04.2019   \n",
       "4  3.642009e+09        Li, Fengju                   11.04.2019  12.04.2019   \n",
       "\n",
       "    Booked on Status  Rooms  People  Adults  Children Children's age(s)  \\\n",
       "0  30.03.2019     ok      1       2     NaN       NaN               NaN   \n",
       "1  01.03.2019     ok      1       2     NaN       NaN               NaN   \n",
       "2  31.03.2019     ok      1       2     NaN       NaN               NaN   \n",
       "3  02.04.2019     ok      1       2     NaN       NaN               NaN   \n",
       "4  02.04.2019     ok      1       2     NaN       NaN               NaN   \n",
       "\n",
       "     Price  Commission % Commission Amount Payment Status Payment Method  \\\n",
       "0  117 EUR            18         21.06 EUR            NaN            NaN   \n",
       "1  200 EUR            18            36 EUR            NaN            NaN   \n",
       "2   39 EUR            18          7.02 EUR            NaN            NaN   \n",
       "3   39 EUR            18          7.02 EUR            NaN            NaN   \n",
       "4   40 EUR            18           7.2 EUR            NaN            NaN   \n",
       "\n",
       "  Accommodation  Grade Advertiser  \n",
       "0             A   10.0    Booking  \n",
       "1             A    NaN    Booking  \n",
       "2             C    NaN    Booking  \n",
       "3             D    8.0    Booking  \n",
       "4             C    8.0    Booking  "
      ]
     },
     "execution_count": 14,
     "metadata": {},
     "output_type": "execute_result"
    }
   ],
   "source": [
    "dataBooking2019.head()"
   ]
  },
  {
   "cell_type": "code",
   "execution_count": 15,
   "id": "d6278947",
   "metadata": {},
   "outputs": [],
   "source": [
    "#Renaming dates\n",
    "dataBooking2019.rename(columns={'Check-in': 'Start Date', 'Check-out': 'End Date'}, inplace=True)"
   ]
  },
  {
   "cell_type": "code",
   "execution_count": 16,
   "id": "6bc8f2c2",
   "metadata": {},
   "outputs": [
    {
     "data": {
      "text/plain": [
       "array(['ok', 'cancelled'], dtype=object)"
      ]
     },
     "execution_count": 16,
     "metadata": {},
     "output_type": "execute_result"
    }
   ],
   "source": [
    "#Renaming status\n",
    "dataBooking2019['Status'].unique()"
   ]
  },
  {
   "cell_type": "code",
   "execution_count": 17,
   "id": "bcf0de6c",
   "metadata": {},
   "outputs": [],
   "source": [
    "dataBooking2019['Status'] = dataBooking2019['Status'].replace({'ok': 'Confirmed'})\n",
    "dataBooking2019['Status'] = dataBooking2019['Status'].replace({'cancelled': 'Cancelled'})"
   ]
  },
  {
   "cell_type": "code",
   "execution_count": 18,
   "id": "79b61e5b",
   "metadata": {},
   "outputs": [
    {
     "data": {
      "text/plain": [
       "array([nan,  2.,  3.,  1.,  0.])"
      ]
     },
     "execution_count": 18,
     "metadata": {},
     "output_type": "execute_result"
    }
   ],
   "source": [
    "#Counting adults \n",
    "dataBooking2019['Children'].unique()"
   ]
  },
  {
   "cell_type": "code",
   "execution_count": 19,
   "id": "72980fbe",
   "metadata": {},
   "outputs": [],
   "source": [
    "dataBooking2019['Children'].fillna(0, inplace=True)\n",
    "dataBooking2019['Adults'] = dataBooking2019['People'] - dataBooking2019['Children']"
   ]
  },
  {
   "cell_type": "code",
   "execution_count": 20,
   "id": "34957d93",
   "metadata": {},
   "outputs": [],
   "source": [
    "#Cleaning EUR from commision amount and price\n",
    "dataBooking2019['Commission Amount'] = dataBooking2019['Commission Amount'].str.replace('EUR', '')\n",
    "dataBooking2019['Price'] = dataBooking2019['Price'].str.replace('EUR', '')"
   ]
  },
  {
   "cell_type": "code",
   "execution_count": 21,
   "id": "6e90b5f8",
   "metadata": {},
   "outputs": [],
   "source": [
    "#Calculating commissiona amount without commission\n",
    "dataBooking2019['Commission Amount'] = round(dataBooking2019['Price'].astype(float)*dataBooking2019['Commission %'].astype(int)/100, 2)\n",
    "dataBooking2019['Price'] = round(dataBooking2019['Price'].astype(float) - dataBooking2019['Commission Amount'], 2)"
   ]
  },
  {
   "cell_type": "code",
   "execution_count": 22,
   "id": "68c2b122",
   "metadata": {},
   "outputs": [],
   "source": [
    "#Renaming accomodation\n",
    "mapping = {'A': 'One-Bedroom Apartment with Balcony and Sea View', \n",
    "           'B': 'Studio with Patio', \n",
    "           'C': 'Studio with Patio and Sea View',\n",
    "           'D': 'One-Bedroom Apartment with Patio and Sea View'}\n",
    "\n",
    "dataBooking2019['Accommodation'] = dataBooking2019['Accommodation'].replace(mapping)"
   ]
  },
  {
   "cell_type": "code",
   "execution_count": 23,
   "id": "3aabc52f",
   "metadata": {},
   "outputs": [
    {
     "data": {
      "text/plain": [
       "array(['One-Bedroom Apartment with Balcony and Sea View',\n",
       "       'Studio with Patio and Sea View',\n",
       "       'One-Bedroom Apartment with Patio and Sea View', 'D,A',\n",
       "       'Studio with Patio', 'S'], dtype=object)"
      ]
     },
     "execution_count": 23,
     "metadata": {},
     "output_type": "execute_result"
    }
   ],
   "source": [
    "dataBooking2019['Accommodation'].unique()"
   ]
  },
  {
   "cell_type": "code",
   "execution_count": 24,
   "id": "c951d608",
   "metadata": {},
   "outputs": [],
   "source": [
    "#Editing grade\n",
    "dataBooking2019['Grade'].fillna(0, inplace=True)"
   ]
  },
  {
   "cell_type": "code",
   "execution_count": 25,
   "id": "4a911849",
   "metadata": {},
   "outputs": [],
   "source": [
    "#Dropping unvalid accommodations\n",
    "valid_accommodations = ['One-Bedroom Apartment with Balcony and Sea View', 'Studio with Patio', 'Studio with Patio and Sea View', 'One-Bedroom Apartment with Patio and Sea View']\n",
    "dataBooking2019 = dataBooking2019[dataBooking2019['Accommodation'].isin(valid_accommodations)]"
   ]
  },
  {
   "cell_type": "code",
   "execution_count": 26,
   "id": "8437c564",
   "metadata": {},
   "outputs": [],
   "source": [
    "#Calculating price in $ and RSD\n",
    "# dataBooking2019['Price_$'] = round(dataBooking2019['Price'].astype(float)*1.09, 2)\n",
    "# dataBooking2019['Price_RSD'] = round(dataBooking2019['Price'].astype(float)*117.23, 2)"
   ]
  },
  {
   "cell_type": "code",
   "execution_count": 27,
   "id": "191170ed",
   "metadata": {},
   "outputs": [],
   "source": [
    "#Renaming columns\n",
    "dataBooking2019.rename(columns={'Guest Name(s)': 'Guest Name',  'People': 'NumberOfPeople', 'Adults': 'NumberOfAdults', 'Children': 'NumberOfChildren', \"Children's age(s)\": \"Children's Age\", 'Booked by' : 'Booked By', 'Booked on' : 'Booked On'}, inplace=True)"
   ]
  },
  {
   "cell_type": "code",
   "execution_count": 28,
   "id": "e24d8f2c",
   "metadata": {},
   "outputs": [
    {
     "data": {
      "text/plain": [
       "Index(['Book Number', 'Booked By', 'Guest Name', 'Start Date', 'End Date',\n",
       "       'Booked On', 'Status', 'Rooms', 'NumberOfPeople', 'NumberOfAdults',\n",
       "       'NumberOfChildren', 'Children's Age', 'Price', 'Commission %',\n",
       "       'Commission Amount', 'Payment Status', 'Payment Method',\n",
       "       'Accommodation', 'Grade', 'Advertiser'],\n",
       "      dtype='object')"
      ]
     },
     "execution_count": 28,
     "metadata": {},
     "output_type": "execute_result"
    }
   ],
   "source": [
    "dataBooking2019.columns"
   ]
  },
  {
   "cell_type": "code",
   "execution_count": 29,
   "id": "8b6366d5",
   "metadata": {},
   "outputs": [
    {
     "data": {
      "text/plain": [
       "array([nan, '5, 7', '5, 5', 6, 1, 2, '2, 4', '15, 6', '8, 15', '13, 9',\n",
       "       '10, 5', '16, 17', '12, 12', '4, 1', '14, 10'], dtype=object)"
      ]
     },
     "execution_count": 29,
     "metadata": {},
     "output_type": "execute_result"
    }
   ],
   "source": [
    "dataBooking2019[\"Children's Age\"].unique()"
   ]
  },
  {
   "cell_type": "code",
   "execution_count": 30,
   "id": "c0c21e90",
   "metadata": {},
   "outputs": [
    {
     "data": {
      "text/plain": [
       "Index(['Book Number', 'Booked By', 'Guest Name', 'Start Date', 'End Date',\n",
       "       'Booked On', 'Status', 'Rooms', 'NumberOfPeople', 'NumberOfAdults',\n",
       "       'NumberOfChildren', 'Children's Age', 'Price', 'Commission %',\n",
       "       'Commission Amount', 'Payment Status', 'Payment Method',\n",
       "       'Accommodation', 'Grade', 'Advertiser'],\n",
       "      dtype='object')"
      ]
     },
     "execution_count": 30,
     "metadata": {},
     "output_type": "execute_result"
    }
   ],
   "source": [
    "dataBooking2019.columns"
   ]
  },
  {
   "cell_type": "markdown",
   "id": "3e2ecff0",
   "metadata": {},
   "source": [
    "# 2020"
   ]
  },
  {
   "cell_type": "code",
   "execution_count": 31,
   "id": "2e823850",
   "metadata": {},
   "outputs": [],
   "source": [
    "dataBooking2020 = pd.read_excel('D://Master/SSP/Projekat/data/raw/2020/Booking_2020.xlsx', index_col=0)"
   ]
  },
  {
   "cell_type": "code",
   "execution_count": 32,
   "id": "3d40297a",
   "metadata": {},
   "outputs": [
    {
     "data": {
      "text/html": [
       "<div>\n",
       "<style scoped>\n",
       "    .dataframe tbody tr th:only-of-type {\n",
       "        vertical-align: middle;\n",
       "    }\n",
       "\n",
       "    .dataframe tbody tr th {\n",
       "        vertical-align: top;\n",
       "    }\n",
       "\n",
       "    .dataframe thead th {\n",
       "        text-align: right;\n",
       "    }\n",
       "</style>\n",
       "<table border=\"1\" class=\"dataframe\">\n",
       "  <thead>\n",
       "    <tr style=\"text-align: right;\">\n",
       "      <th></th>\n",
       "      <th>Booked by</th>\n",
       "      <th>Guest Name(s)</th>\n",
       "      <th>Check-in</th>\n",
       "      <th>Check-out</th>\n",
       "      <th>Booked on</th>\n",
       "      <th>Status</th>\n",
       "      <th>Rooms</th>\n",
       "      <th>People</th>\n",
       "      <th>Adults</th>\n",
       "      <th>Children</th>\n",
       "      <th>Children's age(s)</th>\n",
       "      <th>Price</th>\n",
       "      <th>Commission %</th>\n",
       "      <th>Commission Amount</th>\n",
       "      <th>Payment Status</th>\n",
       "      <th>Payment Method</th>\n",
       "      <th>Acommodation</th>\n",
       "      <th>Grade</th>\n",
       "    </tr>\n",
       "    <tr>\n",
       "      <th>Book Number</th>\n",
       "      <th></th>\n",
       "      <th></th>\n",
       "      <th></th>\n",
       "      <th></th>\n",
       "      <th></th>\n",
       "      <th></th>\n",
       "      <th></th>\n",
       "      <th></th>\n",
       "      <th></th>\n",
       "      <th></th>\n",
       "      <th></th>\n",
       "      <th></th>\n",
       "      <th></th>\n",
       "      <th></th>\n",
       "      <th></th>\n",
       "      <th></th>\n",
       "      <th></th>\n",
       "      <th></th>\n",
       "    </tr>\n",
       "  </thead>\n",
       "  <tbody>\n",
       "    <tr>\n",
       "      <th>3044838719</th>\n",
       "      <td>Mária, Sárikné Deutsch</td>\n",
       "      <td>Sárikné Deutsch Mária</td>\n",
       "      <td>2020-07-10</td>\n",
       "      <td>2020-07-15</td>\n",
       "      <td>2020-01-06 17:36:36</td>\n",
       "      <td>ok</td>\n",
       "      <td>1</td>\n",
       "      <td>2</td>\n",
       "      <td>NaN</td>\n",
       "      <td>NaN</td>\n",
       "      <td>NaN</td>\n",
       "      <td>360 EUR</td>\n",
       "      <td>18</td>\n",
       "      <td>64.8 EUR</td>\n",
       "      <td>NaN</td>\n",
       "      <td>NaN</td>\n",
       "      <td>C</td>\n",
       "      <td>9.0</td>\n",
       "    </tr>\n",
       "    <tr>\n",
       "      <th>2210088623</th>\n",
       "      <td>Gniazdowska, Monika</td>\n",
       "      <td>Izabela Klimczewska</td>\n",
       "      <td>2020-07-15</td>\n",
       "      <td>2020-07-17</td>\n",
       "      <td>2020-07-14 21:17:35</td>\n",
       "      <td>ok</td>\n",
       "      <td>1</td>\n",
       "      <td>2</td>\n",
       "      <td>NaN</td>\n",
       "      <td>NaN</td>\n",
       "      <td>NaN</td>\n",
       "      <td>78 EUR</td>\n",
       "      <td>18</td>\n",
       "      <td>14.04 EUR</td>\n",
       "      <td>NaN</td>\n",
       "      <td>NaN</td>\n",
       "      <td>C</td>\n",
       "      <td>10.0</td>\n",
       "    </tr>\n",
       "    <tr>\n",
       "      <th>2310781853</th>\n",
       "      <td>Sárkány, Előd Szilveszter</td>\n",
       "      <td>Aleksandra Gęsicka</td>\n",
       "      <td>2020-07-16</td>\n",
       "      <td>2020-07-18</td>\n",
       "      <td>2020-07-14 11:40:39</td>\n",
       "      <td>ok</td>\n",
       "      <td>1</td>\n",
       "      <td>2</td>\n",
       "      <td>NaN</td>\n",
       "      <td>NaN</td>\n",
       "      <td>NaN</td>\n",
       "      <td>58 EUR</td>\n",
       "      <td>18</td>\n",
       "      <td>10.44 EUR</td>\n",
       "      <td>Paid online</td>\n",
       "      <td>Virtual card</td>\n",
       "      <td>A</td>\n",
       "      <td>7.0</td>\n",
       "    </tr>\n",
       "    <tr>\n",
       "      <th>2274513344</th>\n",
       "      <td>GWIZDZ, ALICJA</td>\n",
       "      <td>Anna Przeworska</td>\n",
       "      <td>2020-07-23</td>\n",
       "      <td>2020-07-26</td>\n",
       "      <td>2020-07-21 21:23:02</td>\n",
       "      <td>ok</td>\n",
       "      <td>1</td>\n",
       "      <td>2</td>\n",
       "      <td>NaN</td>\n",
       "      <td>NaN</td>\n",
       "      <td>NaN</td>\n",
       "      <td>87 EUR</td>\n",
       "      <td>18</td>\n",
       "      <td>15.66 EUR</td>\n",
       "      <td>Paid online</td>\n",
       "      <td>Virtual card</td>\n",
       "      <td>A</td>\n",
       "      <td>NaN</td>\n",
       "    </tr>\n",
       "    <tr>\n",
       "      <th>3612440501</th>\n",
       "      <td>Kolenda, Anna</td>\n",
       "      <td>Adam Filiks</td>\n",
       "      <td>2020-07-23</td>\n",
       "      <td>2020-07-26</td>\n",
       "      <td>2020-07-22 08:40:19</td>\n",
       "      <td>ok</td>\n",
       "      <td>1</td>\n",
       "      <td>2</td>\n",
       "      <td>NaN</td>\n",
       "      <td>NaN</td>\n",
       "      <td>NaN</td>\n",
       "      <td>117 EUR</td>\n",
       "      <td>18</td>\n",
       "      <td>21.06 EUR</td>\n",
       "      <td>NaN</td>\n",
       "      <td>NaN</td>\n",
       "      <td>D</td>\n",
       "      <td>10.0</td>\n",
       "    </tr>\n",
       "  </tbody>\n",
       "</table>\n",
       "</div>"
      ],
      "text/plain": [
       "                             Booked by          Guest Name(s)    Check-in  \\\n",
       "Book Number                                                                 \n",
       "3044838719      Mária, Sárikné Deutsch  Sárikné Deutsch Mária  2020-07-10   \n",
       "2210088623         Gniazdowska, Monika    Izabela Klimczewska  2020-07-15   \n",
       "2310781853   Sárkány, Előd Szilveszter     Aleksandra Gęsicka  2020-07-16   \n",
       "2274513344              GWIZDZ, ALICJA        Anna Przeworska  2020-07-23   \n",
       "3612440501               Kolenda, Anna            Adam Filiks  2020-07-23   \n",
       "\n",
       "              Check-out            Booked on Status  Rooms  People  Adults  \\\n",
       "Book Number                                                                  \n",
       "3044838719   2020-07-15  2020-01-06 17:36:36     ok      1       2     NaN   \n",
       "2210088623   2020-07-17  2020-07-14 21:17:35     ok      1       2     NaN   \n",
       "2310781853   2020-07-18  2020-07-14 11:40:39     ok      1       2     NaN   \n",
       "2274513344   2020-07-26  2020-07-21 21:23:02     ok      1       2     NaN   \n",
       "3612440501   2020-07-26  2020-07-22 08:40:19     ok      1       2     NaN   \n",
       "\n",
       "             Children Children's age(s)    Price  Commission %  \\\n",
       "Book Number                                                      \n",
       "3044838719        NaN               NaN  360 EUR            18   \n",
       "2210088623        NaN               NaN   78 EUR            18   \n",
       "2310781853        NaN               NaN   58 EUR            18   \n",
       "2274513344        NaN               NaN   87 EUR            18   \n",
       "3612440501        NaN               NaN  117 EUR            18   \n",
       "\n",
       "            Commission Amount Payment Status Payment Method Acommodation  \\\n",
       "Book Number                                                                \n",
       "3044838719           64.8 EUR            NaN            NaN            C   \n",
       "2210088623          14.04 EUR            NaN            NaN            C   \n",
       "2310781853          10.44 EUR    Paid online   Virtual card            A   \n",
       "2274513344          15.66 EUR    Paid online   Virtual card            A   \n",
       "3612440501          21.06 EUR            NaN            NaN            D   \n",
       "\n",
       "             Grade  \n",
       "Book Number         \n",
       "3044838719     9.0  \n",
       "2210088623    10.0  \n",
       "2310781853     7.0  \n",
       "2274513344     NaN  \n",
       "3612440501    10.0  "
      ]
     },
     "execution_count": 32,
     "metadata": {},
     "output_type": "execute_result"
    }
   ],
   "source": [
    "dataBooking2020.head()"
   ]
  },
  {
   "cell_type": "code",
   "execution_count": 33,
   "id": "552ebb1f",
   "metadata": {},
   "outputs": [],
   "source": [
    "def processingBooking(dataBooking):\n",
    "    dataBooking['Advertiser'] = 'Booking'\n",
    "    dataBooking['Guest Name(s)'].fillna('', inplace=True)\n",
    "    dataBooking['Booked by'].fillna('', inplace=True)\n",
    "    dataBooking['Guest Name(s)'] = dataBooking['Guest Name(s)'].str.title()\n",
    "    dataBooking['Booked by'] = dataBooking['Booked by'].str.title()\n",
    "    dataBooking = dataBooking[dataBooking['Check-in'] < dataBooking['Check-out']]\n",
    "    dataBooking = dataBooking[pd.to_datetime(dataBooking['Booked on']).dt.date <= pd.to_datetime(dataBooking['Check-in'])]\n",
    "    dataBooking['Check-in'] = pd.to_datetime(dataBooking['Check-in']).dt.strftime('%d.%m.%Y')\n",
    "    dataBooking['Check-out'] = pd.to_datetime(dataBooking['Check-out']).dt.strftime('%d.%m.%Y')\n",
    "    dataBooking['Booked on'] = pd.to_datetime(dataBooking['Booked on']).dt.strftime('%d.%m.%Y')\n",
    "    dataBooking.rename(columns={'Check-in': 'Start date', 'Check-out': 'End date'}, inplace=True)\n",
    "    \n",
    "    dataBooking['Status'] = dataBooking['Status'].replace({'ok': 'Confirmed'})\n",
    "    dataBooking['Status'] = dataBooking['Status'].replace({'OK': 'Confirmed'})\n",
    "    dataBooking['Status'] = dataBooking['Status'].replace({'cancelled': 'Cancelled'})\n",
    "    dataBooking['Status'] = dataBooking['Status'].replace({'canceled': 'Cancelled'})\n",
    "    dataBooking['Children'].fillna(0, inplace=True)\n",
    "    dataBooking['Adults'] = dataBooking['People'] - dataBooking['Children']\n",
    "    dataBooking['Commission Amount'] = dataBooking['Commission Amount'].str.replace('EUR', '')\n",
    "    dataBooking['Price'] = dataBooking['Price'].str.replace('EUR', '')\n",
    "    dataBooking['Commission Amount'] = round(dataBooking['Price'].astype(float)*dataBooking['Commission %'].astype(int)/100, 2)\n",
    "    dataBooking['Price'] = round(dataBooking['Price'].astype(float) - dataBooking['Commission Amount'], 2)\n",
    "    \n",
    "    mapping = {'A': 'One-Bedroom Apartment with Balcony and Sea View', \n",
    "           'B': 'Studio with Patio', \n",
    "           'C': 'Studio with Patio and Sea View',\n",
    "           'D': 'One-Bedroom Apartment with Patio and Sea View'}\n",
    "    \n",
    "    dataBooking['Accommodation'] = dataBooking['Accommodation'].replace(mapping)\n",
    "\n",
    "    dataBooking['Grade'].fillna(0, inplace=True)\n",
    "    valid_accommodations = ['One-Bedroom Apartment with Balcony and Sea View', 'Studio with Patio', 'Studio with Patio and Sea View', 'One-Bedroom Apartment with Patio and Sea View']\n",
    "    dataBooking = dataBooking[dataBooking['Accommodation'].isin(valid_accommodations)]\n",
    "    \n",
    "#     dataBooking['Price_$'] = round(dataBooking['Price'].astype(float)*1.09, 2)\n",
    "#     dataBooking['Price_RSD'] = round(dataBooking['Price'].astype(float)*117.23, 2)\n",
    "    dataBooking.rename(columns={'Guest Name(s)': 'Guest name',  'People': 'NumberOfPeople', 'Adults': 'NumberOfAdults', 'Children': 'NumberOfChildren', \"Children's age(s)\": \"Children's age\"}, inplace=True)\n",
    "    return dataBooking"
   ]
  },
  {
   "cell_type": "code",
   "execution_count": 34,
   "id": "ed8277a8",
   "metadata": {},
   "outputs": [],
   "source": [
    "# Renaming column\n",
    "dataBooking2020.rename(columns = {'Acommodation' : 'Accommodation'}, inplace = True)"
   ]
  },
  {
   "cell_type": "code",
   "execution_count": 35,
   "id": "36dab2b1",
   "metadata": {},
   "outputs": [],
   "source": [
    "dataBooking2020 = processingBooking(dataBooking2020)"
   ]
  },
  {
   "cell_type": "code",
   "execution_count": 36,
   "id": "f1108694",
   "metadata": {},
   "outputs": [
    {
     "data": {
      "text/html": [
       "<div>\n",
       "<style scoped>\n",
       "    .dataframe tbody tr th:only-of-type {\n",
       "        vertical-align: middle;\n",
       "    }\n",
       "\n",
       "    .dataframe tbody tr th {\n",
       "        vertical-align: top;\n",
       "    }\n",
       "\n",
       "    .dataframe thead th {\n",
       "        text-align: right;\n",
       "    }\n",
       "</style>\n",
       "<table border=\"1\" class=\"dataframe\">\n",
       "  <thead>\n",
       "    <tr style=\"text-align: right;\">\n",
       "      <th></th>\n",
       "      <th>Booked by</th>\n",
       "      <th>Guest name</th>\n",
       "      <th>Start date</th>\n",
       "      <th>End date</th>\n",
       "      <th>Booked on</th>\n",
       "      <th>Status</th>\n",
       "      <th>Rooms</th>\n",
       "      <th>NumberOfPeople</th>\n",
       "      <th>NumberOfAdults</th>\n",
       "      <th>NumberOfChildren</th>\n",
       "      <th>Children's age</th>\n",
       "      <th>Price</th>\n",
       "      <th>Commission %</th>\n",
       "      <th>Commission Amount</th>\n",
       "      <th>Payment Status</th>\n",
       "      <th>Payment Method</th>\n",
       "      <th>Accommodation</th>\n",
       "      <th>Grade</th>\n",
       "      <th>Advertiser</th>\n",
       "    </tr>\n",
       "    <tr>\n",
       "      <th>Book Number</th>\n",
       "      <th></th>\n",
       "      <th></th>\n",
       "      <th></th>\n",
       "      <th></th>\n",
       "      <th></th>\n",
       "      <th></th>\n",
       "      <th></th>\n",
       "      <th></th>\n",
       "      <th></th>\n",
       "      <th></th>\n",
       "      <th></th>\n",
       "      <th></th>\n",
       "      <th></th>\n",
       "      <th></th>\n",
       "      <th></th>\n",
       "      <th></th>\n",
       "      <th></th>\n",
       "      <th></th>\n",
       "      <th></th>\n",
       "    </tr>\n",
       "  </thead>\n",
       "  <tbody>\n",
       "    <tr>\n",
       "      <th>3044838719</th>\n",
       "      <td>Mária, Sárikné Deutsch</td>\n",
       "      <td>Sárikné Deutsch Mária</td>\n",
       "      <td>10.07.2020</td>\n",
       "      <td>15.07.2020</td>\n",
       "      <td>06.01.2020</td>\n",
       "      <td>Confirmed</td>\n",
       "      <td>1</td>\n",
       "      <td>2</td>\n",
       "      <td>2.0</td>\n",
       "      <td>0.0</td>\n",
       "      <td>NaN</td>\n",
       "      <td>295.20</td>\n",
       "      <td>18</td>\n",
       "      <td>64.80</td>\n",
       "      <td>NaN</td>\n",
       "      <td>NaN</td>\n",
       "      <td>Studio with Patio and Sea View</td>\n",
       "      <td>9.0</td>\n",
       "      <td>Booking</td>\n",
       "    </tr>\n",
       "    <tr>\n",
       "      <th>2210088623</th>\n",
       "      <td>Gniazdowska, Monika</td>\n",
       "      <td>Izabela Klimczewska</td>\n",
       "      <td>15.07.2020</td>\n",
       "      <td>17.07.2020</td>\n",
       "      <td>14.07.2020</td>\n",
       "      <td>Confirmed</td>\n",
       "      <td>1</td>\n",
       "      <td>2</td>\n",
       "      <td>2.0</td>\n",
       "      <td>0.0</td>\n",
       "      <td>NaN</td>\n",
       "      <td>63.96</td>\n",
       "      <td>18</td>\n",
       "      <td>14.04</td>\n",
       "      <td>NaN</td>\n",
       "      <td>NaN</td>\n",
       "      <td>Studio with Patio and Sea View</td>\n",
       "      <td>10.0</td>\n",
       "      <td>Booking</td>\n",
       "    </tr>\n",
       "    <tr>\n",
       "      <th>2310781853</th>\n",
       "      <td>Sárkány, Előd Szilveszter</td>\n",
       "      <td>Aleksandra Gęsicka</td>\n",
       "      <td>16.07.2020</td>\n",
       "      <td>18.07.2020</td>\n",
       "      <td>14.07.2020</td>\n",
       "      <td>Confirmed</td>\n",
       "      <td>1</td>\n",
       "      <td>2</td>\n",
       "      <td>2.0</td>\n",
       "      <td>0.0</td>\n",
       "      <td>NaN</td>\n",
       "      <td>47.56</td>\n",
       "      <td>18</td>\n",
       "      <td>10.44</td>\n",
       "      <td>Paid online</td>\n",
       "      <td>Virtual card</td>\n",
       "      <td>One-Bedroom Apartment with Balcony and Sea View</td>\n",
       "      <td>7.0</td>\n",
       "      <td>Booking</td>\n",
       "    </tr>\n",
       "    <tr>\n",
       "      <th>2274513344</th>\n",
       "      <td>Gwizdz, Alicja</td>\n",
       "      <td>Anna Przeworska</td>\n",
       "      <td>23.07.2020</td>\n",
       "      <td>26.07.2020</td>\n",
       "      <td>21.07.2020</td>\n",
       "      <td>Confirmed</td>\n",
       "      <td>1</td>\n",
       "      <td>2</td>\n",
       "      <td>2.0</td>\n",
       "      <td>0.0</td>\n",
       "      <td>NaN</td>\n",
       "      <td>71.34</td>\n",
       "      <td>18</td>\n",
       "      <td>15.66</td>\n",
       "      <td>Paid online</td>\n",
       "      <td>Virtual card</td>\n",
       "      <td>One-Bedroom Apartment with Balcony and Sea View</td>\n",
       "      <td>0.0</td>\n",
       "      <td>Booking</td>\n",
       "    </tr>\n",
       "    <tr>\n",
       "      <th>3612440501</th>\n",
       "      <td>Kolenda, Anna</td>\n",
       "      <td>Adam Filiks</td>\n",
       "      <td>23.07.2020</td>\n",
       "      <td>26.07.2020</td>\n",
       "      <td>22.07.2020</td>\n",
       "      <td>Confirmed</td>\n",
       "      <td>1</td>\n",
       "      <td>2</td>\n",
       "      <td>2.0</td>\n",
       "      <td>0.0</td>\n",
       "      <td>NaN</td>\n",
       "      <td>95.94</td>\n",
       "      <td>18</td>\n",
       "      <td>21.06</td>\n",
       "      <td>NaN</td>\n",
       "      <td>NaN</td>\n",
       "      <td>One-Bedroom Apartment with Patio and Sea View</td>\n",
       "      <td>10.0</td>\n",
       "      <td>Booking</td>\n",
       "    </tr>\n",
       "  </tbody>\n",
       "</table>\n",
       "</div>"
      ],
      "text/plain": [
       "                             Booked by             Guest name  Start date  \\\n",
       "Book Number                                                                 \n",
       "3044838719      Mária, Sárikné Deutsch  Sárikné Deutsch Mária  10.07.2020   \n",
       "2210088623         Gniazdowska, Monika    Izabela Klimczewska  15.07.2020   \n",
       "2310781853   Sárkány, Előd Szilveszter     Aleksandra Gęsicka  16.07.2020   \n",
       "2274513344              Gwizdz, Alicja        Anna Przeworska  23.07.2020   \n",
       "3612440501               Kolenda, Anna            Adam Filiks  23.07.2020   \n",
       "\n",
       "               End date   Booked on     Status  Rooms  NumberOfPeople  \\\n",
       "Book Number                                                             \n",
       "3044838719   15.07.2020  06.01.2020  Confirmed      1               2   \n",
       "2210088623   17.07.2020  14.07.2020  Confirmed      1               2   \n",
       "2310781853   18.07.2020  14.07.2020  Confirmed      1               2   \n",
       "2274513344   26.07.2020  21.07.2020  Confirmed      1               2   \n",
       "3612440501   26.07.2020  22.07.2020  Confirmed      1               2   \n",
       "\n",
       "             NumberOfAdults  NumberOfChildren Children's age   Price  \\\n",
       "Book Number                                                            \n",
       "3044838719              2.0               0.0            NaN  295.20   \n",
       "2210088623              2.0               0.0            NaN   63.96   \n",
       "2310781853              2.0               0.0            NaN   47.56   \n",
       "2274513344              2.0               0.0            NaN   71.34   \n",
       "3612440501              2.0               0.0            NaN   95.94   \n",
       "\n",
       "             Commission %  Commission Amount Payment Status Payment Method  \\\n",
       "Book Number                                                                  \n",
       "3044838719             18              64.80            NaN            NaN   \n",
       "2210088623             18              14.04            NaN            NaN   \n",
       "2310781853             18              10.44    Paid online   Virtual card   \n",
       "2274513344             18              15.66    Paid online   Virtual card   \n",
       "3612440501             18              21.06            NaN            NaN   \n",
       "\n",
       "                                               Accommodation  Grade Advertiser  \n",
       "Book Number                                                                     \n",
       "3044838719                    Studio with Patio and Sea View    9.0    Booking  \n",
       "2210088623                    Studio with Patio and Sea View   10.0    Booking  \n",
       "2310781853   One-Bedroom Apartment with Balcony and Sea View    7.0    Booking  \n",
       "2274513344   One-Bedroom Apartment with Balcony and Sea View    0.0    Booking  \n",
       "3612440501     One-Bedroom Apartment with Patio and Sea View   10.0    Booking  "
      ]
     },
     "execution_count": 36,
     "metadata": {},
     "output_type": "execute_result"
    }
   ],
   "source": [
    "dataBooking2020.head()"
   ]
  },
  {
   "cell_type": "code",
   "execution_count": 37,
   "id": "3c13fda2",
   "metadata": {},
   "outputs": [
    {
     "data": {
      "text/plain": [
       "array(['Studio with Patio and Sea View',\n",
       "       'One-Bedroom Apartment with Balcony and Sea View',\n",
       "       'One-Bedroom Apartment with Patio and Sea View',\n",
       "       'Studio with Patio'], dtype=object)"
      ]
     },
     "execution_count": 37,
     "metadata": {},
     "output_type": "execute_result"
    }
   ],
   "source": [
    "dataBooking2020['Accommodation'].unique()"
   ]
  },
  {
   "cell_type": "code",
   "execution_count": 38,
   "id": "8dfcec0b",
   "metadata": {},
   "outputs": [
    {
     "data": {
      "text/plain": [
       "Index(['Booked by', 'Guest name', 'Start date', 'End date', 'Booked on',\n",
       "       'Status', 'Rooms', 'NumberOfPeople', 'NumberOfAdults',\n",
       "       'NumberOfChildren', 'Children's age', 'Price', 'Commission %',\n",
       "       'Commission Amount', 'Payment Status', 'Payment Method',\n",
       "       'Accommodation', 'Grade', 'Advertiser'],\n",
       "      dtype='object')"
      ]
     },
     "execution_count": 38,
     "metadata": {},
     "output_type": "execute_result"
    }
   ],
   "source": [
    "dataBooking2020.columns"
   ]
  },
  {
   "cell_type": "code",
   "execution_count": 39,
   "id": "01a18998",
   "metadata": {},
   "outputs": [
    {
     "name": "stdout",
     "output_type": "stream",
     "text": [
      "Column names in the two DataFrames are not the same.\n"
     ]
    }
   ],
   "source": [
    "# Check if dataframes have the same column name\n",
    "column_names_dataBooking2019 = set(dataBooking2019.columns)\n",
    "column_names_dataBooking2020 = set(dataBooking2020.columns)\n",
    "\n",
    "if column_names_dataBooking2019 == column_names_dataBooking2020:\n",
    "    print(\"Both DataFrames have the same column names.\")\n",
    "else:\n",
    "    print(\"Column names in the two DataFrames are not the same.\")"
   ]
  },
  {
   "cell_type": "code",
   "execution_count": 40,
   "id": "8f2a2f22",
   "metadata": {},
   "outputs": [
    {
     "data": {
      "text/plain": [
       "array(['Confirmed', 'Cancelled'], dtype=object)"
      ]
     },
     "execution_count": 40,
     "metadata": {},
     "output_type": "execute_result"
    }
   ],
   "source": [
    "dataBooking2020['Status'].unique()"
   ]
  },
  {
   "cell_type": "code",
   "execution_count": 41,
   "id": "33fc1267",
   "metadata": {},
   "outputs": [
    {
     "data": {
      "text/plain": [
       "array([1], dtype=int64)"
      ]
     },
     "execution_count": 41,
     "metadata": {},
     "output_type": "execute_result"
    }
   ],
   "source": [
    "dataBooking2020['Rooms'].unique()"
   ]
  },
  {
   "cell_type": "code",
   "execution_count": 42,
   "id": "e7a141aa",
   "metadata": {},
   "outputs": [
    {
     "data": {
      "text/plain": [
       "array([2, 3, 1, 4], dtype=int64)"
      ]
     },
     "execution_count": 42,
     "metadata": {},
     "output_type": "execute_result"
    }
   ],
   "source": [
    "dataBooking2020['NumberOfPeople'].unique()"
   ]
  },
  {
   "cell_type": "code",
   "execution_count": 43,
   "id": "da2f6682",
   "metadata": {},
   "outputs": [
    {
     "data": {
      "text/plain": [
       "array([2., 3., 1., 4.])"
      ]
     },
     "execution_count": 43,
     "metadata": {},
     "output_type": "execute_result"
    }
   ],
   "source": [
    "dataBooking2020['NumberOfAdults'].unique()"
   ]
  },
  {
   "cell_type": "code",
   "execution_count": 44,
   "id": "52eaa123",
   "metadata": {},
   "outputs": [
    {
     "data": {
      "text/plain": [
       "array([0., 1., 2.])"
      ]
     },
     "execution_count": 44,
     "metadata": {},
     "output_type": "execute_result"
    }
   ],
   "source": [
    "dataBooking2020['NumberOfChildren'].unique()"
   ]
  },
  {
   "cell_type": "code",
   "execution_count": 45,
   "id": "4025b76d",
   "metadata": {},
   "outputs": [
    {
     "data": {
      "text/plain": [
       "array([nan, 17, 0, 1, '6, 3', 12], dtype=object)"
      ]
     },
     "execution_count": 45,
     "metadata": {},
     "output_type": "execute_result"
    }
   ],
   "source": [
    "dataBooking2020[\"Children's age\"].unique()"
   ]
  },
  {
   "cell_type": "code",
   "execution_count": 46,
   "id": "118f644c",
   "metadata": {},
   "outputs": [
    {
     "data": {
      "text/plain": [
       "array([18], dtype=int64)"
      ]
     },
     "execution_count": 46,
     "metadata": {},
     "output_type": "execute_result"
    }
   ],
   "source": [
    "dataBooking2020['Commission %'].unique()"
   ]
  },
  {
   "cell_type": "code",
   "execution_count": 47,
   "id": "7e8cd9bb",
   "metadata": {},
   "outputs": [
    {
     "data": {
      "text/plain": [
       "array([nan, 'Paid online'], dtype=object)"
      ]
     },
     "execution_count": 47,
     "metadata": {},
     "output_type": "execute_result"
    }
   ],
   "source": [
    "dataBooking2020['Payment Status'].unique()"
   ]
  },
  {
   "cell_type": "code",
   "execution_count": 48,
   "id": "1cd8f164",
   "metadata": {},
   "outputs": [
    {
     "data": {
      "text/plain": [
       "array([nan, 'Virtual card'], dtype=object)"
      ]
     },
     "execution_count": 48,
     "metadata": {},
     "output_type": "execute_result"
    }
   ],
   "source": [
    "dataBooking2020['Payment Method'].unique()"
   ]
  },
  {
   "cell_type": "code",
   "execution_count": 49,
   "id": "533c3970",
   "metadata": {},
   "outputs": [
    {
     "data": {
      "text/plain": [
       "array([ 9., 10.,  7.,  0.,  8.])"
      ]
     },
     "execution_count": 49,
     "metadata": {},
     "output_type": "execute_result"
    }
   ],
   "source": [
    "dataBooking2020['Grade'].unique()"
   ]
  },
  {
   "cell_type": "code",
   "execution_count": 50,
   "id": "032ff901",
   "metadata": {},
   "outputs": [],
   "source": [
    "dataBooking2020 = dataBooking2020.reset_index()"
   ]
  },
  {
   "cell_type": "code",
   "execution_count": 51,
   "id": "c86989e4",
   "metadata": {},
   "outputs": [
    {
     "data": {
      "text/html": [
       "<div>\n",
       "<style scoped>\n",
       "    .dataframe tbody tr th:only-of-type {\n",
       "        vertical-align: middle;\n",
       "    }\n",
       "\n",
       "    .dataframe tbody tr th {\n",
       "        vertical-align: top;\n",
       "    }\n",
       "\n",
       "    .dataframe thead th {\n",
       "        text-align: right;\n",
       "    }\n",
       "</style>\n",
       "<table border=\"1\" class=\"dataframe\">\n",
       "  <thead>\n",
       "    <tr style=\"text-align: right;\">\n",
       "      <th></th>\n",
       "      <th>Book Number</th>\n",
       "      <th>Booked by</th>\n",
       "      <th>Guest name</th>\n",
       "      <th>Start date</th>\n",
       "      <th>End date</th>\n",
       "      <th>Booked on</th>\n",
       "      <th>Status</th>\n",
       "      <th>Rooms</th>\n",
       "      <th>NumberOfPeople</th>\n",
       "      <th>NumberOfAdults</th>\n",
       "      <th>NumberOfChildren</th>\n",
       "      <th>Children's age</th>\n",
       "      <th>Price</th>\n",
       "      <th>Commission %</th>\n",
       "      <th>Commission Amount</th>\n",
       "      <th>Payment Status</th>\n",
       "      <th>Payment Method</th>\n",
       "      <th>Accommodation</th>\n",
       "      <th>Grade</th>\n",
       "      <th>Advertiser</th>\n",
       "    </tr>\n",
       "  </thead>\n",
       "  <tbody>\n",
       "    <tr>\n",
       "      <th>0</th>\n",
       "      <td>3044838719</td>\n",
       "      <td>Mária, Sárikné Deutsch</td>\n",
       "      <td>Sárikné Deutsch Mária</td>\n",
       "      <td>10.07.2020</td>\n",
       "      <td>15.07.2020</td>\n",
       "      <td>06.01.2020</td>\n",
       "      <td>Confirmed</td>\n",
       "      <td>1</td>\n",
       "      <td>2</td>\n",
       "      <td>2.0</td>\n",
       "      <td>0.0</td>\n",
       "      <td>NaN</td>\n",
       "      <td>295.20</td>\n",
       "      <td>18</td>\n",
       "      <td>64.80</td>\n",
       "      <td>NaN</td>\n",
       "      <td>NaN</td>\n",
       "      <td>Studio with Patio and Sea View</td>\n",
       "      <td>9.0</td>\n",
       "      <td>Booking</td>\n",
       "    </tr>\n",
       "    <tr>\n",
       "      <th>1</th>\n",
       "      <td>2210088623</td>\n",
       "      <td>Gniazdowska, Monika</td>\n",
       "      <td>Izabela Klimczewska</td>\n",
       "      <td>15.07.2020</td>\n",
       "      <td>17.07.2020</td>\n",
       "      <td>14.07.2020</td>\n",
       "      <td>Confirmed</td>\n",
       "      <td>1</td>\n",
       "      <td>2</td>\n",
       "      <td>2.0</td>\n",
       "      <td>0.0</td>\n",
       "      <td>NaN</td>\n",
       "      <td>63.96</td>\n",
       "      <td>18</td>\n",
       "      <td>14.04</td>\n",
       "      <td>NaN</td>\n",
       "      <td>NaN</td>\n",
       "      <td>Studio with Patio and Sea View</td>\n",
       "      <td>10.0</td>\n",
       "      <td>Booking</td>\n",
       "    </tr>\n",
       "    <tr>\n",
       "      <th>2</th>\n",
       "      <td>2310781853</td>\n",
       "      <td>Sárkány, Előd Szilveszter</td>\n",
       "      <td>Aleksandra Gęsicka</td>\n",
       "      <td>16.07.2020</td>\n",
       "      <td>18.07.2020</td>\n",
       "      <td>14.07.2020</td>\n",
       "      <td>Confirmed</td>\n",
       "      <td>1</td>\n",
       "      <td>2</td>\n",
       "      <td>2.0</td>\n",
       "      <td>0.0</td>\n",
       "      <td>NaN</td>\n",
       "      <td>47.56</td>\n",
       "      <td>18</td>\n",
       "      <td>10.44</td>\n",
       "      <td>Paid online</td>\n",
       "      <td>Virtual card</td>\n",
       "      <td>One-Bedroom Apartment with Balcony and Sea View</td>\n",
       "      <td>7.0</td>\n",
       "      <td>Booking</td>\n",
       "    </tr>\n",
       "    <tr>\n",
       "      <th>3</th>\n",
       "      <td>2274513344</td>\n",
       "      <td>Gwizdz, Alicja</td>\n",
       "      <td>Anna Przeworska</td>\n",
       "      <td>23.07.2020</td>\n",
       "      <td>26.07.2020</td>\n",
       "      <td>21.07.2020</td>\n",
       "      <td>Confirmed</td>\n",
       "      <td>1</td>\n",
       "      <td>2</td>\n",
       "      <td>2.0</td>\n",
       "      <td>0.0</td>\n",
       "      <td>NaN</td>\n",
       "      <td>71.34</td>\n",
       "      <td>18</td>\n",
       "      <td>15.66</td>\n",
       "      <td>Paid online</td>\n",
       "      <td>Virtual card</td>\n",
       "      <td>One-Bedroom Apartment with Balcony and Sea View</td>\n",
       "      <td>0.0</td>\n",
       "      <td>Booking</td>\n",
       "    </tr>\n",
       "    <tr>\n",
       "      <th>4</th>\n",
       "      <td>3612440501</td>\n",
       "      <td>Kolenda, Anna</td>\n",
       "      <td>Adam Filiks</td>\n",
       "      <td>23.07.2020</td>\n",
       "      <td>26.07.2020</td>\n",
       "      <td>22.07.2020</td>\n",
       "      <td>Confirmed</td>\n",
       "      <td>1</td>\n",
       "      <td>2</td>\n",
       "      <td>2.0</td>\n",
       "      <td>0.0</td>\n",
       "      <td>NaN</td>\n",
       "      <td>95.94</td>\n",
       "      <td>18</td>\n",
       "      <td>21.06</td>\n",
       "      <td>NaN</td>\n",
       "      <td>NaN</td>\n",
       "      <td>One-Bedroom Apartment with Patio and Sea View</td>\n",
       "      <td>10.0</td>\n",
       "      <td>Booking</td>\n",
       "    </tr>\n",
       "  </tbody>\n",
       "</table>\n",
       "</div>"
      ],
      "text/plain": [
       "   Book Number                  Booked by             Guest name  Start date  \\\n",
       "0   3044838719     Mária, Sárikné Deutsch  Sárikné Deutsch Mária  10.07.2020   \n",
       "1   2210088623        Gniazdowska, Monika    Izabela Klimczewska  15.07.2020   \n",
       "2   2310781853  Sárkány, Előd Szilveszter     Aleksandra Gęsicka  16.07.2020   \n",
       "3   2274513344             Gwizdz, Alicja        Anna Przeworska  23.07.2020   \n",
       "4   3612440501              Kolenda, Anna            Adam Filiks  23.07.2020   \n",
       "\n",
       "     End date   Booked on     Status  Rooms  NumberOfPeople  NumberOfAdults  \\\n",
       "0  15.07.2020  06.01.2020  Confirmed      1               2             2.0   \n",
       "1  17.07.2020  14.07.2020  Confirmed      1               2             2.0   \n",
       "2  18.07.2020  14.07.2020  Confirmed      1               2             2.0   \n",
       "3  26.07.2020  21.07.2020  Confirmed      1               2             2.0   \n",
       "4  26.07.2020  22.07.2020  Confirmed      1               2             2.0   \n",
       "\n",
       "   NumberOfChildren Children's age   Price  Commission %  Commission Amount  \\\n",
       "0               0.0            NaN  295.20            18              64.80   \n",
       "1               0.0            NaN   63.96            18              14.04   \n",
       "2               0.0            NaN   47.56            18              10.44   \n",
       "3               0.0            NaN   71.34            18              15.66   \n",
       "4               0.0            NaN   95.94            18              21.06   \n",
       "\n",
       "  Payment Status Payment Method  \\\n",
       "0            NaN            NaN   \n",
       "1            NaN            NaN   \n",
       "2    Paid online   Virtual card   \n",
       "3    Paid online   Virtual card   \n",
       "4            NaN            NaN   \n",
       "\n",
       "                                     Accommodation  Grade Advertiser  \n",
       "0                   Studio with Patio and Sea View    9.0    Booking  \n",
       "1                   Studio with Patio and Sea View   10.0    Booking  \n",
       "2  One-Bedroom Apartment with Balcony and Sea View    7.0    Booking  \n",
       "3  One-Bedroom Apartment with Balcony and Sea View    0.0    Booking  \n",
       "4    One-Bedroom Apartment with Patio and Sea View   10.0    Booking  "
      ]
     },
     "execution_count": 51,
     "metadata": {},
     "output_type": "execute_result"
    }
   ],
   "source": [
    "dataBooking2020.head()"
   ]
  },
  {
   "cell_type": "code",
   "execution_count": 52,
   "id": "c1b60e58",
   "metadata": {},
   "outputs": [
    {
     "data": {
      "text/plain": [
       "Index(['Book Number', 'Booked by', 'Guest name', 'Start date', 'End date',\n",
       "       'Booked on', 'Status', 'Rooms', 'NumberOfPeople', 'NumberOfAdults',\n",
       "       'NumberOfChildren', 'Children's age', 'Price', 'Commission %',\n",
       "       'Commission Amount', 'Payment Status', 'Payment Method',\n",
       "       'Accommodation', 'Grade', 'Advertiser'],\n",
       "      dtype='object')"
      ]
     },
     "execution_count": 52,
     "metadata": {},
     "output_type": "execute_result"
    }
   ],
   "source": [
    "dataBooking2020.columns"
   ]
  },
  {
   "cell_type": "code",
   "execution_count": 53,
   "id": "1e0fcb2f",
   "metadata": {},
   "outputs": [
    {
     "data": {
      "text/plain": [
       "array([3044838719, 2210088623, 2310781853, 2274513344, 3612440501,\n",
       "       2224416656, 2284117766, 3666861902, 3168558138, 3335452243,\n",
       "       3251250059, 2307791873, 3299147332, 2184010775, 2720125985,\n",
       "       3020331127, 2198008434, 2844997397, 3594871097, 3431170671,\n",
       "       3843171828, 2688496317, 3737705639, 2668756614, 3992438269,\n",
       "       2227128291, 3662346745, 2864174409, 3217038516, 2642922280,\n",
       "       2476055321, 2688128194, 3595829045], dtype=int64)"
      ]
     },
     "execution_count": 53,
     "metadata": {},
     "output_type": "execute_result"
    }
   ],
   "source": [
    "dataBooking2020['Book Number'].unique()"
   ]
  },
  {
   "cell_type": "code",
   "execution_count": 54,
   "id": "ff35444f",
   "metadata": {},
   "outputs": [
    {
     "data": {
      "text/plain": [
       "34"
      ]
     },
     "execution_count": 54,
     "metadata": {},
     "output_type": "execute_result"
    }
   ],
   "source": [
    "dataBooking2020['Book Number'].count()"
   ]
  },
  {
   "cell_type": "code",
   "execution_count": 55,
   "id": "66e5e026",
   "metadata": {},
   "outputs": [
    {
     "name": "stdout",
     "output_type": "stream",
     "text": [
      "Not all non-missing values in the column 'Book Number' are unique.\n"
     ]
    }
   ],
   "source": [
    "if dataBooking2020['Book Number'].nunique() == len(dataBooking2020['Book Number']):\n",
    "    print(f\"All non-missing values in the column '{'Book Number'}' are unique.\")\n",
    "else:\n",
    "    print(f\"Not all non-missing values in the column '{'Book Number'}' are unique.\")"
   ]
  },
  {
   "cell_type": "code",
   "execution_count": 56,
   "id": "b950ef41",
   "metadata": {},
   "outputs": [
    {
     "name": "stdout",
     "output_type": "stream",
     "text": [
      "    Book Number           Booked by         Guest name  Start date  \\\n",
      "24   3992438269  Balakhonkin, Anton  Anton Balakhonkin  31.08.2020   \n",
      "25   3992438269  Balakhonkin, Anton  Anton Balakhonkin  31.08.2020   \n",
      "\n",
      "      End date   Booked on     Status  Rooms  NumberOfPeople  NumberOfAdults  \\\n",
      "24  11.09.2020  06.01.2020  Confirmed      1               4             4.0   \n",
      "25  11.09.2020  06.01.2020  Confirmed      1               2             1.0   \n",
      "\n",
      "    NumberOfChildren Children's age   Price  Commission %  Commission Amount  \\\n",
      "24               0.0              0  699.46            18             153.54   \n",
      "25               1.0              1  396.06            18              86.94   \n",
      "\n",
      "   Payment Status Payment Method  \\\n",
      "24            NaN            NaN   \n",
      "25            NaN            NaN   \n",
      "\n",
      "                                      Accommodation  Grade Advertiser  \n",
      "24  One-Bedroom Apartment with Balcony and Sea View   10.0    Booking  \n",
      "25                                Studio with Patio    0.0    Booking  \n"
     ]
    }
   ],
   "source": [
    "duplicates = dataBooking2020[dataBooking2020['Book Number'].duplicated(keep=False)]\n",
    "print(duplicates)"
   ]
  },
  {
   "cell_type": "code",
   "execution_count": 57,
   "id": "01b44b8c",
   "metadata": {},
   "outputs": [],
   "source": [
    "dataBooking2020.drop_duplicates(subset=['Book Number'], keep='first', inplace=True)"
   ]
  },
  {
   "cell_type": "code",
   "execution_count": 58,
   "id": "ffed8325",
   "metadata": {},
   "outputs": [
    {
     "data": {
      "text/plain": [
       "33"
      ]
     },
     "execution_count": 58,
     "metadata": {},
     "output_type": "execute_result"
    }
   ],
   "source": [
    "dataBooking2020['Book Number'].count()"
   ]
  },
  {
   "cell_type": "code",
   "execution_count": 59,
   "id": "1a3eb76c",
   "metadata": {},
   "outputs": [
    {
     "data": {
      "text/html": [
       "<div>\n",
       "<style scoped>\n",
       "    .dataframe tbody tr th:only-of-type {\n",
       "        vertical-align: middle;\n",
       "    }\n",
       "\n",
       "    .dataframe tbody tr th {\n",
       "        vertical-align: top;\n",
       "    }\n",
       "\n",
       "    .dataframe thead th {\n",
       "        text-align: right;\n",
       "    }\n",
       "</style>\n",
       "<table border=\"1\" class=\"dataframe\">\n",
       "  <thead>\n",
       "    <tr style=\"text-align: right;\">\n",
       "      <th></th>\n",
       "      <th>Book Number</th>\n",
       "      <th>Booked by</th>\n",
       "      <th>Guest name</th>\n",
       "      <th>Start date</th>\n",
       "      <th>End date</th>\n",
       "      <th>Booked on</th>\n",
       "      <th>Status</th>\n",
       "      <th>Rooms</th>\n",
       "      <th>NumberOfPeople</th>\n",
       "      <th>NumberOfAdults</th>\n",
       "      <th>NumberOfChildren</th>\n",
       "      <th>Children's age</th>\n",
       "      <th>Price</th>\n",
       "      <th>Commission %</th>\n",
       "      <th>Commission Amount</th>\n",
       "      <th>Payment Status</th>\n",
       "      <th>Payment Method</th>\n",
       "      <th>Accommodation</th>\n",
       "      <th>Grade</th>\n",
       "      <th>Advertiser</th>\n",
       "    </tr>\n",
       "  </thead>\n",
       "  <tbody>\n",
       "    <tr>\n",
       "      <th>0</th>\n",
       "      <td>3044838719</td>\n",
       "      <td>Mária, Sárikné Deutsch</td>\n",
       "      <td>Sárikné Deutsch Mária</td>\n",
       "      <td>10.07.2020</td>\n",
       "      <td>15.07.2020</td>\n",
       "      <td>06.01.2020</td>\n",
       "      <td>Confirmed</td>\n",
       "      <td>1</td>\n",
       "      <td>2</td>\n",
       "      <td>2.0</td>\n",
       "      <td>0.0</td>\n",
       "      <td>NaN</td>\n",
       "      <td>295.20</td>\n",
       "      <td>18</td>\n",
       "      <td>64.80</td>\n",
       "      <td>NaN</td>\n",
       "      <td>NaN</td>\n",
       "      <td>Studio with Patio and Sea View</td>\n",
       "      <td>9.0</td>\n",
       "      <td>Booking</td>\n",
       "    </tr>\n",
       "    <tr>\n",
       "      <th>1</th>\n",
       "      <td>2210088623</td>\n",
       "      <td>Gniazdowska, Monika</td>\n",
       "      <td>Izabela Klimczewska</td>\n",
       "      <td>15.07.2020</td>\n",
       "      <td>17.07.2020</td>\n",
       "      <td>14.07.2020</td>\n",
       "      <td>Confirmed</td>\n",
       "      <td>1</td>\n",
       "      <td>2</td>\n",
       "      <td>2.0</td>\n",
       "      <td>0.0</td>\n",
       "      <td>NaN</td>\n",
       "      <td>63.96</td>\n",
       "      <td>18</td>\n",
       "      <td>14.04</td>\n",
       "      <td>NaN</td>\n",
       "      <td>NaN</td>\n",
       "      <td>Studio with Patio and Sea View</td>\n",
       "      <td>10.0</td>\n",
       "      <td>Booking</td>\n",
       "    </tr>\n",
       "    <tr>\n",
       "      <th>2</th>\n",
       "      <td>2310781853</td>\n",
       "      <td>Sárkány, Előd Szilveszter</td>\n",
       "      <td>Aleksandra Gęsicka</td>\n",
       "      <td>16.07.2020</td>\n",
       "      <td>18.07.2020</td>\n",
       "      <td>14.07.2020</td>\n",
       "      <td>Confirmed</td>\n",
       "      <td>1</td>\n",
       "      <td>2</td>\n",
       "      <td>2.0</td>\n",
       "      <td>0.0</td>\n",
       "      <td>NaN</td>\n",
       "      <td>47.56</td>\n",
       "      <td>18</td>\n",
       "      <td>10.44</td>\n",
       "      <td>Paid online</td>\n",
       "      <td>Virtual card</td>\n",
       "      <td>One-Bedroom Apartment with Balcony and Sea View</td>\n",
       "      <td>7.0</td>\n",
       "      <td>Booking</td>\n",
       "    </tr>\n",
       "    <tr>\n",
       "      <th>3</th>\n",
       "      <td>2274513344</td>\n",
       "      <td>Gwizdz, Alicja</td>\n",
       "      <td>Anna Przeworska</td>\n",
       "      <td>23.07.2020</td>\n",
       "      <td>26.07.2020</td>\n",
       "      <td>21.07.2020</td>\n",
       "      <td>Confirmed</td>\n",
       "      <td>1</td>\n",
       "      <td>2</td>\n",
       "      <td>2.0</td>\n",
       "      <td>0.0</td>\n",
       "      <td>NaN</td>\n",
       "      <td>71.34</td>\n",
       "      <td>18</td>\n",
       "      <td>15.66</td>\n",
       "      <td>Paid online</td>\n",
       "      <td>Virtual card</td>\n",
       "      <td>One-Bedroom Apartment with Balcony and Sea View</td>\n",
       "      <td>0.0</td>\n",
       "      <td>Booking</td>\n",
       "    </tr>\n",
       "    <tr>\n",
       "      <th>4</th>\n",
       "      <td>3612440501</td>\n",
       "      <td>Kolenda, Anna</td>\n",
       "      <td>Adam Filiks</td>\n",
       "      <td>23.07.2020</td>\n",
       "      <td>26.07.2020</td>\n",
       "      <td>22.07.2020</td>\n",
       "      <td>Confirmed</td>\n",
       "      <td>1</td>\n",
       "      <td>2</td>\n",
       "      <td>2.0</td>\n",
       "      <td>0.0</td>\n",
       "      <td>NaN</td>\n",
       "      <td>95.94</td>\n",
       "      <td>18</td>\n",
       "      <td>21.06</td>\n",
       "      <td>NaN</td>\n",
       "      <td>NaN</td>\n",
       "      <td>One-Bedroom Apartment with Patio and Sea View</td>\n",
       "      <td>10.0</td>\n",
       "      <td>Booking</td>\n",
       "    </tr>\n",
       "  </tbody>\n",
       "</table>\n",
       "</div>"
      ],
      "text/plain": [
       "   Book Number                  Booked by             Guest name  Start date  \\\n",
       "0   3044838719     Mária, Sárikné Deutsch  Sárikné Deutsch Mária  10.07.2020   \n",
       "1   2210088623        Gniazdowska, Monika    Izabela Klimczewska  15.07.2020   \n",
       "2   2310781853  Sárkány, Előd Szilveszter     Aleksandra Gęsicka  16.07.2020   \n",
       "3   2274513344             Gwizdz, Alicja        Anna Przeworska  23.07.2020   \n",
       "4   3612440501              Kolenda, Anna            Adam Filiks  23.07.2020   \n",
       "\n",
       "     End date   Booked on     Status  Rooms  NumberOfPeople  NumberOfAdults  \\\n",
       "0  15.07.2020  06.01.2020  Confirmed      1               2             2.0   \n",
       "1  17.07.2020  14.07.2020  Confirmed      1               2             2.0   \n",
       "2  18.07.2020  14.07.2020  Confirmed      1               2             2.0   \n",
       "3  26.07.2020  21.07.2020  Confirmed      1               2             2.0   \n",
       "4  26.07.2020  22.07.2020  Confirmed      1               2             2.0   \n",
       "\n",
       "   NumberOfChildren Children's age   Price  Commission %  Commission Amount  \\\n",
       "0               0.0            NaN  295.20            18              64.80   \n",
       "1               0.0            NaN   63.96            18              14.04   \n",
       "2               0.0            NaN   47.56            18              10.44   \n",
       "3               0.0            NaN   71.34            18              15.66   \n",
       "4               0.0            NaN   95.94            18              21.06   \n",
       "\n",
       "  Payment Status Payment Method  \\\n",
       "0            NaN            NaN   \n",
       "1            NaN            NaN   \n",
       "2    Paid online   Virtual card   \n",
       "3    Paid online   Virtual card   \n",
       "4            NaN            NaN   \n",
       "\n",
       "                                     Accommodation  Grade Advertiser  \n",
       "0                   Studio with Patio and Sea View    9.0    Booking  \n",
       "1                   Studio with Patio and Sea View   10.0    Booking  \n",
       "2  One-Bedroom Apartment with Balcony and Sea View    7.0    Booking  \n",
       "3  One-Bedroom Apartment with Balcony and Sea View    0.0    Booking  \n",
       "4    One-Bedroom Apartment with Patio and Sea View   10.0    Booking  "
      ]
     },
     "execution_count": 59,
     "metadata": {},
     "output_type": "execute_result"
    }
   ],
   "source": [
    "dataBooking2020.head()"
   ]
  },
  {
   "cell_type": "code",
   "execution_count": 60,
   "id": "97965097",
   "metadata": {},
   "outputs": [
    {
     "data": {
      "text/plain": [
       "array([nan, 17, 0, '6, 3', 12], dtype=object)"
      ]
     },
     "execution_count": 60,
     "metadata": {},
     "output_type": "execute_result"
    }
   ],
   "source": [
    "dataBooking2020[\"Children's age\"].unique()"
   ]
  },
  {
   "cell_type": "code",
   "execution_count": 61,
   "id": "bb44cb07",
   "metadata": {},
   "outputs": [
    {
     "data": {
      "text/plain": [
       "Index(['Book Number', 'Booked by', 'Guest name', 'Start date', 'End date',\n",
       "       'Booked on', 'Status', 'Rooms', 'NumberOfPeople', 'NumberOfAdults',\n",
       "       'NumberOfChildren', 'Children's age', 'Price', 'Commission %',\n",
       "       'Commission Amount', 'Payment Status', 'Payment Method',\n",
       "       'Accommodation', 'Grade', 'Advertiser'],\n",
       "      dtype='object')"
      ]
     },
     "execution_count": 61,
     "metadata": {},
     "output_type": "execute_result"
    }
   ],
   "source": [
    "dataBooking2020.columns"
   ]
  },
  {
   "cell_type": "code",
   "execution_count": 62,
   "id": "38063cdc",
   "metadata": {},
   "outputs": [],
   "source": [
    "dataBooking2020.rename(columns = {'Booked by' : 'Booked By', \n",
    "                                  'Guest name' : 'Guest Name', \n",
    "                                  'Start date' : 'Start Date', \n",
    "                                  'End date' : 'End Date',\n",
    "                                  'Booked on' : 'Booked On', \n",
    "                                  \"Children's age\" : \"Children's Age\"}, inplace = True)"
   ]
  },
  {
   "cell_type": "markdown",
   "id": "2a9128d6",
   "metadata": {},
   "source": [
    "# 2021"
   ]
  },
  {
   "cell_type": "code",
   "execution_count": 63,
   "id": "642fbc81",
   "metadata": {},
   "outputs": [],
   "source": [
    "dataBooking2021 = pd.read_excel('D://Master/SSP/Projekat/data/raw/2021/Booking_2021.xlsx', index_col=0)"
   ]
  },
  {
   "cell_type": "code",
   "execution_count": 64,
   "id": "f9bd872c",
   "metadata": {},
   "outputs": [
    {
     "name": "stdout",
     "output_type": "stream",
     "text": [
      "i:  0\n",
      "2 guests\n",
      "2.0\n",
      "i:  1\n",
      "2 guests\n",
      "2.0\n",
      "i:  2\n",
      "4 adults\n",
      "4.0\n",
      "i:  3\n",
      "4 adults\n",
      "4.0\n",
      "i:  4\n",
      "4 adults\n",
      "4.0\n",
      "i:  5\n",
      "3 adults\n",
      "3.0\n",
      "i:  6\n",
      "2 guests\n",
      "2.0\n",
      "i:  7\n",
      "2 guests\n",
      "2.0\n",
      "i:  8\n",
      "2 adults\n",
      "2.0\n",
      "i:  9\n",
      "2 guests\n",
      "2.0\n",
      "i:  10\n",
      "2 guests\n",
      "2.0\n",
      "i:  11\n",
      "2 guests\n",
      "2.0\n",
      "i:  12\n",
      "4 adults\n",
      "4.0\n",
      "i:  13\n",
      "2 guests\n",
      "2.0\n",
      "i:  14\n",
      "2 guests\n",
      "2.0\n",
      "i:  15\n",
      "2 guests\n",
      "2.0\n",
      "i:  16\n",
      "2 guests\n",
      "2.0\n",
      "i:  17\n",
      "2 guests\n",
      "2.0\n",
      "i:  18\n",
      "2 guests\n",
      "2.0\n",
      "i:  19\n",
      "2 guests\n",
      "2.0\n",
      "i:  20\n",
      "2 guests\n",
      "2.0\n",
      "i:  21\n",
      "2 adults, 1 child (0) \n",
      "2.0\n",
      "i:  22\n",
      "1 guest\n",
      "1.0\n",
      "i:  23\n",
      "2 guests\n",
      "2.0\n",
      "i:  24\n",
      "2 guests\n",
      "2.0\n",
      "i:  25\n",
      "2 guests\n",
      "2.0\n",
      "i:  26\n",
      "2 guests\n",
      "2.0\n",
      "i:  27\n",
      "2 guests\n",
      "2.0\n",
      "i:  28\n",
      "2 adults, 1 child (0) \n",
      "2.0\n",
      "i:  29\n",
      "2 guests\n",
      "2.0\n",
      "i:  30\n",
      "2 guests\n",
      "2.0\n",
      "i:  31\n",
      "1 guest\n",
      "1.0\n",
      "i:  32\n",
      "2 guests\n",
      "2.0\n",
      "i:  33\n",
      "2 guests\n",
      "2.0\n",
      "i:  34\n",
      "2 guests\n",
      "2.0\n",
      "i:  35\n",
      "2 guests\n",
      "2.0\n",
      "i:  36\n",
      "4 guests\n",
      "4.0\n",
      "i:  37\n",
      "2 guests\n",
      "2.0\n",
      "i:  38\n",
      "nan\n",
      "nan\n",
      "i:  39\n",
      "1 guest\n",
      "1.0\n",
      "i:  40\n",
      "3 guests\n",
      "3.0\n",
      "i:  41\n",
      "2 guests\n",
      "2.0\n",
      "i:  42\n",
      "2 guests\n",
      "2.0\n",
      "i:  43\n",
      "2 guests\n",
      "2.0\n",
      "i:  44\n",
      "2 guests\n",
      "2.0\n",
      "i:  45\n",
      "2 guests\n",
      "2.0\n",
      "i:  46\n",
      "2 guests\n",
      "2.0\n",
      "i:  47\n",
      "2 guests\n",
      "2.0\n",
      "i:  48\n",
      "2 guests\n",
      "2.0\n",
      "i:  49\n",
      "2 guests\n",
      "2.0\n",
      "i:  50\n",
      "2 guests\n",
      "2.0\n",
      "i:  51\n",
      "2 guests\n",
      "2.0\n",
      "i:  52\n",
      "2 guests\n",
      "2.0\n",
      "i:  53\n",
      "2 guests\n",
      "2.0\n",
      "i:  54\n",
      "2 guests\n",
      "2.0\n",
      "i:  55\n",
      "2 adults, 2 children (2,11) \n",
      "2.0\n",
      "i:  56\n",
      "2 guests\n",
      "2.0\n",
      "i:  57\n",
      "2 guests\n",
      "2.0\n",
      "i:  58\n",
      "6 guests\n",
      "6.0\n",
      "i:  59\n",
      "2 guests\n",
      "2.0\n",
      "i:  60\n",
      "2 guests\n",
      "2.0\n",
      "i:  61\n",
      "2 guests\n",
      "2.0\n",
      "i:  62\n",
      "2 guests\n",
      "2.0\n",
      "i:  63\n",
      "4 adults\n",
      "4.0\n",
      "i:  64\n",
      "2 guests\n",
      "2.0\n",
      "i:  65\n",
      "2 guests\n",
      "2.0\n",
      "i:  66\n",
      "2 guests\n",
      "2.0\n",
      "i:  67\n",
      "2 guests\n",
      "2.0\n",
      "i:  68\n",
      "2 guests\n",
      "2.0\n",
      "i:  69\n",
      "2 guests\n",
      "2.0\n",
      "i:  70\n",
      "2 guests\n",
      "2.0\n",
      "i:  71\n",
      "2 guests\n",
      "2.0\n",
      "i:  72\n",
      "2 guests\n",
      "2.0\n",
      "i:  73\n",
      "2 guests\n",
      "2.0\n"
     ]
    }
   ],
   "source": [
    "for i in range (0, 74):\n",
    "    print('i: ',i)\n",
    "    print(dataBooking2021['occypancy'][i])\n",
    "    print(dataBooking2021['number_of_guests'][i])"
   ]
  },
  {
   "cell_type": "code",
   "execution_count": 65,
   "id": "a7d564b8",
   "metadata": {},
   "outputs": [
    {
     "data": {
      "text/html": [
       "<div>\n",
       "<style scoped>\n",
       "    .dataframe tbody tr th:only-of-type {\n",
       "        vertical-align: middle;\n",
       "    }\n",
       "\n",
       "    .dataframe tbody tr th {\n",
       "        vertical-align: top;\n",
       "    }\n",
       "\n",
       "    .dataframe thead th {\n",
       "        text-align: right;\n",
       "    }\n",
       "</style>\n",
       "<table border=\"1\" class=\"dataframe\">\n",
       "  <thead>\n",
       "    <tr style=\"text-align: right;\">\n",
       "      <th></th>\n",
       "      <th>arrival_date</th>\n",
       "      <th>departure_date</th>\n",
       "      <th>room</th>\n",
       "      <th>booking_date</th>\n",
       "      <th>status</th>\n",
       "      <th>price</th>\n",
       "      <th>commision</th>\n",
       "      <th>booking_id</th>\n",
       "      <th>occypancy</th>\n",
       "      <th>number_of_guests</th>\n",
       "    </tr>\n",
       "    <tr>\n",
       "      <th>guest</th>\n",
       "      <th></th>\n",
       "      <th></th>\n",
       "      <th></th>\n",
       "      <th></th>\n",
       "      <th></th>\n",
       "      <th></th>\n",
       "      <th></th>\n",
       "      <th></th>\n",
       "      <th></th>\n",
       "      <th></th>\n",
       "    </tr>\n",
       "  </thead>\n",
       "  <tbody>\n",
       "    <tr>\n",
       "      <th>Richard Young</th>\n",
       "      <td>2021-07-13</td>\n",
       "      <td>2021-07-18</td>\n",
       "      <td>Studio with Patio and Sea View</td>\n",
       "      <td>2020-01-07</td>\n",
       "      <td>OK</td>\n",
       "      <td>310.0</td>\n",
       "      <td>55.80</td>\n",
       "      <td>2.177211e+09</td>\n",
       "      <td>2 guests</td>\n",
       "      <td>2.0</td>\n",
       "    </tr>\n",
       "    <tr>\n",
       "      <th>Eileen Quinn</th>\n",
       "      <td>2021-09-18</td>\n",
       "      <td>2021-09-21</td>\n",
       "      <td>One-Bedroom Apartment with Balcony and Sea View</td>\n",
       "      <td>2020-01-09</td>\n",
       "      <td>OK</td>\n",
       "      <td>186.0</td>\n",
       "      <td>33.48</td>\n",
       "      <td>3.595829e+09</td>\n",
       "      <td>2 guests</td>\n",
       "      <td>2.0</td>\n",
       "    </tr>\n",
       "    <tr>\n",
       "      <th>Horváth Zsuzsanna</th>\n",
       "      <td>2021-07-26</td>\n",
       "      <td>2021-08-02</td>\n",
       "      <td>One-Bedroom Apartment with Patio and Sea View</td>\n",
       "      <td>2021-05-06</td>\n",
       "      <td>OK</td>\n",
       "      <td>518.0</td>\n",
       "      <td>93.24</td>\n",
       "      <td>2.184747e+09</td>\n",
       "      <td>4 adults</td>\n",
       "      <td>4.0</td>\n",
       "    </tr>\n",
       "    <tr>\n",
       "      <th>Sirok Gábor</th>\n",
       "      <td>2021-07-16</td>\n",
       "      <td>2021-07-30</td>\n",
       "      <td>One-Bedroom Apartment with Balcony and Sea View</td>\n",
       "      <td>2021-05-07</td>\n",
       "      <td>OK</td>\n",
       "      <td>1016.0</td>\n",
       "      <td>182.88</td>\n",
       "      <td>3.216186e+09</td>\n",
       "      <td>4 adults</td>\n",
       "      <td>4.0</td>\n",
       "    </tr>\n",
       "    <tr>\n",
       "      <th>Serg Kostrukov</th>\n",
       "      <td>2021-06-28</td>\n",
       "      <td>2021-06-30</td>\n",
       "      <td>One-Bedroom Apartment with Balcony and Sea View</td>\n",
       "      <td>2021-05-14</td>\n",
       "      <td>OK</td>\n",
       "      <td>108.0</td>\n",
       "      <td>19.44</td>\n",
       "      <td>2.149859e+09</td>\n",
       "      <td>4 adults</td>\n",
       "      <td>4.0</td>\n",
       "    </tr>\n",
       "  </tbody>\n",
       "</table>\n",
       "</div>"
      ],
      "text/plain": [
       "                   arrival_date departure_date  \\\n",
       "guest                                            \n",
       "Richard Young        2021-07-13     2021-07-18   \n",
       "Eileen Quinn         2021-09-18     2021-09-21   \n",
       "Horváth Zsuzsanna    2021-07-26     2021-08-02   \n",
       "Sirok Gábor          2021-07-16     2021-07-30   \n",
       "Serg Kostrukov       2021-06-28     2021-06-30   \n",
       "\n",
       "                                                               room  \\\n",
       "guest                                                                 \n",
       "Richard Young                        Studio with Patio and Sea View   \n",
       "Eileen Quinn        One-Bedroom Apartment with Balcony and Sea View   \n",
       "Horváth Zsuzsanna     One-Bedroom Apartment with Patio and Sea View   \n",
       "Sirok Gábor         One-Bedroom Apartment with Balcony and Sea View   \n",
       "Serg Kostrukov      One-Bedroom Apartment with Balcony and Sea View   \n",
       "\n",
       "                   booking_date status   price  commision    booking_id  \\\n",
       "guest                                                                     \n",
       "Richard Young        2020-01-07     OK   310.0      55.80  2.177211e+09   \n",
       "Eileen Quinn         2020-01-09     OK   186.0      33.48  3.595829e+09   \n",
       "Horváth Zsuzsanna    2021-05-06     OK   518.0      93.24  2.184747e+09   \n",
       "Sirok Gábor          2021-05-07     OK  1016.0     182.88  3.216186e+09   \n",
       "Serg Kostrukov       2021-05-14     OK   108.0      19.44  2.149859e+09   \n",
       "\n",
       "                   occypancy  number_of_guests  \n",
       "guest                                           \n",
       "Richard Young       2 guests               2.0  \n",
       "Eileen Quinn        2 guests               2.0  \n",
       "Horváth Zsuzsanna   4 adults               4.0  \n",
       "Sirok Gábor         4 adults               4.0  \n",
       "Serg Kostrukov      4 adults               4.0  "
      ]
     },
     "execution_count": 65,
     "metadata": {},
     "output_type": "execute_result"
    }
   ],
   "source": [
    "dataBooking2021.head()"
   ]
  },
  {
   "cell_type": "code",
   "execution_count": 66,
   "id": "0f8d92d5",
   "metadata": {},
   "outputs": [],
   "source": [
    "dataBooking2021 = dataBooking2021.reset_index()"
   ]
  },
  {
   "cell_type": "code",
   "execution_count": 67,
   "id": "f8d91edf",
   "metadata": {},
   "outputs": [
    {
     "data": {
      "text/plain": [
       "Index(['Book Number', 'Booked By', 'Guest Name', 'Start Date', 'End Date',\n",
       "       'Booked On', 'Status', 'Rooms', 'NumberOfPeople', 'NumberOfAdults',\n",
       "       'NumberOfChildren', 'Children's Age', 'Price', 'Commission %',\n",
       "       'Commission Amount', 'Payment Status', 'Payment Method',\n",
       "       'Accommodation', 'Grade', 'Advertiser'],\n",
       "      dtype='object')"
      ]
     },
     "execution_count": 67,
     "metadata": {},
     "output_type": "execute_result"
    }
   ],
   "source": [
    "dataBooking2020.columns"
   ]
  },
  {
   "cell_type": "code",
   "execution_count": 68,
   "id": "d03ad26a",
   "metadata": {},
   "outputs": [
    {
     "data": {
      "text/plain": [
       "array(['2 guests', '4 adults', '3 adults', '2 adults',\n",
       "       '2 adults, 1 child (0) ', '1 guest', '4 guests', nan, '3 guests',\n",
       "       '2 adults, 2 children (2,11) ', '6 guests'], dtype=object)"
      ]
     },
     "execution_count": 68,
     "metadata": {},
     "output_type": "execute_result"
    }
   ],
   "source": [
    "dataBooking2021['occypancy'].unique()"
   ]
  },
  {
   "cell_type": "code",
   "execution_count": 69,
   "id": "31966e65",
   "metadata": {},
   "outputs": [],
   "source": [
    "dataBooking2021['occypancy'].fillna(0, inplace=True)"
   ]
  },
  {
   "cell_type": "code",
   "execution_count": 70,
   "id": "0ad52578",
   "metadata": {},
   "outputs": [],
   "source": [
    "subsequence = ' child'\n",
    "dataBooking2021['NumberOfChildren'] = dataBooking2021['occypancy'].str.extract(f'(.){subsequence}').fillna(0)"
   ]
  },
  {
   "cell_type": "code",
   "execution_count": 71,
   "id": "c90793ea",
   "metadata": {},
   "outputs": [
    {
     "data": {
      "text/plain": [
       "array([0, '1', '2'], dtype=object)"
      ]
     },
     "execution_count": 71,
     "metadata": {},
     "output_type": "execute_result"
    }
   ],
   "source": [
    "dataBooking2021['NumberOfChildren'].unique()"
   ]
  },
  {
   "cell_type": "code",
   "execution_count": 72,
   "id": "686ff57f",
   "metadata": {},
   "outputs": [
    {
     "data": {
      "text/plain": [
       "array([ 2.,  4.,  3.,  1., nan,  6.])"
      ]
     },
     "execution_count": 72,
     "metadata": {},
     "output_type": "execute_result"
    }
   ],
   "source": [
    "dataBooking2021['number_of_guests'].unique()"
   ]
  },
  {
   "cell_type": "code",
   "execution_count": 73,
   "id": "137a192f",
   "metadata": {},
   "outputs": [],
   "source": [
    "dataBooking2021['number_of_guests'].fillna(0, inplace = True)"
   ]
  },
  {
   "cell_type": "code",
   "execution_count": 74,
   "id": "a03dce67",
   "metadata": {},
   "outputs": [
    {
     "data": {
      "text/plain": [
       "array([0, '1', '2'], dtype=object)"
      ]
     },
     "execution_count": 74,
     "metadata": {},
     "output_type": "execute_result"
    }
   ],
   "source": [
    "dataBooking2021['NumberOfChildren'].unique()"
   ]
  },
  {
   "cell_type": "code",
   "execution_count": 75,
   "id": "d0ece464",
   "metadata": {},
   "outputs": [],
   "source": [
    "dataBooking2021[\"Children's age\"] = dataBooking2021['occypancy'].str.extract(r'\\((.*?)\\)')"
   ]
  },
  {
   "cell_type": "code",
   "execution_count": 76,
   "id": "a7ed9d2c",
   "metadata": {},
   "outputs": [
    {
     "data": {
      "text/plain": [
       "array([nan, '0', '2,11'], dtype=object)"
      ]
     },
     "execution_count": 76,
     "metadata": {},
     "output_type": "execute_result"
    }
   ],
   "source": [
    "dataBooking2021[\"Children's age\"].unique()"
   ]
  },
  {
   "cell_type": "code",
   "execution_count": 77,
   "id": "41e80797",
   "metadata": {},
   "outputs": [],
   "source": [
    "dataBooking2021[\"Children's age\"].fillna(0, inplace = True)"
   ]
  },
  {
   "cell_type": "code",
   "execution_count": 78,
   "id": "415dfa3a",
   "metadata": {},
   "outputs": [],
   "source": [
    "dataBooking2021.drop('occypancy', axis=1, inplace=True)"
   ]
  },
  {
   "cell_type": "code",
   "execution_count": 79,
   "id": "64524cbb",
   "metadata": {},
   "outputs": [
    {
     "data": {
      "text/plain": [
       "array(['OK', 'Risk-Free', nan], dtype=object)"
      ]
     },
     "execution_count": 79,
     "metadata": {},
     "output_type": "execute_result"
    }
   ],
   "source": [
    "dataBooking2021['status'].unique()"
   ]
  },
  {
   "cell_type": "code",
   "execution_count": 80,
   "id": "54de874f",
   "metadata": {},
   "outputs": [
    {
     "data": {
      "text/plain": [
       "array([ 55.8 ,  33.48,  93.24, 182.88,  19.44,  89.64,  31.68,  15.84,\n",
       "       194.4 ,  55.44,  32.76,  61.74,  13.32,  31.86,  17.64,  66.24,\n",
       "        23.76,  74.34,   8.82,   7.92,  39.96,   7.02,  46.08,  18.9 ,\n",
       "        79.38,  14.04,  21.24,  35.1 ,   9.72,  10.62,  95.58,    nan,\n",
       "        23.04,   0.  ,  34.56,  21.06,  26.64,  57.6 ,  11.52,  62.1 ,\n",
       "        70.56,  54.54,  69.84,  29.88,  70.2 ,  38.88])"
      ]
     },
     "execution_count": 80,
     "metadata": {},
     "output_type": "execute_result"
    }
   ],
   "source": [
    "dataBooking2021['commision'].unique()"
   ]
  },
  {
   "cell_type": "code",
   "execution_count": 81,
   "id": "0ff97615",
   "metadata": {},
   "outputs": [],
   "source": [
    "dataBooking2021['commision'].fillna(0, inplace=True)"
   ]
  },
  {
   "cell_type": "code",
   "execution_count": 82,
   "id": "aa4f1a86",
   "metadata": {},
   "outputs": [
    {
     "name": "stdout",
     "output_type": "stream",
     "text": [
      "Not all non-missing values in the column 'booking_id' are unique.\n"
     ]
    }
   ],
   "source": [
    "if dataBooking2021['booking_id'].nunique() == len(dataBooking2021['booking_id']):\n",
    "    print(f\"All non-missing values in the column '{'booking_id'}' are unique.\")\n",
    "else:\n",
    "    print(f\"Not all non-missing values in the column '{'booking_id'}' are unique.\")"
   ]
  },
  {
   "cell_type": "code",
   "execution_count": 83,
   "id": "48d63dc3",
   "metadata": {},
   "outputs": [],
   "source": [
    "dataBooking2021.drop_duplicates(subset=['booking_id'], keep='first', inplace=True)"
   ]
  },
  {
   "cell_type": "code",
   "execution_count": 84,
   "id": "a454be2a",
   "metadata": {},
   "outputs": [
    {
     "data": {
      "text/plain": [
       "array([2.17721115e+09, 3.59582904e+09, 2.18474703e+09, 3.21618597e+09,\n",
       "       2.14985881e+09, 2.80110159e+09, 2.99363468e+09, 2.84619000e+09,\n",
       "       2.35929346e+09, 2.62276186e+09, 2.62273989e+09, 2.41119312e+09,\n",
       "       2.49352966e+09, 3.87879513e+09, 2.72187942e+09, 2.43618069e+09,\n",
       "       2.25840982e+09, 3.05055503e+09, 2.32660242e+09, 3.46033594e+09,\n",
       "       2.74500796e+09, 3.40135891e+09, 3.03562287e+09, 2.95544372e+09,\n",
       "       2.76728039e+09, 2.76720344e+09, 3.00256418e+09, 3.09020599e+09,\n",
       "       2.29423057e+09, 2.14907878e+09, 2.29420305e+09, 3.03355854e+09,\n",
       "       2.33002090e+09, 3.03518611e+09, 2.67693333e+09, 2.67693541e+09,\n",
       "       3.10725829e+09, 2.20265491e+09,            nan, 2.67496252e+09,\n",
       "       3.71753327e+09, 2.53487650e+09, 2.50742292e+09, 3.12499508e+09,\n",
       "       2.28122715e+09, 2.56533142e+09, 2.79315968e+09, 3.45956849e+09,\n",
       "       2.87472504e+09, 3.62166293e+09, 2.74881830e+09, 3.44338210e+09,\n",
       "       3.49559974e+09, 3.67667972e+09, 2.18529150e+09, 3.52679094e+09,\n",
       "       2.86828458e+09, 3.23130116e+09, 3.44337722e+09, 3.72057677e+09,\n",
       "       3.04493252e+09, 3.60414860e+09, 2.93758775e+09, 3.55660477e+09,\n",
       "       2.69576521e+09, 3.70534208e+09, 2.70848283e+09, 2.23212696e+09,\n",
       "       3.43320439e+09, 2.13671072e+09, 2.93041883e+09, 3.58187459e+09,\n",
       "       2.64049864e+09, 3.23289194e+09])"
      ]
     },
     "execution_count": 84,
     "metadata": {},
     "output_type": "execute_result"
    }
   ],
   "source": [
    "dataBooking2021['booking_id'].unique()"
   ]
  },
  {
   "cell_type": "code",
   "execution_count": 85,
   "id": "e829f883",
   "metadata": {},
   "outputs": [],
   "source": [
    "dataBooking2021.dropna(subset=['booking_id'], inplace=True)"
   ]
  },
  {
   "cell_type": "code",
   "execution_count": 86,
   "id": "619a7ee4",
   "metadata": {},
   "outputs": [],
   "source": [
    "def processingBooking2021(dataBooking):\n",
    "    dataBooking.rename(columns={'guest': 'Guest Name', \n",
    "                                'arrival_date': 'Check-in', \n",
    "                                'departure_date': 'Check-out', \n",
    "                                'room' : 'Accommodation',\n",
    "                                'booking_date' : 'Booked On',\n",
    "                                'status' : 'Status',\n",
    "                                'price' : 'Price', \n",
    "                                'commision' : 'Commission Amount',\n",
    "                                'booking_id' : 'Book Number',\n",
    "                                'occypancy' : 'Occupancy',\n",
    "                                'number_of_guests' : 'NumberOfAdults',}, inplace=True)\n",
    "    \n",
    "    dataBooking['NumberOfChildren'] = dataBooking['NumberOfChildren'].astype(int)\n",
    "    dataBooking['NumberOfAdults'] = dataBooking['NumberOfAdults'].astype(int)\n",
    "    dataBooking['NumberOfPeople'] = dataBooking['NumberOfAdults'] + dataBooking['NumberOfChildren']\n",
    "    \n",
    "    \n",
    "    dataBooking['Advertiser'] = 'Booking'\n",
    "    dataBooking['Guest Name'].fillna('', inplace=True)\n",
    "    dataBooking['Guest Name'] = dataBooking['Guest Name'].str.title()\n",
    "    dataBooking = dataBooking[dataBooking['Check-in'] < dataBooking['Check-out']]\n",
    "    dataBooking = dataBooking[pd.to_datetime(dataBooking['Booked On']).dt.date <= pd.to_datetime(dataBooking['Check-in'])]\n",
    "    dataBooking['Check-in'] = pd.to_datetime(dataBooking['Check-in']).dt.strftime('%d.%m.%Y')\n",
    "    dataBooking['Check-out'] = pd.to_datetime(dataBooking['Check-out']).dt.strftime('%d.%m.%Y')\n",
    "    dataBooking['Booked On'] = pd.to_datetime(dataBooking['Booked On']).dt.strftime('%d.%m.%Y')\n",
    "    dataBooking.rename(columns={'Check-in': 'Start date', 'Check-out': 'End date'}, inplace=True)\n",
    "    \n",
    "    dataBooking['Status'] = dataBooking['Status'].replace({'Risk-Free': 'Arriving'})\n",
    "    dataBooking['Status'] = dataBooking['Status'].replace({'OK': 'Confirmed'})\n",
    "    dataBooking['Status'] = dataBooking['Status'].replace({'Smart Flex': 'Arriving'})\n",
    "    dataBooking['Price'] = dataBooking['Price'].astype(str).map(lambda x: re.sub(r'€ ', '', x))\n",
    "    dataBooking['Price'] = round(dataBooking['Price'].astype(float) - dataBooking['Commission Amount'].astype(float), 2)\n",
    "    dataBooking['Commission Amount'] = dataBooking['Commission Amount'].astype(str).map(lambda x: re.sub(r'€ ', '', x))\n",
    "    \n",
    "    mapping = {'A': 'One-Bedroom Apartment with Balcony and Sea View', \n",
    "           'B': 'Studio with Patio', \n",
    "           'C': 'Studio with Patio and Sea View',\n",
    "           'D': 'One-Bedroom Apartment with Patio and Sea View'}\n",
    "    \n",
    "    dataBooking['Accommodation'] = dataBooking['Accommodation'].replace(mapping)\n",
    "\n",
    "    valid_accommodations = ['One-Bedroom Apartment with Balcony and Sea View', 'Studio with Patio', 'Studio with Patio and Sea View', 'One-Bedroom Apartment with Patio and Sea View']\n",
    "    dataBooking = dataBooking[dataBooking['Accommodation'].isin(valid_accommodations)]\n",
    "    \n",
    "#     dataBooking['Price_$'] = round(dataBooking['Price'].astype(float)*1.09, 2)\n",
    "#     dataBooking['Price_RSD'] = round(dataBooking['Price'].astype(float)*117.23, 2)\n",
    "#     dataBooking.rename(columns={'Price': 'Price_€'}, inplace=True)\n",
    "    return dataBooking"
   ]
  },
  {
   "cell_type": "code",
   "execution_count": 87,
   "id": "97e8e9f3",
   "metadata": {},
   "outputs": [],
   "source": [
    "dataBooking2021 = processingBooking2021(dataBooking2021)"
   ]
  },
  {
   "cell_type": "code",
   "execution_count": 88,
   "id": "5ffacc83",
   "metadata": {},
   "outputs": [
    {
     "data": {
      "text/html": [
       "<div>\n",
       "<style scoped>\n",
       "    .dataframe tbody tr th:only-of-type {\n",
       "        vertical-align: middle;\n",
       "    }\n",
       "\n",
       "    .dataframe tbody tr th {\n",
       "        vertical-align: top;\n",
       "    }\n",
       "\n",
       "    .dataframe thead th {\n",
       "        text-align: right;\n",
       "    }\n",
       "</style>\n",
       "<table border=\"1\" class=\"dataframe\">\n",
       "  <thead>\n",
       "    <tr style=\"text-align: right;\">\n",
       "      <th></th>\n",
       "      <th>Guest Name</th>\n",
       "      <th>Start date</th>\n",
       "      <th>End date</th>\n",
       "      <th>Accommodation</th>\n",
       "      <th>Booked On</th>\n",
       "      <th>Status</th>\n",
       "      <th>Price</th>\n",
       "      <th>Commission Amount</th>\n",
       "      <th>Book Number</th>\n",
       "      <th>NumberOfAdults</th>\n",
       "      <th>NumberOfChildren</th>\n",
       "      <th>Children's age</th>\n",
       "      <th>NumberOfPeople</th>\n",
       "      <th>Advertiser</th>\n",
       "    </tr>\n",
       "  </thead>\n",
       "  <tbody>\n",
       "    <tr>\n",
       "      <th>0</th>\n",
       "      <td>Richard Young</td>\n",
       "      <td>13.07.2021</td>\n",
       "      <td>18.07.2021</td>\n",
       "      <td>Studio with Patio and Sea View</td>\n",
       "      <td>07.01.2020</td>\n",
       "      <td>Confirmed</td>\n",
       "      <td>254.20</td>\n",
       "      <td>55.8</td>\n",
       "      <td>2.177211e+09</td>\n",
       "      <td>2</td>\n",
       "      <td>0</td>\n",
       "      <td>0</td>\n",
       "      <td>2</td>\n",
       "      <td>Booking</td>\n",
       "    </tr>\n",
       "    <tr>\n",
       "      <th>1</th>\n",
       "      <td>Eileen Quinn</td>\n",
       "      <td>18.09.2021</td>\n",
       "      <td>21.09.2021</td>\n",
       "      <td>One-Bedroom Apartment with Balcony and Sea View</td>\n",
       "      <td>09.01.2020</td>\n",
       "      <td>Confirmed</td>\n",
       "      <td>152.52</td>\n",
       "      <td>33.48</td>\n",
       "      <td>3.595829e+09</td>\n",
       "      <td>2</td>\n",
       "      <td>0</td>\n",
       "      <td>0</td>\n",
       "      <td>2</td>\n",
       "      <td>Booking</td>\n",
       "    </tr>\n",
       "    <tr>\n",
       "      <th>2</th>\n",
       "      <td>Horváth Zsuzsanna</td>\n",
       "      <td>26.07.2021</td>\n",
       "      <td>02.08.2021</td>\n",
       "      <td>One-Bedroom Apartment with Patio and Sea View</td>\n",
       "      <td>06.05.2021</td>\n",
       "      <td>Confirmed</td>\n",
       "      <td>424.76</td>\n",
       "      <td>93.24</td>\n",
       "      <td>2.184747e+09</td>\n",
       "      <td>4</td>\n",
       "      <td>0</td>\n",
       "      <td>0</td>\n",
       "      <td>4</td>\n",
       "      <td>Booking</td>\n",
       "    </tr>\n",
       "    <tr>\n",
       "      <th>3</th>\n",
       "      <td>Sirok Gábor</td>\n",
       "      <td>16.07.2021</td>\n",
       "      <td>30.07.2021</td>\n",
       "      <td>One-Bedroom Apartment with Balcony and Sea View</td>\n",
       "      <td>07.05.2021</td>\n",
       "      <td>Confirmed</td>\n",
       "      <td>833.12</td>\n",
       "      <td>182.88</td>\n",
       "      <td>3.216186e+09</td>\n",
       "      <td>4</td>\n",
       "      <td>0</td>\n",
       "      <td>0</td>\n",
       "      <td>4</td>\n",
       "      <td>Booking</td>\n",
       "    </tr>\n",
       "    <tr>\n",
       "      <th>4</th>\n",
       "      <td>Serg Kostrukov</td>\n",
       "      <td>28.06.2021</td>\n",
       "      <td>30.06.2021</td>\n",
       "      <td>One-Bedroom Apartment with Balcony and Sea View</td>\n",
       "      <td>14.05.2021</td>\n",
       "      <td>Confirmed</td>\n",
       "      <td>88.56</td>\n",
       "      <td>19.44</td>\n",
       "      <td>2.149859e+09</td>\n",
       "      <td>4</td>\n",
       "      <td>0</td>\n",
       "      <td>0</td>\n",
       "      <td>4</td>\n",
       "      <td>Booking</td>\n",
       "    </tr>\n",
       "  </tbody>\n",
       "</table>\n",
       "</div>"
      ],
      "text/plain": [
       "           Guest Name  Start date    End date  \\\n",
       "0      Richard Young   13.07.2021  18.07.2021   \n",
       "1       Eileen Quinn   18.09.2021  21.09.2021   \n",
       "2  Horváth Zsuzsanna   26.07.2021  02.08.2021   \n",
       "3        Sirok Gábor   16.07.2021  30.07.2021   \n",
       "4     Serg Kostrukov   28.06.2021  30.06.2021   \n",
       "\n",
       "                                     Accommodation   Booked On     Status  \\\n",
       "0                   Studio with Patio and Sea View  07.01.2020  Confirmed   \n",
       "1  One-Bedroom Apartment with Balcony and Sea View  09.01.2020  Confirmed   \n",
       "2    One-Bedroom Apartment with Patio and Sea View  06.05.2021  Confirmed   \n",
       "3  One-Bedroom Apartment with Balcony and Sea View  07.05.2021  Confirmed   \n",
       "4  One-Bedroom Apartment with Balcony and Sea View  14.05.2021  Confirmed   \n",
       "\n",
       "    Price Commission Amount   Book Number  NumberOfAdults  NumberOfChildren  \\\n",
       "0  254.20              55.8  2.177211e+09               2                 0   \n",
       "1  152.52             33.48  3.595829e+09               2                 0   \n",
       "2  424.76             93.24  2.184747e+09               4                 0   \n",
       "3  833.12            182.88  3.216186e+09               4                 0   \n",
       "4   88.56             19.44  2.149859e+09               4                 0   \n",
       "\n",
       "  Children's age  NumberOfPeople Advertiser  \n",
       "0              0               2    Booking  \n",
       "1              0               2    Booking  \n",
       "2              0               4    Booking  \n",
       "3              0               4    Booking  \n",
       "4              0               4    Booking  "
      ]
     },
     "execution_count": 88,
     "metadata": {},
     "output_type": "execute_result"
    }
   ],
   "source": [
    "dataBooking2021.head()"
   ]
  },
  {
   "cell_type": "code",
   "execution_count": 89,
   "id": "f7cba8ce",
   "metadata": {},
   "outputs": [
    {
     "data": {
      "text/plain": [
       "array(['Studio with Patio and Sea View',\n",
       "       'One-Bedroom Apartment with Balcony and Sea View',\n",
       "       'One-Bedroom Apartment with Patio and Sea View',\n",
       "       'Studio with Patio'], dtype=object)"
      ]
     },
     "execution_count": 89,
     "metadata": {},
     "output_type": "execute_result"
    }
   ],
   "source": [
    "dataBooking2021['Accommodation'].unique()"
   ]
  },
  {
   "cell_type": "code",
   "execution_count": 90,
   "id": "7712b73d",
   "metadata": {},
   "outputs": [
    {
     "data": {
      "text/plain": [
       "Index(['Guest Name', 'Start date', 'End date', 'Accommodation', 'Booked On',\n",
       "       'Status', 'Price', 'Commission Amount', 'Book Number', 'NumberOfAdults',\n",
       "       'NumberOfChildren', 'Children's age', 'NumberOfPeople', 'Advertiser'],\n",
       "      dtype='object')"
      ]
     },
     "execution_count": 90,
     "metadata": {},
     "output_type": "execute_result"
    }
   ],
   "source": [
    "dataBooking2021.columns"
   ]
  },
  {
   "cell_type": "code",
   "execution_count": 91,
   "id": "56730a15",
   "metadata": {},
   "outputs": [],
   "source": [
    "dataBooking2021.rename(columns={'Start date': 'Start Date', \n",
    "                                'End date': 'End Date', \n",
    "                                \"Children's age\": \"Children's Age\"}, inplace=True)"
   ]
  },
  {
   "cell_type": "markdown",
   "id": "ec872d76",
   "metadata": {},
   "source": [
    "# 2022"
   ]
  },
  {
   "cell_type": "code",
   "execution_count": 92,
   "id": "d1c24c01",
   "metadata": {},
   "outputs": [],
   "source": [
    "dataBooking2022= pd.read_excel('D://Master/SSP/Projekat/data/raw/2022/Booking_2022.xlsx', index_col=0)"
   ]
  },
  {
   "cell_type": "code",
   "execution_count": 93,
   "id": "be88ef1d",
   "metadata": {},
   "outputs": [
    {
     "data": {
      "text/html": [
       "<div>\n",
       "<style scoped>\n",
       "    .dataframe tbody tr th:only-of-type {\n",
       "        vertical-align: middle;\n",
       "    }\n",
       "\n",
       "    .dataframe tbody tr th {\n",
       "        vertical-align: top;\n",
       "    }\n",
       "\n",
       "    .dataframe thead th {\n",
       "        text-align: right;\n",
       "    }\n",
       "</style>\n",
       "<table border=\"1\" class=\"dataframe\">\n",
       "  <thead>\n",
       "    <tr style=\"text-align: right;\">\n",
       "      <th></th>\n",
       "      <th>arrival_date</th>\n",
       "      <th>departure_date</th>\n",
       "      <th>room</th>\n",
       "      <th>booking_date</th>\n",
       "      <th>status</th>\n",
       "      <th>price</th>\n",
       "      <th>commision</th>\n",
       "      <th>booking_id</th>\n",
       "      <th>occypancy</th>\n",
       "      <th>number_of_guests</th>\n",
       "      <th>grade</th>\n",
       "    </tr>\n",
       "    <tr>\n",
       "      <th>guest</th>\n",
       "      <th></th>\n",
       "      <th></th>\n",
       "      <th></th>\n",
       "      <th></th>\n",
       "      <th></th>\n",
       "      <th></th>\n",
       "      <th></th>\n",
       "      <th></th>\n",
       "      <th></th>\n",
       "      <th></th>\n",
       "      <th></th>\n",
       "    </tr>\n",
       "  </thead>\n",
       "  <tbody>\n",
       "    <tr>\n",
       "      <th>Richard Young</th>\n",
       "      <td>2022-07-13</td>\n",
       "      <td>2022-07-20</td>\n",
       "      <td>Studio with Patio and Sea View</td>\n",
       "      <td>2020-01-07</td>\n",
       "      <td>OK</td>\n",
       "      <td>434</td>\n",
       "      <td>78.12</td>\n",
       "      <td>2177211152</td>\n",
       "      <td>2 guests</td>\n",
       "      <td>2</td>\n",
       "      <td>NaN</td>\n",
       "    </tr>\n",
       "    <tr>\n",
       "      <th>Eileen Quinn</th>\n",
       "      <td>2022-09-17</td>\n",
       "      <td>2022-09-20</td>\n",
       "      <td>One-Bedroom Apartment with Balcony and Sea View</td>\n",
       "      <td>2020-01-09</td>\n",
       "      <td>OK</td>\n",
       "      <td>186</td>\n",
       "      <td>33.48</td>\n",
       "      <td>3595829045</td>\n",
       "      <td>2 guests</td>\n",
       "      <td>2</td>\n",
       "      <td>NaN</td>\n",
       "    </tr>\n",
       "    <tr>\n",
       "      <th>Phillip Ball</th>\n",
       "      <td>2022-05-19</td>\n",
       "      <td>2022-05-21</td>\n",
       "      <td>One-Bedroom Apartment with Patio and Sea View</td>\n",
       "      <td>2022-02-17</td>\n",
       "      <td>OK</td>\n",
       "      <td>98</td>\n",
       "      <td>17.64</td>\n",
       "      <td>2906488360</td>\n",
       "      <td>2 guests</td>\n",
       "      <td>2</td>\n",
       "      <td>8.0</td>\n",
       "    </tr>\n",
       "    <tr>\n",
       "      <th>Cleo Rotunno</th>\n",
       "      <td>2022-06-17</td>\n",
       "      <td>2022-06-20</td>\n",
       "      <td>One-Bedroom Apartment with Balcony and Sea View</td>\n",
       "      <td>2022-03-03</td>\n",
       "      <td>OK</td>\n",
       "      <td>162</td>\n",
       "      <td>29.16</td>\n",
       "      <td>3777625256</td>\n",
       "      <td>2 guests</td>\n",
       "      <td>2</td>\n",
       "      <td>10.0</td>\n",
       "    </tr>\n",
       "    <tr>\n",
       "      <th>Emily Brown</th>\n",
       "      <td>2022-06-02</td>\n",
       "      <td>2022-06-05</td>\n",
       "      <td>One-Bedroom Apartment with Balcony and Sea View</td>\n",
       "      <td>2022-03-14</td>\n",
       "      <td>OK</td>\n",
       "      <td>162</td>\n",
       "      <td>29.16</td>\n",
       "      <td>2936175841</td>\n",
       "      <td>2 guests</td>\n",
       "      <td>2</td>\n",
       "      <td>NaN</td>\n",
       "    </tr>\n",
       "  </tbody>\n",
       "</table>\n",
       "</div>"
      ],
      "text/plain": [
       "               arrival_date departure_date  \\\n",
       "guest                                        \n",
       "Richard Young    2022-07-13     2022-07-20   \n",
       "Eileen Quinn     2022-09-17     2022-09-20   \n",
       "Phillip Ball     2022-05-19     2022-05-21   \n",
       "Cleo Rotunno     2022-06-17     2022-06-20   \n",
       "Emily Brown      2022-06-02     2022-06-05   \n",
       "\n",
       "                                                           room booking_date  \\\n",
       "guest                                                                          \n",
       "Richard Young                    Studio with Patio and Sea View   2020-01-07   \n",
       "Eileen Quinn    One-Bedroom Apartment with Balcony and Sea View   2020-01-09   \n",
       "Phillip Ball      One-Bedroom Apartment with Patio and Sea View   2022-02-17   \n",
       "Cleo Rotunno    One-Bedroom Apartment with Balcony and Sea View   2022-03-03   \n",
       "Emily Brown     One-Bedroom Apartment with Balcony and Sea View   2022-03-14   \n",
       "\n",
       "               status  price  commision  booking_id occypancy  \\\n",
       "guest                                                           \n",
       "Richard Young      OK    434      78.12  2177211152  2 guests   \n",
       "Eileen Quinn       OK    186      33.48  3595829045  2 guests   \n",
       "Phillip Ball       OK     98      17.64  2906488360  2 guests   \n",
       "Cleo Rotunno       OK    162      29.16  3777625256  2 guests   \n",
       "Emily Brown        OK    162      29.16  2936175841  2 guests   \n",
       "\n",
       "                number_of_guests  grade  \n",
       "guest                                    \n",
       "Richard Young                  2    NaN  \n",
       "Eileen Quinn                   2    NaN  \n",
       "Phillip Ball                   2    8.0  \n",
       "Cleo Rotunno                   2   10.0  \n",
       "Emily Brown                    2    NaN  "
      ]
     },
     "execution_count": 93,
     "metadata": {},
     "output_type": "execute_result"
    }
   ],
   "source": [
    "dataBooking2022.head()"
   ]
  },
  {
   "cell_type": "code",
   "execution_count": 94,
   "id": "d74ad703",
   "metadata": {},
   "outputs": [
    {
     "name": "stdout",
     "output_type": "stream",
     "text": [
      "i:  0\n",
      "2 guests\n",
      "2\n",
      "i:  1\n",
      "2 guests\n",
      "2\n",
      "i:  2\n",
      "2 guests\n",
      "2\n",
      "i:  3\n",
      "2 guests\n",
      "2\n",
      "i:  4\n",
      "2 guests\n",
      "2\n",
      "i:  5\n",
      "2 guests\n",
      "2\n",
      "i:  6\n",
      "2 guests\n",
      "2\n",
      "i:  7\n",
      "2 guests\n",
      "2\n",
      "i:  8\n",
      "2 guests\n",
      "2\n",
      "i:  9\n",
      "2 guests\n",
      "2\n",
      "i:  10\n",
      "2 adults\n",
      "2\n",
      "i:  11\n",
      "2 guests\n",
      "2\n",
      "i:  12\n",
      "2 guests\n",
      "2\n",
      "i:  13\n",
      "2 guests\n",
      "2\n",
      "i:  14\n",
      "2 guests\n",
      "2\n",
      "i:  15\n",
      "2 guests\n",
      "2\n",
      "i:  16\n",
      "2 guests\n",
      "2\n",
      "i:  17\n",
      "2 guests\n",
      "2\n",
      "i:  18\n",
      "2 guests\n",
      "2\n",
      "i:  19\n",
      "1 guest\n",
      "1\n",
      "i:  20\n",
      "2 guests\n",
      "2\n",
      "i:  21\n",
      "2 guests\n",
      "2\n",
      "i:  22\n",
      "2 guests\n",
      "2\n",
      "i:  23\n",
      "1 guest\n",
      "1\n",
      "i:  24\n",
      "2 guests\n",
      "2\n",
      "i:  25\n",
      "2 guests\n",
      "2\n",
      "i:  26\n",
      "2 guests\n",
      "2\n",
      "i:  27\n",
      "2 guests\n",
      "2\n",
      "i:  28\n",
      "2 guests\n",
      "2\n",
      "i:  29\n",
      "2 guests\n",
      "2\n",
      "i:  30\n",
      "2 guests\n",
      "2\n",
      "i:  31\n",
      "2 guests\n",
      "2\n",
      "i:  32\n",
      "2 guests\n",
      "2\n",
      "i:  33\n",
      "2 guests\n",
      "2\n",
      "i:  34\n",
      "2 guests\n",
      "2\n",
      "i:  35\n",
      "2 guests\n",
      "2\n",
      "i:  36\n",
      "2 guests\n",
      "2\n",
      "i:  37\n",
      "3 guests\n",
      "3\n",
      "i:  38\n",
      "2 guests\n",
      "2\n",
      "i:  39\n",
      "2 guests\n",
      "2\n",
      "i:  40\n",
      "2 guests\n",
      "2\n",
      "i:  41\n",
      "2 guests\n",
      "2\n",
      "i:  42\n",
      "2 guests\n",
      "2\n",
      "i:  43\n",
      "2 guests\n",
      "2\n",
      "i:  44\n",
      "2 guests\n",
      "2\n",
      "i:  45\n",
      "2 guests\n",
      "2\n",
      "i:  46\n",
      "2 guests\n",
      "2\n",
      "i:  47\n",
      "2 guests\n",
      "2\n",
      "i:  48\n",
      "2 guests\n",
      "2\n",
      "i:  49\n",
      "2 guests\n",
      "2\n",
      "i:  50\n",
      "2 guests\n",
      "2\n",
      "i:  51\n",
      "2 guests\n",
      "2\n",
      "i:  52\n",
      "1 adult, 1 child (0) \n",
      "1\n",
      "i:  53\n",
      "2 guests\n",
      "2\n",
      "i:  54\n",
      "2 guests\n",
      "2\n",
      "i:  55\n",
      "2 guests\n",
      "2\n",
      "i:  56\n",
      "2 guests\n",
      "2\n",
      "i:  57\n",
      "2 guests\n",
      "2\n",
      "i:  58\n",
      "2 guests\n",
      "2\n",
      "i:  59\n",
      "2 guests\n",
      "2\n",
      "i:  60\n",
      "2 guests\n",
      "2\n",
      "i:  61\n",
      "2 guests\n",
      "2\n",
      "i:  62\n",
      "2 guests\n",
      "2\n",
      "i:  63\n",
      "2 guests\n",
      "2\n",
      "i:  64\n",
      "2 guests\n",
      "2\n",
      "i:  65\n",
      "2 guests\n",
      "2\n",
      "i:  66\n",
      "2 guests\n",
      "2\n",
      "i:  67\n",
      "2 guests\n",
      "2\n",
      "i:  68\n",
      "2 guests\n",
      "2\n",
      "i:  69\n",
      "2 guests\n",
      "2\n",
      "i:  70\n",
      "2 guests\n",
      "2\n"
     ]
    }
   ],
   "source": [
    "for i in range (0, 71):\n",
    "    print('i: ',i)\n",
    "    print(dataBooking2022['occypancy'][i])\n",
    "    print(dataBooking2022['number_of_guests'][i])"
   ]
  },
  {
   "cell_type": "code",
   "execution_count": 95,
   "id": "aee1ffca",
   "metadata": {},
   "outputs": [],
   "source": [
    "dataBooking2022 = dataBooking2022.reset_index()"
   ]
  },
  {
   "cell_type": "code",
   "execution_count": 96,
   "id": "d307d6ef",
   "metadata": {},
   "outputs": [
    {
     "data": {
      "text/html": [
       "<div>\n",
       "<style scoped>\n",
       "    .dataframe tbody tr th:only-of-type {\n",
       "        vertical-align: middle;\n",
       "    }\n",
       "\n",
       "    .dataframe tbody tr th {\n",
       "        vertical-align: top;\n",
       "    }\n",
       "\n",
       "    .dataframe thead th {\n",
       "        text-align: right;\n",
       "    }\n",
       "</style>\n",
       "<table border=\"1\" class=\"dataframe\">\n",
       "  <thead>\n",
       "    <tr style=\"text-align: right;\">\n",
       "      <th></th>\n",
       "      <th>guest</th>\n",
       "      <th>arrival_date</th>\n",
       "      <th>departure_date</th>\n",
       "      <th>room</th>\n",
       "      <th>booking_date</th>\n",
       "      <th>status</th>\n",
       "      <th>price</th>\n",
       "      <th>commision</th>\n",
       "      <th>booking_id</th>\n",
       "      <th>occypancy</th>\n",
       "      <th>number_of_guests</th>\n",
       "      <th>grade</th>\n",
       "    </tr>\n",
       "  </thead>\n",
       "  <tbody>\n",
       "    <tr>\n",
       "      <th>0</th>\n",
       "      <td>Richard Young</td>\n",
       "      <td>2022-07-13</td>\n",
       "      <td>2022-07-20</td>\n",
       "      <td>Studio with Patio and Sea View</td>\n",
       "      <td>2020-01-07</td>\n",
       "      <td>OK</td>\n",
       "      <td>434</td>\n",
       "      <td>78.12</td>\n",
       "      <td>2177211152</td>\n",
       "      <td>2 guests</td>\n",
       "      <td>2</td>\n",
       "      <td>NaN</td>\n",
       "    </tr>\n",
       "    <tr>\n",
       "      <th>1</th>\n",
       "      <td>Eileen Quinn</td>\n",
       "      <td>2022-09-17</td>\n",
       "      <td>2022-09-20</td>\n",
       "      <td>One-Bedroom Apartment with Balcony and Sea View</td>\n",
       "      <td>2020-01-09</td>\n",
       "      <td>OK</td>\n",
       "      <td>186</td>\n",
       "      <td>33.48</td>\n",
       "      <td>3595829045</td>\n",
       "      <td>2 guests</td>\n",
       "      <td>2</td>\n",
       "      <td>NaN</td>\n",
       "    </tr>\n",
       "    <tr>\n",
       "      <th>2</th>\n",
       "      <td>Phillip Ball</td>\n",
       "      <td>2022-05-19</td>\n",
       "      <td>2022-05-21</td>\n",
       "      <td>One-Bedroom Apartment with Patio and Sea View</td>\n",
       "      <td>2022-02-17</td>\n",
       "      <td>OK</td>\n",
       "      <td>98</td>\n",
       "      <td>17.64</td>\n",
       "      <td>2906488360</td>\n",
       "      <td>2 guests</td>\n",
       "      <td>2</td>\n",
       "      <td>8.0</td>\n",
       "    </tr>\n",
       "    <tr>\n",
       "      <th>3</th>\n",
       "      <td>Cleo Rotunno</td>\n",
       "      <td>2022-06-17</td>\n",
       "      <td>2022-06-20</td>\n",
       "      <td>One-Bedroom Apartment with Balcony and Sea View</td>\n",
       "      <td>2022-03-03</td>\n",
       "      <td>OK</td>\n",
       "      <td>162</td>\n",
       "      <td>29.16</td>\n",
       "      <td>3777625256</td>\n",
       "      <td>2 guests</td>\n",
       "      <td>2</td>\n",
       "      <td>10.0</td>\n",
       "    </tr>\n",
       "    <tr>\n",
       "      <th>4</th>\n",
       "      <td>Emily Brown</td>\n",
       "      <td>2022-06-02</td>\n",
       "      <td>2022-06-05</td>\n",
       "      <td>One-Bedroom Apartment with Balcony and Sea View</td>\n",
       "      <td>2022-03-14</td>\n",
       "      <td>OK</td>\n",
       "      <td>162</td>\n",
       "      <td>29.16</td>\n",
       "      <td>2936175841</td>\n",
       "      <td>2 guests</td>\n",
       "      <td>2</td>\n",
       "      <td>NaN</td>\n",
       "    </tr>\n",
       "  </tbody>\n",
       "</table>\n",
       "</div>"
      ],
      "text/plain": [
       "            guest arrival_date departure_date  \\\n",
       "0  Richard Young    2022-07-13     2022-07-20   \n",
       "1   Eileen Quinn    2022-09-17     2022-09-20   \n",
       "2   Phillip Ball    2022-05-19     2022-05-21   \n",
       "3   Cleo Rotunno    2022-06-17     2022-06-20   \n",
       "4    Emily Brown    2022-06-02     2022-06-05   \n",
       "\n",
       "                                              room booking_date status  price  \\\n",
       "0                   Studio with Patio and Sea View   2020-01-07     OK    434   \n",
       "1  One-Bedroom Apartment with Balcony and Sea View   2020-01-09     OK    186   \n",
       "2    One-Bedroom Apartment with Patio and Sea View   2022-02-17     OK     98   \n",
       "3  One-Bedroom Apartment with Balcony and Sea View   2022-03-03     OK    162   \n",
       "4  One-Bedroom Apartment with Balcony and Sea View   2022-03-14     OK    162   \n",
       "\n",
       "   commision  booking_id occypancy  number_of_guests  grade  \n",
       "0      78.12  2177211152  2 guests                 2    NaN  \n",
       "1      33.48  3595829045  2 guests                 2    NaN  \n",
       "2      17.64  2906488360  2 guests                 2    8.0  \n",
       "3      29.16  3777625256  2 guests                 2   10.0  \n",
       "4      29.16  2936175841  2 guests                 2    NaN  "
      ]
     },
     "execution_count": 96,
     "metadata": {},
     "output_type": "execute_result"
    }
   ],
   "source": [
    "dataBooking2022.head()"
   ]
  },
  {
   "cell_type": "code",
   "execution_count": 97,
   "id": "92d694f8",
   "metadata": {},
   "outputs": [
    {
     "data": {
      "text/plain": [
       "Index(['guest', 'arrival_date', 'departure_date', 'room', 'booking_date',\n",
       "       'status', 'price', 'commision', 'booking_id', 'occypancy',\n",
       "       'number_of_guests', 'grade'],\n",
       "      dtype='object')"
      ]
     },
     "execution_count": 97,
     "metadata": {},
     "output_type": "execute_result"
    }
   ],
   "source": [
    "dataBooking2022.columns"
   ]
  },
  {
   "cell_type": "code",
   "execution_count": 98,
   "id": "869b6fd4",
   "metadata": {},
   "outputs": [
    {
     "data": {
      "text/plain": [
       "array(['2 guests', '2 adults', '1 guest', '3 guests',\n",
       "       '1 adult, 1 child (0) '], dtype=object)"
      ]
     },
     "execution_count": 98,
     "metadata": {},
     "output_type": "execute_result"
    }
   ],
   "source": [
    "dataBooking2022['occypancy'].unique()"
   ]
  },
  {
   "cell_type": "code",
   "execution_count": 99,
   "id": "16278799",
   "metadata": {},
   "outputs": [],
   "source": [
    "subsequence = ' child'\n",
    "dataBooking2022['NumberOfChildren'] = dataBooking2022['occypancy'].str.extract(f'(.){subsequence}').fillna(0)"
   ]
  },
  {
   "cell_type": "code",
   "execution_count": 100,
   "id": "8f771223",
   "metadata": {},
   "outputs": [
    {
     "data": {
      "text/plain": [
       "array([0, 1, 2])"
      ]
     },
     "execution_count": 100,
     "metadata": {},
     "output_type": "execute_result"
    }
   ],
   "source": [
    "dataBooking2021['NumberOfChildren'].unique()"
   ]
  },
  {
   "cell_type": "code",
   "execution_count": 101,
   "id": "f0644c75",
   "metadata": {},
   "outputs": [
    {
     "data": {
      "text/plain": [
       "array([2, 1, 3], dtype=int64)"
      ]
     },
     "execution_count": 101,
     "metadata": {},
     "output_type": "execute_result"
    }
   ],
   "source": [
    "dataBooking2022['number_of_guests'].unique()"
   ]
  },
  {
   "cell_type": "code",
   "execution_count": 102,
   "id": "03ae7a67",
   "metadata": {},
   "outputs": [
    {
     "data": {
      "text/plain": [
       "array([0, '1'], dtype=object)"
      ]
     },
     "execution_count": 102,
     "metadata": {},
     "output_type": "execute_result"
    }
   ],
   "source": [
    "dataBooking2022['NumberOfChildren'].unique()"
   ]
  },
  {
   "cell_type": "code",
   "execution_count": 103,
   "id": "33995e91",
   "metadata": {},
   "outputs": [],
   "source": [
    "dataBooking2022[\"Children's age\"] = dataBooking2022['occypancy'].str.extract(r'\\((.*?)\\)')"
   ]
  },
  {
   "cell_type": "code",
   "execution_count": 104,
   "id": "fcdad80d",
   "metadata": {},
   "outputs": [
    {
     "data": {
      "text/plain": [
       "array([nan, '0'], dtype=object)"
      ]
     },
     "execution_count": 104,
     "metadata": {},
     "output_type": "execute_result"
    }
   ],
   "source": [
    "dataBooking2022[\"Children's age\"].unique()"
   ]
  },
  {
   "cell_type": "code",
   "execution_count": 105,
   "id": "3c81dcb7",
   "metadata": {},
   "outputs": [],
   "source": [
    "dataBooking2022[\"Children's age\"].fillna(0, inplace = True)"
   ]
  },
  {
   "cell_type": "code",
   "execution_count": 106,
   "id": "96b4dc42",
   "metadata": {},
   "outputs": [],
   "source": [
    "dataBooking2022.drop('occypancy', axis=1, inplace=True)"
   ]
  },
  {
   "cell_type": "code",
   "execution_count": 107,
   "id": "27fc73d9",
   "metadata": {},
   "outputs": [
    {
     "data": {
      "text/plain": [
       "array(['OK', 'Cancelled', 'Smart Flex'], dtype=object)"
      ]
     },
     "execution_count": 107,
     "metadata": {},
     "output_type": "execute_result"
    }
   ],
   "source": [
    "dataBooking2022['status'].unique()"
   ]
  },
  {
   "cell_type": "code",
   "execution_count": 108,
   "id": "368eacbb",
   "metadata": {},
   "outputs": [
    {
     "data": {
      "text/plain": [
       "array([ 78.12,  33.48,  17.64,  29.16,  35.28,  49.68,   7.92,   8.82,\n",
       "       171.18,  82.44,  29.7 ,  80.64,  42.12,  16.2 ,  95.58,   7.2 ,\n",
       "        19.8 ,  33.3 ,  45.  ,  63.  ,  39.6 ,  15.84,  32.4 ,  49.5 ,\n",
       "        38.88,  14.4 ,  31.68,  79.2 ,  40.5 ,  50.4 ,  19.44,  25.2 ,\n",
       "        32.58,  14.04,  24.3 ,  21.06,  11.7 ,  36.  ,  48.6 ,  21.6 ])"
      ]
     },
     "execution_count": 108,
     "metadata": {},
     "output_type": "execute_result"
    }
   ],
   "source": [
    "dataBooking2022['commision'].unique()"
   ]
  },
  {
   "cell_type": "code",
   "execution_count": 109,
   "id": "9477105c",
   "metadata": {},
   "outputs": [
    {
     "name": "stdout",
     "output_type": "stream",
     "text": [
      "Not all non-missing values in the column 'booking_id' are unique.\n"
     ]
    }
   ],
   "source": [
    "if dataBooking2022['booking_id'].nunique() == len(dataBooking2022['booking_id']):\n",
    "    print(f\"All non-missing values in the column '{'booking_id'}' are unique.\")\n",
    "else:\n",
    "    print(f\"Not all non-missing values in the column '{'booking_id'}' are unique.\")"
   ]
  },
  {
   "cell_type": "code",
   "execution_count": 110,
   "id": "3babe894",
   "metadata": {},
   "outputs": [],
   "source": [
    "dataBooking2022.drop_duplicates(subset=['booking_id'], keep='first', inplace=True)"
   ]
  },
  {
   "cell_type": "code",
   "execution_count": 111,
   "id": "3845aa00",
   "metadata": {},
   "outputs": [
    {
     "data": {
      "text/plain": [
       "array([2177211152, 3595829045, 2906488360, 3777625256, 2936175841,\n",
       "       3212883028, 3108247316, 3532151522, 3696490722, 3527181508,\n",
       "       2799254617, 2892041330, 3744652502, 3744634074, 3133609348,\n",
       "       2359400878, 3969827568, 2735070211, 3140759524, 2920961987,\n",
       "       3780221223, 3749194759, 3952797885, 3820166423, 2270670894,\n",
       "       3326224982, 2754622468, 3467223567, 3086929427, 2199306885,\n",
       "       2915283772, 2197349114, 2600268751, 2896899770, 2256619892,\n",
       "       3506978869, 3637195891, 2746955968, 3847268467, 3815278809,\n",
       "       3834641870, 2931585589, 2128831651, 3894131761, 3705895403,\n",
       "       3678162739, 3669552047, 2765990756, 2626987354, 3010493932,\n",
       "       3494875475, 2884003258, 3488069170, 2369504400, 2686459322,\n",
       "       2144458575, 3249462422, 3527613470, 2703656690, 3087068843,\n",
       "       2175910000, 3970623369, 3441599315, 2897130215, 2918383892,\n",
       "       3410174307, 3965650875, 3473824160, 2187141203, 2446909164],\n",
       "      dtype=int64)"
      ]
     },
     "execution_count": 111,
     "metadata": {},
     "output_type": "execute_result"
    }
   ],
   "source": [
    "dataBooking2022['booking_id'].unique()"
   ]
  },
  {
   "cell_type": "code",
   "execution_count": 112,
   "id": "7ac25446",
   "metadata": {},
   "outputs": [
    {
     "data": {
      "text/html": [
       "<div>\n",
       "<style scoped>\n",
       "    .dataframe tbody tr th:only-of-type {\n",
       "        vertical-align: middle;\n",
       "    }\n",
       "\n",
       "    .dataframe tbody tr th {\n",
       "        vertical-align: top;\n",
       "    }\n",
       "\n",
       "    .dataframe thead th {\n",
       "        text-align: right;\n",
       "    }\n",
       "</style>\n",
       "<table border=\"1\" class=\"dataframe\">\n",
       "  <thead>\n",
       "    <tr style=\"text-align: right;\">\n",
       "      <th></th>\n",
       "      <th>guest</th>\n",
       "      <th>arrival_date</th>\n",
       "      <th>departure_date</th>\n",
       "      <th>room</th>\n",
       "      <th>booking_date</th>\n",
       "      <th>status</th>\n",
       "      <th>price</th>\n",
       "      <th>commision</th>\n",
       "      <th>booking_id</th>\n",
       "      <th>number_of_guests</th>\n",
       "      <th>grade</th>\n",
       "      <th>NumberOfChildren</th>\n",
       "      <th>Children's age</th>\n",
       "    </tr>\n",
       "  </thead>\n",
       "  <tbody>\n",
       "    <tr>\n",
       "      <th>0</th>\n",
       "      <td>Richard Young</td>\n",
       "      <td>2022-07-13</td>\n",
       "      <td>2022-07-20</td>\n",
       "      <td>Studio with Patio and Sea View</td>\n",
       "      <td>2020-01-07</td>\n",
       "      <td>OK</td>\n",
       "      <td>434</td>\n",
       "      <td>78.12</td>\n",
       "      <td>2177211152</td>\n",
       "      <td>2</td>\n",
       "      <td>NaN</td>\n",
       "      <td>0</td>\n",
       "      <td>0</td>\n",
       "    </tr>\n",
       "    <tr>\n",
       "      <th>1</th>\n",
       "      <td>Eileen Quinn</td>\n",
       "      <td>2022-09-17</td>\n",
       "      <td>2022-09-20</td>\n",
       "      <td>One-Bedroom Apartment with Balcony and Sea View</td>\n",
       "      <td>2020-01-09</td>\n",
       "      <td>OK</td>\n",
       "      <td>186</td>\n",
       "      <td>33.48</td>\n",
       "      <td>3595829045</td>\n",
       "      <td>2</td>\n",
       "      <td>NaN</td>\n",
       "      <td>0</td>\n",
       "      <td>0</td>\n",
       "    </tr>\n",
       "    <tr>\n",
       "      <th>2</th>\n",
       "      <td>Phillip Ball</td>\n",
       "      <td>2022-05-19</td>\n",
       "      <td>2022-05-21</td>\n",
       "      <td>One-Bedroom Apartment with Patio and Sea View</td>\n",
       "      <td>2022-02-17</td>\n",
       "      <td>OK</td>\n",
       "      <td>98</td>\n",
       "      <td>17.64</td>\n",
       "      <td>2906488360</td>\n",
       "      <td>2</td>\n",
       "      <td>8.0</td>\n",
       "      <td>0</td>\n",
       "      <td>0</td>\n",
       "    </tr>\n",
       "    <tr>\n",
       "      <th>3</th>\n",
       "      <td>Cleo Rotunno</td>\n",
       "      <td>2022-06-17</td>\n",
       "      <td>2022-06-20</td>\n",
       "      <td>One-Bedroom Apartment with Balcony and Sea View</td>\n",
       "      <td>2022-03-03</td>\n",
       "      <td>OK</td>\n",
       "      <td>162</td>\n",
       "      <td>29.16</td>\n",
       "      <td>3777625256</td>\n",
       "      <td>2</td>\n",
       "      <td>10.0</td>\n",
       "      <td>0</td>\n",
       "      <td>0</td>\n",
       "    </tr>\n",
       "    <tr>\n",
       "      <th>4</th>\n",
       "      <td>Emily Brown</td>\n",
       "      <td>2022-06-02</td>\n",
       "      <td>2022-06-05</td>\n",
       "      <td>One-Bedroom Apartment with Balcony and Sea View</td>\n",
       "      <td>2022-03-14</td>\n",
       "      <td>OK</td>\n",
       "      <td>162</td>\n",
       "      <td>29.16</td>\n",
       "      <td>2936175841</td>\n",
       "      <td>2</td>\n",
       "      <td>NaN</td>\n",
       "      <td>0</td>\n",
       "      <td>0</td>\n",
       "    </tr>\n",
       "  </tbody>\n",
       "</table>\n",
       "</div>"
      ],
      "text/plain": [
       "            guest arrival_date departure_date  \\\n",
       "0  Richard Young    2022-07-13     2022-07-20   \n",
       "1   Eileen Quinn    2022-09-17     2022-09-20   \n",
       "2   Phillip Ball    2022-05-19     2022-05-21   \n",
       "3   Cleo Rotunno    2022-06-17     2022-06-20   \n",
       "4    Emily Brown    2022-06-02     2022-06-05   \n",
       "\n",
       "                                              room booking_date status  price  \\\n",
       "0                   Studio with Patio and Sea View   2020-01-07     OK    434   \n",
       "1  One-Bedroom Apartment with Balcony and Sea View   2020-01-09     OK    186   \n",
       "2    One-Bedroom Apartment with Patio and Sea View   2022-02-17     OK     98   \n",
       "3  One-Bedroom Apartment with Balcony and Sea View   2022-03-03     OK    162   \n",
       "4  One-Bedroom Apartment with Balcony and Sea View   2022-03-14     OK    162   \n",
       "\n",
       "   commision  booking_id  number_of_guests  grade NumberOfChildren  \\\n",
       "0      78.12  2177211152                 2    NaN                0   \n",
       "1      33.48  3595829045                 2    NaN                0   \n",
       "2      17.64  2906488360                 2    8.0                0   \n",
       "3      29.16  3777625256                 2   10.0                0   \n",
       "4      29.16  2936175841                 2    NaN                0   \n",
       "\n",
       "  Children's age  \n",
       "0              0  \n",
       "1              0  \n",
       "2              0  \n",
       "3              0  \n",
       "4              0  "
      ]
     },
     "execution_count": 112,
     "metadata": {},
     "output_type": "execute_result"
    }
   ],
   "source": [
    "dataBooking2022.head()"
   ]
  },
  {
   "cell_type": "code",
   "execution_count": 113,
   "id": "e84678c2",
   "metadata": {},
   "outputs": [],
   "source": [
    "dataBooking2022 = processingBooking2021(dataBooking2022)"
   ]
  },
  {
   "cell_type": "code",
   "execution_count": 114,
   "id": "20e820fa",
   "metadata": {},
   "outputs": [
    {
     "data": {
      "text/html": [
       "<div>\n",
       "<style scoped>\n",
       "    .dataframe tbody tr th:only-of-type {\n",
       "        vertical-align: middle;\n",
       "    }\n",
       "\n",
       "    .dataframe tbody tr th {\n",
       "        vertical-align: top;\n",
       "    }\n",
       "\n",
       "    .dataframe thead th {\n",
       "        text-align: right;\n",
       "    }\n",
       "</style>\n",
       "<table border=\"1\" class=\"dataframe\">\n",
       "  <thead>\n",
       "    <tr style=\"text-align: right;\">\n",
       "      <th></th>\n",
       "      <th>Guest Name</th>\n",
       "      <th>Start date</th>\n",
       "      <th>End date</th>\n",
       "      <th>Accommodation</th>\n",
       "      <th>Booked On</th>\n",
       "      <th>Status</th>\n",
       "      <th>Price</th>\n",
       "      <th>Commission Amount</th>\n",
       "      <th>Book Number</th>\n",
       "      <th>NumberOfAdults</th>\n",
       "      <th>grade</th>\n",
       "      <th>NumberOfChildren</th>\n",
       "      <th>Children's age</th>\n",
       "      <th>NumberOfPeople</th>\n",
       "      <th>Advertiser</th>\n",
       "    </tr>\n",
       "  </thead>\n",
       "  <tbody>\n",
       "    <tr>\n",
       "      <th>0</th>\n",
       "      <td>Richard Young</td>\n",
       "      <td>13.07.2022</td>\n",
       "      <td>20.07.2022</td>\n",
       "      <td>Studio with Patio and Sea View</td>\n",
       "      <td>07.01.2020</td>\n",
       "      <td>Confirmed</td>\n",
       "      <td>355.88</td>\n",
       "      <td>78.12</td>\n",
       "      <td>2177211152</td>\n",
       "      <td>2</td>\n",
       "      <td>NaN</td>\n",
       "      <td>0</td>\n",
       "      <td>0</td>\n",
       "      <td>2</td>\n",
       "      <td>Booking</td>\n",
       "    </tr>\n",
       "    <tr>\n",
       "      <th>1</th>\n",
       "      <td>Eileen Quinn</td>\n",
       "      <td>17.09.2022</td>\n",
       "      <td>20.09.2022</td>\n",
       "      <td>One-Bedroom Apartment with Balcony and Sea View</td>\n",
       "      <td>09.01.2020</td>\n",
       "      <td>Confirmed</td>\n",
       "      <td>152.52</td>\n",
       "      <td>33.48</td>\n",
       "      <td>3595829045</td>\n",
       "      <td>2</td>\n",
       "      <td>NaN</td>\n",
       "      <td>0</td>\n",
       "      <td>0</td>\n",
       "      <td>2</td>\n",
       "      <td>Booking</td>\n",
       "    </tr>\n",
       "    <tr>\n",
       "      <th>2</th>\n",
       "      <td>Phillip Ball</td>\n",
       "      <td>19.05.2022</td>\n",
       "      <td>21.05.2022</td>\n",
       "      <td>One-Bedroom Apartment with Patio and Sea View</td>\n",
       "      <td>17.02.2022</td>\n",
       "      <td>Confirmed</td>\n",
       "      <td>80.36</td>\n",
       "      <td>17.64</td>\n",
       "      <td>2906488360</td>\n",
       "      <td>2</td>\n",
       "      <td>8.0</td>\n",
       "      <td>0</td>\n",
       "      <td>0</td>\n",
       "      <td>2</td>\n",
       "      <td>Booking</td>\n",
       "    </tr>\n",
       "    <tr>\n",
       "      <th>3</th>\n",
       "      <td>Cleo Rotunno</td>\n",
       "      <td>17.06.2022</td>\n",
       "      <td>20.06.2022</td>\n",
       "      <td>One-Bedroom Apartment with Balcony and Sea View</td>\n",
       "      <td>03.03.2022</td>\n",
       "      <td>Confirmed</td>\n",
       "      <td>132.84</td>\n",
       "      <td>29.16</td>\n",
       "      <td>3777625256</td>\n",
       "      <td>2</td>\n",
       "      <td>10.0</td>\n",
       "      <td>0</td>\n",
       "      <td>0</td>\n",
       "      <td>2</td>\n",
       "      <td>Booking</td>\n",
       "    </tr>\n",
       "    <tr>\n",
       "      <th>4</th>\n",
       "      <td>Emily Brown</td>\n",
       "      <td>02.06.2022</td>\n",
       "      <td>05.06.2022</td>\n",
       "      <td>One-Bedroom Apartment with Balcony and Sea View</td>\n",
       "      <td>14.03.2022</td>\n",
       "      <td>Confirmed</td>\n",
       "      <td>132.84</td>\n",
       "      <td>29.16</td>\n",
       "      <td>2936175841</td>\n",
       "      <td>2</td>\n",
       "      <td>NaN</td>\n",
       "      <td>0</td>\n",
       "      <td>0</td>\n",
       "      <td>2</td>\n",
       "      <td>Booking</td>\n",
       "    </tr>\n",
       "  </tbody>\n",
       "</table>\n",
       "</div>"
      ],
      "text/plain": [
       "       Guest Name  Start date    End date  \\\n",
       "0  Richard Young   13.07.2022  20.07.2022   \n",
       "1   Eileen Quinn   17.09.2022  20.09.2022   \n",
       "2   Phillip Ball   19.05.2022  21.05.2022   \n",
       "3   Cleo Rotunno   17.06.2022  20.06.2022   \n",
       "4    Emily Brown   02.06.2022  05.06.2022   \n",
       "\n",
       "                                     Accommodation   Booked On     Status  \\\n",
       "0                   Studio with Patio and Sea View  07.01.2020  Confirmed   \n",
       "1  One-Bedroom Apartment with Balcony and Sea View  09.01.2020  Confirmed   \n",
       "2    One-Bedroom Apartment with Patio and Sea View  17.02.2022  Confirmed   \n",
       "3  One-Bedroom Apartment with Balcony and Sea View  03.03.2022  Confirmed   \n",
       "4  One-Bedroom Apartment with Balcony and Sea View  14.03.2022  Confirmed   \n",
       "\n",
       "    Price Commission Amount  Book Number  NumberOfAdults  grade  \\\n",
       "0  355.88             78.12   2177211152               2    NaN   \n",
       "1  152.52             33.48   3595829045               2    NaN   \n",
       "2   80.36             17.64   2906488360               2    8.0   \n",
       "3  132.84             29.16   3777625256               2   10.0   \n",
       "4  132.84             29.16   2936175841               2    NaN   \n",
       "\n",
       "   NumberOfChildren Children's age  NumberOfPeople Advertiser  \n",
       "0                 0              0               2    Booking  \n",
       "1                 0              0               2    Booking  \n",
       "2                 0              0               2    Booking  \n",
       "3                 0              0               2    Booking  \n",
       "4                 0              0               2    Booking  "
      ]
     },
     "execution_count": 114,
     "metadata": {},
     "output_type": "execute_result"
    }
   ],
   "source": [
    "dataBooking2022.head()"
   ]
  },
  {
   "cell_type": "code",
   "execution_count": 115,
   "id": "60fb7bdd",
   "metadata": {},
   "outputs": [
    {
     "data": {
      "text/plain": [
       "array(['Studio with Patio and Sea View',\n",
       "       'One-Bedroom Apartment with Balcony and Sea View',\n",
       "       'One-Bedroom Apartment with Patio and Sea View',\n",
       "       'Studio with Patio'], dtype=object)"
      ]
     },
     "execution_count": 115,
     "metadata": {},
     "output_type": "execute_result"
    }
   ],
   "source": [
    "dataBooking2022['Accommodation'].unique()"
   ]
  },
  {
   "cell_type": "code",
   "execution_count": 116,
   "id": "0818c370",
   "metadata": {},
   "outputs": [
    {
     "data": {
      "text/plain": [
       "array([nan,  8., 10.,  7.,  9.])"
      ]
     },
     "execution_count": 116,
     "metadata": {},
     "output_type": "execute_result"
    }
   ],
   "source": [
    "dataBooking2022['grade'].unique()"
   ]
  },
  {
   "cell_type": "code",
   "execution_count": 117,
   "id": "a2cf0715",
   "metadata": {},
   "outputs": [],
   "source": [
    "dataBooking2022['grade'].fillna(0, inplace = True)"
   ]
  },
  {
   "cell_type": "code",
   "execution_count": 118,
   "id": "f903ccb9",
   "metadata": {},
   "outputs": [],
   "source": [
    "dataBooking2022.rename(columns={'grade' : 'Grade'}, inplace = True)"
   ]
  },
  {
   "cell_type": "code",
   "execution_count": 119,
   "id": "8a7f76d0",
   "metadata": {},
   "outputs": [
    {
     "data": {
      "text/plain": [
       "array(['Confirmed', 'Cancelled', 'Arriving'], dtype=object)"
      ]
     },
     "execution_count": 119,
     "metadata": {},
     "output_type": "execute_result"
    }
   ],
   "source": [
    "dataBooking2022['Status'].unique()"
   ]
  },
  {
   "cell_type": "code",
   "execution_count": 120,
   "id": "ec4b16b4",
   "metadata": {},
   "outputs": [
    {
     "data": {
      "text/plain": [
       "array([0, '0'], dtype=object)"
      ]
     },
     "execution_count": 120,
     "metadata": {},
     "output_type": "execute_result"
    }
   ],
   "source": [
    "dataBooking2022[\"Children's age\"].unique()"
   ]
  },
  {
   "cell_type": "code",
   "execution_count": 121,
   "id": "886f6955",
   "metadata": {},
   "outputs": [
    {
     "data": {
      "text/plain": [
       "array([0, 1])"
      ]
     },
     "execution_count": 121,
     "metadata": {},
     "output_type": "execute_result"
    }
   ],
   "source": [
    "dataBooking2022[\"NumberOfChildren\"].unique()"
   ]
  },
  {
   "cell_type": "code",
   "execution_count": 122,
   "id": "5b844c58",
   "metadata": {},
   "outputs": [
    {
     "data": {
      "text/plain": [
       "Index(['Guest Name', 'Start date', 'End date', 'Accommodation', 'Booked On',\n",
       "       'Status', 'Price', 'Commission Amount', 'Book Number', 'NumberOfAdults',\n",
       "       'Grade', 'NumberOfChildren', 'Children's age', 'NumberOfPeople',\n",
       "       'Advertiser'],\n",
       "      dtype='object')"
      ]
     },
     "execution_count": 122,
     "metadata": {},
     "output_type": "execute_result"
    }
   ],
   "source": [
    "dataBooking2022.columns"
   ]
  },
  {
   "cell_type": "code",
   "execution_count": 123,
   "id": "aa5e241b",
   "metadata": {},
   "outputs": [],
   "source": [
    "dataBooking2022.rename(columns={'Start date': 'Start Date', \n",
    "                                'End date': 'End Date',\n",
    "                                \"Children's age\": \"Children's Age\"}, inplace=True)"
   ]
  },
  {
   "cell_type": "markdown",
   "id": "337e5a3f",
   "metadata": {},
   "source": [
    "# 2023"
   ]
  },
  {
   "cell_type": "code",
   "execution_count": 124,
   "id": "98084351",
   "metadata": {},
   "outputs": [],
   "source": [
    "dataBooking2023= pd.read_excel('D://Master/SSP/Projekat/data/raw/2023/2023_booking.xlsx', index_col=0)"
   ]
  },
  {
   "cell_type": "code",
   "execution_count": 125,
   "id": "3849c370",
   "metadata": {},
   "outputs": [
    {
     "data": {
      "text/html": [
       "<div>\n",
       "<style scoped>\n",
       "    .dataframe tbody tr th:only-of-type {\n",
       "        vertical-align: middle;\n",
       "    }\n",
       "\n",
       "    .dataframe tbody tr th {\n",
       "        vertical-align: top;\n",
       "    }\n",
       "\n",
       "    .dataframe thead th {\n",
       "        text-align: right;\n",
       "    }\n",
       "</style>\n",
       "<table border=\"1\" class=\"dataframe\">\n",
       "  <thead>\n",
       "    <tr style=\"text-align: right;\">\n",
       "      <th></th>\n",
       "      <th>Booked by</th>\n",
       "      <th>Guest Name(s)</th>\n",
       "      <th>Check-in</th>\n",
       "      <th>Check-out</th>\n",
       "      <th>Booked on</th>\n",
       "      <th>Status</th>\n",
       "      <th>People</th>\n",
       "      <th>Adults</th>\n",
       "      <th>Children</th>\n",
       "      <th>Children's age(s)</th>\n",
       "      <th>...</th>\n",
       "      <th>Payment Method</th>\n",
       "      <th>Contact</th>\n",
       "      <th>Staff</th>\n",
       "      <th>Facilities</th>\n",
       "      <th>Cleanliness</th>\n",
       "      <th>Comfort</th>\n",
       "      <th>Value for money</th>\n",
       "      <th>Location</th>\n",
       "      <th>Free WiFi</th>\n",
       "      <th>Total</th>\n",
       "    </tr>\n",
       "    <tr>\n",
       "      <th>Book Number</th>\n",
       "      <th></th>\n",
       "      <th></th>\n",
       "      <th></th>\n",
       "      <th></th>\n",
       "      <th></th>\n",
       "      <th></th>\n",
       "      <th></th>\n",
       "      <th></th>\n",
       "      <th></th>\n",
       "      <th></th>\n",
       "      <th></th>\n",
       "      <th></th>\n",
       "      <th></th>\n",
       "      <th></th>\n",
       "      <th></th>\n",
       "      <th></th>\n",
       "      <th></th>\n",
       "      <th></th>\n",
       "      <th></th>\n",
       "      <th></th>\n",
       "      <th></th>\n",
       "    </tr>\n",
       "  </thead>\n",
       "  <tbody>\n",
       "    <tr>\n",
       "      <th>2374616608</th>\n",
       "      <td>De La Rosa, Juan</td>\n",
       "      <td>Juan De La Rosa</td>\n",
       "      <td>2023-04-17</td>\n",
       "      <td>2023-04-20</td>\n",
       "      <td>2023-01-03 18:42:14</td>\n",
       "      <td>cancelled_by_guest</td>\n",
       "      <td>2</td>\n",
       "      <td>NaN</td>\n",
       "      <td>NaN</td>\n",
       "      <td>NaN</td>\n",
       "      <td>...</td>\n",
       "      <td>NaN</td>\n",
       "      <td>+27 83 226 9181</td>\n",
       "      <td>NaN</td>\n",
       "      <td>NaN</td>\n",
       "      <td>NaN</td>\n",
       "      <td>NaN</td>\n",
       "      <td>NaN</td>\n",
       "      <td>NaN</td>\n",
       "      <td>NaN</td>\n",
       "      <td>NaN</td>\n",
       "    </tr>\n",
       "    <tr>\n",
       "      <th>2251062736</th>\n",
       "      <td>Cook, Christopher</td>\n",
       "      <td>Christopher Cook</td>\n",
       "      <td>2023-04-17</td>\n",
       "      <td>2023-04-21</td>\n",
       "      <td>2023-02-21 22:16:32</td>\n",
       "      <td>ok</td>\n",
       "      <td>2</td>\n",
       "      <td>NaN</td>\n",
       "      <td>NaN</td>\n",
       "      <td>NaN</td>\n",
       "      <td>...</td>\n",
       "      <td>NaN</td>\n",
       "      <td>+49 170 5236337</td>\n",
       "      <td>10.0</td>\n",
       "      <td>10.0</td>\n",
       "      <td>10.0</td>\n",
       "      <td>10.0</td>\n",
       "      <td>10.0</td>\n",
       "      <td>10.0</td>\n",
       "      <td>10.0</td>\n",
       "      <td>10.0</td>\n",
       "    </tr>\n",
       "    <tr>\n",
       "      <th>2337695567</th>\n",
       "      <td>cocco, silvia</td>\n",
       "      <td>silvia cocco</td>\n",
       "      <td>2023-04-17</td>\n",
       "      <td>2023-04-19</td>\n",
       "      <td>2023-03-18 12:08:35</td>\n",
       "      <td>ok</td>\n",
       "      <td>2</td>\n",
       "      <td>NaN</td>\n",
       "      <td>NaN</td>\n",
       "      <td>NaN</td>\n",
       "      <td>...</td>\n",
       "      <td>NaN</td>\n",
       "      <td>+31 31625642536</td>\n",
       "      <td>9.0</td>\n",
       "      <td>9.0</td>\n",
       "      <td>10.0</td>\n",
       "      <td>9.0</td>\n",
       "      <td>9.0</td>\n",
       "      <td>9.0</td>\n",
       "      <td>9.0</td>\n",
       "      <td>9.0</td>\n",
       "    </tr>\n",
       "    <tr>\n",
       "      <th>3022962893</th>\n",
       "      <td>Abdin, Aytaj</td>\n",
       "      <td>Kamal Omarov</td>\n",
       "      <td>2023-04-18</td>\n",
       "      <td>2023-04-22</td>\n",
       "      <td>2023-02-17 21:32:16</td>\n",
       "      <td>ok</td>\n",
       "      <td>2</td>\n",
       "      <td>NaN</td>\n",
       "      <td>NaN</td>\n",
       "      <td>NaN</td>\n",
       "      <td>...</td>\n",
       "      <td>Virtual card</td>\n",
       "      <td>+33 6 43 39 11 81</td>\n",
       "      <td>8.0</td>\n",
       "      <td>8.0</td>\n",
       "      <td>NaN</td>\n",
       "      <td>8.0</td>\n",
       "      <td>8.0</td>\n",
       "      <td>8.0</td>\n",
       "      <td>8.0</td>\n",
       "      <td>8.0</td>\n",
       "    </tr>\n",
       "    <tr>\n",
       "      <th>3726049369</th>\n",
       "      <td>MORRIS, CRAIG</td>\n",
       "      <td>CRAIG MORRIS</td>\n",
       "      <td>2023-04-20</td>\n",
       "      <td>2023-04-22</td>\n",
       "      <td>2023-02-26 10:18:19</td>\n",
       "      <td>ok</td>\n",
       "      <td>2</td>\n",
       "      <td>NaN</td>\n",
       "      <td>NaN</td>\n",
       "      <td>NaN</td>\n",
       "      <td>...</td>\n",
       "      <td>NaN</td>\n",
       "      <td>+91 99563 58674</td>\n",
       "      <td>NaN</td>\n",
       "      <td>NaN</td>\n",
       "      <td>NaN</td>\n",
       "      <td>NaN</td>\n",
       "      <td>NaN</td>\n",
       "      <td>NaN</td>\n",
       "      <td>NaN</td>\n",
       "      <td>10.0</td>\n",
       "    </tr>\n",
       "  </tbody>\n",
       "</table>\n",
       "<p>5 rows × 24 columns</p>\n",
       "</div>"
      ],
      "text/plain": [
       "                     Booked by     Guest Name(s)    Check-in   Check-out  \\\n",
       "Book Number                                                                \n",
       "2374616608    De La Rosa, Juan   Juan De La Rosa  2023-04-17  2023-04-20   \n",
       "2251062736   Cook, Christopher  Christopher Cook  2023-04-17  2023-04-21   \n",
       "2337695567       cocco, silvia      silvia cocco  2023-04-17  2023-04-19   \n",
       "3022962893        Abdin, Aytaj      Kamal Omarov  2023-04-18  2023-04-22   \n",
       "3726049369       MORRIS, CRAIG      CRAIG MORRIS  2023-04-20  2023-04-22   \n",
       "\n",
       "                       Booked on              Status  People  Adults  \\\n",
       "Book Number                                                            \n",
       "2374616608   2023-01-03 18:42:14  cancelled_by_guest       2     NaN   \n",
       "2251062736   2023-02-21 22:16:32                  ok       2     NaN   \n",
       "2337695567   2023-03-18 12:08:35                  ok       2     NaN   \n",
       "3022962893   2023-02-17 21:32:16                  ok       2     NaN   \n",
       "3726049369   2023-02-26 10:18:19                  ok       2     NaN   \n",
       "\n",
       "             Children Children's age(s)  ... Payment Method  \\\n",
       "Book Number                              ...                  \n",
       "2374616608        NaN               NaN  ...            NaN   \n",
       "2251062736        NaN               NaN  ...            NaN   \n",
       "2337695567        NaN               NaN  ...            NaN   \n",
       "3022962893        NaN               NaN  ...   Virtual card   \n",
       "3726049369        NaN               NaN  ...            NaN   \n",
       "\n",
       "                       Contact Staff Facilities Cleanliness Comfort  \\\n",
       "Book Number                                                           \n",
       "2374616608     +27 83 226 9181   NaN        NaN         NaN     NaN   \n",
       "2251062736     +49 170 5236337  10.0       10.0        10.0    10.0   \n",
       "2337695567     +31 31625642536   9.0        9.0        10.0     9.0   \n",
       "3022962893   +33 6 43 39 11 81   8.0        8.0         NaN     8.0   \n",
       "3726049369     +91 99563 58674   NaN        NaN         NaN     NaN   \n",
       "\n",
       "             Value for money  Location  Free WiFi  Total  \n",
       "Book Number                                               \n",
       "2374616608               NaN       NaN        NaN    NaN  \n",
       "2251062736              10.0      10.0       10.0   10.0  \n",
       "2337695567               9.0       9.0        9.0    9.0  \n",
       "3022962893               8.0       8.0        8.0    8.0  \n",
       "3726049369               NaN       NaN        NaN   10.0  \n",
       "\n",
       "[5 rows x 24 columns]"
      ]
     },
     "execution_count": 125,
     "metadata": {},
     "output_type": "execute_result"
    }
   ],
   "source": [
    "dataBooking2023.head()"
   ]
  },
  {
   "cell_type": "code",
   "execution_count": 126,
   "id": "280518f6",
   "metadata": {},
   "outputs": [
    {
     "data": {
      "text/plain": [
       "Index(['Booked by', 'Guest Name(s)', 'Check-in', 'Check-out', 'Booked on',\n",
       "       'Status', 'People', 'Adults', 'Children', 'Children's age(s)', 'Price',\n",
       "       'Commission %', 'Room', 'Payment Status', 'Payment Method', 'Contact',\n",
       "       'Staff', 'Facilities', 'Cleanliness', 'Comfort', 'Value for money',\n",
       "       'Location', 'Free WiFi', 'Total'],\n",
       "      dtype='object')"
      ]
     },
     "execution_count": 126,
     "metadata": {},
     "output_type": "execute_result"
    }
   ],
   "source": [
    "dataBooking2023.columns"
   ]
  },
  {
   "cell_type": "code",
   "execution_count": 127,
   "id": "a8134464",
   "metadata": {},
   "outputs": [],
   "source": [
    "dataBooking2023 = dataBooking2023.reset_index()"
   ]
  },
  {
   "cell_type": "code",
   "execution_count": 128,
   "id": "6d8abf3d",
   "metadata": {},
   "outputs": [
    {
     "data": {
      "text/html": [
       "<div>\n",
       "<style scoped>\n",
       "    .dataframe tbody tr th:only-of-type {\n",
       "        vertical-align: middle;\n",
       "    }\n",
       "\n",
       "    .dataframe tbody tr th {\n",
       "        vertical-align: top;\n",
       "    }\n",
       "\n",
       "    .dataframe thead th {\n",
       "        text-align: right;\n",
       "    }\n",
       "</style>\n",
       "<table border=\"1\" class=\"dataframe\">\n",
       "  <thead>\n",
       "    <tr style=\"text-align: right;\">\n",
       "      <th></th>\n",
       "      <th>Book Number</th>\n",
       "      <th>Booked by</th>\n",
       "      <th>Guest Name(s)</th>\n",
       "      <th>Check-in</th>\n",
       "      <th>Check-out</th>\n",
       "      <th>Booked on</th>\n",
       "      <th>Status</th>\n",
       "      <th>People</th>\n",
       "      <th>Adults</th>\n",
       "      <th>Children</th>\n",
       "      <th>...</th>\n",
       "      <th>Payment Method</th>\n",
       "      <th>Contact</th>\n",
       "      <th>Staff</th>\n",
       "      <th>Facilities</th>\n",
       "      <th>Cleanliness</th>\n",
       "      <th>Comfort</th>\n",
       "      <th>Value for money</th>\n",
       "      <th>Location</th>\n",
       "      <th>Free WiFi</th>\n",
       "      <th>Total</th>\n",
       "    </tr>\n",
       "  </thead>\n",
       "  <tbody>\n",
       "    <tr>\n",
       "      <th>0</th>\n",
       "      <td>2374616608</td>\n",
       "      <td>De La Rosa, Juan</td>\n",
       "      <td>Juan De La Rosa</td>\n",
       "      <td>2023-04-17</td>\n",
       "      <td>2023-04-20</td>\n",
       "      <td>2023-01-03 18:42:14</td>\n",
       "      <td>cancelled_by_guest</td>\n",
       "      <td>2</td>\n",
       "      <td>NaN</td>\n",
       "      <td>NaN</td>\n",
       "      <td>...</td>\n",
       "      <td>NaN</td>\n",
       "      <td>+27 83 226 9181</td>\n",
       "      <td>NaN</td>\n",
       "      <td>NaN</td>\n",
       "      <td>NaN</td>\n",
       "      <td>NaN</td>\n",
       "      <td>NaN</td>\n",
       "      <td>NaN</td>\n",
       "      <td>NaN</td>\n",
       "      <td>NaN</td>\n",
       "    </tr>\n",
       "    <tr>\n",
       "      <th>1</th>\n",
       "      <td>2251062736</td>\n",
       "      <td>Cook, Christopher</td>\n",
       "      <td>Christopher Cook</td>\n",
       "      <td>2023-04-17</td>\n",
       "      <td>2023-04-21</td>\n",
       "      <td>2023-02-21 22:16:32</td>\n",
       "      <td>ok</td>\n",
       "      <td>2</td>\n",
       "      <td>NaN</td>\n",
       "      <td>NaN</td>\n",
       "      <td>...</td>\n",
       "      <td>NaN</td>\n",
       "      <td>+49 170 5236337</td>\n",
       "      <td>10.0</td>\n",
       "      <td>10.0</td>\n",
       "      <td>10.0</td>\n",
       "      <td>10.0</td>\n",
       "      <td>10.0</td>\n",
       "      <td>10.0</td>\n",
       "      <td>10.0</td>\n",
       "      <td>10.0</td>\n",
       "    </tr>\n",
       "    <tr>\n",
       "      <th>2</th>\n",
       "      <td>2337695567</td>\n",
       "      <td>cocco, silvia</td>\n",
       "      <td>silvia cocco</td>\n",
       "      <td>2023-04-17</td>\n",
       "      <td>2023-04-19</td>\n",
       "      <td>2023-03-18 12:08:35</td>\n",
       "      <td>ok</td>\n",
       "      <td>2</td>\n",
       "      <td>NaN</td>\n",
       "      <td>NaN</td>\n",
       "      <td>...</td>\n",
       "      <td>NaN</td>\n",
       "      <td>+31 31625642536</td>\n",
       "      <td>9.0</td>\n",
       "      <td>9.0</td>\n",
       "      <td>10.0</td>\n",
       "      <td>9.0</td>\n",
       "      <td>9.0</td>\n",
       "      <td>9.0</td>\n",
       "      <td>9.0</td>\n",
       "      <td>9.0</td>\n",
       "    </tr>\n",
       "    <tr>\n",
       "      <th>3</th>\n",
       "      <td>3022962893</td>\n",
       "      <td>Abdin, Aytaj</td>\n",
       "      <td>Kamal Omarov</td>\n",
       "      <td>2023-04-18</td>\n",
       "      <td>2023-04-22</td>\n",
       "      <td>2023-02-17 21:32:16</td>\n",
       "      <td>ok</td>\n",
       "      <td>2</td>\n",
       "      <td>NaN</td>\n",
       "      <td>NaN</td>\n",
       "      <td>...</td>\n",
       "      <td>Virtual card</td>\n",
       "      <td>+33 6 43 39 11 81</td>\n",
       "      <td>8.0</td>\n",
       "      <td>8.0</td>\n",
       "      <td>NaN</td>\n",
       "      <td>8.0</td>\n",
       "      <td>8.0</td>\n",
       "      <td>8.0</td>\n",
       "      <td>8.0</td>\n",
       "      <td>8.0</td>\n",
       "    </tr>\n",
       "    <tr>\n",
       "      <th>4</th>\n",
       "      <td>3726049369</td>\n",
       "      <td>MORRIS, CRAIG</td>\n",
       "      <td>CRAIG MORRIS</td>\n",
       "      <td>2023-04-20</td>\n",
       "      <td>2023-04-22</td>\n",
       "      <td>2023-02-26 10:18:19</td>\n",
       "      <td>ok</td>\n",
       "      <td>2</td>\n",
       "      <td>NaN</td>\n",
       "      <td>NaN</td>\n",
       "      <td>...</td>\n",
       "      <td>NaN</td>\n",
       "      <td>+91 99563 58674</td>\n",
       "      <td>NaN</td>\n",
       "      <td>NaN</td>\n",
       "      <td>NaN</td>\n",
       "      <td>NaN</td>\n",
       "      <td>NaN</td>\n",
       "      <td>NaN</td>\n",
       "      <td>NaN</td>\n",
       "      <td>10.0</td>\n",
       "    </tr>\n",
       "  </tbody>\n",
       "</table>\n",
       "<p>5 rows × 25 columns</p>\n",
       "</div>"
      ],
      "text/plain": [
       "   Book Number          Booked by     Guest Name(s)    Check-in   Check-out  \\\n",
       "0   2374616608   De La Rosa, Juan   Juan De La Rosa  2023-04-17  2023-04-20   \n",
       "1   2251062736  Cook, Christopher  Christopher Cook  2023-04-17  2023-04-21   \n",
       "2   2337695567      cocco, silvia      silvia cocco  2023-04-17  2023-04-19   \n",
       "3   3022962893       Abdin, Aytaj      Kamal Omarov  2023-04-18  2023-04-22   \n",
       "4   3726049369      MORRIS, CRAIG      CRAIG MORRIS  2023-04-20  2023-04-22   \n",
       "\n",
       "             Booked on              Status  People  Adults  Children  ...  \\\n",
       "0  2023-01-03 18:42:14  cancelled_by_guest       2     NaN       NaN  ...   \n",
       "1  2023-02-21 22:16:32                  ok       2     NaN       NaN  ...   \n",
       "2  2023-03-18 12:08:35                  ok       2     NaN       NaN  ...   \n",
       "3  2023-02-17 21:32:16                  ok       2     NaN       NaN  ...   \n",
       "4  2023-02-26 10:18:19                  ok       2     NaN       NaN  ...   \n",
       "\n",
       "  Payment Method            Contact  Staff Facilities Cleanliness Comfort  \\\n",
       "0            NaN    +27 83 226 9181    NaN        NaN         NaN     NaN   \n",
       "1            NaN    +49 170 5236337   10.0       10.0        10.0    10.0   \n",
       "2            NaN    +31 31625642536    9.0        9.0        10.0     9.0   \n",
       "3   Virtual card  +33 6 43 39 11 81    8.0        8.0         NaN     8.0   \n",
       "4            NaN    +91 99563 58674    NaN        NaN         NaN     NaN   \n",
       "\n",
       "  Value for money  Location  Free WiFi  Total  \n",
       "0             NaN       NaN        NaN    NaN  \n",
       "1            10.0      10.0       10.0   10.0  \n",
       "2             9.0       9.0        9.0    9.0  \n",
       "3             8.0       8.0        8.0    8.0  \n",
       "4             NaN       NaN        NaN   10.0  \n",
       "\n",
       "[5 rows x 25 columns]"
      ]
     },
     "execution_count": 128,
     "metadata": {},
     "output_type": "execute_result"
    }
   ],
   "source": [
    "dataBooking2023.head()"
   ]
  },
  {
   "cell_type": "code",
   "execution_count": 129,
   "id": "25b48992",
   "metadata": {},
   "outputs": [
    {
     "name": "stdout",
     "output_type": "stream",
     "text": [
      "All non-missing values in the column 'Book Number' are unique.\n"
     ]
    }
   ],
   "source": [
    "if dataBooking2023['Book Number'].nunique() == len(dataBooking2023['Book Number']):\n",
    "    print(f\"All non-missing values in the column '{'Book Number'}' are unique.\")\n",
    "else:\n",
    "    print(f\"Not all non-missing values in the column '{'Book Number'}' are unique.\")"
   ]
  },
  {
   "cell_type": "code",
   "execution_count": 130,
   "id": "e755221d",
   "metadata": {},
   "outputs": [
    {
     "data": {
      "text/plain": [
       "array(['cancelled_by_guest', 'ok', 'no_show'], dtype=object)"
      ]
     },
     "execution_count": 130,
     "metadata": {},
     "output_type": "execute_result"
    }
   ],
   "source": [
    "dataBooking2023['Status'].unique()"
   ]
  },
  {
   "cell_type": "code",
   "execution_count": 131,
   "id": "55264195",
   "metadata": {},
   "outputs": [
    {
     "data": {
      "text/plain": [
       "array([2, 4, 1, 3], dtype=int64)"
      ]
     },
     "execution_count": 131,
     "metadata": {},
     "output_type": "execute_result"
    }
   ],
   "source": [
    "dataBooking2023['People'].unique()"
   ]
  },
  {
   "cell_type": "code",
   "execution_count": 132,
   "id": "83ec8a79",
   "metadata": {},
   "outputs": [
    {
     "data": {
      "text/plain": [
       "array([nan,  2.,  1.])"
      ]
     },
     "execution_count": 132,
     "metadata": {},
     "output_type": "execute_result"
    }
   ],
   "source": [
    "dataBooking2023['Adults'].unique()"
   ]
  },
  {
   "cell_type": "code",
   "execution_count": 133,
   "id": "f93b59a6",
   "metadata": {},
   "outputs": [
    {
     "data": {
      "text/plain": [
       "array([nan,  2.,  1.,  3.])"
      ]
     },
     "execution_count": 133,
     "metadata": {},
     "output_type": "execute_result"
    }
   ],
   "source": [
    "dataBooking2023['Children'].unique()"
   ]
  },
  {
   "cell_type": "code",
   "execution_count": 134,
   "id": "9850bd92",
   "metadata": {},
   "outputs": [
    {
     "data": {
      "text/plain": [
       "array([nan, '5,3', 1, 3, 4, '2,6', '4,5', 9, 0, '5,10', '7,2,2', '0,2'],\n",
       "      dtype=object)"
      ]
     },
     "execution_count": 134,
     "metadata": {},
     "output_type": "execute_result"
    }
   ],
   "source": [
    "dataBooking2023[\"Children's age(s)\"].unique()"
   ]
  },
  {
   "cell_type": "code",
   "execution_count": 135,
   "id": "e09fe7b0",
   "metadata": {},
   "outputs": [
    {
     "data": {
      "text/plain": [
       "array(['150 EUR', '244 EUR', '104 EUR', '122 EUR', '177 EUR', '156 EUR',\n",
       "       '195 EUR', '223 EUR', '402 EUR', '201 EUR', '165 EUR', '171 EUR',\n",
       "       '134 EUR', '114 EUR', '224 EUR', '268 EUR', '285 EUR', '130 EUR',\n",
       "       '469 EUR', '419 EUR', '205 EUR', '215 EUR', '144 EUR', '231 EUR',\n",
       "       '154 EUR', '228 EUR', '330 EUR', '528 EUR', '385 EUR', '124 EUR',\n",
       "       '300 EUR', '220 EUR', '128 EUR', '110 EUR', '328 EUR', '256 EUR',\n",
       "       '198 EUR', '308 EUR', '72 EUR', '132 EUR', '525 EUR', '82 EUR',\n",
       "       '216 EUR', '261 EUR', '248 EUR', '180 EUR', '425 EUR', '609 EUR',\n",
       "       '360 EUR', '310 EUR', '348 EUR', '186 EUR', '595 EUR', '91 EUR',\n",
       "       '368 EUR', '210 EUR', '270 EUR', '92 EUR', '97 EUR', '480 EUR',\n",
       "       '183 EUR', '288 EUR', '434 EUR', '522 EUR', '240 EUR', '435 EUR',\n",
       "       '1190 EUR', '490 EUR', '172.33 EUR', '280 EUR', '589 EUR',\n",
       "       '181 EUR', '539 EUR', '67 EUR', '495 EUR', '399 EUR', '462 EUR',\n",
       "       '499 EUR', '119 EUR', '520 EUR', '264 EUR'], dtype=object)"
      ]
     },
     "execution_count": 135,
     "metadata": {},
     "output_type": "execute_result"
    }
   ],
   "source": [
    "dataBooking2023['Price'].unique()"
   ]
  },
  {
   "cell_type": "code",
   "execution_count": 136,
   "id": "592c26d6",
   "metadata": {},
   "outputs": [
    {
     "data": {
      "text/plain": [
       "array([18], dtype=int64)"
      ]
     },
     "execution_count": 136,
     "metadata": {},
     "output_type": "execute_result"
    }
   ],
   "source": [
    "dataBooking2023['Commission %'].unique()"
   ]
  },
  {
   "cell_type": "code",
   "execution_count": 137,
   "id": "5b292ba5",
   "metadata": {},
   "outputs": [
    {
     "data": {
      "text/plain": [
       "array(['C - Studio with Patio and Sea View',\n",
       "       'D - One-Bedroom Apartment with Patio and Sea View',\n",
       "       'A - One-Bedroom Apartment with Balcony and Sea View',\n",
       "       'B - Studio with Patio'], dtype=object)"
      ]
     },
     "execution_count": 137,
     "metadata": {},
     "output_type": "execute_result"
    }
   ],
   "source": [
    "dataBooking2023['Room'].unique()"
   ]
  },
  {
   "cell_type": "code",
   "execution_count": 138,
   "id": "286ecab1",
   "metadata": {},
   "outputs": [
    {
     "data": {
      "text/plain": [
       "array(['+27 83 226 9181', '+49 170 5236337', '+31 31625642536',\n",
       "       '+33 6 43 39 11 81', '+91 99563 58674', '+49 1577 2018127',\n",
       "       '+44 7931 806900', '+90 544 270 86 82', '+44 7445 054462',\n",
       "       '+358 50 3834653', '+33 6 19 84 55 20', '+44 7563 612108',\n",
       "       '+33 6 79 38 52 84', '+389 78 409 794', '+49 1511 4141596',\n",
       "       '+90 551 589 10 32', '+33 6 84 27 85 92', '+44 7585 227036',\n",
       "       '+49 176 32316351', '+44 7850 093592', '+33 6 38 51 92 40',\n",
       "       '+31 6 43643456', '+34 685 78 75 24', '+44 7772 189814',\n",
       "       '+49 1578 9134181', '+45 51 88 03 34', '+33 6 67 69 23 84',\n",
       "       '+33 6 71 87 34 09', '+44 7846 642165', '+33 6 80 04 89 27',\n",
       "       '+31 6 48576518', nan, '+1 901-267-6089', '+31 6 30585740',\n",
       "       '+44 7397 299786', '+65 8322 4546', '+33 6 30 69 74 95',\n",
       "       '+45 28 12 00 74', '+33 6 15 14 30 23', '+33 6 43 07 72 59',\n",
       "       '+61 450 059 972', '+33 6 25 40 95 86', '+374 94 987265',\n",
       "       '+36 20 226 0548', '+49 173 2422152', '+90 530 906 39 56',\n",
       "       '+33 6 46 46 90 37', '+32 471 81 12 37', '+46 73 030 98 81',\n",
       "       '+44 7527 118185', '+33 6 67 75 95 22', '+358 40 0788414',\n",
       "       '+49 173 8175938', '+61 422 014 620', '+44 7445 301777',\n",
       "       '+44 7387 911012', '+49 163 7390941', '+65 8128 3882',\n",
       "       '+1 416-488-2093', '+44 7464 130875', '+353 86 845 8614',\n",
       "       '+49 163 6353729', '+49 162 4953314', '+32 488 44 49 10',\n",
       "       '+49 1511 8950502', '+1 819-818-3002', '+44 7743 252563',\n",
       "       '+32 497 80 54 29', '+380 97 657 1919', '+44 7514 251101',\n",
       "       '+381 60 0700147', '+86 178 2423 7810', '+44 7880 618955',\n",
       "       '+44 7902 892430', '+44 7391 733964', '+972 58-444-7959',\n",
       "       '+90 530 432 89 94', '+48 883 601 717', '+358 40 7021751',\n",
       "       '+33 6 68 57 28 56'], dtype=object)"
      ]
     },
     "execution_count": 138,
     "metadata": {},
     "output_type": "execute_result"
    }
   ],
   "source": [
    "dataBooking2023['Contact'].unique()"
   ]
  },
  {
   "cell_type": "code",
   "execution_count": 139,
   "id": "8f53cb51",
   "metadata": {},
   "outputs": [
    {
     "data": {
      "text/plain": [
       "array([nan, 10.,  9.,  8.,  6.,  7.])"
      ]
     },
     "execution_count": 139,
     "metadata": {},
     "output_type": "execute_result"
    }
   ],
   "source": [
    "dataBooking2023['Staff'].unique()"
   ]
  },
  {
   "cell_type": "code",
   "execution_count": 140,
   "id": "fb6a8415",
   "metadata": {},
   "outputs": [
    {
     "data": {
      "text/plain": [
       "array([nan, 10.,  9.,  8.,  6.,  7.])"
      ]
     },
     "execution_count": 140,
     "metadata": {},
     "output_type": "execute_result"
    }
   ],
   "source": [
    "dataBooking2023['Facilities'].unique()"
   ]
  },
  {
   "cell_type": "code",
   "execution_count": 141,
   "id": "21ab0dbf",
   "metadata": {},
   "outputs": [
    {
     "data": {
      "text/plain": [
       "array([nan, 10.,  6.,  9.,  8.])"
      ]
     },
     "execution_count": 141,
     "metadata": {},
     "output_type": "execute_result"
    }
   ],
   "source": [
    "dataBooking2023['Cleanliness'].unique()"
   ]
  },
  {
   "cell_type": "code",
   "execution_count": 142,
   "id": "0ff48080",
   "metadata": {},
   "outputs": [
    {
     "data": {
      "text/plain": [
       "array([nan, 10.,  9.,  8.,  6.,  7.])"
      ]
     },
     "execution_count": 142,
     "metadata": {},
     "output_type": "execute_result"
    }
   ],
   "source": [
    "dataBooking2023['Comfort'].unique()"
   ]
  },
  {
   "cell_type": "code",
   "execution_count": 143,
   "id": "ba5b9dd8",
   "metadata": {},
   "outputs": [
    {
     "data": {
      "text/plain": [
       "array([nan, 10.,  9.,  8.,  6.,  7.])"
      ]
     },
     "execution_count": 143,
     "metadata": {},
     "output_type": "execute_result"
    }
   ],
   "source": [
    "dataBooking2023['Value for money'].unique()"
   ]
  },
  {
   "cell_type": "code",
   "execution_count": 144,
   "id": "eaaf8129",
   "metadata": {},
   "outputs": [
    {
     "data": {
      "text/plain": [
       "array([nan, 10.,  9.,  8.,  6.,  7.])"
      ]
     },
     "execution_count": 144,
     "metadata": {},
     "output_type": "execute_result"
    }
   ],
   "source": [
    "dataBooking2023['Location'].unique()"
   ]
  },
  {
   "cell_type": "code",
   "execution_count": 145,
   "id": "71336a52",
   "metadata": {},
   "outputs": [
    {
     "data": {
      "text/plain": [
       "array([nan, 10.,  9.,  8.,  7.])"
      ]
     },
     "execution_count": 145,
     "metadata": {},
     "output_type": "execute_result"
    }
   ],
   "source": [
    "dataBooking2023['Free WiFi'].unique()"
   ]
  },
  {
   "cell_type": "code",
   "execution_count": 146,
   "id": "08c921db",
   "metadata": {},
   "outputs": [
    {
     "data": {
      "text/plain": [
       "array([nan, 10.,  9.,  8.,  6.,  7.])"
      ]
     },
     "execution_count": 146,
     "metadata": {},
     "output_type": "execute_result"
    }
   ],
   "source": [
    "dataBooking2023['Total'].unique()"
   ]
  },
  {
   "cell_type": "code",
   "execution_count": 147,
   "id": "e47ffbcb",
   "metadata": {},
   "outputs": [],
   "source": [
    "def processingBooking2023(dataBooking):\n",
    "    dataBooking['Advertiser'] = 'Booking'\n",
    "    \n",
    "    dataBooking['Booked by'].fillna('', inplace=True)\n",
    "    dataBooking['Booked by'] = dataBooking['Booked by'].str.title()\n",
    "        \n",
    "    dataBooking['Guest Name(s)'].fillna('', inplace=True)\n",
    "    dataBooking['Guest Name(s)'] = dataBooking['Guest Name(s)'].str.title()\n",
    "    \n",
    "    \n",
    "    dataBooking = dataBooking[dataBooking['Check-in'] < dataBooking['Check-out']]\n",
    "    dataBooking = dataBooking[pd.to_datetime(dataBooking['Booked on']).dt.date <= pd.to_datetime(dataBooking['Check-in'])]\n",
    "    dataBooking['Check-in'] = pd.to_datetime(dataBooking['Check-in']).dt.strftime('%d.%m.%Y')\n",
    "    dataBooking['Check-out'] = pd.to_datetime(dataBooking['Check-out']).dt.strftime('%d.%m.%Y')\n",
    "    dataBooking['Booked on'] = pd.to_datetime(dataBooking['Booked on']).dt.strftime('%d.%m.%Y')\n",
    "    dataBooking.rename(columns={'Check-in': 'Start date', 'Check-out': 'End date'}, inplace=True)\n",
    "    \n",
    "    dataBooking['Status'] = dataBooking['Status'].replace({'ok': 'Confirmed'})\n",
    "    dataBooking['Status'] = dataBooking['Status'].replace({'cancelled_by_guest': 'Cancelled'})\n",
    "    dataBooking['Status'] = dataBooking['Status'].replace({'no_show': 'NoShow'})\n",
    "    \n",
    "    \n",
    "    dataBooking['Children'].fillna(0, inplace=True)\n",
    "    dataBooking['Adults'].fillna(0, inplace=True)\n",
    "    dataBooking['Adults'] = dataBooking['People'] - dataBooking['Children']\n",
    "    \n",
    "    dataBooking[\"Children's age(s)\"].fillna(0, inplace=True)\n",
    "    \n",
    "    dataBooking['Price'] = dataBooking['Price'].str.replace('EUR', '')\n",
    "    dataBooking['Commission Amount'] = round(dataBooking['Price'].astype(float)*dataBooking['Commission %'].astype(int)/100, 2)\n",
    "    dataBooking['Price'] = round(dataBooking['Price'].astype(float) - dataBooking['Commission Amount'], 2)\n",
    "    \n",
    "    dataBooking['Accommodation'] = dataBooking['Room'].str[4:]\n",
    "    dataBooking.drop('Room', axis=1, inplace=True)\n",
    "    \n",
    "    dataBooking['Staff'].fillna(0, inplace=True)\n",
    "    dataBooking['Facilities'].fillna(0, inplace=True)\n",
    "    dataBooking['Cleanliness'].fillna(0, inplace=True)\n",
    "    dataBooking['Comfort'].fillna(0, inplace=True)\n",
    "    dataBooking['Value for money'].fillna(0, inplace=True)\n",
    "    dataBooking['Location'].fillna(0, inplace=True)\n",
    "    dataBooking['Free WiFi'].fillna(0, inplace=True)\n",
    "    dataBooking['Total'].fillna(0, inplace=True)\n",
    "\n",
    "    valid_accommodations = ['One-Bedroom Apartment with Balcony and Sea View', 'Studio with Patio', 'Studio with Patio and Sea View', 'One-Bedroom Apartment with Patio and Sea View']\n",
    "    dataBooking = dataBooking[dataBooking['Accommodation'].isin(valid_accommodations)]\n",
    "    \n",
    "#     dataBooking['Price_$'] = round(dataBooking['Price'].astype(float)*1.09, 2)\n",
    "#     dataBooking['Price_RSD'] = round(dataBooking['Price'].astype(float)*117.23, 2)\n",
    "    dataBooking.rename(columns={'Guest Name(s)': 'Guest Name', \n",
    "                                'People': 'NumberOfPeople', \n",
    "                                'Adults': 'NumberOfAdults', \n",
    "                                'Children': 'NumberOfChildren', \n",
    "                                \"Children's age(s)\": \"Children's Age\",\n",
    "                                'Check-in' : 'Start Date',\n",
    "                                'Check-out': 'End Date',\n",
    "                                'Booked by': 'Booked By',\n",
    "                                'Booked on': 'Booked On',\n",
    "                                'Value for money': 'Value For Money',\n",
    "                                'Total': 'Grade'}, inplace=True)\n",
    "    return dataBooking"
   ]
  },
  {
   "cell_type": "code",
   "execution_count": 148,
   "id": "e1667835",
   "metadata": {},
   "outputs": [
    {
     "data": {
      "text/plain": [
       "Index(['Book Number', 'Booked by', 'Guest Name(s)', 'Check-in', 'Check-out',\n",
       "       'Booked on', 'Status', 'People', 'Adults', 'Children',\n",
       "       'Children's age(s)', 'Price', 'Commission %', 'Room', 'Payment Status',\n",
       "       'Payment Method', 'Contact', 'Staff', 'Facilities', 'Cleanliness',\n",
       "       'Comfort', 'Value for money', 'Location', 'Free WiFi', 'Total'],\n",
       "      dtype='object')"
      ]
     },
     "execution_count": 148,
     "metadata": {},
     "output_type": "execute_result"
    }
   ],
   "source": [
    "dataBooking2023.columns"
   ]
  },
  {
   "cell_type": "code",
   "execution_count": 149,
   "id": "6c215b3a",
   "metadata": {},
   "outputs": [],
   "source": [
    "dataBooking2023 = processingBooking2023(dataBooking2023)"
   ]
  },
  {
   "cell_type": "code",
   "execution_count": 150,
   "id": "82839fe6",
   "metadata": {},
   "outputs": [],
   "source": [
    "dataBooking2023.rename(columns={'Start date': 'Start Date', 'End date': 'End Date', }, inplace=True)"
   ]
  },
  {
   "cell_type": "code",
   "execution_count": 151,
   "id": "f14952e7",
   "metadata": {},
   "outputs": [
    {
     "data": {
      "text/html": [
       "<div>\n",
       "<style scoped>\n",
       "    .dataframe tbody tr th:only-of-type {\n",
       "        vertical-align: middle;\n",
       "    }\n",
       "\n",
       "    .dataframe tbody tr th {\n",
       "        vertical-align: top;\n",
       "    }\n",
       "\n",
       "    .dataframe thead th {\n",
       "        text-align: right;\n",
       "    }\n",
       "</style>\n",
       "<table border=\"1\" class=\"dataframe\">\n",
       "  <thead>\n",
       "    <tr style=\"text-align: right;\">\n",
       "      <th></th>\n",
       "      <th>Book Number</th>\n",
       "      <th>Booked By</th>\n",
       "      <th>Guest Name</th>\n",
       "      <th>Start Date</th>\n",
       "      <th>End Date</th>\n",
       "      <th>Booked On</th>\n",
       "      <th>Status</th>\n",
       "      <th>NumberOfPeople</th>\n",
       "      <th>NumberOfAdults</th>\n",
       "      <th>NumberOfChildren</th>\n",
       "      <th>...</th>\n",
       "      <th>Facilities</th>\n",
       "      <th>Cleanliness</th>\n",
       "      <th>Comfort</th>\n",
       "      <th>Value For Money</th>\n",
       "      <th>Location</th>\n",
       "      <th>Free WiFi</th>\n",
       "      <th>Grade</th>\n",
       "      <th>Advertiser</th>\n",
       "      <th>Commission Amount</th>\n",
       "      <th>Accommodation</th>\n",
       "    </tr>\n",
       "  </thead>\n",
       "  <tbody>\n",
       "    <tr>\n",
       "      <th>0</th>\n",
       "      <td>2374616608</td>\n",
       "      <td>De La Rosa, Juan</td>\n",
       "      <td>Juan De La Rosa</td>\n",
       "      <td>17.04.2023</td>\n",
       "      <td>20.04.2023</td>\n",
       "      <td>03.01.2023</td>\n",
       "      <td>Cancelled</td>\n",
       "      <td>2</td>\n",
       "      <td>2.0</td>\n",
       "      <td>0.0</td>\n",
       "      <td>...</td>\n",
       "      <td>0.0</td>\n",
       "      <td>0.0</td>\n",
       "      <td>0.0</td>\n",
       "      <td>0.0</td>\n",
       "      <td>0.0</td>\n",
       "      <td>0.0</td>\n",
       "      <td>0.0</td>\n",
       "      <td>Booking</td>\n",
       "      <td>27.00</td>\n",
       "      <td>Studio with Patio and Sea View</td>\n",
       "    </tr>\n",
       "    <tr>\n",
       "      <th>1</th>\n",
       "      <td>2251062736</td>\n",
       "      <td>Cook, Christopher</td>\n",
       "      <td>Christopher Cook</td>\n",
       "      <td>17.04.2023</td>\n",
       "      <td>21.04.2023</td>\n",
       "      <td>21.02.2023</td>\n",
       "      <td>Confirmed</td>\n",
       "      <td>2</td>\n",
       "      <td>2.0</td>\n",
       "      <td>0.0</td>\n",
       "      <td>...</td>\n",
       "      <td>10.0</td>\n",
       "      <td>10.0</td>\n",
       "      <td>10.0</td>\n",
       "      <td>10.0</td>\n",
       "      <td>10.0</td>\n",
       "      <td>10.0</td>\n",
       "      <td>10.0</td>\n",
       "      <td>Booking</td>\n",
       "      <td>43.92</td>\n",
       "      <td>One-Bedroom Apartment with Patio and Sea View</td>\n",
       "    </tr>\n",
       "    <tr>\n",
       "      <th>2</th>\n",
       "      <td>2337695567</td>\n",
       "      <td>Cocco, Silvia</td>\n",
       "      <td>Silvia Cocco</td>\n",
       "      <td>17.04.2023</td>\n",
       "      <td>19.04.2023</td>\n",
       "      <td>18.03.2023</td>\n",
       "      <td>Confirmed</td>\n",
       "      <td>2</td>\n",
       "      <td>2.0</td>\n",
       "      <td>0.0</td>\n",
       "      <td>...</td>\n",
       "      <td>9.0</td>\n",
       "      <td>10.0</td>\n",
       "      <td>9.0</td>\n",
       "      <td>9.0</td>\n",
       "      <td>9.0</td>\n",
       "      <td>9.0</td>\n",
       "      <td>9.0</td>\n",
       "      <td>Booking</td>\n",
       "      <td>18.72</td>\n",
       "      <td>Studio with Patio and Sea View</td>\n",
       "    </tr>\n",
       "    <tr>\n",
       "      <th>3</th>\n",
       "      <td>3022962893</td>\n",
       "      <td>Abdin, Aytaj</td>\n",
       "      <td>Kamal Omarov</td>\n",
       "      <td>18.04.2023</td>\n",
       "      <td>22.04.2023</td>\n",
       "      <td>17.02.2023</td>\n",
       "      <td>Confirmed</td>\n",
       "      <td>2</td>\n",
       "      <td>2.0</td>\n",
       "      <td>0.0</td>\n",
       "      <td>...</td>\n",
       "      <td>8.0</td>\n",
       "      <td>0.0</td>\n",
       "      <td>8.0</td>\n",
       "      <td>8.0</td>\n",
       "      <td>8.0</td>\n",
       "      <td>8.0</td>\n",
       "      <td>8.0</td>\n",
       "      <td>Booking</td>\n",
       "      <td>43.92</td>\n",
       "      <td>One-Bedroom Apartment with Balcony and Sea View</td>\n",
       "    </tr>\n",
       "    <tr>\n",
       "      <th>4</th>\n",
       "      <td>3726049369</td>\n",
       "      <td>Morris, Craig</td>\n",
       "      <td>Craig Morris</td>\n",
       "      <td>20.04.2023</td>\n",
       "      <td>22.04.2023</td>\n",
       "      <td>26.02.2023</td>\n",
       "      <td>Confirmed</td>\n",
       "      <td>2</td>\n",
       "      <td>2.0</td>\n",
       "      <td>0.0</td>\n",
       "      <td>...</td>\n",
       "      <td>0.0</td>\n",
       "      <td>0.0</td>\n",
       "      <td>0.0</td>\n",
       "      <td>0.0</td>\n",
       "      <td>0.0</td>\n",
       "      <td>0.0</td>\n",
       "      <td>10.0</td>\n",
       "      <td>Booking</td>\n",
       "      <td>18.72</td>\n",
       "      <td>Studio with Patio and Sea View</td>\n",
       "    </tr>\n",
       "  </tbody>\n",
       "</table>\n",
       "<p>5 rows × 27 columns</p>\n",
       "</div>"
      ],
      "text/plain": [
       "   Book Number          Booked By        Guest Name  Start Date    End Date  \\\n",
       "0   2374616608   De La Rosa, Juan   Juan De La Rosa  17.04.2023  20.04.2023   \n",
       "1   2251062736  Cook, Christopher  Christopher Cook  17.04.2023  21.04.2023   \n",
       "2   2337695567      Cocco, Silvia      Silvia Cocco  17.04.2023  19.04.2023   \n",
       "3   3022962893       Abdin, Aytaj      Kamal Omarov  18.04.2023  22.04.2023   \n",
       "4   3726049369      Morris, Craig      Craig Morris  20.04.2023  22.04.2023   \n",
       "\n",
       "    Booked On     Status  NumberOfPeople  NumberOfAdults  NumberOfChildren  \\\n",
       "0  03.01.2023  Cancelled               2             2.0               0.0   \n",
       "1  21.02.2023  Confirmed               2             2.0               0.0   \n",
       "2  18.03.2023  Confirmed               2             2.0               0.0   \n",
       "3  17.02.2023  Confirmed               2             2.0               0.0   \n",
       "4  26.02.2023  Confirmed               2             2.0               0.0   \n",
       "\n",
       "   ... Facilities  Cleanliness  Comfort Value For Money Location Free WiFi  \\\n",
       "0  ...        0.0          0.0      0.0             0.0      0.0       0.0   \n",
       "1  ...       10.0         10.0     10.0            10.0     10.0      10.0   \n",
       "2  ...        9.0         10.0      9.0             9.0      9.0       9.0   \n",
       "3  ...        8.0          0.0      8.0             8.0      8.0       8.0   \n",
       "4  ...        0.0          0.0      0.0             0.0      0.0       0.0   \n",
       "\n",
       "   Grade  Advertiser  Commission Amount  \\\n",
       "0    0.0     Booking              27.00   \n",
       "1   10.0     Booking              43.92   \n",
       "2    9.0     Booking              18.72   \n",
       "3    8.0     Booking              43.92   \n",
       "4   10.0     Booking              18.72   \n",
       "\n",
       "                                     Accommodation  \n",
       "0                   Studio with Patio and Sea View  \n",
       "1    One-Bedroom Apartment with Patio and Sea View  \n",
       "2                   Studio with Patio and Sea View  \n",
       "3  One-Bedroom Apartment with Balcony and Sea View  \n",
       "4                   Studio with Patio and Sea View  \n",
       "\n",
       "[5 rows x 27 columns]"
      ]
     },
     "execution_count": 151,
     "metadata": {},
     "output_type": "execute_result"
    }
   ],
   "source": [
    "dataBooking2023.head()"
   ]
  },
  {
   "cell_type": "markdown",
   "id": "d9f8eefc",
   "metadata": {},
   "source": [
    "# Merging"
   ]
  },
  {
   "cell_type": "code",
   "execution_count": 152,
   "id": "052ebbfe",
   "metadata": {},
   "outputs": [
    {
     "name": "stdout",
     "output_type": "stream",
     "text": [
      "Both DataFrames have the same column names.\n"
     ]
    }
   ],
   "source": [
    "# Check if dataframes have the same column name\n",
    "column_names_dataBooking2019 = set(dataBooking2019.columns)\n",
    "column_names_dataBooking2020 = set(dataBooking2020.columns)\n",
    "\n",
    "if column_names_dataBooking2019 == column_names_dataBooking2020:\n",
    "    print(\"Both DataFrames have the same column names.\")\n",
    "else:\n",
    "    print(\"Column names in the two DataFrames are not the same.\")"
   ]
  },
  {
   "cell_type": "code",
   "execution_count": 153,
   "id": "48a9cbd8",
   "metadata": {},
   "outputs": [
    {
     "name": "stdout",
     "output_type": "stream",
     "text": [
      "Column names in the two DataFrames are not the same.\n"
     ]
    }
   ],
   "source": [
    "# Check if dataframes have the same column name\n",
    "column_names_dataBooking2019 = set(dataBooking2019.columns)\n",
    "column_names_dataBooking2021 = set(dataBooking2021.columns)\n",
    "# column_names_dataBooking2022 = set(dataBooking2022.columns)\n",
    "# column_names_dataBooking2023 = set(dataBooking2023.columns)\n",
    "\n",
    "if column_names_dataBooking2019 == column_names_dataBooking2021:\n",
    "    print(\"Both DataFrames have the same column names.\")\n",
    "else:\n",
    "    print(\"Column names in the two DataFrames are not the same.\")"
   ]
  },
  {
   "cell_type": "code",
   "execution_count": 154,
   "id": "7665e552",
   "metadata": {},
   "outputs": [
    {
     "name": "stdout",
     "output_type": "stream",
     "text": [
      "Columns not common: {'Booked By', 'Payment Method', 'Rooms', 'Grade', 'Commission %', 'Payment Status'}\n"
     ]
    }
   ],
   "source": [
    "not_common_columns = set(dataBooking2019.columns).symmetric_difference(set(dataBooking2021.columns))\n",
    "\n",
    "print(\"Columns not common:\", not_common_columns)\n"
   ]
  },
  {
   "cell_type": "code",
   "execution_count": 155,
   "id": "da59d82b",
   "metadata": {},
   "outputs": [],
   "source": [
    "merged1920 = pd.concat([dataBooking2019, dataBooking2020], ignore_index=True)"
   ]
  },
  {
   "cell_type": "code",
   "execution_count": 156,
   "id": "fa8c37ef",
   "metadata": {},
   "outputs": [
    {
     "data": {
      "text/plain": [
       "(221, 20)"
      ]
     },
     "execution_count": 156,
     "metadata": {},
     "output_type": "execute_result"
    }
   ],
   "source": [
    "dataBooking2019.shape"
   ]
  },
  {
   "cell_type": "code",
   "execution_count": 157,
   "id": "5f2d905b",
   "metadata": {},
   "outputs": [
    {
     "data": {
      "text/plain": [
       "(33, 20)"
      ]
     },
     "execution_count": 157,
     "metadata": {},
     "output_type": "execute_result"
    }
   ],
   "source": [
    "dataBooking2020.shape"
   ]
  },
  {
   "cell_type": "code",
   "execution_count": 158,
   "id": "27666870",
   "metadata": {},
   "outputs": [
    {
     "data": {
      "text/plain": [
       "(71, 14)"
      ]
     },
     "execution_count": 158,
     "metadata": {},
     "output_type": "execute_result"
    }
   ],
   "source": [
    "dataBooking2021.shape"
   ]
  },
  {
   "cell_type": "code",
   "execution_count": 159,
   "id": "55b9ee98",
   "metadata": {},
   "outputs": [
    {
     "data": {
      "text/plain": [
       "(70, 15)"
      ]
     },
     "execution_count": 159,
     "metadata": {},
     "output_type": "execute_result"
    }
   ],
   "source": [
    "dataBooking2022.shape"
   ]
  },
  {
   "cell_type": "code",
   "execution_count": 160,
   "id": "4e5e0deb",
   "metadata": {},
   "outputs": [
    {
     "data": {
      "text/plain": [
       "(166, 27)"
      ]
     },
     "execution_count": 160,
     "metadata": {},
     "output_type": "execute_result"
    }
   ],
   "source": [
    "dataBooking2023.shape"
   ]
  },
  {
   "cell_type": "code",
   "execution_count": 161,
   "id": "f01407b5",
   "metadata": {},
   "outputs": [
    {
     "data": {
      "text/plain": [
       "(254, 20)"
      ]
     },
     "execution_count": 161,
     "metadata": {},
     "output_type": "execute_result"
    }
   ],
   "source": [
    "merged1920.shape"
   ]
  },
  {
   "cell_type": "code",
   "execution_count": 162,
   "id": "dd0191b5",
   "metadata": {},
   "outputs": [],
   "source": [
    "mergedBooking = pd.concat([dataBooking2019, dataBooking2020, dataBooking2021, dataBooking2022, dataBooking2023], ignore_index=True)"
   ]
  },
  {
   "cell_type": "code",
   "execution_count": 163,
   "id": "5051e9d9",
   "metadata": {},
   "outputs": [
    {
     "data": {
      "text/plain": [
       "(561, 28)"
      ]
     },
     "execution_count": 163,
     "metadata": {},
     "output_type": "execute_result"
    }
   ],
   "source": [
    "mergedBooking.shape"
   ]
  },
  {
   "cell_type": "code",
   "execution_count": 164,
   "id": "17108264",
   "metadata": {},
   "outputs": [
    {
     "data": {
      "text/html": [
       "<div>\n",
       "<style scoped>\n",
       "    .dataframe tbody tr th:only-of-type {\n",
       "        vertical-align: middle;\n",
       "    }\n",
       "\n",
       "    .dataframe tbody tr th {\n",
       "        vertical-align: top;\n",
       "    }\n",
       "\n",
       "    .dataframe thead th {\n",
       "        text-align: right;\n",
       "    }\n",
       "</style>\n",
       "<table border=\"1\" class=\"dataframe\">\n",
       "  <thead>\n",
       "    <tr style=\"text-align: right;\">\n",
       "      <th></th>\n",
       "      <th>Book Number</th>\n",
       "      <th>Booked By</th>\n",
       "      <th>Guest Name</th>\n",
       "      <th>Start Date</th>\n",
       "      <th>End Date</th>\n",
       "      <th>Booked On</th>\n",
       "      <th>Status</th>\n",
       "      <th>Rooms</th>\n",
       "      <th>NumberOfPeople</th>\n",
       "      <th>NumberOfAdults</th>\n",
       "      <th>...</th>\n",
       "      <th>Grade</th>\n",
       "      <th>Advertiser</th>\n",
       "      <th>Contact</th>\n",
       "      <th>Staff</th>\n",
       "      <th>Facilities</th>\n",
       "      <th>Cleanliness</th>\n",
       "      <th>Comfort</th>\n",
       "      <th>Value For Money</th>\n",
       "      <th>Location</th>\n",
       "      <th>Free WiFi</th>\n",
       "    </tr>\n",
       "  </thead>\n",
       "  <tbody>\n",
       "    <tr>\n",
       "      <th>0</th>\n",
       "      <td>2.245705e+09</td>\n",
       "      <td>Veeravalli, Gopi</td>\n",
       "      <td>Gopi Veeravalli</td>\n",
       "      <td>03.04.2019</td>\n",
       "      <td>06.04.2019</td>\n",
       "      <td>30.03.2019</td>\n",
       "      <td>Confirmed</td>\n",
       "      <td>1.0</td>\n",
       "      <td>2</td>\n",
       "      <td>2.0</td>\n",
       "      <td>...</td>\n",
       "      <td>10.0</td>\n",
       "      <td>Booking</td>\n",
       "      <td>NaN</td>\n",
       "      <td>NaN</td>\n",
       "      <td>NaN</td>\n",
       "      <td>NaN</td>\n",
       "      <td>NaN</td>\n",
       "      <td>NaN</td>\n",
       "      <td>NaN</td>\n",
       "      <td>NaN</td>\n",
       "    </tr>\n",
       "    <tr>\n",
       "      <th>1</th>\n",
       "      <td>2.071623e+09</td>\n",
       "      <td>Kretov, Nikita</td>\n",
       "      <td>Nikita Kretov</td>\n",
       "      <td>06.04.2019</td>\n",
       "      <td>11.04.2019</td>\n",
       "      <td>01.03.2019</td>\n",
       "      <td>Confirmed</td>\n",
       "      <td>1.0</td>\n",
       "      <td>2</td>\n",
       "      <td>2.0</td>\n",
       "      <td>...</td>\n",
       "      <td>0.0</td>\n",
       "      <td>Booking</td>\n",
       "      <td>NaN</td>\n",
       "      <td>NaN</td>\n",
       "      <td>NaN</td>\n",
       "      <td>NaN</td>\n",
       "      <td>NaN</td>\n",
       "      <td>NaN</td>\n",
       "      <td>NaN</td>\n",
       "      <td>NaN</td>\n",
       "    </tr>\n",
       "    <tr>\n",
       "      <th>2</th>\n",
       "      <td>3.037388e+09</td>\n",
       "      <td>Yuheng Huang</td>\n",
       "      <td>Yuheng Huang</td>\n",
       "      <td>07.04.2019</td>\n",
       "      <td>08.04.2019</td>\n",
       "      <td>31.03.2019</td>\n",
       "      <td>Confirmed</td>\n",
       "      <td>1.0</td>\n",
       "      <td>2</td>\n",
       "      <td>2.0</td>\n",
       "      <td>...</td>\n",
       "      <td>0.0</td>\n",
       "      <td>Booking</td>\n",
       "      <td>NaN</td>\n",
       "      <td>NaN</td>\n",
       "      <td>NaN</td>\n",
       "      <td>NaN</td>\n",
       "      <td>NaN</td>\n",
       "      <td>NaN</td>\n",
       "      <td>NaN</td>\n",
       "      <td>NaN</td>\n",
       "    </tr>\n",
       "    <tr>\n",
       "      <th>3</th>\n",
       "      <td>3.181655e+09</td>\n",
       "      <td>Li, Fengju</td>\n",
       "      <td>Fengju Li</td>\n",
       "      <td>10.04.2019</td>\n",
       "      <td>11.04.2019</td>\n",
       "      <td>02.04.2019</td>\n",
       "      <td>Confirmed</td>\n",
       "      <td>1.0</td>\n",
       "      <td>2</td>\n",
       "      <td>2.0</td>\n",
       "      <td>...</td>\n",
       "      <td>8.0</td>\n",
       "      <td>Booking</td>\n",
       "      <td>NaN</td>\n",
       "      <td>NaN</td>\n",
       "      <td>NaN</td>\n",
       "      <td>NaN</td>\n",
       "      <td>NaN</td>\n",
       "      <td>NaN</td>\n",
       "      <td>NaN</td>\n",
       "      <td>NaN</td>\n",
       "    </tr>\n",
       "    <tr>\n",
       "      <th>4</th>\n",
       "      <td>3.642009e+09</td>\n",
       "      <td>Li, Fengju</td>\n",
       "      <td></td>\n",
       "      <td>11.04.2019</td>\n",
       "      <td>12.04.2019</td>\n",
       "      <td>02.04.2019</td>\n",
       "      <td>Confirmed</td>\n",
       "      <td>1.0</td>\n",
       "      <td>2</td>\n",
       "      <td>2.0</td>\n",
       "      <td>...</td>\n",
       "      <td>8.0</td>\n",
       "      <td>Booking</td>\n",
       "      <td>NaN</td>\n",
       "      <td>NaN</td>\n",
       "      <td>NaN</td>\n",
       "      <td>NaN</td>\n",
       "      <td>NaN</td>\n",
       "      <td>NaN</td>\n",
       "      <td>NaN</td>\n",
       "      <td>NaN</td>\n",
       "    </tr>\n",
       "  </tbody>\n",
       "</table>\n",
       "<p>5 rows × 28 columns</p>\n",
       "</div>"
      ],
      "text/plain": [
       "    Book Number         Booked By       Guest Name  Start Date    End Date  \\\n",
       "0  2.245705e+09  Veeravalli, Gopi  Gopi Veeravalli  03.04.2019  06.04.2019   \n",
       "1  2.071623e+09    Kretov, Nikita    Nikita Kretov  06.04.2019  11.04.2019   \n",
       "2  3.037388e+09      Yuheng Huang     Yuheng Huang  07.04.2019  08.04.2019   \n",
       "3  3.181655e+09        Li, Fengju        Fengju Li  10.04.2019  11.04.2019   \n",
       "4  3.642009e+09        Li, Fengju                   11.04.2019  12.04.2019   \n",
       "\n",
       "    Booked On     Status  Rooms  NumberOfPeople  NumberOfAdults  ...  Grade  \\\n",
       "0  30.03.2019  Confirmed    1.0               2             2.0  ...   10.0   \n",
       "1  01.03.2019  Confirmed    1.0               2             2.0  ...    0.0   \n",
       "2  31.03.2019  Confirmed    1.0               2             2.0  ...    0.0   \n",
       "3  02.04.2019  Confirmed    1.0               2             2.0  ...    8.0   \n",
       "4  02.04.2019  Confirmed    1.0               2             2.0  ...    8.0   \n",
       "\n",
       "  Advertiser  Contact  Staff Facilities Cleanliness Comfort Value For Money  \\\n",
       "0    Booking      NaN    NaN        NaN         NaN     NaN             NaN   \n",
       "1    Booking      NaN    NaN        NaN         NaN     NaN             NaN   \n",
       "2    Booking      NaN    NaN        NaN         NaN     NaN             NaN   \n",
       "3    Booking      NaN    NaN        NaN         NaN     NaN             NaN   \n",
       "4    Booking      NaN    NaN        NaN         NaN     NaN             NaN   \n",
       "\n",
       "   Location Free WiFi  \n",
       "0       NaN       NaN  \n",
       "1       NaN       NaN  \n",
       "2       NaN       NaN  \n",
       "3       NaN       NaN  \n",
       "4       NaN       NaN  \n",
       "\n",
       "[5 rows x 28 columns]"
      ]
     },
     "execution_count": 164,
     "metadata": {},
     "output_type": "execute_result"
    }
   ],
   "source": [
    "mergedBooking.head()"
   ]
  },
  {
   "cell_type": "code",
   "execution_count": 165,
   "id": "57f7edd0",
   "metadata": {},
   "outputs": [
    {
     "data": {
      "text/plain": [
       "Index(['Book Number', 'Booked By', 'Guest Name', 'Start Date', 'End Date',\n",
       "       'Booked On', 'Status', 'Rooms', 'NumberOfPeople', 'NumberOfAdults',\n",
       "       'NumberOfChildren', 'Children's Age', 'Price', 'Commission %',\n",
       "       'Commission Amount', 'Payment Status', 'Payment Method',\n",
       "       'Accommodation', 'Grade', 'Advertiser', 'Contact', 'Staff',\n",
       "       'Facilities', 'Cleanliness', 'Comfort', 'Value For Money', 'Location',\n",
       "       'Free WiFi'],\n",
       "      dtype='object')"
      ]
     },
     "execution_count": 165,
     "metadata": {},
     "output_type": "execute_result"
    }
   ],
   "source": [
    "mergedBooking.columns"
   ]
  },
  {
   "cell_type": "code",
   "execution_count": 166,
   "id": "21c8bafd",
   "metadata": {},
   "outputs": [],
   "source": [
    "mergedBooking.drop_duplicates(subset=['Book Number'], keep='first', inplace=True)"
   ]
  },
  {
   "cell_type": "code",
   "execution_count": 167,
   "id": "1ef71b7c",
   "metadata": {},
   "outputs": [
    {
     "data": {
      "text/plain": [
       "array([ 1., nan])"
      ]
     },
     "execution_count": 167,
     "metadata": {},
     "output_type": "execute_result"
    }
   ],
   "source": [
    "mergedBooking['Rooms'].unique()"
   ]
  },
  {
   "cell_type": "code",
   "execution_count": 168,
   "id": "6afbe3c1",
   "metadata": {},
   "outputs": [],
   "source": [
    "mergedBooking['Payment Method'] = mergedBooking['Payment Method'].replace({'Virtual card': 'Card'})"
   ]
  },
  {
   "cell_type": "code",
   "execution_count": 169,
   "id": "286951cc",
   "metadata": {},
   "outputs": [],
   "source": [
    "mapping = {'One-Bedroom Apartment with Balcony and Sea View' : 'A',\n",
    "           'Studio with Patio' : 'B',\n",
    "           'Studio with Patio and Sea View' : 'C',\n",
    "           'One-Bedroom Apartment with Patio and Sea View' : 'D'}\n",
    "\n",
    "mergedBooking['Accommodation Type'] = mergedBooking['Accommodation'].replace(mapping)"
   ]
  },
  {
   "cell_type": "code",
   "execution_count": 170,
   "id": "91a19fa8",
   "metadata": {},
   "outputs": [
    {
     "data": {
      "text/plain": [
       "Index(['Book Number', 'Booked By', 'Guest Name', 'Start Date', 'End Date',\n",
       "       'Booked On', 'Status', 'Rooms', 'NumberOfPeople', 'NumberOfAdults',\n",
       "       'NumberOfChildren', 'Children's Age', 'Price', 'Commission %',\n",
       "       'Commission Amount', 'Payment Status', 'Payment Method',\n",
       "       'Accommodation', 'Grade', 'Advertiser', 'Contact', 'Staff',\n",
       "       'Facilities', 'Cleanliness', 'Comfort', 'Value For Money', 'Location',\n",
       "       'Free WiFi', 'Accommodation Type'],\n",
       "      dtype='object')"
      ]
     },
     "execution_count": 170,
     "metadata": {},
     "output_type": "execute_result"
    }
   ],
   "source": [
    "mergedBooking.columns"
   ]
  },
  {
   "cell_type": "code",
   "execution_count": 171,
   "id": "f642a4df",
   "metadata": {},
   "outputs": [
    {
     "data": {
      "text/plain": [
       "(558, 29)"
      ]
     },
     "execution_count": 171,
     "metadata": {},
     "output_type": "execute_result"
    }
   ],
   "source": [
    "mergedBooking.shape"
   ]
  },
  {
   "cell_type": "code",
   "execution_count": 172,
   "id": "9f540c44",
   "metadata": {},
   "outputs": [
    {
     "data": {
      "text/html": [
       "<div>\n",
       "<style scoped>\n",
       "    .dataframe tbody tr th:only-of-type {\n",
       "        vertical-align: middle;\n",
       "    }\n",
       "\n",
       "    .dataframe tbody tr th {\n",
       "        vertical-align: top;\n",
       "    }\n",
       "\n",
       "    .dataframe thead th {\n",
       "        text-align: right;\n",
       "    }\n",
       "</style>\n",
       "<table border=\"1\" class=\"dataframe\">\n",
       "  <thead>\n",
       "    <tr style=\"text-align: right;\">\n",
       "      <th></th>\n",
       "      <th>Book Number</th>\n",
       "      <th>Booked By</th>\n",
       "      <th>Guest Name</th>\n",
       "      <th>Start Date</th>\n",
       "      <th>End Date</th>\n",
       "      <th>Booked On</th>\n",
       "      <th>Status</th>\n",
       "      <th>Rooms</th>\n",
       "      <th>NumberOfPeople</th>\n",
       "      <th>NumberOfAdults</th>\n",
       "      <th>...</th>\n",
       "      <th>Advertiser</th>\n",
       "      <th>Contact</th>\n",
       "      <th>Staff</th>\n",
       "      <th>Facilities</th>\n",
       "      <th>Cleanliness</th>\n",
       "      <th>Comfort</th>\n",
       "      <th>Value For Money</th>\n",
       "      <th>Location</th>\n",
       "      <th>Free WiFi</th>\n",
       "      <th>Accommodation Type</th>\n",
       "    </tr>\n",
       "  </thead>\n",
       "  <tbody>\n",
       "    <tr>\n",
       "      <th>0</th>\n",
       "      <td>2.245705e+09</td>\n",
       "      <td>Veeravalli, Gopi</td>\n",
       "      <td>Gopi Veeravalli</td>\n",
       "      <td>03.04.2019</td>\n",
       "      <td>06.04.2019</td>\n",
       "      <td>30.03.2019</td>\n",
       "      <td>Confirmed</td>\n",
       "      <td>1.0</td>\n",
       "      <td>2</td>\n",
       "      <td>2.0</td>\n",
       "      <td>...</td>\n",
       "      <td>Booking</td>\n",
       "      <td>NaN</td>\n",
       "      <td>NaN</td>\n",
       "      <td>NaN</td>\n",
       "      <td>NaN</td>\n",
       "      <td>NaN</td>\n",
       "      <td>NaN</td>\n",
       "      <td>NaN</td>\n",
       "      <td>NaN</td>\n",
       "      <td>A</td>\n",
       "    </tr>\n",
       "    <tr>\n",
       "      <th>1</th>\n",
       "      <td>2.071623e+09</td>\n",
       "      <td>Kretov, Nikita</td>\n",
       "      <td>Nikita Kretov</td>\n",
       "      <td>06.04.2019</td>\n",
       "      <td>11.04.2019</td>\n",
       "      <td>01.03.2019</td>\n",
       "      <td>Confirmed</td>\n",
       "      <td>1.0</td>\n",
       "      <td>2</td>\n",
       "      <td>2.0</td>\n",
       "      <td>...</td>\n",
       "      <td>Booking</td>\n",
       "      <td>NaN</td>\n",
       "      <td>NaN</td>\n",
       "      <td>NaN</td>\n",
       "      <td>NaN</td>\n",
       "      <td>NaN</td>\n",
       "      <td>NaN</td>\n",
       "      <td>NaN</td>\n",
       "      <td>NaN</td>\n",
       "      <td>A</td>\n",
       "    </tr>\n",
       "    <tr>\n",
       "      <th>2</th>\n",
       "      <td>3.037388e+09</td>\n",
       "      <td>Yuheng Huang</td>\n",
       "      <td>Yuheng Huang</td>\n",
       "      <td>07.04.2019</td>\n",
       "      <td>08.04.2019</td>\n",
       "      <td>31.03.2019</td>\n",
       "      <td>Confirmed</td>\n",
       "      <td>1.0</td>\n",
       "      <td>2</td>\n",
       "      <td>2.0</td>\n",
       "      <td>...</td>\n",
       "      <td>Booking</td>\n",
       "      <td>NaN</td>\n",
       "      <td>NaN</td>\n",
       "      <td>NaN</td>\n",
       "      <td>NaN</td>\n",
       "      <td>NaN</td>\n",
       "      <td>NaN</td>\n",
       "      <td>NaN</td>\n",
       "      <td>NaN</td>\n",
       "      <td>C</td>\n",
       "    </tr>\n",
       "    <tr>\n",
       "      <th>3</th>\n",
       "      <td>3.181655e+09</td>\n",
       "      <td>Li, Fengju</td>\n",
       "      <td>Fengju Li</td>\n",
       "      <td>10.04.2019</td>\n",
       "      <td>11.04.2019</td>\n",
       "      <td>02.04.2019</td>\n",
       "      <td>Confirmed</td>\n",
       "      <td>1.0</td>\n",
       "      <td>2</td>\n",
       "      <td>2.0</td>\n",
       "      <td>...</td>\n",
       "      <td>Booking</td>\n",
       "      <td>NaN</td>\n",
       "      <td>NaN</td>\n",
       "      <td>NaN</td>\n",
       "      <td>NaN</td>\n",
       "      <td>NaN</td>\n",
       "      <td>NaN</td>\n",
       "      <td>NaN</td>\n",
       "      <td>NaN</td>\n",
       "      <td>D</td>\n",
       "    </tr>\n",
       "    <tr>\n",
       "      <th>4</th>\n",
       "      <td>3.642009e+09</td>\n",
       "      <td>Li, Fengju</td>\n",
       "      <td></td>\n",
       "      <td>11.04.2019</td>\n",
       "      <td>12.04.2019</td>\n",
       "      <td>02.04.2019</td>\n",
       "      <td>Confirmed</td>\n",
       "      <td>1.0</td>\n",
       "      <td>2</td>\n",
       "      <td>2.0</td>\n",
       "      <td>...</td>\n",
       "      <td>Booking</td>\n",
       "      <td>NaN</td>\n",
       "      <td>NaN</td>\n",
       "      <td>NaN</td>\n",
       "      <td>NaN</td>\n",
       "      <td>NaN</td>\n",
       "      <td>NaN</td>\n",
       "      <td>NaN</td>\n",
       "      <td>NaN</td>\n",
       "      <td>C</td>\n",
       "    </tr>\n",
       "  </tbody>\n",
       "</table>\n",
       "<p>5 rows × 29 columns</p>\n",
       "</div>"
      ],
      "text/plain": [
       "    Book Number         Booked By       Guest Name  Start Date    End Date  \\\n",
       "0  2.245705e+09  Veeravalli, Gopi  Gopi Veeravalli  03.04.2019  06.04.2019   \n",
       "1  2.071623e+09    Kretov, Nikita    Nikita Kretov  06.04.2019  11.04.2019   \n",
       "2  3.037388e+09      Yuheng Huang     Yuheng Huang  07.04.2019  08.04.2019   \n",
       "3  3.181655e+09        Li, Fengju        Fengju Li  10.04.2019  11.04.2019   \n",
       "4  3.642009e+09        Li, Fengju                   11.04.2019  12.04.2019   \n",
       "\n",
       "    Booked On     Status  Rooms  NumberOfPeople  NumberOfAdults  ...  \\\n",
       "0  30.03.2019  Confirmed    1.0               2             2.0  ...   \n",
       "1  01.03.2019  Confirmed    1.0               2             2.0  ...   \n",
       "2  31.03.2019  Confirmed    1.0               2             2.0  ...   \n",
       "3  02.04.2019  Confirmed    1.0               2             2.0  ...   \n",
       "4  02.04.2019  Confirmed    1.0               2             2.0  ...   \n",
       "\n",
       "   Advertiser Contact  Staff  Facilities Cleanliness Comfort Value For Money  \\\n",
       "0     Booking     NaN    NaN         NaN         NaN     NaN             NaN   \n",
       "1     Booking     NaN    NaN         NaN         NaN     NaN             NaN   \n",
       "2     Booking     NaN    NaN         NaN         NaN     NaN             NaN   \n",
       "3     Booking     NaN    NaN         NaN         NaN     NaN             NaN   \n",
       "4     Booking     NaN    NaN         NaN         NaN     NaN             NaN   \n",
       "\n",
       "  Location  Free WiFi Accommodation Type  \n",
       "0      NaN        NaN                  A  \n",
       "1      NaN        NaN                  A  \n",
       "2      NaN        NaN                  C  \n",
       "3      NaN        NaN                  D  \n",
       "4      NaN        NaN                  C  \n",
       "\n",
       "[5 rows x 29 columns]"
      ]
     },
     "execution_count": 172,
     "metadata": {},
     "output_type": "execute_result"
    }
   ],
   "source": [
    "mergedBooking.head()"
   ]
  },
  {
   "cell_type": "code",
   "execution_count": 173,
   "id": "d998f2d1",
   "metadata": {},
   "outputs": [],
   "source": [
    "mergedBooking.rename(columns={'NumberOfPeople': 'Number Of People',\n",
    "                            'NumberOfAdults': 'Number Of Adults',\n",
    "                            'NumberOfChildren': 'Number Of Children',\n",
    "                            'Commission %': 'Commission Percentage',\n",
    "                            'NumberOfAdults': 'Number Of Adults',\n",
    "                            'Price': 'Price_EUR',\n",
    "                           }, inplace=True)"
   ]
  },
  {
   "cell_type": "code",
   "execution_count": 174,
   "id": "1797f6ff",
   "metadata": {},
   "outputs": [],
   "source": [
    "mergedBooking['Booked By'] = mergedBooking['Booked By'].str.replace(',', '')"
   ]
  },
  {
   "cell_type": "code",
   "execution_count": 175,
   "id": "c7c79e4d",
   "metadata": {},
   "outputs": [],
   "source": [
    "mergedBooking[\"Children's Age\"] = mergedBooking[\"Children's Age\"].str.replace(',', ';')"
   ]
  },
  {
   "cell_type": "code",
   "execution_count": 177,
   "id": "111ba1b3",
   "metadata": {},
   "outputs": [],
   "source": [
    "mergedBooking = mergedBooking[mergedBooking['Price_EUR'] >= 0]"
   ]
  },
  {
   "cell_type": "code",
   "execution_count": null,
   "id": "e36b9d93",
   "metadata": {},
   "outputs": [],
   "source": [
    "# mergedBooking.to_csv('C://Users/k/Desktop/files/file/MergedBooking.csv', index_label='Id')"
   ]
  },
  {
   "cell_type": "code",
   "execution_count": 180,
   "id": "5b233b39",
   "metadata": {},
   "outputs": [],
   "source": [
    "# upis u fajl\n",
    "# mergedBooking.to_csv('D://Master/SSP/Projekat/data/processed/ProcessedBooking.csv', index=False)"
   ]
  }
 ],
 "metadata": {
  "kernelspec": {
   "display_name": "Python 3 (ipykernel)",
   "language": "python",
   "name": "python3"
  },
  "language_info": {
   "codemirror_mode": {
    "name": "ipython",
    "version": 3
   },
   "file_extension": ".py",
   "mimetype": "text/x-python",
   "name": "python",
   "nbconvert_exporter": "python",
   "pygments_lexer": "ipython3",
   "version": "3.11.5"
  }
 },
 "nbformat": 4,
 "nbformat_minor": 5
}
